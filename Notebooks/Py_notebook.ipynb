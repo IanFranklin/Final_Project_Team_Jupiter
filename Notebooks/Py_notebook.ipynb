{
 "cells": [
  {
   "cell_type": "code",
   "execution_count": 1,
   "id": "c58f0864",
   "metadata": {},
   "outputs": [],
   "source": [
    "# Team Jupiter\n",
    "\n",
    "## A look at what affects a movies success?\n",
    "    ### Success to be defined as both highest rated or most profitable."
   ]
  },
  {
   "cell_type": "code",
   "execution_count": 2,
   "id": "e2cdd452",
   "metadata": {},
   "outputs": [],
   "source": [
    "# import packages\n",
    "\n",
    "import pandas as pd\n",
    "import numpy as np\n",
    "import matplotlib\n",
    "import glob\n",
    "import os"
   ]
  },
  {
   "cell_type": "code",
   "execution_count": 3,
   "id": "e7e34b92",
   "metadata": {},
   "outputs": [],
   "source": [
    "# read in movie list and ratings files\n",
    "\n",
    "ratings_df = pd.read_csv(\"../Data/ratings.csv\")\n",
    "movies_df = pd.read_csv(\"../Data/movies.csv\")"
   ]
  },
  {
   "cell_type": "code",
   "execution_count": 4,
   "id": "e829e979",
   "metadata": {},
   "outputs": [],
   "source": [
    "# read in movie budgets, top 500 movies and best films since 1950 csv files\n",
    "\n",
    "budgets_df = pd.read_csv(\"../Data/Most Profitable Movies of All Time - Inflation Adjusted.csv\")\n",
    "top500movies_df = pd.read_csv(\"../Data/Most Profitable Movies of All Time - Top 500 Movies (pink = added by us).csv\")\n",
    "yearbestmovie_df = pd.read_csv(\"../Data/Best_Films_Every_Year_Since_1950.csv\")"
   ]
  },
  {
   "cell_type": "code",
   "execution_count": 5,
   "id": "bee035a3",
   "metadata": {},
   "outputs": [],
   "source": [
    "# drop columns that wont be used for wrangling\n",
    "# start with rating_df"
   ]
  },
  {
   "cell_type": "code",
   "execution_count": 6,
   "id": "5becf904",
   "metadata": {},
   "outputs": [
    {
     "name": "stdout",
     "output_type": "stream",
     "text": [
      "<class 'pandas.core.frame.DataFrame'>\n",
      "RangeIndex: 100836 entries, 0 to 100835\n",
      "Data columns (total 4 columns):\n",
      " #   Column     Non-Null Count   Dtype  \n",
      "---  ------     --------------   -----  \n",
      " 0   userId     100836 non-null  int64  \n",
      " 1   movieId    100836 non-null  int64  \n",
      " 2   rating     100836 non-null  float64\n",
      " 3   timestamp  100836 non-null  int64  \n",
      "dtypes: float64(1), int64(3)\n",
      "memory usage: 3.1 MB\n"
     ]
    }
   ],
   "source": [
    "ratings_df.info()"
   ]
  },
  {
   "cell_type": "code",
   "execution_count": 7,
   "id": "7371dde4",
   "metadata": {},
   "outputs": [],
   "source": [
    "ratings_df1 = ratings_df.drop(['timestamp'], axis=1)"
   ]
  },
  {
   "cell_type": "code",
   "execution_count": 8,
   "id": "58c441e0",
   "metadata": {},
   "outputs": [],
   "source": [
    "# drop rows with null values if any\n",
    "ratings_df1 = ratings_df1.dropna()"
   ]
  },
  {
   "cell_type": "code",
   "execution_count": 9,
   "id": "cd3ab7a7",
   "metadata": {},
   "outputs": [
    {
     "name": "stdout",
     "output_type": "stream",
     "text": [
      "<class 'pandas.core.frame.DataFrame'>\n",
      "RangeIndex: 100836 entries, 0 to 100835\n",
      "Data columns (total 3 columns):\n",
      " #   Column   Non-Null Count   Dtype  \n",
      "---  ------   --------------   -----  \n",
      " 0   userId   100836 non-null  int64  \n",
      " 1   movieId  100836 non-null  int64  \n",
      " 2   rating   100836 non-null  float64\n",
      "dtypes: float64(1), int64(2)\n",
      "memory usage: 2.3 MB\n"
     ]
    }
   ],
   "source": [
    "ratings_df1.info() \n",
    "# no values were dropped, no nulls!!"
   ]
  },
  {
   "cell_type": "code",
   "execution_count": 10,
   "id": "23f54298",
   "metadata": {},
   "outputs": [
    {
     "name": "stdout",
     "output_type": "stream",
     "text": [
      "<class 'pandas.core.frame.DataFrame'>\n",
      "RangeIndex: 9742 entries, 0 to 9741\n",
      "Data columns (total 12 columns):\n",
      " #   Column    Non-Null Count  Dtype \n",
      "---  ------    --------------  ----- \n",
      " 0   movieId   9742 non-null   int64 \n",
      " 1   title     9742 non-null   object\n",
      " 2   genres    9742 non-null   object\n",
      " 3   genres.1  6891 non-null   object\n",
      " 4   genres.2  3673 non-null   object\n",
      " 5   genres.3  1335 non-null   object\n",
      " 6   genres.4  348 non-null    object\n",
      " 7   genres.5  77 non-null     object\n",
      " 8   genres.6  14 non-null     object\n",
      " 9   genres.7  2 non-null      object\n",
      " 10  genres.8  1 non-null      object\n",
      " 11  genres.9  1 non-null      object\n",
      "dtypes: int64(1), object(11)\n",
      "memory usage: 913.4+ KB\n"
     ]
    }
   ],
   "source": [
    "# all the columns in movies_df seem usefull\n",
    "movies_df.info()"
   ]
  },
  {
   "cell_type": "code",
   "execution_count": 11,
   "id": "432962f7",
   "metadata": {},
   "outputs": [
    {
     "name": "stdout",
     "output_type": "stream",
     "text": [
      "<class 'pandas.core.frame.DataFrame'>\n",
      "RangeIndex: 70 entries, 0 to 69\n",
      "Data columns (total 15 columns):\n",
      " #   Column          Non-Null Count  Dtype  \n",
      "---  ------          --------------  -----  \n",
      " 0   Position        70 non-null     int64  \n",
      " 1   Const           70 non-null     object \n",
      " 2   Created         70 non-null     object \n",
      " 3   Modified        70 non-null     object \n",
      " 4   Description     0 non-null      float64\n",
      " 5   Title           70 non-null     object \n",
      " 6   URL             70 non-null     object \n",
      " 7   Title Type      70 non-null     object \n",
      " 8   IMDb Rating     70 non-null     float64\n",
      " 9   Runtime (mins)  70 non-null     int64  \n",
      " 10  Year            70 non-null     int64  \n",
      " 11  Genres          70 non-null     object \n",
      " 12  Num Votes       70 non-null     int64  \n",
      " 13  Release Date    70 non-null     object \n",
      " 14  Directors       70 non-null     object \n",
      "dtypes: float64(2), int64(4), object(9)\n",
      "memory usage: 8.3+ KB\n"
     ]
    }
   ],
   "source": [
    "# pull up column info for yearbestmovie_df\n",
    "yearbestmovie_df.info()"
   ]
  },
  {
   "cell_type": "code",
   "execution_count": 12,
   "id": "cd7534ef",
   "metadata": {},
   "outputs": [
    {
     "name": "stdout",
     "output_type": "stream",
     "text": [
      "<class 'pandas.core.frame.DataFrame'>\n",
      "RangeIndex: 70 entries, 0 to 69\n",
      "Data columns (total 8 columns):\n",
      " #   Column          Non-Null Count  Dtype  \n",
      "---  ------          --------------  -----  \n",
      " 0   Title           70 non-null     object \n",
      " 1   IMDb Rating     70 non-null     float64\n",
      " 2   Runtime (mins)  70 non-null     int64  \n",
      " 3   Year            70 non-null     int64  \n",
      " 4   Genres          70 non-null     object \n",
      " 5   Num Votes       70 non-null     int64  \n",
      " 6   Release Date    70 non-null     object \n",
      " 7   Directors       70 non-null     object \n",
      "dtypes: float64(1), int64(3), object(4)\n",
      "memory usage: 4.5+ KB\n"
     ]
    }
   ],
   "source": [
    "# drop columns [0,1,2,3,4,6,7] from Best_Films_Every_Year_Since_1950.csv\n",
    "\n",
    "yearbestmovie_df1 = yearbestmovie_df.drop(yearbestmovie_df.columns[[0,1,2,3,4,6,7]],axis = 1)\n",
    "yearbestmovie_df1.info()"
   ]
  },
  {
   "cell_type": "code",
   "execution_count": 13,
   "id": "55cd683b",
   "metadata": {},
   "outputs": [
    {
     "name": "stdout",
     "output_type": "stream",
     "text": [
      "<class 'pandas.core.frame.DataFrame'>\n",
      "RangeIndex: 476 entries, 0 to 475\n",
      "Data columns (total 16 columns):\n",
      " #   Column                         Non-Null Count  Dtype  \n",
      "---  ------                         --------------  -----  \n",
      " 0   title                          476 non-null    object \n",
      " 1   unadjusted gross ($m)          476 non-null    int64  \n",
      " 2   inflation adjusted gross ($m)  476 non-null    object \n",
      " 3   % budget recovered             476 non-null    object \n",
      " 4   x times budget recovered       476 non-null    float64\n",
      " 5   budget  (m)                    476 non-null    float64\n",
      " 6   domestic gross (m)             476 non-null    int64  \n",
      " 7   domestic %                     476 non-null    object \n",
      " 8   international gross (m)        476 non-null    object \n",
      " 9   % of gross from international  476 non-null    object \n",
      " 10  worldwide gross                476 non-null    object \n",
      " 11  year                           476 non-null    int64  \n",
      " 12  decade                         476 non-null    object \n",
      " 13  source                         476 non-null    object \n",
      " 14  budget source                  397 non-null    object \n",
      " 15  force label                    5 non-null      object \n",
      "dtypes: float64(2), int64(3), object(11)\n",
      "memory usage: 59.6+ KB\n"
     ]
    }
   ],
   "source": [
    "# pull up column info for budgets_df\n",
    "budgets_df.info()"
   ]
  },
  {
   "cell_type": "code",
   "execution_count": 14,
   "id": "6d635552",
   "metadata": {},
   "outputs": [
    {
     "name": "stdout",
     "output_type": "stream",
     "text": [
      "<class 'pandas.core.frame.DataFrame'>\n",
      "RangeIndex: 476 entries, 0 to 475\n",
      "Data columns (total 13 columns):\n",
      " #   Column                         Non-Null Count  Dtype  \n",
      "---  ------                         --------------  -----  \n",
      " 0   title                          476 non-null    object \n",
      " 1   unadjusted gross ($m)          476 non-null    int64  \n",
      " 2   inflation adjusted gross ($m)  476 non-null    object \n",
      " 3   % budget recovered             476 non-null    object \n",
      " 4   x times budget recovered       476 non-null    float64\n",
      " 5   budget  (m)                    476 non-null    float64\n",
      " 6   domestic gross (m)             476 non-null    int64  \n",
      " 7   domestic %                     476 non-null    object \n",
      " 8   international gross (m)        476 non-null    object \n",
      " 9   % of gross from international  476 non-null    object \n",
      " 10  worldwide gross                476 non-null    object \n",
      " 11  year                           476 non-null    int64  \n",
      " 12  decade                         476 non-null    object \n",
      "dtypes: float64(2), int64(3), object(8)\n",
      "memory usage: 48.5+ KB\n"
     ]
    }
   ],
   "source": [
    "# drop columns [13, 14, 15] from Most Profitable Movies of All Time - Inflation Adjusted.csv\n",
    "\n",
    "budgets_df1 = budgets_df.drop(budgets_df.columns[[13, 14, 15]],axis = 1)\n",
    "budgets_df1.info()"
   ]
  },
  {
   "cell_type": "code",
   "execution_count": 15,
   "id": "df806401",
   "metadata": {},
   "outputs": [
    {
     "name": "stdout",
     "output_type": "stream",
     "text": [
      "<class 'pandas.core.frame.DataFrame'>\n",
      "RangeIndex: 558 entries, 0 to 557\n",
      "Data columns (total 16 columns):\n",
      " #   Column                         Non-Null Count  Dtype  \n",
      "---  ------                         --------------  -----  \n",
      " 0   title                          558 non-null    object \n",
      " 1   worldwide gross (m)            558 non-null    float64\n",
      " 2   % budget recovered             558 non-null    object \n",
      " 3   X times budget recovered       558 non-null    float64\n",
      " 4   budget  (millions)             558 non-null    float64\n",
      " 5   domestic gross (m)             558 non-null    float64\n",
      " 6   domestic %                     558 non-null    object \n",
      " 7   international gross (m)        558 non-null    object \n",
      " 8   % of gross from international  558 non-null    object \n",
      " 9   worldwide gross                558 non-null    object \n",
      " 10  year                           558 non-null    int64  \n",
      " 11  decade                         558 non-null    object \n",
      " 12  source                         477 non-null    object \n",
      " 13  budget source                  398 non-null    object \n",
      " 14  force label                    5 non-null      object \n",
      " 15  horror                         558 non-null    object \n",
      "dtypes: float64(4), int64(1), object(11)\n",
      "memory usage: 69.9+ KB\n"
     ]
    }
   ],
   "source": [
    "# pull up column info for top500movies_df\n",
    "top500movies_df.info()"
   ]
  },
  {
   "cell_type": "code",
   "execution_count": 16,
   "id": "217c18cd",
   "metadata": {},
   "outputs": [
    {
     "name": "stdout",
     "output_type": "stream",
     "text": [
      "<class 'pandas.core.frame.DataFrame'>\n",
      "RangeIndex: 558 entries, 0 to 557\n",
      "Data columns (total 12 columns):\n",
      " #   Column                         Non-Null Count  Dtype  \n",
      "---  ------                         --------------  -----  \n",
      " 0   title                          558 non-null    object \n",
      " 1   worldwide gross (m)            558 non-null    float64\n",
      " 2   % budget recovered             558 non-null    object \n",
      " 3   X times budget recovered       558 non-null    float64\n",
      " 4   budget  (millions)             558 non-null    float64\n",
      " 5   domestic gross (m)             558 non-null    float64\n",
      " 6   domestic %                     558 non-null    object \n",
      " 7   international gross (m)        558 non-null    object \n",
      " 8   % of gross from international  558 non-null    object \n",
      " 9   worldwide gross                558 non-null    object \n",
      " 10  year                           558 non-null    int64  \n",
      " 11  decade                         558 non-null    object \n",
      "dtypes: float64(4), int64(1), object(7)\n",
      "memory usage: 52.4+ KB\n"
     ]
    }
   ],
   "source": [
    "# drop columns [12, 13, 14, 15] from Most Profitable Movies of All Time - Top 500 Movies (pink = added by us).csv\n",
    "\n",
    "top500movies_df1 = top500movies_df.drop(top500movies_df.columns[[12, 13, 14, 15]],axis = 1)\n",
    "top500movies_df1.info()"
   ]
  },
  {
   "cell_type": "markdown",
   "id": "0f0cf46f",
   "metadata": {},
   "source": [
    "---"
   ]
  },
  {
   "cell_type": "code",
   "execution_count": 17,
   "id": "d454cbe2",
   "metadata": {},
   "outputs": [],
   "source": [
    "# after dropping columns that aren't needed and nulls its time to merge and transform data types if needed"
   ]
  },
  {
   "cell_type": "code",
   "execution_count": 18,
   "id": "f769e93e",
   "metadata": {},
   "outputs": [
    {
     "data": {
      "text/html": [
       "<div>\n",
       "<style scoped>\n",
       "    .dataframe tbody tr th:only-of-type {\n",
       "        vertical-align: middle;\n",
       "    }\n",
       "\n",
       "    .dataframe tbody tr th {\n",
       "        vertical-align: top;\n",
       "    }\n",
       "\n",
       "    .dataframe thead th {\n",
       "        text-align: right;\n",
       "    }\n",
       "</style>\n",
       "<table border=\"1\" class=\"dataframe\">\n",
       "  <thead>\n",
       "    <tr style=\"text-align: right;\">\n",
       "      <th></th>\n",
       "      <th>userId</th>\n",
       "      <th>movieId</th>\n",
       "      <th>rating</th>\n",
       "      <th>title</th>\n",
       "      <th>genres</th>\n",
       "      <th>genres.1</th>\n",
       "      <th>genres.2</th>\n",
       "      <th>genres.3</th>\n",
       "      <th>genres.4</th>\n",
       "      <th>genres.5</th>\n",
       "      <th>genres.6</th>\n",
       "      <th>genres.7</th>\n",
       "      <th>genres.8</th>\n",
       "      <th>genres.9</th>\n",
       "    </tr>\n",
       "  </thead>\n",
       "  <tbody>\n",
       "    <tr>\n",
       "      <th>0</th>\n",
       "      <td>1</td>\n",
       "      <td>1</td>\n",
       "      <td>4.0</td>\n",
       "      <td>Toy Story (1995)</td>\n",
       "      <td>Adventure</td>\n",
       "      <td>Animation</td>\n",
       "      <td>Children</td>\n",
       "      <td>Comedy</td>\n",
       "      <td>Fantasy</td>\n",
       "      <td>NaN</td>\n",
       "      <td>NaN</td>\n",
       "      <td>NaN</td>\n",
       "      <td>NaN</td>\n",
       "      <td>NaN</td>\n",
       "    </tr>\n",
       "    <tr>\n",
       "      <th>1</th>\n",
       "      <td>5</td>\n",
       "      <td>1</td>\n",
       "      <td>4.0</td>\n",
       "      <td>Toy Story (1995)</td>\n",
       "      <td>Adventure</td>\n",
       "      <td>Animation</td>\n",
       "      <td>Children</td>\n",
       "      <td>Comedy</td>\n",
       "      <td>Fantasy</td>\n",
       "      <td>NaN</td>\n",
       "      <td>NaN</td>\n",
       "      <td>NaN</td>\n",
       "      <td>NaN</td>\n",
       "      <td>NaN</td>\n",
       "    </tr>\n",
       "    <tr>\n",
       "      <th>2</th>\n",
       "      <td>7</td>\n",
       "      <td>1</td>\n",
       "      <td>4.5</td>\n",
       "      <td>Toy Story (1995)</td>\n",
       "      <td>Adventure</td>\n",
       "      <td>Animation</td>\n",
       "      <td>Children</td>\n",
       "      <td>Comedy</td>\n",
       "      <td>Fantasy</td>\n",
       "      <td>NaN</td>\n",
       "      <td>NaN</td>\n",
       "      <td>NaN</td>\n",
       "      <td>NaN</td>\n",
       "      <td>NaN</td>\n",
       "    </tr>\n",
       "    <tr>\n",
       "      <th>3</th>\n",
       "      <td>15</td>\n",
       "      <td>1</td>\n",
       "      <td>2.5</td>\n",
       "      <td>Toy Story (1995)</td>\n",
       "      <td>Adventure</td>\n",
       "      <td>Animation</td>\n",
       "      <td>Children</td>\n",
       "      <td>Comedy</td>\n",
       "      <td>Fantasy</td>\n",
       "      <td>NaN</td>\n",
       "      <td>NaN</td>\n",
       "      <td>NaN</td>\n",
       "      <td>NaN</td>\n",
       "      <td>NaN</td>\n",
       "    </tr>\n",
       "    <tr>\n",
       "      <th>4</th>\n",
       "      <td>17</td>\n",
       "      <td>1</td>\n",
       "      <td>4.5</td>\n",
       "      <td>Toy Story (1995)</td>\n",
       "      <td>Adventure</td>\n",
       "      <td>Animation</td>\n",
       "      <td>Children</td>\n",
       "      <td>Comedy</td>\n",
       "      <td>Fantasy</td>\n",
       "      <td>NaN</td>\n",
       "      <td>NaN</td>\n",
       "      <td>NaN</td>\n",
       "      <td>NaN</td>\n",
       "      <td>NaN</td>\n",
       "    </tr>\n",
       "    <tr>\n",
       "      <th>...</th>\n",
       "      <td>...</td>\n",
       "      <td>...</td>\n",
       "      <td>...</td>\n",
       "      <td>...</td>\n",
       "      <td>...</td>\n",
       "      <td>...</td>\n",
       "      <td>...</td>\n",
       "      <td>...</td>\n",
       "      <td>...</td>\n",
       "      <td>...</td>\n",
       "      <td>...</td>\n",
       "      <td>...</td>\n",
       "      <td>...</td>\n",
       "      <td>...</td>\n",
       "    </tr>\n",
       "    <tr>\n",
       "      <th>100831</th>\n",
       "      <td>610</td>\n",
       "      <td>160341</td>\n",
       "      <td>2.5</td>\n",
       "      <td>Bloodmoon (1997)</td>\n",
       "      <td>Action</td>\n",
       "      <td>Thriller</td>\n",
       "      <td>NaN</td>\n",
       "      <td>NaN</td>\n",
       "      <td>NaN</td>\n",
       "      <td>NaN</td>\n",
       "      <td>NaN</td>\n",
       "      <td>NaN</td>\n",
       "      <td>NaN</td>\n",
       "      <td>NaN</td>\n",
       "    </tr>\n",
       "    <tr>\n",
       "      <th>100832</th>\n",
       "      <td>610</td>\n",
       "      <td>160527</td>\n",
       "      <td>4.5</td>\n",
       "      <td>Sympathy for the Underdog (1971)</td>\n",
       "      <td>Action</td>\n",
       "      <td>Crime</td>\n",
       "      <td>Drama</td>\n",
       "      <td>NaN</td>\n",
       "      <td>NaN</td>\n",
       "      <td>NaN</td>\n",
       "      <td>NaN</td>\n",
       "      <td>NaN</td>\n",
       "      <td>NaN</td>\n",
       "      <td>NaN</td>\n",
       "    </tr>\n",
       "    <tr>\n",
       "      <th>100833</th>\n",
       "      <td>610</td>\n",
       "      <td>160836</td>\n",
       "      <td>3.0</td>\n",
       "      <td>Hazard (2005)</td>\n",
       "      <td>Action</td>\n",
       "      <td>Drama</td>\n",
       "      <td>Thriller</td>\n",
       "      <td>NaN</td>\n",
       "      <td>NaN</td>\n",
       "      <td>NaN</td>\n",
       "      <td>NaN</td>\n",
       "      <td>NaN</td>\n",
       "      <td>NaN</td>\n",
       "      <td>NaN</td>\n",
       "    </tr>\n",
       "    <tr>\n",
       "      <th>100834</th>\n",
       "      <td>610</td>\n",
       "      <td>163937</td>\n",
       "      <td>3.5</td>\n",
       "      <td>Blair Witch (2016)</td>\n",
       "      <td>Horror</td>\n",
       "      <td>Thriller</td>\n",
       "      <td>NaN</td>\n",
       "      <td>NaN</td>\n",
       "      <td>NaN</td>\n",
       "      <td>NaN</td>\n",
       "      <td>NaN</td>\n",
       "      <td>NaN</td>\n",
       "      <td>NaN</td>\n",
       "      <td>NaN</td>\n",
       "    </tr>\n",
       "    <tr>\n",
       "      <th>100835</th>\n",
       "      <td>610</td>\n",
       "      <td>163981</td>\n",
       "      <td>3.5</td>\n",
       "      <td>31 (2016)</td>\n",
       "      <td>Horror</td>\n",
       "      <td>NaN</td>\n",
       "      <td>NaN</td>\n",
       "      <td>NaN</td>\n",
       "      <td>NaN</td>\n",
       "      <td>NaN</td>\n",
       "      <td>NaN</td>\n",
       "      <td>NaN</td>\n",
       "      <td>NaN</td>\n",
       "      <td>NaN</td>\n",
       "    </tr>\n",
       "  </tbody>\n",
       "</table>\n",
       "<p>100836 rows × 14 columns</p>\n",
       "</div>"
      ],
      "text/plain": [
       "        userId  movieId  rating                             title     genres  \\\n",
       "0            1        1     4.0                  Toy Story (1995)  Adventure   \n",
       "1            5        1     4.0                  Toy Story (1995)  Adventure   \n",
       "2            7        1     4.5                  Toy Story (1995)  Adventure   \n",
       "3           15        1     2.5                  Toy Story (1995)  Adventure   \n",
       "4           17        1     4.5                  Toy Story (1995)  Adventure   \n",
       "...        ...      ...     ...                               ...        ...   \n",
       "100831     610   160341     2.5                  Bloodmoon (1997)     Action   \n",
       "100832     610   160527     4.5  Sympathy for the Underdog (1971)     Action   \n",
       "100833     610   160836     3.0                     Hazard (2005)     Action   \n",
       "100834     610   163937     3.5                Blair Witch (2016)     Horror   \n",
       "100835     610   163981     3.5                         31 (2016)     Horror   \n",
       "\n",
       "         genres.1  genres.2 genres.3 genres.4 genres.5 genres.6 genres.7  \\\n",
       "0       Animation  Children   Comedy  Fantasy      NaN      NaN      NaN   \n",
       "1       Animation  Children   Comedy  Fantasy      NaN      NaN      NaN   \n",
       "2       Animation  Children   Comedy  Fantasy      NaN      NaN      NaN   \n",
       "3       Animation  Children   Comedy  Fantasy      NaN      NaN      NaN   \n",
       "4       Animation  Children   Comedy  Fantasy      NaN      NaN      NaN   \n",
       "...           ...       ...      ...      ...      ...      ...      ...   \n",
       "100831   Thriller       NaN      NaN      NaN      NaN      NaN      NaN   \n",
       "100832      Crime     Drama      NaN      NaN      NaN      NaN      NaN   \n",
       "100833      Drama  Thriller      NaN      NaN      NaN      NaN      NaN   \n",
       "100834   Thriller       NaN      NaN      NaN      NaN      NaN      NaN   \n",
       "100835        NaN       NaN      NaN      NaN      NaN      NaN      NaN   \n",
       "\n",
       "       genres.8 genres.9  \n",
       "0           NaN      NaN  \n",
       "1           NaN      NaN  \n",
       "2           NaN      NaN  \n",
       "3           NaN      NaN  \n",
       "4           NaN      NaN  \n",
       "...         ...      ...  \n",
       "100831      NaN      NaN  \n",
       "100832      NaN      NaN  \n",
       "100833      NaN      NaN  \n",
       "100834      NaN      NaN  \n",
       "100835      NaN      NaN  \n",
       "\n",
       "[100836 rows x 14 columns]"
      ]
     },
     "execution_count": 18,
     "metadata": {},
     "output_type": "execute_result"
    }
   ],
   "source": [
    "# merge movies and ratings df's to list the movie name and genres for each user rating in the ratings df\n",
    "# rating range from 0-5\n",
    "\n",
    "movie_ratings_df = pd.merge(ratings_df1, movies_df)\n",
    "movie_ratings_df"
   ]
  },
  {
   "cell_type": "code",
   "execution_count": 19,
   "id": "83b86155",
   "metadata": {
    "scrolled": true
   },
   "outputs": [
    {
     "name": "stdout",
     "output_type": "stream",
     "text": [
      "        userId  movieId  rating                             title     genres  \\\n",
      "0            1        1     4.0                  Toy Story (1995)  Adventure   \n",
      "1            5        1     4.0                  Toy Story (1995)  Adventure   \n",
      "2            7        1     4.5                  Toy Story (1995)  Adventure   \n",
      "3           15        1     2.5                  Toy Story (1995)  Adventure   \n",
      "4           17        1     4.5                  Toy Story (1995)  Adventure   \n",
      "...        ...      ...     ...                               ...        ...   \n",
      "100831     610   160341     2.5                  Bloodmoon (1997)     Action   \n",
      "100832     610   160527     4.5  Sympathy for the Underdog (1971)     Action   \n",
      "100833     610   160836     3.0                     Hazard (2005)     Action   \n",
      "100834     610   163937     3.5                Blair Witch (2016)     Horror   \n",
      "100835     610   163981     3.5                         31 (2016)     Horror   \n",
      "\n",
      "         genres.1  genres.2 genres.3 genres.4 genres.5 genres.6 genres.7  \\\n",
      "0       Animation  Children   Comedy  Fantasy      NaN      NaN      NaN   \n",
      "1       Animation  Children   Comedy  Fantasy      NaN      NaN      NaN   \n",
      "2       Animation  Children   Comedy  Fantasy      NaN      NaN      NaN   \n",
      "3       Animation  Children   Comedy  Fantasy      NaN      NaN      NaN   \n",
      "4       Animation  Children   Comedy  Fantasy      NaN      NaN      NaN   \n",
      "...           ...       ...      ...      ...      ...      ...      ...   \n",
      "100831   Thriller       NaN      NaN      NaN      NaN      NaN      NaN   \n",
      "100832      Crime     Drama      NaN      NaN      NaN      NaN      NaN   \n",
      "100833      Drama  Thriller      NaN      NaN      NaN      NaN      NaN   \n",
      "100834   Thriller       NaN      NaN      NaN      NaN      NaN      NaN   \n",
      "100835        NaN       NaN      NaN      NaN      NaN      NaN      NaN   \n",
      "\n",
      "       genres.8 genres.9  \n",
      "0           NaN      NaN  \n",
      "1           NaN      NaN  \n",
      "2           NaN      NaN  \n",
      "3           NaN      NaN  \n",
      "4           NaN      NaN  \n",
      "...         ...      ...  \n",
      "100831      NaN      NaN  \n",
      "100832      NaN      NaN  \n",
      "100833      NaN      NaN  \n",
      "100834      NaN      NaN  \n",
      "100835      NaN      NaN  \n",
      "\n",
      "[100836 rows x 14 columns]\n"
     ]
    }
   ],
   "source": [
    "print(movie_ratings_df)"
   ]
  },
  {
   "cell_type": "markdown",
   "id": "59c557f8",
   "metadata": {},
   "source": [
    "---"
   ]
  },
  {
   "cell_type": "code",
   "execution_count": 20,
   "id": "4930f7b5",
   "metadata": {},
   "outputs": [],
   "source": [
    "# merge together the top500movies_df1 & budgets_df2 to combine all the movie budget and sales data into one df"
   ]
  },
  {
   "cell_type": "code",
   "execution_count": 21,
   "id": "27080bac",
   "metadata": {},
   "outputs": [
    {
     "name": "stdout",
     "output_type": "stream",
     "text": [
      "<class 'pandas.core.frame.DataFrame'>\n",
      "RangeIndex: 476 entries, 0 to 475\n",
      "Data columns (total 13 columns):\n",
      " #   Column                         Non-Null Count  Dtype  \n",
      "---  ------                         --------------  -----  \n",
      " 0   % budget recovered             476 non-null    object \n",
      " 1   % of gross from international  476 non-null    object \n",
      " 2   budget  (m)                    476 non-null    float64\n",
      " 3   decade                         476 non-null    object \n",
      " 4   domestic %                     476 non-null    object \n",
      " 5   domestic gross (m)             476 non-null    int64  \n",
      " 6   inflation adjusted gross ($m)  476 non-null    object \n",
      " 7   international gross (m)        476 non-null    object \n",
      " 8   title                          476 non-null    object \n",
      " 9   unadjusted gross ($m)          476 non-null    int64  \n",
      " 10  worldwide gross                476 non-null    object \n",
      " 11  x times budget recovered       476 non-null    float64\n",
      " 12  year                           476 non-null    int64  \n",
      "dtypes: float64(2), int64(3), object(8)\n",
      "memory usage: 48.5+ KB\n"
     ]
    }
   ],
   "source": [
    "budgets_df2 = budgets_df1.reindex(sorted(budgets_df1.columns), axis=1)\n",
    "budgets_df2.info()"
   ]
  },
  {
   "cell_type": "code",
   "execution_count": 22,
   "id": "a9d0ef86",
   "metadata": {},
   "outputs": [],
   "source": [
    "budgets_df2.rename(columns={'domestic %': '% of gross from domestic', \n",
    "                            'inflation adjusted gross ($m)': 'inflation adjusted gross (m)', \n",
    "                            'unadjusted gross ($m)': 'unadjusted gross (m)'}, inplace=True)"
   ]
  },
  {
   "cell_type": "code",
   "execution_count": 23,
   "id": "575cfe75",
   "metadata": {},
   "outputs": [
    {
     "name": "stdout",
     "output_type": "stream",
     "text": [
      "<class 'pandas.core.frame.DataFrame'>\n",
      "RangeIndex: 476 entries, 0 to 475\n",
      "Data columns (total 13 columns):\n",
      " #   Column                         Non-Null Count  Dtype  \n",
      "---  ------                         --------------  -----  \n",
      " 0   % budget recovered             476 non-null    object \n",
      " 1   % of gross from domestic       476 non-null    object \n",
      " 2   % of gross from international  476 non-null    object \n",
      " 3   budget  (m)                    476 non-null    float64\n",
      " 4   decade                         476 non-null    object \n",
      " 5   domestic gross (m)             476 non-null    int64  \n",
      " 6   inflation adjusted gross (m)   476 non-null    object \n",
      " 7   international gross (m)        476 non-null    object \n",
      " 8   title                          476 non-null    object \n",
      " 9   unadjusted gross (m)           476 non-null    int64  \n",
      " 10  worldwide gross                476 non-null    object \n",
      " 11  x times budget recovered       476 non-null    float64\n",
      " 12  year                           476 non-null    int64  \n",
      "dtypes: float64(2), int64(3), object(8)\n",
      "memory usage: 48.5+ KB\n"
     ]
    }
   ],
   "source": [
    "inflation_df = budgets_df2.reindex(sorted(budgets_df2.columns), axis=1)\n",
    "inflation_df.info()"
   ]
  },
  {
   "cell_type": "code",
   "execution_count": 24,
   "id": "ef754279",
   "metadata": {},
   "outputs": [
    {
     "name": "stdout",
     "output_type": "stream",
     "text": [
      "<class 'pandas.core.frame.DataFrame'>\n",
      "RangeIndex: 558 entries, 0 to 557\n",
      "Data columns (total 12 columns):\n",
      " #   Column                         Non-Null Count  Dtype  \n",
      "---  ------                         --------------  -----  \n",
      " 0   % budget recovered             558 non-null    object \n",
      " 1   % of gross from international  558 non-null    object \n",
      " 2   X times budget recovered       558 non-null    float64\n",
      " 3   budget  (millions)             558 non-null    float64\n",
      " 4   decade                         558 non-null    object \n",
      " 5   domestic %                     558 non-null    object \n",
      " 6   domestic gross (m)             558 non-null    float64\n",
      " 7   international gross (m)        558 non-null    object \n",
      " 8   title                          558 non-null    object \n",
      " 9   worldwide gross                558 non-null    object \n",
      " 10  worldwide gross (m)            558 non-null    float64\n",
      " 11  year                           558 non-null    int64  \n",
      "dtypes: float64(4), int64(1), object(7)\n",
      "memory usage: 52.4+ KB\n"
     ]
    }
   ],
   "source": [
    "top500movies_df1 = top500movies_df1.reindex(sorted(top500movies_df1.columns), axis=1)\n",
    "top500movies_df1.info()"
   ]
  },
  {
   "cell_type": "code",
   "execution_count": 25,
   "id": "480661d6",
   "metadata": {},
   "outputs": [],
   "source": [
    "top500movies_df1.rename(columns={'X times budget recovered': 'x times budget recovered', \n",
    "                                 'budget  (millions)': 'budget (m)',\n",
    "                                 'domestic %': '% of gross from domestic'}, inplace=True)"
   ]
  },
  {
   "cell_type": "code",
   "execution_count": 26,
   "id": "4fe306dc",
   "metadata": {
    "scrolled": true
   },
   "outputs": [
    {
     "name": "stdout",
     "output_type": "stream",
     "text": [
      "<class 'pandas.core.frame.DataFrame'>\n",
      "RangeIndex: 558 entries, 0 to 557\n",
      "Data columns (total 12 columns):\n",
      " #   Column                         Non-Null Count  Dtype  \n",
      "---  ------                         --------------  -----  \n",
      " 0   % budget recovered             558 non-null    object \n",
      " 1   % of gross from domestic       558 non-null    object \n",
      " 2   % of gross from international  558 non-null    object \n",
      " 3   budget (m)                     558 non-null    float64\n",
      " 4   decade                         558 non-null    object \n",
      " 5   domestic gross (m)             558 non-null    float64\n",
      " 6   international gross (m)        558 non-null    object \n",
      " 7   title                          558 non-null    object \n",
      " 8   worldwide gross                558 non-null    object \n",
      " 9   worldwide gross (m)            558 non-null    float64\n",
      " 10  x times budget recovered       558 non-null    float64\n",
      " 11  year                           558 non-null    int64  \n",
      "dtypes: float64(4), int64(1), object(7)\n",
      "memory usage: 52.4+ KB\n"
     ]
    }
   ],
   "source": [
    "top500movies_df1 = top500movies_df1.reindex(sorted(top500movies_df1.columns), axis=1)\n",
    "top500movies_df1.info()"
   ]
  },
  {
   "cell_type": "code",
   "execution_count": 27,
   "id": "f290fd75",
   "metadata": {},
   "outputs": [
    {
     "data": {
      "text/html": [
       "<div>\n",
       "<style scoped>\n",
       "    .dataframe tbody tr th:only-of-type {\n",
       "        vertical-align: middle;\n",
       "    }\n",
       "\n",
       "    .dataframe tbody tr th {\n",
       "        vertical-align: top;\n",
       "    }\n",
       "\n",
       "    .dataframe thead th {\n",
       "        text-align: right;\n",
       "    }\n",
       "</style>\n",
       "<table border=\"1\" class=\"dataframe\">\n",
       "  <thead>\n",
       "    <tr style=\"text-align: right;\">\n",
       "      <th></th>\n",
       "      <th>% budget recovered</th>\n",
       "      <th>% of gross from domestic</th>\n",
       "      <th>% of gross from international</th>\n",
       "      <th>budget  (m)</th>\n",
       "      <th>decade</th>\n",
       "      <th>domestic gross (m)</th>\n",
       "      <th>inflation adjusted gross (m)</th>\n",
       "      <th>international gross (m)</th>\n",
       "      <th>title</th>\n",
       "      <th>unadjusted gross (m)</th>\n",
       "      <th>worldwide gross</th>\n",
       "      <th>x times budget recovered</th>\n",
       "      <th>year</th>\n",
       "    </tr>\n",
       "  </thead>\n",
       "  <tbody>\n",
       "    <tr>\n",
       "      <th>0</th>\n",
       "      <td>702%</td>\n",
       "      <td>46.20%</td>\n",
       "      <td>53.80%</td>\n",
       "      <td>65.0</td>\n",
       "      <td>2000's</td>\n",
       "      <td>211</td>\n",
       "      <td>671</td>\n",
       "      <td>245</td>\n",
       "      <td>300</td>\n",
       "      <td>456</td>\n",
       "      <td>456,082,343</td>\n",
       "      <td>7.0</td>\n",
       "      <td>2007</td>\n",
       "    </tr>\n",
       "    <tr>\n",
       "      <th>1</th>\n",
       "      <td>427%</td>\n",
       "      <td>41.40%</td>\n",
       "      <td>58.60%</td>\n",
       "      <td>90.0</td>\n",
       "      <td>2010's</td>\n",
       "      <td>159</td>\n",
       "      <td>455</td>\n",
       "      <td>225</td>\n",
       "      <td>1917</td>\n",
       "      <td>385</td>\n",
       "      <td>384,576,334</td>\n",
       "      <td>4.3</td>\n",
       "      <td>2019</td>\n",
       "    </tr>\n",
       "    <tr>\n",
       "      <th>2</th>\n",
       "      <td>396%</td>\n",
       "      <td>21.00%</td>\n",
       "      <td>79.00%</td>\n",
       "      <td>200.0</td>\n",
       "      <td>2000's</td>\n",
       "      <td>166</td>\n",
       "      <td>1,116</td>\n",
       "      <td>625</td>\n",
       "      <td>2012</td>\n",
       "      <td>791</td>\n",
       "      <td>791,217,826</td>\n",
       "      <td>4.0</td>\n",
       "      <td>2009</td>\n",
       "    </tr>\n",
       "    <tr>\n",
       "      <th>3</th>\n",
       "      <td>479%</td>\n",
       "      <td>42.50%</td>\n",
       "      <td>57.50%</td>\n",
       "      <td>67.0</td>\n",
       "      <td>1990's</td>\n",
       "      <td>136</td>\n",
       "      <td>618</td>\n",
       "      <td>185</td>\n",
       "      <td>101 Dalmatians</td>\n",
       "      <td>321</td>\n",
       "      <td>320,689,294</td>\n",
       "      <td>4.8</td>\n",
       "      <td>1996</td>\n",
       "    </tr>\n",
       "    <tr>\n",
       "      <th>4</th>\n",
       "      <td>663%</td>\n",
       "      <td>57.90%</td>\n",
       "      <td>42.10%</td>\n",
       "      <td>50.0</td>\n",
       "      <td>2010's</td>\n",
       "      <td>192</td>\n",
       "      <td>422</td>\n",
       "      <td>140</td>\n",
       "      <td>22 Jump Street</td>\n",
       "      <td>331</td>\n",
       "      <td>331,333,876</td>\n",
       "      <td>6.6</td>\n",
       "      <td>2014</td>\n",
       "    </tr>\n",
       "  </tbody>\n",
       "</table>\n",
       "</div>"
      ],
      "text/plain": [
       "  % budget recovered % of gross from domestic % of gross from international  \\\n",
       "0               702%                   46.20%                        53.80%   \n",
       "1               427%                   41.40%                        58.60%   \n",
       "2               396%                   21.00%                        79.00%   \n",
       "3               479%                   42.50%                        57.50%   \n",
       "4               663%                   57.90%                        42.10%   \n",
       "\n",
       "   budget  (m)  decade  domestic gross (m) inflation adjusted gross (m)  \\\n",
       "0         65.0  2000's                 211                          671   \n",
       "1         90.0  2010's                 159                          455   \n",
       "2        200.0  2000's                 166                        1,116   \n",
       "3         67.0  1990's                 136                          618   \n",
       "4         50.0  2010's                 192                          422   \n",
       "\n",
       "  international gross (m)           title  unadjusted gross (m)  \\\n",
       "0                     245             300                   456   \n",
       "1                     225            1917                   385   \n",
       "2                     625            2012                   791   \n",
       "3                     185  101 Dalmatians                   321   \n",
       "4                     140  22 Jump Street                   331   \n",
       "\n",
       "  worldwide gross  x times budget recovered  year  \n",
       "0     456,082,343                       7.0  2007  \n",
       "1     384,576,334                       4.3  2019  \n",
       "2     791,217,826                       4.0  2009  \n",
       "3     320,689,294                       4.8  1996  \n",
       "4     331,333,876                       6.6  2014  "
      ]
     },
     "execution_count": 27,
     "metadata": {},
     "output_type": "execute_result"
    }
   ],
   "source": [
    "inflation_df.head()"
   ]
  },
  {
   "cell_type": "code",
   "execution_count": 28,
   "id": "34b21648",
   "metadata": {},
   "outputs": [
    {
     "data": {
      "text/html": [
       "<div>\n",
       "<style scoped>\n",
       "    .dataframe tbody tr th:only-of-type {\n",
       "        vertical-align: middle;\n",
       "    }\n",
       "\n",
       "    .dataframe tbody tr th {\n",
       "        vertical-align: top;\n",
       "    }\n",
       "\n",
       "    .dataframe thead th {\n",
       "        text-align: right;\n",
       "    }\n",
       "</style>\n",
       "<table border=\"1\" class=\"dataframe\">\n",
       "  <thead>\n",
       "    <tr style=\"text-align: right;\">\n",
       "      <th></th>\n",
       "      <th>% budget recovered</th>\n",
       "      <th>% of gross from domestic</th>\n",
       "      <th>% of gross from international</th>\n",
       "      <th>budget (m)</th>\n",
       "      <th>decade</th>\n",
       "      <th>domestic gross (m)</th>\n",
       "      <th>international gross (m)</th>\n",
       "      <th>title</th>\n",
       "      <th>worldwide gross</th>\n",
       "      <th>worldwide gross (m)</th>\n",
       "      <th>x times budget recovered</th>\n",
       "      <th>year</th>\n",
       "    </tr>\n",
       "  </thead>\n",
       "  <tbody>\n",
       "    <tr>\n",
       "      <th>0</th>\n",
       "      <td>702%</td>\n",
       "      <td>46.2%</td>\n",
       "      <td>53.8%</td>\n",
       "      <td>65.0</td>\n",
       "      <td>2000's</td>\n",
       "      <td>211.0</td>\n",
       "      <td>245</td>\n",
       "      <td>300</td>\n",
       "      <td>456,082,343</td>\n",
       "      <td>456.0</td>\n",
       "      <td>7.0</td>\n",
       "      <td>2007</td>\n",
       "    </tr>\n",
       "    <tr>\n",
       "      <th>1</th>\n",
       "      <td>427%</td>\n",
       "      <td>41.4%</td>\n",
       "      <td>58.6%</td>\n",
       "      <td>90.0</td>\n",
       "      <td>2010's</td>\n",
       "      <td>159.0</td>\n",
       "      <td>225</td>\n",
       "      <td>1917</td>\n",
       "      <td>384,576,334</td>\n",
       "      <td>385.0</td>\n",
       "      <td>4.3</td>\n",
       "      <td>2019</td>\n",
       "    </tr>\n",
       "    <tr>\n",
       "      <th>2</th>\n",
       "      <td>396%</td>\n",
       "      <td>21.0%</td>\n",
       "      <td>79.0%</td>\n",
       "      <td>200.0</td>\n",
       "      <td>2000's</td>\n",
       "      <td>166.0</td>\n",
       "      <td>625</td>\n",
       "      <td>2012</td>\n",
       "      <td>791,217,826</td>\n",
       "      <td>791.0</td>\n",
       "      <td>4.0</td>\n",
       "      <td>2009</td>\n",
       "    </tr>\n",
       "    <tr>\n",
       "      <th>3</th>\n",
       "      <td>479%</td>\n",
       "      <td>42.5%</td>\n",
       "      <td>57.5%</td>\n",
       "      <td>67.0</td>\n",
       "      <td>1990's</td>\n",
       "      <td>136.0</td>\n",
       "      <td>185</td>\n",
       "      <td>101 Dalmatians</td>\n",
       "      <td>320,689,294</td>\n",
       "      <td>321.0</td>\n",
       "      <td>4.8</td>\n",
       "      <td>1996</td>\n",
       "    </tr>\n",
       "    <tr>\n",
       "      <th>4</th>\n",
       "      <td>663%</td>\n",
       "      <td>57.9%</td>\n",
       "      <td>42.1%</td>\n",
       "      <td>50.0</td>\n",
       "      <td>2010's</td>\n",
       "      <td>192.0</td>\n",
       "      <td>140</td>\n",
       "      <td>22 Jump Street</td>\n",
       "      <td>331,333,876</td>\n",
       "      <td>331.0</td>\n",
       "      <td>6.6</td>\n",
       "      <td>2014</td>\n",
       "    </tr>\n",
       "  </tbody>\n",
       "</table>\n",
       "</div>"
      ],
      "text/plain": [
       "  % budget recovered % of gross from domestic % of gross from international  \\\n",
       "0               702%                    46.2%                         53.8%   \n",
       "1               427%                    41.4%                         58.6%   \n",
       "2               396%                    21.0%                         79.0%   \n",
       "3               479%                    42.5%                         57.5%   \n",
       "4               663%                    57.9%                         42.1%   \n",
       "\n",
       "   budget (m)  decade  domestic gross (m) international gross (m)  \\\n",
       "0        65.0  2000's               211.0                     245   \n",
       "1        90.0  2010's               159.0                     225   \n",
       "2       200.0  2000's               166.0                     625   \n",
       "3        67.0  1990's               136.0                     185   \n",
       "4        50.0  2010's               192.0                     140   \n",
       "\n",
       "           title  worldwide gross  worldwide gross (m)  \\\n",
       "0             300     456,082,343                456.0   \n",
       "1            1917     384,576,334                385.0   \n",
       "2            2012     791,217,826                791.0   \n",
       "3  101 Dalmatians     320,689,294                321.0   \n",
       "4  22 Jump Street     331,333,876                331.0   \n",
       "\n",
       "   x times budget recovered  year  \n",
       "0                       7.0  2007  \n",
       "1                       4.3  2019  \n",
       "2                       4.0  2009  \n",
       "3                       4.8  1996  \n",
       "4                       6.6  2014  "
      ]
     },
     "execution_count": 28,
     "metadata": {},
     "output_type": "execute_result"
    }
   ],
   "source": [
    "top500movies_df1.head()"
   ]
  },
  {
   "cell_type": "code",
   "execution_count": 29,
   "id": "37c7cdc6",
   "metadata": {},
   "outputs": [
    {
     "name": "stdout",
     "output_type": "stream",
     "text": [
      "<class 'pandas.core.frame.DataFrame'>\n",
      "RangeIndex: 558 entries, 0 to 557\n",
      "Data columns (total 12 columns):\n",
      " #   Column                         Non-Null Count  Dtype  \n",
      "---  ------                         --------------  -----  \n",
      " 0   % budget recovered             558 non-null    object \n",
      " 1   % of gross from domestic       558 non-null    object \n",
      " 2   % of gross from international  558 non-null    object \n",
      " 3   budget (m)                     558 non-null    float64\n",
      " 4   decade                         558 non-null    object \n",
      " 5   domestic gross (m)             558 non-null    int32  \n",
      " 6   international gross (m)        558 non-null    object \n",
      " 7   title                          558 non-null    object \n",
      " 8   worldwide gross                558 non-null    object \n",
      " 9   worldwide gross (m)            558 non-null    float64\n",
      " 10  x times budget recovered       558 non-null    float64\n",
      " 11  year                           558 non-null    int64  \n",
      "dtypes: float64(3), int32(1), int64(1), object(7)\n",
      "memory usage: 50.3+ KB\n"
     ]
    }
   ],
   "source": [
    "# convert top500movies_df1[domestic gross (m)] column into int64\n",
    "top500movies_df1['domestic gross (m)'] = top500movies_df1['domestic gross (m)'].astype(int)\n",
    "top500movies_df1.info()"
   ]
  },
  {
   "cell_type": "code",
   "execution_count": 30,
   "id": "8a0ddbba",
   "metadata": {},
   "outputs": [
    {
     "name": "stdout",
     "output_type": "stream",
     "text": [
      "<class 'pandas.core.frame.DataFrame'>\n",
      "RangeIndex: 476 entries, 0 to 475\n",
      "Data columns (total 13 columns):\n",
      " #   Column                         Non-Null Count  Dtype  \n",
      "---  ------                         --------------  -----  \n",
      " 0   % budget recovered             476 non-null    object \n",
      " 1   % of gross from domestic       476 non-null    object \n",
      " 2   % of gross from international  476 non-null    object \n",
      " 3   budget  (m)                    476 non-null    float64\n",
      " 4   decade                         476 non-null    object \n",
      " 5   domestic gross (m)             476 non-null    int64  \n",
      " 6   inflation adjusted gross (m)   476 non-null    object \n",
      " 7   international gross (m)        476 non-null    object \n",
      " 8   title                          476 non-null    object \n",
      " 9   unadjusted gross (m)           476 non-null    int64  \n",
      " 10  worldwide gross                476 non-null    object \n",
      " 11  x times budget recovered       476 non-null    float64\n",
      " 12  year                           476 non-null    int64  \n",
      "dtypes: float64(2), int64(3), object(8)\n",
      "memory usage: 48.5+ KB\n"
     ]
    }
   ],
   "source": [
    "inflation_df.info()"
   ]
  },
  {
   "cell_type": "code",
   "execution_count": 31,
   "id": "98f18d62",
   "metadata": {},
   "outputs": [],
   "source": [
    "## combine the 2 datasets with budget profit information to keep the ones from the top500 that also have an inflation adj value\n",
    "##  movie_budgets_df = top500df + inflation_df[inflation adjusted gross (m)]\n",
    "\n",
    "\n",
    "### didnt work\n",
    "### df = pd.merge(df,df2[['Key_Column','Target_Column']],on='Key_Column', how='left')\n",
    "\n",
    "### movie_budgets_df = pd.merge(top500movies_df1, inflation_df[['title','inflation adjusted gross (m)']], left_on= top500movies_df1['title'], right_on= inflation_df[['title'], how='left')\n",
    "### print (movie_budgets_df)\n",
    "### movie_budgets_df = pd.merge(top500movies_df1,inflation_df[['title', 'inflation adjusted gross (m)']], on='title', how='left')\n",
    "\n",
    "### movie_budgets_df = pd.merge(top500movies_df1, inflation_df, on ='title')"
   ]
  },
  {
   "cell_type": "code",
   "execution_count": 32,
   "id": "860fd962",
   "metadata": {},
   "outputs": [],
   "source": [
    "### i dont think i need to actually merge the two \n",
    "### they are almost exactly the same, Top500 has more moives but not inflation adjusted gross worldwide\n",
    "### sample difference n = 557-475 = 82\n",
    "\n",
    "# 🤦‍♂️"
   ]
  },
  {
   "cell_type": "markdown",
   "id": "976b5ef1",
   "metadata": {},
   "source": [
    "---"
   ]
  },
  {
   "cell_type": "code",
   "execution_count": 33,
   "id": "81266405",
   "metadata": {},
   "outputs": [],
   "source": [
    "# Explore data, format columns if needed for stats testing"
   ]
  },
  {
   "cell_type": "code",
   "execution_count": null,
   "id": "ae79bc79",
   "metadata": {},
   "outputs": [],
   "source": [
    "# look at the data frame that contains the budget and box office sales data, DOES NOT CONTAIN RATINGS or GENRES"
   ]
  },
  {
   "cell_type": "code",
   "execution_count": 34,
   "id": "245b3be4",
   "metadata": {
    "scrolled": true
   },
   "outputs": [
    {
     "name": "stdout",
     "output_type": "stream",
     "text": [
      "<class 'pandas.core.frame.DataFrame'>\n",
      "RangeIndex: 558 entries, 0 to 557\n",
      "Data columns (total 12 columns):\n",
      " #   Column                         Non-Null Count  Dtype  \n",
      "---  ------                         --------------  -----  \n",
      " 0   % budget recovered             558 non-null    object \n",
      " 1   % of gross from domestic       558 non-null    object \n",
      " 2   % of gross from international  558 non-null    object \n",
      " 3   budget (m)                     558 non-null    float64\n",
      " 4   decade                         558 non-null    object \n",
      " 5   domestic gross (m)             558 non-null    int32  \n",
      " 6   international gross (m)        558 non-null    object \n",
      " 7   title                          558 non-null    object \n",
      " 8   worldwide gross                558 non-null    object \n",
      " 9   worldwide gross (m)            558 non-null    float64\n",
      " 10  x times budget recovered       558 non-null    float64\n",
      " 11  year                           558 non-null    int64  \n",
      "dtypes: float64(3), int32(1), int64(1), object(7)\n",
      "memory usage: 50.3+ KB\n"
     ]
    }
   ],
   "source": [
    "top500movies_df1.info()"
   ]
  },
  {
   "cell_type": "code",
   "execution_count": 35,
   "id": "8b47ee94",
   "metadata": {},
   "outputs": [
    {
     "data": {
      "text/plain": [
       "['% budget recovered',\n",
       " '% of gross from domestic',\n",
       " '% of gross from international',\n",
       " 'budget (m)',\n",
       " 'decade',\n",
       " 'domestic gross (m)',\n",
       " 'international gross (m)',\n",
       " 'title ',\n",
       " 'worldwide gross',\n",
       " 'worldwide gross (m)',\n",
       " 'x times budget recovered',\n",
       " 'year']"
      ]
     },
     "execution_count": 35,
     "metadata": {},
     "output_type": "execute_result"
    }
   ],
   "source": [
    "list(top500movies_df1)"
   ]
  },
  {
   "cell_type": "code",
   "execution_count": 36,
   "id": "02c0e821",
   "metadata": {},
   "outputs": [
    {
     "data": {
      "text/html": [
       "<div>\n",
       "<style scoped>\n",
       "    .dataframe tbody tr th:only-of-type {\n",
       "        vertical-align: middle;\n",
       "    }\n",
       "\n",
       "    .dataframe tbody tr th {\n",
       "        vertical-align: top;\n",
       "    }\n",
       "\n",
       "    .dataframe thead th {\n",
       "        text-align: right;\n",
       "    }\n",
       "</style>\n",
       "<table border=\"1\" class=\"dataframe\">\n",
       "  <thead>\n",
       "    <tr style=\"text-align: right;\">\n",
       "      <th></th>\n",
       "      <th>% budget recovered</th>\n",
       "      <th>% of gross from domestic</th>\n",
       "      <th>% of gross from international</th>\n",
       "      <th>budget (m)</th>\n",
       "      <th>decade</th>\n",
       "      <th>domestic gross (m)</th>\n",
       "      <th>international gross (m)</th>\n",
       "      <th>title</th>\n",
       "      <th>worldwide gross</th>\n",
       "      <th>worldwide gross (m)</th>\n",
       "      <th>x times budget recovered</th>\n",
       "      <th>year</th>\n",
       "    </tr>\n",
       "  </thead>\n",
       "  <tbody>\n",
       "    <tr>\n",
       "      <th>0</th>\n",
       "      <td>702%</td>\n",
       "      <td>46.2%</td>\n",
       "      <td>53.8%</td>\n",
       "      <td>65.0</td>\n",
       "      <td>2000's</td>\n",
       "      <td>211</td>\n",
       "      <td>245</td>\n",
       "      <td>300</td>\n",
       "      <td>456,082,343</td>\n",
       "      <td>456.0</td>\n",
       "      <td>7.0</td>\n",
       "      <td>2007</td>\n",
       "    </tr>\n",
       "    <tr>\n",
       "      <th>1</th>\n",
       "      <td>427%</td>\n",
       "      <td>41.4%</td>\n",
       "      <td>58.6%</td>\n",
       "      <td>90.0</td>\n",
       "      <td>2010's</td>\n",
       "      <td>159</td>\n",
       "      <td>225</td>\n",
       "      <td>1917</td>\n",
       "      <td>384,576,334</td>\n",
       "      <td>385.0</td>\n",
       "      <td>4.3</td>\n",
       "      <td>2019</td>\n",
       "    </tr>\n",
       "    <tr>\n",
       "      <th>2</th>\n",
       "      <td>396%</td>\n",
       "      <td>21.0%</td>\n",
       "      <td>79.0%</td>\n",
       "      <td>200.0</td>\n",
       "      <td>2000's</td>\n",
       "      <td>166</td>\n",
       "      <td>625</td>\n",
       "      <td>2012</td>\n",
       "      <td>791,217,826</td>\n",
       "      <td>791.0</td>\n",
       "      <td>4.0</td>\n",
       "      <td>2009</td>\n",
       "    </tr>\n",
       "    <tr>\n",
       "      <th>3</th>\n",
       "      <td>479%</td>\n",
       "      <td>42.5%</td>\n",
       "      <td>57.5%</td>\n",
       "      <td>67.0</td>\n",
       "      <td>1990's</td>\n",
       "      <td>136</td>\n",
       "      <td>185</td>\n",
       "      <td>101 Dalmatians</td>\n",
       "      <td>320,689,294</td>\n",
       "      <td>321.0</td>\n",
       "      <td>4.8</td>\n",
       "      <td>1996</td>\n",
       "    </tr>\n",
       "    <tr>\n",
       "      <th>4</th>\n",
       "      <td>663%</td>\n",
       "      <td>57.9%</td>\n",
       "      <td>42.1%</td>\n",
       "      <td>50.0</td>\n",
       "      <td>2010's</td>\n",
       "      <td>192</td>\n",
       "      <td>140</td>\n",
       "      <td>22 Jump Street</td>\n",
       "      <td>331,333,876</td>\n",
       "      <td>331.0</td>\n",
       "      <td>6.6</td>\n",
       "      <td>2014</td>\n",
       "    </tr>\n",
       "  </tbody>\n",
       "</table>\n",
       "</div>"
      ],
      "text/plain": [
       "  % budget recovered % of gross from domestic % of gross from international  \\\n",
       "0               702%                    46.2%                         53.8%   \n",
       "1               427%                    41.4%                         58.6%   \n",
       "2               396%                    21.0%                         79.0%   \n",
       "3               479%                    42.5%                         57.5%   \n",
       "4               663%                    57.9%                         42.1%   \n",
       "\n",
       "   budget (m)  decade  domestic gross (m) international gross (m)  \\\n",
       "0        65.0  2000's                 211                     245   \n",
       "1        90.0  2010's                 159                     225   \n",
       "2       200.0  2000's                 166                     625   \n",
       "3        67.0  1990's                 136                     185   \n",
       "4        50.0  2010's                 192                     140   \n",
       "\n",
       "           title  worldwide gross  worldwide gross (m)  \\\n",
       "0             300     456,082,343                456.0   \n",
       "1            1917     384,576,334                385.0   \n",
       "2            2012     791,217,826                791.0   \n",
       "3  101 Dalmatians     320,689,294                321.0   \n",
       "4  22 Jump Street     331,333,876                331.0   \n",
       "\n",
       "   x times budget recovered  year  \n",
       "0                       7.0  2007  \n",
       "1                       4.3  2019  \n",
       "2                       4.0  2009  \n",
       "3                       4.8  1996  \n",
       "4                       6.6  2014  "
      ]
     },
     "execution_count": 36,
     "metadata": {},
     "output_type": "execute_result"
    }
   ],
   "source": [
    "top500movies_df1.head()"
   ]
  },
  {
   "cell_type": "code",
   "execution_count": null,
   "id": "1bacf2e2",
   "metadata": {},
   "outputs": [],
   "source": [
    "# look at min/max values for movies release year and budgets"
   ]
  },
  {
   "cell_type": "code",
   "execution_count": 49,
   "id": "ea444c7e",
   "metadata": {},
   "outputs": [
    {
     "data": {
      "text/plain": [
       "1973"
      ]
     },
     "execution_count": 49,
     "metadata": {},
     "output_type": "execute_result"
    }
   ],
   "source": [
    "top500movies_df1['year'].min()"
   ]
  },
  {
   "cell_type": "code",
   "execution_count": 50,
   "id": "9f94b383",
   "metadata": {},
   "outputs": [
    {
     "data": {
      "text/plain": [
       "2022"
      ]
     },
     "execution_count": 50,
     "metadata": {},
     "output_type": "execute_result"
    }
   ],
   "source": [
    "top500movies_df1['year'].max()"
   ]
  },
  {
   "cell_type": "code",
   "execution_count": 51,
   "id": "4240aff4",
   "metadata": {},
   "outputs": [
    {
     "data": {
      "text/plain": [
       "0.015"
      ]
     },
     "execution_count": 51,
     "metadata": {},
     "output_type": "execute_result"
    }
   ],
   "source": [
    "top500movies_df1['budget (m)'].min()"
   ]
  },
  {
   "cell_type": "code",
   "execution_count": 52,
   "id": "8820cfb4",
   "metadata": {
    "scrolled": true
   },
   "outputs": [
    {
     "data": {
      "text/plain": [
       "379.0"
      ]
     },
     "execution_count": 52,
     "metadata": {},
     "output_type": "execute_result"
    }
   ],
   "source": [
    "top500movies_df1['budget (m)'].max()"
   ]
  },
  {
   "cell_type": "code",
   "execution_count": null,
   "id": "2e01bfc6",
   "metadata": {},
   "outputs": [],
   "source": []
  },
  {
   "cell_type": "code",
   "execution_count": null,
   "id": "823dca08",
   "metadata": {},
   "outputs": [],
   "source": [
    "# Look at the data frame that only contains movie ratings and genres, DOES NOT CONTAIN BUDGET INFO"
   ]
  },
  {
   "cell_type": "code",
   "execution_count": 37,
   "id": "deec7bcc",
   "metadata": {
    "scrolled": true
   },
   "outputs": [
    {
     "name": "stdout",
     "output_type": "stream",
     "text": [
      "<class 'pandas.core.frame.DataFrame'>\n",
      "Int64Index: 100836 entries, 0 to 100835\n",
      "Data columns (total 14 columns):\n",
      " #   Column    Non-Null Count   Dtype  \n",
      "---  ------    --------------   -----  \n",
      " 0   userId    100836 non-null  int64  \n",
      " 1   movieId   100836 non-null  int64  \n",
      " 2   rating    100836 non-null  float64\n",
      " 3   title     100836 non-null  object \n",
      " 4   genres    100836 non-null  object \n",
      " 5   genres.1  84422 non-null   object \n",
      " 6   genres.2  55860 non-null   object \n",
      " 7   genres.3  23971 non-null   object \n",
      " 8   genres.4  7270 non-null    object \n",
      " 9   genres.5  1751 non-null    object \n",
      " 10  genres.6  363 non-null     object \n",
      " 11  genres.7  3 non-null       object \n",
      " 12  genres.8  2 non-null       object \n",
      " 13  genres.9  2 non-null       object \n",
      "dtypes: float64(1), int64(2), object(11)\n",
      "memory usage: 11.5+ MB\n"
     ]
    }
   ],
   "source": [
    "movie_ratings_df.info()"
   ]
  },
  {
   "cell_type": "code",
   "execution_count": 38,
   "id": "95d75672",
   "metadata": {},
   "outputs": [
    {
     "data": {
      "text/plain": [
       "9719"
      ]
     },
     "execution_count": 38,
     "metadata": {},
     "output_type": "execute_result"
    }
   ],
   "source": [
    "# look a how many unique movie titles there are\n",
    "movie_ratings_df['title'].nunique()"
   ]
  },
  {
   "cell_type": "code",
   "execution_count": 39,
   "id": "61d8ad43",
   "metadata": {},
   "outputs": [
    {
     "data": {
      "text/plain": [
       "610"
      ]
     },
     "execution_count": 39,
     "metadata": {},
     "output_type": "execute_result"
    }
   ],
   "source": [
    "# # look a how many unique movie reviewers there are\n",
    "movie_ratings_df['userId'].nunique()"
   ]
  },
  {
   "cell_type": "code",
   "execution_count": 40,
   "id": "002a96f1",
   "metadata": {},
   "outputs": [
    {
     "data": {
      "text/plain": [
       "0.5"
      ]
     },
     "execution_count": 40,
     "metadata": {},
     "output_type": "execute_result"
    }
   ],
   "source": [
    "# look at min/max values for movies ratings to determine the scale range\n",
    "movie_ratings_df['rating'].min()"
   ]
  },
  {
   "cell_type": "code",
   "execution_count": 41,
   "id": "68d65702",
   "metadata": {
    "scrolled": true
   },
   "outputs": [
    {
     "data": {
      "text/plain": [
       "5.0"
      ]
     },
     "execution_count": 41,
     "metadata": {},
     "output_type": "execute_result"
    }
   ],
   "source": [
    "movie_ratings_df['rating'].max()"
   ]
  },
  {
   "cell_type": "code",
   "execution_count": null,
   "id": "ad4d72b3",
   "metadata": {},
   "outputs": [],
   "source": []
  },
  {
   "cell_type": "code",
   "execution_count": null,
   "id": "95100656",
   "metadata": {},
   "outputs": [],
   "source": []
  },
  {
   "cell_type": "markdown",
   "id": "42388d01",
   "metadata": {},
   "source": [
    "---"
   ]
  },
  {
   "cell_type": "code",
   "execution_count": null,
   "id": "d3495a38",
   "metadata": {},
   "outputs": [],
   "source": [
    "# look at the data that contains movies ratings (0-10), genres, runtime and release year, DOES NOT CONTAIN BUDGET INFO"
   ]
  },
  {
   "cell_type": "code",
   "execution_count": 42,
   "id": "9424a44b",
   "metadata": {},
   "outputs": [
    {
     "name": "stdout",
     "output_type": "stream",
     "text": [
      "<class 'pandas.core.frame.DataFrame'>\n",
      "RangeIndex: 70 entries, 0 to 69\n",
      "Data columns (total 8 columns):\n",
      " #   Column          Non-Null Count  Dtype  \n",
      "---  ------          --------------  -----  \n",
      " 0   Title           70 non-null     object \n",
      " 1   IMDb Rating     70 non-null     float64\n",
      " 2   Runtime (mins)  70 non-null     int64  \n",
      " 3   Year            70 non-null     int64  \n",
      " 4   Genres          70 non-null     object \n",
      " 5   Num Votes       70 non-null     int64  \n",
      " 6   Release Date    70 non-null     object \n",
      " 7   Directors       70 non-null     object \n",
      "dtypes: float64(1), int64(3), object(4)\n",
      "memory usage: 4.5+ KB\n"
     ]
    }
   ],
   "source": [
    "yearbestmovie_df1.info()"
   ]
  },
  {
   "cell_type": "code",
   "execution_count": 43,
   "id": "709df560",
   "metadata": {},
   "outputs": [
    {
     "data": {
      "text/plain": [
       "['Title',\n",
       " 'IMDb Rating',\n",
       " 'Runtime (mins)',\n",
       " 'Year',\n",
       " 'Genres',\n",
       " 'Num Votes',\n",
       " 'Release Date',\n",
       " 'Directors']"
      ]
     },
     "execution_count": 43,
     "metadata": {},
     "output_type": "execute_result"
    }
   ],
   "source": [
    "list(yearbestmovie_df1)"
   ]
  },
  {
   "cell_type": "code",
   "execution_count": 44,
   "id": "dc582c8e",
   "metadata": {},
   "outputs": [
    {
     "data": {
      "text/html": [
       "<div>\n",
       "<style scoped>\n",
       "    .dataframe tbody tr th:only-of-type {\n",
       "        vertical-align: middle;\n",
       "    }\n",
       "\n",
       "    .dataframe tbody tr th {\n",
       "        vertical-align: top;\n",
       "    }\n",
       "\n",
       "    .dataframe thead th {\n",
       "        text-align: right;\n",
       "    }\n",
       "</style>\n",
       "<table border=\"1\" class=\"dataframe\">\n",
       "  <thead>\n",
       "    <tr style=\"text-align: right;\">\n",
       "      <th></th>\n",
       "      <th>Title</th>\n",
       "      <th>IMDb Rating</th>\n",
       "      <th>Runtime (mins)</th>\n",
       "      <th>Year</th>\n",
       "      <th>Genres</th>\n",
       "      <th>Num Votes</th>\n",
       "      <th>Release Date</th>\n",
       "      <th>Directors</th>\n",
       "    </tr>\n",
       "  </thead>\n",
       "  <tbody>\n",
       "    <tr>\n",
       "      <th>0</th>\n",
       "      <td>The Irishman</td>\n",
       "      <td>7.8</td>\n",
       "      <td>209</td>\n",
       "      <td>2019</td>\n",
       "      <td>Biography, Crime, Drama</td>\n",
       "      <td>401227</td>\n",
       "      <td>2019-09-27</td>\n",
       "      <td>Martin Scorsese</td>\n",
       "    </tr>\n",
       "    <tr>\n",
       "      <th>1</th>\n",
       "      <td>Incredibles 2</td>\n",
       "      <td>7.6</td>\n",
       "      <td>118</td>\n",
       "      <td>2018</td>\n",
       "      <td>Animation, Action, Adventure, Comedy, Family, ...</td>\n",
       "      <td>307380</td>\n",
       "      <td>2018-06-05</td>\n",
       "      <td>Brad Bird</td>\n",
       "    </tr>\n",
       "    <tr>\n",
       "      <th>2</th>\n",
       "      <td>Dunkirk</td>\n",
       "      <td>7.8</td>\n",
       "      <td>106</td>\n",
       "      <td>2017</td>\n",
       "      <td>Action, Drama, History, Thriller, War</td>\n",
       "      <td>678522</td>\n",
       "      <td>2017-07-13</td>\n",
       "      <td>Christopher Nolan</td>\n",
       "    </tr>\n",
       "    <tr>\n",
       "      <th>3</th>\n",
       "      <td>La La Land</td>\n",
       "      <td>8.0</td>\n",
       "      <td>128</td>\n",
       "      <td>2016</td>\n",
       "      <td>Comedy, Drama, Music, Musical, Romance</td>\n",
       "      <td>611601</td>\n",
       "      <td>2016-08-31</td>\n",
       "      <td>Damien Chazelle</td>\n",
       "    </tr>\n",
       "    <tr>\n",
       "      <th>4</th>\n",
       "      <td>Me and Earl and the Dying Girl</td>\n",
       "      <td>7.7</td>\n",
       "      <td>105</td>\n",
       "      <td>2015</td>\n",
       "      <td>Comedy, Drama, Romance</td>\n",
       "      <td>134350</td>\n",
       "      <td>2015-01-25</td>\n",
       "      <td>Alfonso Gomez-Rejon</td>\n",
       "    </tr>\n",
       "  </tbody>\n",
       "</table>\n",
       "</div>"
      ],
      "text/plain": [
       "                            Title  IMDb Rating  Runtime (mins)  Year  \\\n",
       "0                    The Irishman          7.8             209  2019   \n",
       "1                   Incredibles 2          7.6             118  2018   \n",
       "2                         Dunkirk          7.8             106  2017   \n",
       "3                      La La Land          8.0             128  2016   \n",
       "4  Me and Earl and the Dying Girl          7.7             105  2015   \n",
       "\n",
       "                                              Genres  Num Votes Release Date  \\\n",
       "0                            Biography, Crime, Drama     401227   2019-09-27   \n",
       "1  Animation, Action, Adventure, Comedy, Family, ...     307380   2018-06-05   \n",
       "2              Action, Drama, History, Thriller, War     678522   2017-07-13   \n",
       "3             Comedy, Drama, Music, Musical, Romance     611601   2016-08-31   \n",
       "4                             Comedy, Drama, Romance     134350   2015-01-25   \n",
       "\n",
       "             Directors  \n",
       "0      Martin Scorsese  \n",
       "1            Brad Bird  \n",
       "2    Christopher Nolan  \n",
       "3      Damien Chazelle  \n",
       "4  Alfonso Gomez-Rejon  "
      ]
     },
     "execution_count": 44,
     "metadata": {},
     "output_type": "execute_result"
    }
   ],
   "source": [
    "yearbestmovie_df1.head()"
   ]
  },
  {
   "cell_type": "code",
   "execution_count": 45,
   "id": "c4e962a3",
   "metadata": {},
   "outputs": [
    {
     "data": {
      "text/plain": [
       "6.5"
      ]
     },
     "execution_count": 45,
     "metadata": {},
     "output_type": "execute_result"
    }
   ],
   "source": [
    "# look at min/max values for movies ratings to determine the scale range\n",
    "yearbestmovie_df1['IMDb Rating'].min()"
   ]
  },
  {
   "cell_type": "code",
   "execution_count": 46,
   "id": "fa20c688",
   "metadata": {},
   "outputs": [
    {
     "data": {
      "text/plain": [
       "9.2"
      ]
     },
     "execution_count": 46,
     "metadata": {},
     "output_type": "execute_result"
    }
   ],
   "source": [
    "yearbestmovie_df1['IMDb Rating'].max()"
   ]
  },
  {
   "cell_type": "code",
   "execution_count": 47,
   "id": "a2b63a3e",
   "metadata": {},
   "outputs": [
    {
     "data": {
      "text/plain": [
       "'1950-08-04'"
      ]
     },
     "execution_count": 47,
     "metadata": {},
     "output_type": "execute_result"
    }
   ],
   "source": [
    "# look at min/max values for movies release year\n",
    "yearbestmovie_df1['Release Date'].min()"
   ]
  },
  {
   "cell_type": "code",
   "execution_count": 48,
   "id": "dab104f2",
   "metadata": {},
   "outputs": [
    {
     "data": {
      "text/plain": [
       "'2019-09-27'"
      ]
     },
     "execution_count": 48,
     "metadata": {},
     "output_type": "execute_result"
    }
   ],
   "source": [
    "yearbestmovie_df1['Release Date'].max()"
   ]
  },
  {
   "cell_type": "code",
   "execution_count": null,
   "id": "8d180b67",
   "metadata": {},
   "outputs": [],
   "source": []
  }
 ],
 "metadata": {
  "kernelspec": {
   "display_name": "Python 3 (ipykernel)",
   "language": "python",
   "name": "python3"
  },
  "language_info": {
   "codemirror_mode": {
    "name": "ipython",
    "version": 3
   },
   "file_extension": ".py",
   "mimetype": "text/x-python",
   "name": "python",
   "nbconvert_exporter": "python",
   "pygments_lexer": "ipython3",
   "version": "3.10.8"
  }
 },
 "nbformat": 4,
 "nbformat_minor": 5
}
