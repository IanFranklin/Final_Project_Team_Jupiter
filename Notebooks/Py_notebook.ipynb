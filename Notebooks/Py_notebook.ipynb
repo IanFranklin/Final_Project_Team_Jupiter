{
 "cells": [
  {
   "cell_type": "code",
   "execution_count": 1,
   "id": "c58f0864",
   "metadata": {},
   "outputs": [],
   "source": [
    "# Team Jupiter\n",
    "\n",
    "## A look at what affects a movies success?\n",
    "    ### Success to be defined as both highest rated or most profitable."
   ]
  },
  {
   "cell_type": "markdown",
   "id": "cb53034d",
   "metadata": {},
   "source": [
    "---"
   ]
  },
  {
   "cell_type": "code",
   "execution_count": 2,
   "id": "e2cdd452",
   "metadata": {},
   "outputs": [],
   "source": [
    "# import packages\n",
    "\n"
   ]
  },
  {
   "cell_type": "markdown",
   "id": "10856e8e",
   "metadata": {},
   "source": [
    "---"
   ]
  },
  {
   "cell_type": "code",
   "execution_count": 3,
   "id": "e7e34b92",
   "metadata": {},
   "outputs": [],
   "source": [
    "# read in movie list and ratings files\n",
    "\n",
    "#ratings_df = pd.read_csv(\"../Data/ratings.csv\")\n",
    "#movies_df = pd.read_csv(\"../Data/movies.csv\")"
   ]
  },
  {
   "cell_type": "code",
   "execution_count": 165,
   "id": "e829e979",
   "metadata": {},
   "outputs": [],
   "source": [
    "# read in movie budgets, top 500 movies and best films since 1950 csv files\n",
    "\n",
    "#top500movies_df = pd.read_csv(\"../Data/Most Profitable Movies of All Time - Top 500 Movies (pink = added by us).csv\")\n",
    "#yearbestmovie_df = pd.read_csv(\"../Data/Best_Films_Every_Year_Since_1950.csv\")\n",
    "#hollywood_df = pd.read_csv(\"../Data/The Hollywood Insider - all data.csv\")"
   ]
  },
  {
   "cell_type": "markdown",
   "id": "b25a6851",
   "metadata": {},
   "source": [
    "---"
   ]
  },
  {
   "cell_type": "code",
   "execution_count": 5,
   "id": "5a5a79de",
   "metadata": {},
   "outputs": [],
   "source": [
    "# Start DataWrangling"
   ]
  },
  {
   "cell_type": "code",
   "execution_count": 6,
   "id": "bee035a3",
   "metadata": {},
   "outputs": [],
   "source": [
    "## drop columns that wont be used for wrangling\n",
    "## start with rating_df"
   ]
  },
  {
   "cell_type": "code",
   "execution_count": 7,
   "id": "5becf904",
   "metadata": {},
   "outputs": [
    {
     "name": "stdout",
     "output_type": "stream",
     "text": [
      "<class 'pandas.core.frame.DataFrame'>\n",
      "RangeIndex: 100836 entries, 0 to 100835\n",
      "Data columns (total 4 columns):\n",
      " #   Column     Non-Null Count   Dtype  \n",
      "---  ------     --------------   -----  \n",
      " 0   userId     100836 non-null  int64  \n",
      " 1   movieId    100836 non-null  int64  \n",
      " 2   rating     100836 non-null  float64\n",
      " 3   timestamp  100836 non-null  int64  \n",
      "dtypes: float64(1), int64(3)\n",
      "memory usage: 3.1 MB\n"
     ]
    }
   ],
   "source": [
    "ratings_df.info()"
   ]
  },
  {
   "cell_type": "code",
   "execution_count": 8,
   "id": "7371dde4",
   "metadata": {},
   "outputs": [],
   "source": [
    "ratings_df1 = ratings_df.drop(['timestamp'], axis=1)"
   ]
  },
  {
   "cell_type": "code",
   "execution_count": 9,
   "id": "58c441e0",
   "metadata": {},
   "outputs": [],
   "source": [
    "## drop rows with null values if any\n",
    "ratings_df1 = ratings_df1.dropna()"
   ]
  },
  {
   "cell_type": "code",
   "execution_count": 10,
   "id": "cd3ab7a7",
   "metadata": {},
   "outputs": [
    {
     "name": "stdout",
     "output_type": "stream",
     "text": [
      "<class 'pandas.core.frame.DataFrame'>\n",
      "RangeIndex: 100836 entries, 0 to 100835\n",
      "Data columns (total 3 columns):\n",
      " #   Column   Non-Null Count   Dtype  \n",
      "---  ------   --------------   -----  \n",
      " 0   userId   100836 non-null  int64  \n",
      " 1   movieId  100836 non-null  int64  \n",
      " 2   rating   100836 non-null  float64\n",
      "dtypes: float64(1), int64(2)\n",
      "memory usage: 2.3 MB\n"
     ]
    }
   ],
   "source": [
    "ratings_df1.info() \n",
    "## no values were dropped, no nulls!!"
   ]
  },
  {
   "cell_type": "code",
   "execution_count": 11,
   "id": "23f54298",
   "metadata": {},
   "outputs": [
    {
     "name": "stdout",
     "output_type": "stream",
     "text": [
      "<class 'pandas.core.frame.DataFrame'>\n",
      "RangeIndex: 9742 entries, 0 to 9741\n",
      "Data columns (total 12 columns):\n",
      " #   Column    Non-Null Count  Dtype \n",
      "---  ------    --------------  ----- \n",
      " 0   movieId   9742 non-null   int64 \n",
      " 1   title     9742 non-null   object\n",
      " 2   genres    9742 non-null   object\n",
      " 3   genres.1  6891 non-null   object\n",
      " 4   genres.2  3673 non-null   object\n",
      " 5   genres.3  1335 non-null   object\n",
      " 6   genres.4  348 non-null    object\n",
      " 7   genres.5  77 non-null     object\n",
      " 8   genres.6  14 non-null     object\n",
      " 9   genres.7  2 non-null      object\n",
      " 10  genres.8  1 non-null      object\n",
      " 11  genres.9  1 non-null      object\n",
      "dtypes: int64(1), object(11)\n",
      "memory usage: 913.4+ KB\n"
     ]
    }
   ],
   "source": [
    "## all the columns in movies_df seem usefull\n",
    "movies_df.info()"
   ]
  },
  {
   "cell_type": "code",
   "execution_count": 2,
   "id": "432962f7",
   "metadata": {},
   "outputs": [],
   "source": [
    "## pull up column info for yearbestmovie_df\n",
    "#yearbestmovie_df.info()"
   ]
  },
  {
   "cell_type": "code",
   "execution_count": 1,
   "id": "cd7534ef",
   "metadata": {},
   "outputs": [],
   "source": [
    "## drop columns [0,1,2,3,4,6,7] from Best_Films_Every_Year_Since_1950.csv\n",
    "\n",
    "#yearbestmovie_df1 = yearbestmovie_df.drop(yearbestmovie_df.columns[[0,1,2,3,4,6,7]],axis = 1)\n",
    "#yearbestmovie_df1.info()"
   ]
  },
  {
   "cell_type": "code",
   "execution_count": null,
   "id": "55cd683b",
   "metadata": {},
   "outputs": [],
   "source": []
  },
  {
   "cell_type": "code",
   "execution_count": null,
   "id": "6d635552",
   "metadata": {},
   "outputs": [],
   "source": []
  },
  {
   "cell_type": "code",
   "execution_count": 4,
   "id": "df806401",
   "metadata": {},
   "outputs": [],
   "source": [
    "## pull up column info for top500movies_df\n",
    "#top500movies_df.info()"
   ]
  },
  {
   "cell_type": "code",
   "execution_count": 3,
   "id": "217c18cd",
   "metadata": {},
   "outputs": [],
   "source": [
    "## drop columns [12, 13, 14, 15] from Most Profitable Movies of All Time - Top 500 Movies (pink = added by us).csv\n",
    "\n",
    "#top500movies_df1 = top500movies_df.drop(top500movies_df.columns[[12, 13, 14, 15]],axis = 1)\n",
    "#top500movies_df1.info()"
   ]
  },
  {
   "cell_type": "markdown",
   "id": "0f0cf46f",
   "metadata": {},
   "source": [
    "---"
   ]
  },
  {
   "cell_type": "code",
   "execution_count": 17,
   "id": "d454cbe2",
   "metadata": {},
   "outputs": [],
   "source": [
    "## after dropping columns that aren't needed and nulls its time to merge and transform data types if needed"
   ]
  },
  {
   "cell_type": "code",
   "execution_count": 18,
   "id": "f769e93e",
   "metadata": {},
   "outputs": [
    {
     "data": {
      "text/html": [
       "<div>\n",
       "<style scoped>\n",
       "    .dataframe tbody tr th:only-of-type {\n",
       "        vertical-align: middle;\n",
       "    }\n",
       "\n",
       "    .dataframe tbody tr th {\n",
       "        vertical-align: top;\n",
       "    }\n",
       "\n",
       "    .dataframe thead th {\n",
       "        text-align: right;\n",
       "    }\n",
       "</style>\n",
       "<table border=\"1\" class=\"dataframe\">\n",
       "  <thead>\n",
       "    <tr style=\"text-align: right;\">\n",
       "      <th></th>\n",
       "      <th>userId</th>\n",
       "      <th>movieId</th>\n",
       "      <th>rating</th>\n",
       "      <th>title</th>\n",
       "      <th>genres</th>\n",
       "      <th>genres.1</th>\n",
       "      <th>genres.2</th>\n",
       "      <th>genres.3</th>\n",
       "      <th>genres.4</th>\n",
       "      <th>genres.5</th>\n",
       "      <th>genres.6</th>\n",
       "      <th>genres.7</th>\n",
       "      <th>genres.8</th>\n",
       "      <th>genres.9</th>\n",
       "    </tr>\n",
       "  </thead>\n",
       "  <tbody>\n",
       "    <tr>\n",
       "      <th>0</th>\n",
       "      <td>1</td>\n",
       "      <td>1</td>\n",
       "      <td>4.0</td>\n",
       "      <td>Toy Story (1995)</td>\n",
       "      <td>Adventure</td>\n",
       "      <td>Animation</td>\n",
       "      <td>Children</td>\n",
       "      <td>Comedy</td>\n",
       "      <td>Fantasy</td>\n",
       "      <td>NaN</td>\n",
       "      <td>NaN</td>\n",
       "      <td>NaN</td>\n",
       "      <td>NaN</td>\n",
       "      <td>NaN</td>\n",
       "    </tr>\n",
       "    <tr>\n",
       "      <th>1</th>\n",
       "      <td>5</td>\n",
       "      <td>1</td>\n",
       "      <td>4.0</td>\n",
       "      <td>Toy Story (1995)</td>\n",
       "      <td>Adventure</td>\n",
       "      <td>Animation</td>\n",
       "      <td>Children</td>\n",
       "      <td>Comedy</td>\n",
       "      <td>Fantasy</td>\n",
       "      <td>NaN</td>\n",
       "      <td>NaN</td>\n",
       "      <td>NaN</td>\n",
       "      <td>NaN</td>\n",
       "      <td>NaN</td>\n",
       "    </tr>\n",
       "    <tr>\n",
       "      <th>2</th>\n",
       "      <td>7</td>\n",
       "      <td>1</td>\n",
       "      <td>4.5</td>\n",
       "      <td>Toy Story (1995)</td>\n",
       "      <td>Adventure</td>\n",
       "      <td>Animation</td>\n",
       "      <td>Children</td>\n",
       "      <td>Comedy</td>\n",
       "      <td>Fantasy</td>\n",
       "      <td>NaN</td>\n",
       "      <td>NaN</td>\n",
       "      <td>NaN</td>\n",
       "      <td>NaN</td>\n",
       "      <td>NaN</td>\n",
       "    </tr>\n",
       "    <tr>\n",
       "      <th>3</th>\n",
       "      <td>15</td>\n",
       "      <td>1</td>\n",
       "      <td>2.5</td>\n",
       "      <td>Toy Story (1995)</td>\n",
       "      <td>Adventure</td>\n",
       "      <td>Animation</td>\n",
       "      <td>Children</td>\n",
       "      <td>Comedy</td>\n",
       "      <td>Fantasy</td>\n",
       "      <td>NaN</td>\n",
       "      <td>NaN</td>\n",
       "      <td>NaN</td>\n",
       "      <td>NaN</td>\n",
       "      <td>NaN</td>\n",
       "    </tr>\n",
       "    <tr>\n",
       "      <th>4</th>\n",
       "      <td>17</td>\n",
       "      <td>1</td>\n",
       "      <td>4.5</td>\n",
       "      <td>Toy Story (1995)</td>\n",
       "      <td>Adventure</td>\n",
       "      <td>Animation</td>\n",
       "      <td>Children</td>\n",
       "      <td>Comedy</td>\n",
       "      <td>Fantasy</td>\n",
       "      <td>NaN</td>\n",
       "      <td>NaN</td>\n",
       "      <td>NaN</td>\n",
       "      <td>NaN</td>\n",
       "      <td>NaN</td>\n",
       "    </tr>\n",
       "    <tr>\n",
       "      <th>...</th>\n",
       "      <td>...</td>\n",
       "      <td>...</td>\n",
       "      <td>...</td>\n",
       "      <td>...</td>\n",
       "      <td>...</td>\n",
       "      <td>...</td>\n",
       "      <td>...</td>\n",
       "      <td>...</td>\n",
       "      <td>...</td>\n",
       "      <td>...</td>\n",
       "      <td>...</td>\n",
       "      <td>...</td>\n",
       "      <td>...</td>\n",
       "      <td>...</td>\n",
       "    </tr>\n",
       "    <tr>\n",
       "      <th>100831</th>\n",
       "      <td>610</td>\n",
       "      <td>160341</td>\n",
       "      <td>2.5</td>\n",
       "      <td>Bloodmoon (1997)</td>\n",
       "      <td>Action</td>\n",
       "      <td>Thriller</td>\n",
       "      <td>NaN</td>\n",
       "      <td>NaN</td>\n",
       "      <td>NaN</td>\n",
       "      <td>NaN</td>\n",
       "      <td>NaN</td>\n",
       "      <td>NaN</td>\n",
       "      <td>NaN</td>\n",
       "      <td>NaN</td>\n",
       "    </tr>\n",
       "    <tr>\n",
       "      <th>100832</th>\n",
       "      <td>610</td>\n",
       "      <td>160527</td>\n",
       "      <td>4.5</td>\n",
       "      <td>Sympathy for the Underdog (1971)</td>\n",
       "      <td>Action</td>\n",
       "      <td>Crime</td>\n",
       "      <td>Drama</td>\n",
       "      <td>NaN</td>\n",
       "      <td>NaN</td>\n",
       "      <td>NaN</td>\n",
       "      <td>NaN</td>\n",
       "      <td>NaN</td>\n",
       "      <td>NaN</td>\n",
       "      <td>NaN</td>\n",
       "    </tr>\n",
       "    <tr>\n",
       "      <th>100833</th>\n",
       "      <td>610</td>\n",
       "      <td>160836</td>\n",
       "      <td>3.0</td>\n",
       "      <td>Hazard (2005)</td>\n",
       "      <td>Action</td>\n",
       "      <td>Drama</td>\n",
       "      <td>Thriller</td>\n",
       "      <td>NaN</td>\n",
       "      <td>NaN</td>\n",
       "      <td>NaN</td>\n",
       "      <td>NaN</td>\n",
       "      <td>NaN</td>\n",
       "      <td>NaN</td>\n",
       "      <td>NaN</td>\n",
       "    </tr>\n",
       "    <tr>\n",
       "      <th>100834</th>\n",
       "      <td>610</td>\n",
       "      <td>163937</td>\n",
       "      <td>3.5</td>\n",
       "      <td>Blair Witch (2016)</td>\n",
       "      <td>Horror</td>\n",
       "      <td>Thriller</td>\n",
       "      <td>NaN</td>\n",
       "      <td>NaN</td>\n",
       "      <td>NaN</td>\n",
       "      <td>NaN</td>\n",
       "      <td>NaN</td>\n",
       "      <td>NaN</td>\n",
       "      <td>NaN</td>\n",
       "      <td>NaN</td>\n",
       "    </tr>\n",
       "    <tr>\n",
       "      <th>100835</th>\n",
       "      <td>610</td>\n",
       "      <td>163981</td>\n",
       "      <td>3.5</td>\n",
       "      <td>31 (2016)</td>\n",
       "      <td>Horror</td>\n",
       "      <td>NaN</td>\n",
       "      <td>NaN</td>\n",
       "      <td>NaN</td>\n",
       "      <td>NaN</td>\n",
       "      <td>NaN</td>\n",
       "      <td>NaN</td>\n",
       "      <td>NaN</td>\n",
       "      <td>NaN</td>\n",
       "      <td>NaN</td>\n",
       "    </tr>\n",
       "  </tbody>\n",
       "</table>\n",
       "<p>100836 rows × 14 columns</p>\n",
       "</div>"
      ],
      "text/plain": [
       "        userId  movieId  rating                             title     genres  \\\n",
       "0            1        1     4.0                  Toy Story (1995)  Adventure   \n",
       "1            5        1     4.0                  Toy Story (1995)  Adventure   \n",
       "2            7        1     4.5                  Toy Story (1995)  Adventure   \n",
       "3           15        1     2.5                  Toy Story (1995)  Adventure   \n",
       "4           17        1     4.5                  Toy Story (1995)  Adventure   \n",
       "...        ...      ...     ...                               ...        ...   \n",
       "100831     610   160341     2.5                  Bloodmoon (1997)     Action   \n",
       "100832     610   160527     4.5  Sympathy for the Underdog (1971)     Action   \n",
       "100833     610   160836     3.0                     Hazard (2005)     Action   \n",
       "100834     610   163937     3.5                Blair Witch (2016)     Horror   \n",
       "100835     610   163981     3.5                         31 (2016)     Horror   \n",
       "\n",
       "         genres.1  genres.2 genres.3 genres.4 genres.5 genres.6 genres.7  \\\n",
       "0       Animation  Children   Comedy  Fantasy      NaN      NaN      NaN   \n",
       "1       Animation  Children   Comedy  Fantasy      NaN      NaN      NaN   \n",
       "2       Animation  Children   Comedy  Fantasy      NaN      NaN      NaN   \n",
       "3       Animation  Children   Comedy  Fantasy      NaN      NaN      NaN   \n",
       "4       Animation  Children   Comedy  Fantasy      NaN      NaN      NaN   \n",
       "...           ...       ...      ...      ...      ...      ...      ...   \n",
       "100831   Thriller       NaN      NaN      NaN      NaN      NaN      NaN   \n",
       "100832      Crime     Drama      NaN      NaN      NaN      NaN      NaN   \n",
       "100833      Drama  Thriller      NaN      NaN      NaN      NaN      NaN   \n",
       "100834   Thriller       NaN      NaN      NaN      NaN      NaN      NaN   \n",
       "100835        NaN       NaN      NaN      NaN      NaN      NaN      NaN   \n",
       "\n",
       "       genres.8 genres.9  \n",
       "0           NaN      NaN  \n",
       "1           NaN      NaN  \n",
       "2           NaN      NaN  \n",
       "3           NaN      NaN  \n",
       "4           NaN      NaN  \n",
       "...         ...      ...  \n",
       "100831      NaN      NaN  \n",
       "100832      NaN      NaN  \n",
       "100833      NaN      NaN  \n",
       "100834      NaN      NaN  \n",
       "100835      NaN      NaN  \n",
       "\n",
       "[100836 rows x 14 columns]"
      ]
     },
     "execution_count": 18,
     "metadata": {},
     "output_type": "execute_result"
    }
   ],
   "source": [
    "## merge movies and ratings df's to list the movie name and genres for each user rating in the ratings df\n",
    "## rating range from 0-5\n",
    "\n",
    "movie_ratings_df = pd.merge(ratings_df1, movies_df)\n",
    "movie_ratings_df"
   ]
  },
  {
   "cell_type": "code",
   "execution_count": 19,
   "id": "83b86155",
   "metadata": {
    "scrolled": false
   },
   "outputs": [
    {
     "name": "stdout",
     "output_type": "stream",
     "text": [
      "        userId  movieId  rating                             title     genres  \\\n",
      "0            1        1     4.0                  Toy Story (1995)  Adventure   \n",
      "1            5        1     4.0                  Toy Story (1995)  Adventure   \n",
      "2            7        1     4.5                  Toy Story (1995)  Adventure   \n",
      "3           15        1     2.5                  Toy Story (1995)  Adventure   \n",
      "4           17        1     4.5                  Toy Story (1995)  Adventure   \n",
      "...        ...      ...     ...                               ...        ...   \n",
      "100831     610   160341     2.5                  Bloodmoon (1997)     Action   \n",
      "100832     610   160527     4.5  Sympathy for the Underdog (1971)     Action   \n",
      "100833     610   160836     3.0                     Hazard (2005)     Action   \n",
      "100834     610   163937     3.5                Blair Witch (2016)     Horror   \n",
      "100835     610   163981     3.5                         31 (2016)     Horror   \n",
      "\n",
      "         genres.1  genres.2 genres.3 genres.4 genres.5 genres.6 genres.7  \\\n",
      "0       Animation  Children   Comedy  Fantasy      NaN      NaN      NaN   \n",
      "1       Animation  Children   Comedy  Fantasy      NaN      NaN      NaN   \n",
      "2       Animation  Children   Comedy  Fantasy      NaN      NaN      NaN   \n",
      "3       Animation  Children   Comedy  Fantasy      NaN      NaN      NaN   \n",
      "4       Animation  Children   Comedy  Fantasy      NaN      NaN      NaN   \n",
      "...           ...       ...      ...      ...      ...      ...      ...   \n",
      "100831   Thriller       NaN      NaN      NaN      NaN      NaN      NaN   \n",
      "100832      Crime     Drama      NaN      NaN      NaN      NaN      NaN   \n",
      "100833      Drama  Thriller      NaN      NaN      NaN      NaN      NaN   \n",
      "100834   Thriller       NaN      NaN      NaN      NaN      NaN      NaN   \n",
      "100835        NaN       NaN      NaN      NaN      NaN      NaN      NaN   \n",
      "\n",
      "       genres.8 genres.9  \n",
      "0           NaN      NaN  \n",
      "1           NaN      NaN  \n",
      "2           NaN      NaN  \n",
      "3           NaN      NaN  \n",
      "4           NaN      NaN  \n",
      "...         ...      ...  \n",
      "100831      NaN      NaN  \n",
      "100832      NaN      NaN  \n",
      "100833      NaN      NaN  \n",
      "100834      NaN      NaN  \n",
      "100835      NaN      NaN  \n",
      "\n",
      "[100836 rows x 14 columns]\n"
     ]
    }
   ],
   "source": [
    "print(movie_ratings_df)"
   ]
  },
  {
   "cell_type": "code",
   "execution_count": 20,
   "id": "82eed808",
   "metadata": {},
   "outputs": [
    {
     "data": {
      "text/plain": [
       "['userId',\n",
       " 'movieId',\n",
       " 'rating',\n",
       " 'title',\n",
       " 'genres',\n",
       " 'genres.1',\n",
       " 'genres.2',\n",
       " 'genres.3',\n",
       " 'genres.4',\n",
       " 'genres.5',\n",
       " 'genres.6',\n",
       " 'genres.7',\n",
       " 'genres.8',\n",
       " 'genres.9']"
      ]
     },
     "execution_count": 20,
     "metadata": {},
     "output_type": "execute_result"
    }
   ],
   "source": [
    "list(movie_ratings_df)"
   ]
  },
  {
   "cell_type": "markdown",
   "id": "59c557f8",
   "metadata": {},
   "source": [
    "---"
   ]
  },
  {
   "cell_type": "code",
   "execution_count": 21,
   "id": "4930f7b5",
   "metadata": {},
   "outputs": [],
   "source": [
    "## merge together the top500movies_df1 & budgets_df2 to combine all the movie budget and sales data into one df"
   ]
  },
  {
   "cell_type": "code",
   "execution_count": 5,
   "id": "27080bac",
   "metadata": {},
   "outputs": [],
   "source": [
    "#budgets_df2 = budgets_df1.reindex(sorted(budgets_df1.columns), axis=1)\n",
    "#budgets_df2.info()"
   ]
  },
  {
   "cell_type": "code",
   "execution_count": null,
   "id": "a9d0ef86",
   "metadata": {},
   "outputs": [],
   "source": [
    "## rename columns to similar formats\n",
    "#budgets_df2.rename(columns={'domestic %': '% of gross from domestic', \n",
    "#                            'inflation adjusted gross ($m)': 'inflation adjusted gross (m)', \n",
    "#                            'unadjusted gross ($m)': 'unadjusted gross (m)'}, inplace=True)"
   ]
  },
  {
   "cell_type": "code",
   "execution_count": null,
   "id": "575cfe75",
   "metadata": {},
   "outputs": [],
   "source": [
    "## sort columns for readability \n",
    "#inflation_df = budgets_df2.reindex(sorted(budgets_df2.columns), axis=1)\n",
    "#inflation_df.info()"
   ]
  },
  {
   "cell_type": "code",
   "execution_count": 6,
   "id": "ef754279",
   "metadata": {},
   "outputs": [],
   "source": [
    "## sort columns for readability \n",
    "#top500movies_df1 = top500movies_df1.reindex(sorted(top500movies_df1.columns), axis=1)\n",
    "#top500movies_df1.info()"
   ]
  },
  {
   "cell_type": "code",
   "execution_count": 8,
   "id": "480661d6",
   "metadata": {},
   "outputs": [],
   "source": [
    "# rename related columns to similar formats\n",
    "#top500movies_df1.rename(columns={'X times budget recovered': 'x times budget recovered', \n",
    "#                                 'budget  (millions)': 'budget (m)',\n",
    "#                                 'domestic %': '% of gross from domestic',\n",
    "#                                 'title ': 'title'}, inplace=True)"
   ]
  },
  {
   "cell_type": "code",
   "execution_count": 9,
   "id": "4fe306dc",
   "metadata": {
    "scrolled": true
   },
   "outputs": [],
   "source": [
    "## sort columns for readability \n",
    "#top500movies_df1 = top500movies_df1.reindex(sorted(top500movies_df1.columns), axis=1)\n",
    "#top500movies_df1.info()"
   ]
  },
  {
   "cell_type": "code",
   "execution_count": null,
   "id": "f290fd75",
   "metadata": {},
   "outputs": [],
   "source": []
  },
  {
   "cell_type": "code",
   "execution_count": 10,
   "id": "34b21648",
   "metadata": {},
   "outputs": [],
   "source": [
    "#top500movies_df1.head()"
   ]
  },
  {
   "cell_type": "code",
   "execution_count": 28,
   "id": "37c7cdc6",
   "metadata": {},
   "outputs": [
    {
     "name": "stdout",
     "output_type": "stream",
     "text": [
      "<class 'pandas.core.frame.DataFrame'>\n",
      "RangeIndex: 558 entries, 0 to 557\n",
      "Data columns (total 12 columns):\n",
      " #   Column                         Non-Null Count  Dtype  \n",
      "---  ------                         --------------  -----  \n",
      " 0   % budget recovered             558 non-null    object \n",
      " 1   % of gross from domestic       558 non-null    object \n",
      " 2   % of gross from international  558 non-null    object \n",
      " 3   budget (m)                     558 non-null    float64\n",
      " 4   decade                         558 non-null    object \n",
      " 5   domestic gross (m)             558 non-null    int32  \n",
      " 6   international gross (m)        558 non-null    object \n",
      " 7   title                          558 non-null    object \n",
      " 8   worldwide gross                558 non-null    object \n",
      " 9   worldwide gross (m)            558 non-null    float64\n",
      " 10  x times budget recovered       558 non-null    float64\n",
      " 11  year                           558 non-null    int64  \n",
      "dtypes: float64(3), int32(1), int64(1), object(7)\n",
      "memory usage: 50.3+ KB\n"
     ]
    }
   ],
   "source": [
    "# convert top500movies_df1[domestic gross (m)] column into int64\n",
    "top500movies_df1['domestic gross (m)'] = top500movies_df1['domestic gross (m)'].astype(int)\n",
    "top500movies_df1.info()"
   ]
  },
  {
   "cell_type": "code",
   "execution_count": 29,
   "id": "ca7ab644",
   "metadata": {},
   "outputs": [
    {
     "name": "stderr",
     "output_type": "stream",
     "text": [
      "C:\\Users\\ifranklin\\AppData\\Local\\Temp\\ipykernel_10208\\3833004053.py:6: FutureWarning: The default value of regex will change from True to False in a future version.\n",
      "  top500movies_df1['international gross (m)'] = top500movies_df1['international gross (m)'].str.replace(r'\\D', '').astype(int)\n"
     ]
    }
   ],
   "source": [
    "# convert international gross (m) column into int64\n",
    "#top500movies_df1['international gross (m)'] = pd.to_numeric(top500movies_df1['international gross (m)'])\n",
    "#top500movies_df1.info()\n",
    "\n",
    "## there appears to be a comma in one of the numbers(string), will remove before casting to nnumeric\n",
    "top500movies_df1['international gross (m)'] = top500movies_df1['international gross (m)'].str.replace(r'\\D', '').astype(int)"
   ]
  },
  {
   "cell_type": "code",
   "execution_count": 30,
   "id": "8a0ddbba",
   "metadata": {},
   "outputs": [
    {
     "name": "stdout",
     "output_type": "stream",
     "text": [
      "<class 'pandas.core.frame.DataFrame'>\n",
      "RangeIndex: 558 entries, 0 to 557\n",
      "Data columns (total 12 columns):\n",
      " #   Column                         Non-Null Count  Dtype  \n",
      "---  ------                         --------------  -----  \n",
      " 0   % budget recovered             558 non-null    object \n",
      " 1   % of gross from domestic       558 non-null    object \n",
      " 2   % of gross from international  558 non-null    object \n",
      " 3   budget (m)                     558 non-null    float64\n",
      " 4   decade                         558 non-null    object \n",
      " 5   domestic gross (m)             558 non-null    int32  \n",
      " 6   international gross (m)        558 non-null    int32  \n",
      " 7   title                          558 non-null    object \n",
      " 8   worldwide gross                558 non-null    object \n",
      " 9   worldwide gross (m)            558 non-null    float64\n",
      " 10  x times budget recovered       558 non-null    float64\n",
      " 11  year                           558 non-null    int64  \n",
      "dtypes: float64(3), int32(2), int64(1), object(6)\n",
      "memory usage: 48.1+ KB\n"
     ]
    }
   ],
   "source": [
    "top500movies_df1.info()"
   ]
  },
  {
   "cell_type": "code",
   "execution_count": 31,
   "id": "98f18d62",
   "metadata": {},
   "outputs": [],
   "source": [
    "## combine the 2 datasets with budget profit information to keep the ones from the top500 that also have an inflation adj value\n",
    "##  movie_budgets_df = top500df + inflation_df[inflation adjusted gross (m)]\n",
    "\n",
    "\n",
    "### didnt work\n",
    "### df = pd.merge(df,df2[['Key_Column','Target_Column']],on='Key_Column', how='left')\n",
    "\n",
    "### movie_budgets_df = pd.merge(top500movies_df1, inflation_df[['title','inflation adjusted gross (m)']], left_on= top500movies_df1['title'], right_on= inflation_df[['title'], how='left')\n",
    "### print (movie_budgets_df)\n",
    "### movie_budgets_df = pd.merge(top500movies_df1,inflation_df[['title', 'inflation adjusted gross (m)']], on='title', how='left')\n",
    "\n",
    "### movie_budgets_df = pd.merge(top500movies_df1, inflation_df, on ='title')"
   ]
  },
  {
   "cell_type": "code",
   "execution_count": 32,
   "id": "860fd962",
   "metadata": {},
   "outputs": [],
   "source": [
    "### i dont think i need to actually merge the two \n",
    "### they are almost exactly the same, Top500 has more moives but not inflation adjusted gross worldwide\n",
    "### sample difference n = 557-475 = 82\n",
    "\n",
    "# 🤦‍♂️"
   ]
  },
  {
   "cell_type": "markdown",
   "id": "976b5ef1",
   "metadata": {},
   "source": [
    "---"
   ]
  },
  {
   "cell_type": "code",
   "execution_count": 33,
   "id": "81266405",
   "metadata": {},
   "outputs": [],
   "source": []
  },
  {
   "cell_type": "code",
   "execution_count": 34,
   "id": "ae79bc79",
   "metadata": {},
   "outputs": [],
   "source": []
  },
  {
   "cell_type": "code",
   "execution_count": 35,
   "id": "245b3be4",
   "metadata": {
    "scrolled": true
   },
   "outputs": [
    {
     "name": "stdout",
     "output_type": "stream",
     "text": [
      "<class 'pandas.core.frame.DataFrame'>\n",
      "RangeIndex: 558 entries, 0 to 557\n",
      "Data columns (total 12 columns):\n",
      " #   Column                         Non-Null Count  Dtype  \n",
      "---  ------                         --------------  -----  \n",
      " 0   % budget recovered             558 non-null    object \n",
      " 1   % of gross from domestic       558 non-null    object \n",
      " 2   % of gross from international  558 non-null    object \n",
      " 3   budget (m)                     558 non-null    float64\n",
      " 4   decade                         558 non-null    object \n",
      " 5   domestic gross (m)             558 non-null    int32  \n",
      " 6   international gross (m)        558 non-null    int32  \n",
      " 7   title                          558 non-null    object \n",
      " 8   worldwide gross                558 non-null    object \n",
      " 9   worldwide gross (m)            558 non-null    float64\n",
      " 10  x times budget recovered       558 non-null    float64\n",
      " 11  year                           558 non-null    int64  \n",
      "dtypes: float64(3), int32(2), int64(1), object(6)\n",
      "memory usage: 48.1+ KB\n"
     ]
    }
   ],
   "source": [
    "#top500movies_df1.info()"
   ]
  },
  {
   "cell_type": "code",
   "execution_count": 11,
   "id": "8b47ee94",
   "metadata": {},
   "outputs": [],
   "source": [
    "#list(top500movies_df1)"
   ]
  },
  {
   "cell_type": "code",
   "execution_count": null,
   "id": "7e6144f1",
   "metadata": {},
   "outputs": [],
   "source": []
  },
  {
   "cell_type": "code",
   "execution_count": 12,
   "id": "02c0e821",
   "metadata": {},
   "outputs": [],
   "source": [
    "#top500movies_df1.head()"
   ]
  },
  {
   "cell_type": "code",
   "execution_count": 13,
   "id": "1bacf2e2",
   "metadata": {},
   "outputs": [],
   "source": [
    "# look at min/max values for movies release year and budgets"
   ]
  },
  {
   "cell_type": "code",
   "execution_count": 14,
   "id": "ea444c7e",
   "metadata": {},
   "outputs": [],
   "source": [
    "#top500movies_df1['year'].min()"
   ]
  },
  {
   "cell_type": "code",
   "execution_count": 15,
   "id": "9f94b383",
   "metadata": {},
   "outputs": [],
   "source": [
    "#top500movies_df1['year'].max()"
   ]
  },
  {
   "cell_type": "code",
   "execution_count": 16,
   "id": "4240aff4",
   "metadata": {},
   "outputs": [],
   "source": [
    "#top500movies_df1['budget (m)'].min()"
   ]
  },
  {
   "cell_type": "code",
   "execution_count": 17,
   "id": "8820cfb4",
   "metadata": {
    "scrolled": true
   },
   "outputs": [],
   "source": [
    "#top500movies_df1['budget (m)'].max()"
   ]
  },
  {
   "cell_type": "code",
   "execution_count": 19,
   "id": "2e01bfc6",
   "metadata": {},
   "outputs": [],
   "source": [
    "# count of how many movies titles there are\n",
    "#top500movies_df1['title'].count()"
   ]
  },
  {
   "cell_type": "code",
   "execution_count": null,
   "id": "2b14e5d9",
   "metadata": {},
   "outputs": [],
   "source": []
  },
  {
   "cell_type": "code",
   "execution_count": null,
   "id": "687261ba",
   "metadata": {},
   "outputs": [],
   "source": []
  },
  {
   "cell_type": "code",
   "execution_count": 44,
   "id": "823dca08",
   "metadata": {},
   "outputs": [],
   "source": [
    "# Look at the data frame that only contains movie ratings and genres, DOES NOT CONTAIN BUDGET INFO"
   ]
  },
  {
   "cell_type": "code",
   "execution_count": 45,
   "id": "0e4f8835",
   "metadata": {},
   "outputs": [
    {
     "data": {
      "text/plain": [
       "['userId',\n",
       " 'movieId',\n",
       " 'rating',\n",
       " 'title',\n",
       " 'genres',\n",
       " 'genres.1',\n",
       " 'genres.2',\n",
       " 'genres.3',\n",
       " 'genres.4',\n",
       " 'genres.5',\n",
       " 'genres.6',\n",
       " 'genres.7',\n",
       " 'genres.8',\n",
       " 'genres.9']"
      ]
     },
     "execution_count": 45,
     "metadata": {},
     "output_type": "execute_result"
    }
   ],
   "source": [
    "list(movie_ratings_df)"
   ]
  },
  {
   "cell_type": "code",
   "execution_count": 46,
   "id": "deec7bcc",
   "metadata": {
    "scrolled": true
   },
   "outputs": [
    {
     "name": "stdout",
     "output_type": "stream",
     "text": [
      "<class 'pandas.core.frame.DataFrame'>\n",
      "Int64Index: 100836 entries, 0 to 100835\n",
      "Data columns (total 14 columns):\n",
      " #   Column    Non-Null Count   Dtype  \n",
      "---  ------    --------------   -----  \n",
      " 0   userId    100836 non-null  int64  \n",
      " 1   movieId   100836 non-null  int64  \n",
      " 2   rating    100836 non-null  float64\n",
      " 3   title     100836 non-null  object \n",
      " 4   genres    100836 non-null  object \n",
      " 5   genres.1  84422 non-null   object \n",
      " 6   genres.2  55860 non-null   object \n",
      " 7   genres.3  23971 non-null   object \n",
      " 8   genres.4  7270 non-null    object \n",
      " 9   genres.5  1751 non-null    object \n",
      " 10  genres.6  363 non-null     object \n",
      " 11  genres.7  3 non-null       object \n",
      " 12  genres.8  2 non-null       object \n",
      " 13  genres.9  2 non-null       object \n",
      "dtypes: float64(1), int64(2), object(11)\n",
      "memory usage: 11.5+ MB\n"
     ]
    }
   ],
   "source": [
    "movie_ratings_df.info()"
   ]
  },
  {
   "cell_type": "code",
   "execution_count": 47,
   "id": "95d75672",
   "metadata": {},
   "outputs": [
    {
     "data": {
      "text/plain": [
       "9719"
      ]
     },
     "execution_count": 47,
     "metadata": {},
     "output_type": "execute_result"
    }
   ],
   "source": [
    "# look a how many unique movie titles there are\n",
    "movie_ratings_df['title'].nunique()"
   ]
  },
  {
   "cell_type": "code",
   "execution_count": 48,
   "id": "61d8ad43",
   "metadata": {},
   "outputs": [
    {
     "data": {
      "text/plain": [
       "610"
      ]
     },
     "execution_count": 48,
     "metadata": {},
     "output_type": "execute_result"
    }
   ],
   "source": [
    "# # look a how many unique movie reviewers there are\n",
    "movie_ratings_df['userId'].nunique()"
   ]
  },
  {
   "cell_type": "code",
   "execution_count": 49,
   "id": "002a96f1",
   "metadata": {},
   "outputs": [
    {
     "data": {
      "text/plain": [
       "0.5"
      ]
     },
     "execution_count": 49,
     "metadata": {},
     "output_type": "execute_result"
    }
   ],
   "source": [
    "# look at min/max values for movies ratings to determine the scale range\n",
    "movie_ratings_df['rating'].min()"
   ]
  },
  {
   "cell_type": "code",
   "execution_count": 50,
   "id": "68d65702",
   "metadata": {
    "scrolled": true
   },
   "outputs": [
    {
     "data": {
      "text/plain": [
       "5.0"
      ]
     },
     "execution_count": 50,
     "metadata": {},
     "output_type": "execute_result"
    }
   ],
   "source": [
    "movie_ratings_df['rating'].max()"
   ]
  },
  {
   "cell_type": "code",
   "execution_count": null,
   "id": "ad4d72b3",
   "metadata": {},
   "outputs": [],
   "source": []
  },
  {
   "cell_type": "code",
   "execution_count": null,
   "id": "95100656",
   "metadata": {},
   "outputs": [],
   "source": []
  },
  {
   "cell_type": "markdown",
   "id": "42388d01",
   "metadata": {},
   "source": [
    "---"
   ]
  },
  {
   "cell_type": "code",
   "execution_count": 51,
   "id": "d3495a38",
   "metadata": {},
   "outputs": [],
   "source": [
    "# look at the data that contains movies ratings (0-10), genres, runtime and release year, DOES NOT CONTAIN BUDGET INFO"
   ]
  },
  {
   "cell_type": "code",
   "execution_count": 52,
   "id": "9424a44b",
   "metadata": {},
   "outputs": [
    {
     "name": "stdout",
     "output_type": "stream",
     "text": [
      "<class 'pandas.core.frame.DataFrame'>\n",
      "RangeIndex: 70 entries, 0 to 69\n",
      "Data columns (total 8 columns):\n",
      " #   Column          Non-Null Count  Dtype  \n",
      "---  ------          --------------  -----  \n",
      " 0   Title           70 non-null     object \n",
      " 1   IMDb Rating     70 non-null     float64\n",
      " 2   Runtime (mins)  70 non-null     int64  \n",
      " 3   Year            70 non-null     int64  \n",
      " 4   Genres          70 non-null     object \n",
      " 5   Num Votes       70 non-null     int64  \n",
      " 6   Release Date    70 non-null     object \n",
      " 7   Directors       70 non-null     object \n",
      "dtypes: float64(1), int64(3), object(4)\n",
      "memory usage: 4.5+ KB\n"
     ]
    }
   ],
   "source": [
    "yearbestmovie_df1.info()"
   ]
  },
  {
   "cell_type": "code",
   "execution_count": 53,
   "id": "709df560",
   "metadata": {},
   "outputs": [
    {
     "data": {
      "text/plain": [
       "['Title',\n",
       " 'IMDb Rating',\n",
       " 'Runtime (mins)',\n",
       " 'Year',\n",
       " 'Genres',\n",
       " 'Num Votes',\n",
       " 'Release Date',\n",
       " 'Directors']"
      ]
     },
     "execution_count": 53,
     "metadata": {},
     "output_type": "execute_result"
    }
   ],
   "source": [
    "list(yearbestmovie_df1)"
   ]
  },
  {
   "cell_type": "code",
   "execution_count": 54,
   "id": "dc582c8e",
   "metadata": {},
   "outputs": [
    {
     "data": {
      "text/html": [
       "<div>\n",
       "<style scoped>\n",
       "    .dataframe tbody tr th:only-of-type {\n",
       "        vertical-align: middle;\n",
       "    }\n",
       "\n",
       "    .dataframe tbody tr th {\n",
       "        vertical-align: top;\n",
       "    }\n",
       "\n",
       "    .dataframe thead th {\n",
       "        text-align: right;\n",
       "    }\n",
       "</style>\n",
       "<table border=\"1\" class=\"dataframe\">\n",
       "  <thead>\n",
       "    <tr style=\"text-align: right;\">\n",
       "      <th></th>\n",
       "      <th>Title</th>\n",
       "      <th>IMDb Rating</th>\n",
       "      <th>Runtime (mins)</th>\n",
       "      <th>Year</th>\n",
       "      <th>Genres</th>\n",
       "      <th>Num Votes</th>\n",
       "      <th>Release Date</th>\n",
       "      <th>Directors</th>\n",
       "    </tr>\n",
       "  </thead>\n",
       "  <tbody>\n",
       "    <tr>\n",
       "      <th>0</th>\n",
       "      <td>The Irishman</td>\n",
       "      <td>7.8</td>\n",
       "      <td>209</td>\n",
       "      <td>2019</td>\n",
       "      <td>Biography, Crime, Drama</td>\n",
       "      <td>401227</td>\n",
       "      <td>2019-09-27</td>\n",
       "      <td>Martin Scorsese</td>\n",
       "    </tr>\n",
       "    <tr>\n",
       "      <th>1</th>\n",
       "      <td>Incredibles 2</td>\n",
       "      <td>7.6</td>\n",
       "      <td>118</td>\n",
       "      <td>2018</td>\n",
       "      <td>Animation, Action, Adventure, Comedy, Family, ...</td>\n",
       "      <td>307380</td>\n",
       "      <td>2018-06-05</td>\n",
       "      <td>Brad Bird</td>\n",
       "    </tr>\n",
       "    <tr>\n",
       "      <th>2</th>\n",
       "      <td>Dunkirk</td>\n",
       "      <td>7.8</td>\n",
       "      <td>106</td>\n",
       "      <td>2017</td>\n",
       "      <td>Action, Drama, History, Thriller, War</td>\n",
       "      <td>678522</td>\n",
       "      <td>2017-07-13</td>\n",
       "      <td>Christopher Nolan</td>\n",
       "    </tr>\n",
       "    <tr>\n",
       "      <th>3</th>\n",
       "      <td>La La Land</td>\n",
       "      <td>8.0</td>\n",
       "      <td>128</td>\n",
       "      <td>2016</td>\n",
       "      <td>Comedy, Drama, Music, Musical, Romance</td>\n",
       "      <td>611601</td>\n",
       "      <td>2016-08-31</td>\n",
       "      <td>Damien Chazelle</td>\n",
       "    </tr>\n",
       "    <tr>\n",
       "      <th>4</th>\n",
       "      <td>Me and Earl and the Dying Girl</td>\n",
       "      <td>7.7</td>\n",
       "      <td>105</td>\n",
       "      <td>2015</td>\n",
       "      <td>Comedy, Drama, Romance</td>\n",
       "      <td>134350</td>\n",
       "      <td>2015-01-25</td>\n",
       "      <td>Alfonso Gomez-Rejon</td>\n",
       "    </tr>\n",
       "  </tbody>\n",
       "</table>\n",
       "</div>"
      ],
      "text/plain": [
       "                            Title  IMDb Rating  Runtime (mins)  Year  \\\n",
       "0                    The Irishman          7.8             209  2019   \n",
       "1                   Incredibles 2          7.6             118  2018   \n",
       "2                         Dunkirk          7.8             106  2017   \n",
       "3                      La La Land          8.0             128  2016   \n",
       "4  Me and Earl and the Dying Girl          7.7             105  2015   \n",
       "\n",
       "                                              Genres  Num Votes Release Date  \\\n",
       "0                            Biography, Crime, Drama     401227   2019-09-27   \n",
       "1  Animation, Action, Adventure, Comedy, Family, ...     307380   2018-06-05   \n",
       "2              Action, Drama, History, Thriller, War     678522   2017-07-13   \n",
       "3             Comedy, Drama, Music, Musical, Romance     611601   2016-08-31   \n",
       "4                             Comedy, Drama, Romance     134350   2015-01-25   \n",
       "\n",
       "             Directors  \n",
       "0      Martin Scorsese  \n",
       "1            Brad Bird  \n",
       "2    Christopher Nolan  \n",
       "3      Damien Chazelle  \n",
       "4  Alfonso Gomez-Rejon  "
      ]
     },
     "execution_count": 54,
     "metadata": {},
     "output_type": "execute_result"
    }
   ],
   "source": [
    "yearbestmovie_df1.head()"
   ]
  },
  {
   "cell_type": "code",
   "execution_count": 55,
   "id": "c4e962a3",
   "metadata": {},
   "outputs": [
    {
     "data": {
      "text/plain": [
       "6.5"
      ]
     },
     "execution_count": 55,
     "metadata": {},
     "output_type": "execute_result"
    }
   ],
   "source": [
    "# look at min/max values for movies ratings to determine the scale range\n",
    "yearbestmovie_df1['IMDb Rating'].min()"
   ]
  },
  {
   "cell_type": "code",
   "execution_count": 56,
   "id": "fa20c688",
   "metadata": {},
   "outputs": [
    {
     "data": {
      "text/plain": [
       "9.2"
      ]
     },
     "execution_count": 56,
     "metadata": {},
     "output_type": "execute_result"
    }
   ],
   "source": [
    "yearbestmovie_df1['IMDb Rating'].max()"
   ]
  },
  {
   "cell_type": "code",
   "execution_count": 57,
   "id": "a2b63a3e",
   "metadata": {},
   "outputs": [
    {
     "data": {
      "text/plain": [
       "'1950-08-04'"
      ]
     },
     "execution_count": 57,
     "metadata": {},
     "output_type": "execute_result"
    }
   ],
   "source": [
    "# look at min/max values for movies release year\n",
    "yearbestmovie_df1['Release Date'].min()"
   ]
  },
  {
   "cell_type": "code",
   "execution_count": 58,
   "id": "dab104f2",
   "metadata": {},
   "outputs": [
    {
     "data": {
      "text/plain": [
       "'2019-09-27'"
      ]
     },
     "execution_count": 58,
     "metadata": {},
     "output_type": "execute_result"
    }
   ],
   "source": [
    "yearbestmovie_df1['Release Date'].max()"
   ]
  },
  {
   "cell_type": "markdown",
   "id": "d2deb4ee",
   "metadata": {},
   "source": [
    "---"
   ]
  },
  {
   "cell_type": "code",
   "execution_count": 59,
   "id": "dc66f7da",
   "metadata": {},
   "outputs": [
    {
     "data": {
      "text/html": [
       "<div>\n",
       "<style scoped>\n",
       "    .dataframe tbody tr th:only-of-type {\n",
       "        vertical-align: middle;\n",
       "    }\n",
       "\n",
       "    .dataframe tbody tr th {\n",
       "        vertical-align: top;\n",
       "    }\n",
       "\n",
       "    .dataframe thead th {\n",
       "        text-align: right;\n",
       "    }\n",
       "</style>\n",
       "<table border=\"1\" class=\"dataframe\">\n",
       "  <thead>\n",
       "    <tr style=\"text-align: right;\">\n",
       "      <th></th>\n",
       "      <th>userId</th>\n",
       "      <th>movieId</th>\n",
       "      <th>rating</th>\n",
       "      <th>title</th>\n",
       "      <th>genres</th>\n",
       "      <th>genres.1</th>\n",
       "      <th>genres.2</th>\n",
       "      <th>genres.3</th>\n",
       "      <th>genres.4</th>\n",
       "      <th>genres.5</th>\n",
       "      <th>...</th>\n",
       "      <th>% of gross from domestic</th>\n",
       "      <th>% of gross from international</th>\n",
       "      <th>budget (m)</th>\n",
       "      <th>decade</th>\n",
       "      <th>domestic gross (m)</th>\n",
       "      <th>international gross (m)</th>\n",
       "      <th>worldwide gross</th>\n",
       "      <th>worldwide gross (m)</th>\n",
       "      <th>x times budget recovered</th>\n",
       "      <th>year</th>\n",
       "    </tr>\n",
       "  </thead>\n",
       "  <tbody>\n",
       "    <tr>\n",
       "      <th>0</th>\n",
       "      <td>1.0</td>\n",
       "      <td>1.0</td>\n",
       "      <td>4.0</td>\n",
       "      <td>Toy Story (1995)</td>\n",
       "      <td>Adventure</td>\n",
       "      <td>Animation</td>\n",
       "      <td>Children</td>\n",
       "      <td>Comedy</td>\n",
       "      <td>Fantasy</td>\n",
       "      <td>NaN</td>\n",
       "      <td>...</td>\n",
       "      <td>NaN</td>\n",
       "      <td>NaN</td>\n",
       "      <td>NaN</td>\n",
       "      <td>NaN</td>\n",
       "      <td>NaN</td>\n",
       "      <td>NaN</td>\n",
       "      <td>NaN</td>\n",
       "      <td>NaN</td>\n",
       "      <td>NaN</td>\n",
       "      <td>NaN</td>\n",
       "    </tr>\n",
       "    <tr>\n",
       "      <th>1</th>\n",
       "      <td>5.0</td>\n",
       "      <td>1.0</td>\n",
       "      <td>4.0</td>\n",
       "      <td>Toy Story (1995)</td>\n",
       "      <td>Adventure</td>\n",
       "      <td>Animation</td>\n",
       "      <td>Children</td>\n",
       "      <td>Comedy</td>\n",
       "      <td>Fantasy</td>\n",
       "      <td>NaN</td>\n",
       "      <td>...</td>\n",
       "      <td>NaN</td>\n",
       "      <td>NaN</td>\n",
       "      <td>NaN</td>\n",
       "      <td>NaN</td>\n",
       "      <td>NaN</td>\n",
       "      <td>NaN</td>\n",
       "      <td>NaN</td>\n",
       "      <td>NaN</td>\n",
       "      <td>NaN</td>\n",
       "      <td>NaN</td>\n",
       "    </tr>\n",
       "    <tr>\n",
       "      <th>2</th>\n",
       "      <td>7.0</td>\n",
       "      <td>1.0</td>\n",
       "      <td>4.5</td>\n",
       "      <td>Toy Story (1995)</td>\n",
       "      <td>Adventure</td>\n",
       "      <td>Animation</td>\n",
       "      <td>Children</td>\n",
       "      <td>Comedy</td>\n",
       "      <td>Fantasy</td>\n",
       "      <td>NaN</td>\n",
       "      <td>...</td>\n",
       "      <td>NaN</td>\n",
       "      <td>NaN</td>\n",
       "      <td>NaN</td>\n",
       "      <td>NaN</td>\n",
       "      <td>NaN</td>\n",
       "      <td>NaN</td>\n",
       "      <td>NaN</td>\n",
       "      <td>NaN</td>\n",
       "      <td>NaN</td>\n",
       "      <td>NaN</td>\n",
       "    </tr>\n",
       "    <tr>\n",
       "      <th>3</th>\n",
       "      <td>15.0</td>\n",
       "      <td>1.0</td>\n",
       "      <td>2.5</td>\n",
       "      <td>Toy Story (1995)</td>\n",
       "      <td>Adventure</td>\n",
       "      <td>Animation</td>\n",
       "      <td>Children</td>\n",
       "      <td>Comedy</td>\n",
       "      <td>Fantasy</td>\n",
       "      <td>NaN</td>\n",
       "      <td>...</td>\n",
       "      <td>NaN</td>\n",
       "      <td>NaN</td>\n",
       "      <td>NaN</td>\n",
       "      <td>NaN</td>\n",
       "      <td>NaN</td>\n",
       "      <td>NaN</td>\n",
       "      <td>NaN</td>\n",
       "      <td>NaN</td>\n",
       "      <td>NaN</td>\n",
       "      <td>NaN</td>\n",
       "    </tr>\n",
       "    <tr>\n",
       "      <th>4</th>\n",
       "      <td>17.0</td>\n",
       "      <td>1.0</td>\n",
       "      <td>4.5</td>\n",
       "      <td>Toy Story (1995)</td>\n",
       "      <td>Adventure</td>\n",
       "      <td>Animation</td>\n",
       "      <td>Children</td>\n",
       "      <td>Comedy</td>\n",
       "      <td>Fantasy</td>\n",
       "      <td>NaN</td>\n",
       "      <td>...</td>\n",
       "      <td>NaN</td>\n",
       "      <td>NaN</td>\n",
       "      <td>NaN</td>\n",
       "      <td>NaN</td>\n",
       "      <td>NaN</td>\n",
       "      <td>NaN</td>\n",
       "      <td>NaN</td>\n",
       "      <td>NaN</td>\n",
       "      <td>NaN</td>\n",
       "      <td>NaN</td>\n",
       "    </tr>\n",
       "  </tbody>\n",
       "</table>\n",
       "<p>5 rows × 25 columns</p>\n",
       "</div>"
      ],
      "text/plain": [
       "   userId  movieId  rating             title     genres   genres.1  genres.2  \\\n",
       "0     1.0      1.0     4.0  Toy Story (1995)  Adventure  Animation  Children   \n",
       "1     5.0      1.0     4.0  Toy Story (1995)  Adventure  Animation  Children   \n",
       "2     7.0      1.0     4.5  Toy Story (1995)  Adventure  Animation  Children   \n",
       "3    15.0      1.0     2.5  Toy Story (1995)  Adventure  Animation  Children   \n",
       "4    17.0      1.0     4.5  Toy Story (1995)  Adventure  Animation  Children   \n",
       "\n",
       "  genres.3 genres.4 genres.5  ... % of gross from domestic  \\\n",
       "0   Comedy  Fantasy      NaN  ...                      NaN   \n",
       "1   Comedy  Fantasy      NaN  ...                      NaN   \n",
       "2   Comedy  Fantasy      NaN  ...                      NaN   \n",
       "3   Comedy  Fantasy      NaN  ...                      NaN   \n",
       "4   Comedy  Fantasy      NaN  ...                      NaN   \n",
       "\n",
       "  % of gross from international budget (m) decade domestic gross (m)  \\\n",
       "0                           NaN        NaN    NaN                NaN   \n",
       "1                           NaN        NaN    NaN                NaN   \n",
       "2                           NaN        NaN    NaN                NaN   \n",
       "3                           NaN        NaN    NaN                NaN   \n",
       "4                           NaN        NaN    NaN                NaN   \n",
       "\n",
       "  international gross (m) worldwide gross  worldwide gross (m)  \\\n",
       "0                     NaN             NaN                  NaN   \n",
       "1                     NaN             NaN                  NaN   \n",
       "2                     NaN             NaN                  NaN   \n",
       "3                     NaN             NaN                  NaN   \n",
       "4                     NaN             NaN                  NaN   \n",
       "\n",
       "  x times budget recovered  year  \n",
       "0                      NaN   NaN  \n",
       "1                      NaN   NaN  \n",
       "2                      NaN   NaN  \n",
       "3                      NaN   NaN  \n",
       "4                      NaN   NaN  \n",
       "\n",
       "[5 rows x 25 columns]"
      ]
     },
     "execution_count": 59,
     "metadata": {},
     "output_type": "execute_result"
    }
   ],
   "source": [
    "# merge the top500 df into the movie_ratings_df, so that all the movies that got rated also have the budget/sales info\n",
    "\n",
    "ratingsBudget_df = pd.merge(movie_ratings_df, top500movies_df1, on='title', how='outer')\n",
    "ratingsBudget_df.head()"
   ]
  },
  {
   "cell_type": "code",
   "execution_count": 60,
   "id": "7fb9f226",
   "metadata": {},
   "outputs": [
    {
     "data": {
      "text/plain": [
       "['userId',\n",
       " 'movieId',\n",
       " 'rating',\n",
       " 'title',\n",
       " 'genres',\n",
       " 'genres.1',\n",
       " 'genres.2',\n",
       " 'genres.3',\n",
       " 'genres.4',\n",
       " 'genres.5',\n",
       " 'genres.6',\n",
       " 'genres.7',\n",
       " 'genres.8',\n",
       " 'genres.9',\n",
       " '% budget recovered',\n",
       " '% of gross from domestic',\n",
       " '% of gross from international',\n",
       " 'budget (m)',\n",
       " 'decade',\n",
       " 'domestic gross (m)',\n",
       " 'international gross (m)',\n",
       " 'worldwide gross',\n",
       " 'worldwide gross (m)',\n",
       " 'x times budget recovered',\n",
       " 'year']"
      ]
     },
     "execution_count": 60,
     "metadata": {},
     "output_type": "execute_result"
    }
   ],
   "source": [
    "# list of column names to see if they all merged over and to get names of columns to drop\n",
    "list(ratingsBudget_df)"
   ]
  },
  {
   "cell_type": "code",
   "execution_count": 61,
   "id": "73a752eb",
   "metadata": {},
   "outputs": [
    {
     "name": "stdout",
     "output_type": "stream",
     "text": [
      "<class 'pandas.core.frame.DataFrame'>\n",
      "Int64Index: 101392 entries, 0 to 101391\n",
      "Data columns (total 23 columns):\n",
      " #   Column                         Non-Null Count   Dtype  \n",
      "---  ------                         --------------   -----  \n",
      " 0   rating                         100836 non-null  float64\n",
      " 1   title                          101392 non-null  object \n",
      " 2   genres                         100836 non-null  object \n",
      " 3   genres.1                       84422 non-null   object \n",
      " 4   genres.2                       55860 non-null   object \n",
      " 5   genres.3                       23971 non-null   object \n",
      " 6   genres.4                       7270 non-null    object \n",
      " 7   genres.5                       1751 non-null    object \n",
      " 8   genres.6                       363 non-null     object \n",
      " 9   genres.7                       3 non-null       object \n",
      " 10  genres.8                       2 non-null       object \n",
      " 11  genres.9                       2 non-null       object \n",
      " 12  % budget recovered             571 non-null     object \n",
      " 13  % of gross from domestic       571 non-null     object \n",
      " 14  % of gross from international  571 non-null     object \n",
      " 15  budget (m)                     571 non-null     float64\n",
      " 16  decade                         571 non-null     object \n",
      " 17  domestic gross (m)             571 non-null     float64\n",
      " 18  international gross (m)        571 non-null     float64\n",
      " 19  worldwide gross                571 non-null     object \n",
      " 20  worldwide gross (m)            571 non-null     float64\n",
      " 21  x times budget recovered       571 non-null     float64\n",
      " 22  year                           571 non-null     float64\n",
      "dtypes: float64(7), object(16)\n",
      "memory usage: 18.6+ MB\n"
     ]
    }
   ],
   "source": [
    "# drop extra columns, again...\n",
    "ratingsBudget_df.drop(['userId', 'movieId'], axis=1, inplace=True)\n",
    "ratingsBudget_df.info()"
   ]
  },
  {
   "cell_type": "code",
   "execution_count": 62,
   "id": "d157dc37",
   "metadata": {},
   "outputs": [
    {
     "name": "stdout",
     "output_type": "stream",
     "text": [
      "<class 'pandas.core.frame.DataFrame'>\n",
      "Int64Index: 571 entries, 78928 to 101391\n",
      "Data columns (total 23 columns):\n",
      " #   Column                         Non-Null Count  Dtype  \n",
      "---  ------                         --------------  -----  \n",
      " 0   rating                         15 non-null     float64\n",
      " 1   title                          571 non-null    object \n",
      " 2   genres                         15 non-null     object \n",
      " 3   genres.1                       15 non-null     object \n",
      " 4   genres.2                       15 non-null     object \n",
      " 5   genres.3                       0 non-null      object \n",
      " 6   genres.4                       0 non-null      object \n",
      " 7   genres.5                       0 non-null      object \n",
      " 8   genres.6                       0 non-null      object \n",
      " 9   genres.7                       0 non-null      object \n",
      " 10  genres.8                       0 non-null      object \n",
      " 11  genres.9                       0 non-null      object \n",
      " 12  % budget recovered             571 non-null    object \n",
      " 13  % of gross from domestic       571 non-null    object \n",
      " 14  % of gross from international  571 non-null    object \n",
      " 15  budget (m)                     571 non-null    float64\n",
      " 16  decade                         571 non-null    object \n",
      " 17  domestic gross (m)             571 non-null    float64\n",
      " 18  international gross (m)        571 non-null    float64\n",
      " 19  worldwide gross                571 non-null    object \n",
      " 20  worldwide gross (m)            571 non-null    float64\n",
      " 21  x times budget recovered       571 non-null    float64\n",
      " 22  year                           571 non-null    float64\n",
      "dtypes: float64(7), object(16)\n",
      "memory usage: 107.1+ KB\n"
     ]
    }
   ],
   "source": [
    "# drop ratings for movies without matching budget info, df.drop(rows if df([column=12])=null)\n",
    "\n",
    "ratingsBudget_df = ratingsBudget_df[ratingsBudget_df['budget (m)'].notnull()]\n",
    "ratingsBudget_df.info()"
   ]
  },
  {
   "cell_type": "code",
   "execution_count": 63,
   "id": "699c61b0",
   "metadata": {},
   "outputs": [
    {
     "data": {
      "text/html": [
       "<div>\n",
       "<style scoped>\n",
       "    .dataframe tbody tr th:only-of-type {\n",
       "        vertical-align: middle;\n",
       "    }\n",
       "\n",
       "    .dataframe tbody tr th {\n",
       "        vertical-align: top;\n",
       "    }\n",
       "\n",
       "    .dataframe thead th {\n",
       "        text-align: right;\n",
       "    }\n",
       "</style>\n",
       "<table border=\"1\" class=\"dataframe\">\n",
       "  <thead>\n",
       "    <tr style=\"text-align: right;\">\n",
       "      <th></th>\n",
       "      <th>rating</th>\n",
       "      <th>title</th>\n",
       "      <th>genres</th>\n",
       "      <th>genres.1</th>\n",
       "      <th>genres.2</th>\n",
       "      <th>genres.3</th>\n",
       "      <th>genres.4</th>\n",
       "      <th>genres.5</th>\n",
       "      <th>genres.6</th>\n",
       "      <th>genres.7</th>\n",
       "      <th>...</th>\n",
       "      <th>% of gross from domestic</th>\n",
       "      <th>% of gross from international</th>\n",
       "      <th>budget (m)</th>\n",
       "      <th>decade</th>\n",
       "      <th>domestic gross (m)</th>\n",
       "      <th>international gross (m)</th>\n",
       "      <th>worldwide gross</th>\n",
       "      <th>worldwide gross (m)</th>\n",
       "      <th>x times budget recovered</th>\n",
       "      <th>year</th>\n",
       "    </tr>\n",
       "  </thead>\n",
       "  <tbody>\n",
       "    <tr>\n",
       "      <th>78928</th>\n",
       "      <td>2.0</td>\n",
       "      <td>The Jungle Book (2016)</td>\n",
       "      <td>Adventure</td>\n",
       "      <td>Drama</td>\n",
       "      <td>Fantasy</td>\n",
       "      <td>NaN</td>\n",
       "      <td>NaN</td>\n",
       "      <td>NaN</td>\n",
       "      <td>NaN</td>\n",
       "      <td>NaN</td>\n",
       "      <td>...</td>\n",
       "      <td>37.7%</td>\n",
       "      <td>62.3%</td>\n",
       "      <td>177.0</td>\n",
       "      <td>2010's</td>\n",
       "      <td>364.0</td>\n",
       "      <td>603.0</td>\n",
       "      <td>966,554,929</td>\n",
       "      <td>967.0</td>\n",
       "      <td>5.5</td>\n",
       "      <td>2016.0</td>\n",
       "    </tr>\n",
       "    <tr>\n",
       "      <th>78929</th>\n",
       "      <td>3.0</td>\n",
       "      <td>The Jungle Book (2016)</td>\n",
       "      <td>Adventure</td>\n",
       "      <td>Drama</td>\n",
       "      <td>Fantasy</td>\n",
       "      <td>NaN</td>\n",
       "      <td>NaN</td>\n",
       "      <td>NaN</td>\n",
       "      <td>NaN</td>\n",
       "      <td>NaN</td>\n",
       "      <td>...</td>\n",
       "      <td>37.7%</td>\n",
       "      <td>62.3%</td>\n",
       "      <td>177.0</td>\n",
       "      <td>2010's</td>\n",
       "      <td>364.0</td>\n",
       "      <td>603.0</td>\n",
       "      <td>966,554,929</td>\n",
       "      <td>967.0</td>\n",
       "      <td>5.5</td>\n",
       "      <td>2016.0</td>\n",
       "    </tr>\n",
       "    <tr>\n",
       "      <th>78930</th>\n",
       "      <td>3.5</td>\n",
       "      <td>The Jungle Book (2016)</td>\n",
       "      <td>Adventure</td>\n",
       "      <td>Drama</td>\n",
       "      <td>Fantasy</td>\n",
       "      <td>NaN</td>\n",
       "      <td>NaN</td>\n",
       "      <td>NaN</td>\n",
       "      <td>NaN</td>\n",
       "      <td>NaN</td>\n",
       "      <td>...</td>\n",
       "      <td>37.7%</td>\n",
       "      <td>62.3%</td>\n",
       "      <td>177.0</td>\n",
       "      <td>2010's</td>\n",
       "      <td>364.0</td>\n",
       "      <td>603.0</td>\n",
       "      <td>966,554,929</td>\n",
       "      <td>967.0</td>\n",
       "      <td>5.5</td>\n",
       "      <td>2016.0</td>\n",
       "    </tr>\n",
       "    <tr>\n",
       "      <th>78931</th>\n",
       "      <td>4.5</td>\n",
       "      <td>The Jungle Book (2016)</td>\n",
       "      <td>Adventure</td>\n",
       "      <td>Drama</td>\n",
       "      <td>Fantasy</td>\n",
       "      <td>NaN</td>\n",
       "      <td>NaN</td>\n",
       "      <td>NaN</td>\n",
       "      <td>NaN</td>\n",
       "      <td>NaN</td>\n",
       "      <td>...</td>\n",
       "      <td>37.7%</td>\n",
       "      <td>62.3%</td>\n",
       "      <td>177.0</td>\n",
       "      <td>2010's</td>\n",
       "      <td>364.0</td>\n",
       "      <td>603.0</td>\n",
       "      <td>966,554,929</td>\n",
       "      <td>967.0</td>\n",
       "      <td>5.5</td>\n",
       "      <td>2016.0</td>\n",
       "    </tr>\n",
       "    <tr>\n",
       "      <th>78932</th>\n",
       "      <td>3.5</td>\n",
       "      <td>The Jungle Book (2016)</td>\n",
       "      <td>Adventure</td>\n",
       "      <td>Drama</td>\n",
       "      <td>Fantasy</td>\n",
       "      <td>NaN</td>\n",
       "      <td>NaN</td>\n",
       "      <td>NaN</td>\n",
       "      <td>NaN</td>\n",
       "      <td>NaN</td>\n",
       "      <td>...</td>\n",
       "      <td>37.7%</td>\n",
       "      <td>62.3%</td>\n",
       "      <td>177.0</td>\n",
       "      <td>2010's</td>\n",
       "      <td>364.0</td>\n",
       "      <td>603.0</td>\n",
       "      <td>966,554,929</td>\n",
       "      <td>967.0</td>\n",
       "      <td>5.5</td>\n",
       "      <td>2016.0</td>\n",
       "    </tr>\n",
       "  </tbody>\n",
       "</table>\n",
       "<p>5 rows × 23 columns</p>\n",
       "</div>"
      ],
      "text/plain": [
       "       rating                   title     genres genres.1 genres.2 genres.3  \\\n",
       "78928     2.0  The Jungle Book (2016)  Adventure    Drama  Fantasy      NaN   \n",
       "78929     3.0  The Jungle Book (2016)  Adventure    Drama  Fantasy      NaN   \n",
       "78930     3.5  The Jungle Book (2016)  Adventure    Drama  Fantasy      NaN   \n",
       "78931     4.5  The Jungle Book (2016)  Adventure    Drama  Fantasy      NaN   \n",
       "78932     3.5  The Jungle Book (2016)  Adventure    Drama  Fantasy      NaN   \n",
       "\n",
       "      genres.4 genres.5 genres.6 genres.7  ... % of gross from domestic  \\\n",
       "78928      NaN      NaN      NaN      NaN  ...                    37.7%   \n",
       "78929      NaN      NaN      NaN      NaN  ...                    37.7%   \n",
       "78930      NaN      NaN      NaN      NaN  ...                    37.7%   \n",
       "78931      NaN      NaN      NaN      NaN  ...                    37.7%   \n",
       "78932      NaN      NaN      NaN      NaN  ...                    37.7%   \n",
       "\n",
       "      % of gross from international budget (m)  decade domestic gross (m)  \\\n",
       "78928                         62.3%      177.0  2010's              364.0   \n",
       "78929                         62.3%      177.0  2010's              364.0   \n",
       "78930                         62.3%      177.0  2010's              364.0   \n",
       "78931                         62.3%      177.0  2010's              364.0   \n",
       "78932                         62.3%      177.0  2010's              364.0   \n",
       "\n",
       "       international gross (m) worldwide gross  worldwide gross (m)  \\\n",
       "78928                    603.0     966,554,929                967.0   \n",
       "78929                    603.0     966,554,929                967.0   \n",
       "78930                    603.0     966,554,929                967.0   \n",
       "78931                    603.0     966,554,929                967.0   \n",
       "78932                    603.0     966,554,929                967.0   \n",
       "\n",
       "       x times budget recovered    year  \n",
       "78928                       5.5  2016.0  \n",
       "78929                       5.5  2016.0  \n",
       "78930                       5.5  2016.0  \n",
       "78931                       5.5  2016.0  \n",
       "78932                       5.5  2016.0  \n",
       "\n",
       "[5 rows x 23 columns]"
      ]
     },
     "execution_count": 63,
     "metadata": {},
     "output_type": "execute_result"
    }
   ],
   "source": [
    "ratingsBudget_df.head(5)"
   ]
  },
  {
   "cell_type": "code",
   "execution_count": 64,
   "id": "c38ca69a",
   "metadata": {},
   "outputs": [
    {
     "data": {
      "text/plain": [
       "array([nan], dtype=object)"
      ]
     },
     "execution_count": 64,
     "metadata": {},
     "output_type": "execute_result"
    }
   ],
   "source": [
    "# list of unique values from genres.3-9 columns to see if they are all nulls\n",
    "ratingsBudget_df['genres.3'].unique()"
   ]
  },
  {
   "cell_type": "code",
   "execution_count": 65,
   "id": "ba494206",
   "metadata": {},
   "outputs": [
    {
     "data": {
      "text/plain": [
       "0"
      ]
     },
     "execution_count": 65,
     "metadata": {},
     "output_type": "execute_result"
    }
   ],
   "source": [
    "ratingsBudget_df['genres.4'].nunique()"
   ]
  },
  {
   "cell_type": "code",
   "execution_count": 66,
   "id": "415369ad",
   "metadata": {},
   "outputs": [
    {
     "data": {
      "text/plain": [
       "0"
      ]
     },
     "execution_count": 66,
     "metadata": {},
     "output_type": "execute_result"
    }
   ],
   "source": [
    "ratingsBudget_df['genres.5'].nunique()"
   ]
  },
  {
   "cell_type": "code",
   "execution_count": 67,
   "id": "9f8b2b59",
   "metadata": {},
   "outputs": [
    {
     "data": {
      "text/plain": [
       "0"
      ]
     },
     "execution_count": 67,
     "metadata": {},
     "output_type": "execute_result"
    }
   ],
   "source": [
    "ratingsBudget_df['genres.6'].nunique()"
   ]
  },
  {
   "cell_type": "code",
   "execution_count": 68,
   "id": "c4032c7d",
   "metadata": {},
   "outputs": [
    {
     "data": {
      "text/plain": [
       "0"
      ]
     },
     "execution_count": 68,
     "metadata": {},
     "output_type": "execute_result"
    }
   ],
   "source": [
    "ratingsBudget_df['genres.7'].nunique()"
   ]
  },
  {
   "cell_type": "code",
   "execution_count": 69,
   "id": "b2972b6f",
   "metadata": {},
   "outputs": [
    {
     "data": {
      "text/plain": [
       "0"
      ]
     },
     "execution_count": 69,
     "metadata": {},
     "output_type": "execute_result"
    }
   ],
   "source": [
    "ratingsBudget_df['genres.8'].nunique()"
   ]
  },
  {
   "cell_type": "code",
   "execution_count": 70,
   "id": "12166ab2",
   "metadata": {},
   "outputs": [
    {
     "data": {
      "text/plain": [
       "0"
      ]
     },
     "execution_count": 70,
     "metadata": {},
     "output_type": "execute_result"
    }
   ],
   "source": [
    "ratingsBudget_df['genres.9'].nunique()"
   ]
  },
  {
   "cell_type": "code",
   "execution_count": 71,
   "id": "45e2463c",
   "metadata": {},
   "outputs": [
    {
     "name": "stdout",
     "output_type": "stream",
     "text": [
      "<class 'pandas.core.frame.DataFrame'>\n",
      "Int64Index: 571 entries, 78928 to 101391\n",
      "Data columns (total 16 columns):\n",
      " #   Column                         Non-Null Count  Dtype  \n",
      "---  ------                         --------------  -----  \n",
      " 0   rating                         15 non-null     float64\n",
      " 1   title                          571 non-null    object \n",
      " 2   genres                         15 non-null     object \n",
      " 3   genres.1                       15 non-null     object \n",
      " 4   genres.2                       15 non-null     object \n",
      " 5   % budget recovered             571 non-null    object \n",
      " 6   % of gross from domestic       571 non-null    object \n",
      " 7   % of gross from international  571 non-null    object \n",
      " 8   budget (m)                     571 non-null    float64\n",
      " 9   decade                         571 non-null    object \n",
      " 10  domestic gross (m)             571 non-null    float64\n",
      " 11  international gross (m)        571 non-null    float64\n",
      " 12  worldwide gross                571 non-null    object \n",
      " 13  worldwide gross (m)            571 non-null    float64\n",
      " 14  x times budget recovered       571 non-null    float64\n",
      " 15  year                           571 non-null    float64\n",
      "dtypes: float64(7), object(9)\n",
      "memory usage: 75.8+ KB\n"
     ]
    }
   ],
   "source": [
    "# drop extra columns, again...\n",
    "ratingsBudget_df = ratingsBudget_df.drop(ratingsBudget_df.columns[[5,6,7,8,9,10,11]], axis=1)\n",
    "ratingsBudget_df.info()"
   ]
  },
  {
   "cell_type": "code",
   "execution_count": 72,
   "id": "3e517787",
   "metadata": {},
   "outputs": [
    {
     "name": "stdout",
     "output_type": "stream",
     "text": [
      "<class 'pandas.core.frame.DataFrame'>\n",
      "Int64Index: 571 entries, 78928 to 101391\n",
      "Data columns (total 16 columns):\n",
      " #   Column                         Non-Null Count  Dtype  \n",
      "---  ------                         --------------  -----  \n",
      " 0   rating                         15 non-null     float64\n",
      " 1   title                          571 non-null    object \n",
      " 2   genres                         15 non-null     object \n",
      " 3   genres.1                       15 non-null     object \n",
      " 4   genres.2                       15 non-null     object \n",
      " 5   % budget recovered             571 non-null    object \n",
      " 6   % of gross from domestic       571 non-null    object \n",
      " 7   % of gross from international  571 non-null    object \n",
      " 8   budget (m)                     571 non-null    float64\n",
      " 9   decade                         571 non-null    object \n",
      " 10  domestic gross (m)             571 non-null    float64\n",
      " 11  international gross (m)        571 non-null    float64\n",
      " 12  worldwide gross                571 non-null    object \n",
      " 13  worldwide gross (m)            571 non-null    float64\n",
      " 14  x times budget recovered       571 non-null    float64\n",
      " 15  year                           571 non-null    float64\n",
      "dtypes: float64(7), object(9)\n",
      "memory usage: 75.8+ KB\n"
     ]
    }
   ],
   "source": [
    "ratingsBudget_df.info()"
   ]
  },
  {
   "cell_type": "code",
   "execution_count": 73,
   "id": "76d891be",
   "metadata": {},
   "outputs": [],
   "source": [
    "# all data has been merged together for analysis question #2 and if needed for #1"
   ]
  },
  {
   "cell_type": "markdown",
   "id": "17d00715",
   "metadata": {},
   "source": [
    "---"
   ]
  },
  {
   "cell_type": "code",
   "execution_count": 74,
   "id": "b9d8990e",
   "metadata": {},
   "outputs": [],
   "source": []
  },
  {
   "cell_type": "code",
   "execution_count": 5,
   "id": "45ed94ec",
   "metadata": {},
   "outputs": [],
   "source": [
    "#top500movies_df1.head(10)"
   ]
  },
  {
   "cell_type": "code",
   "execution_count": null,
   "id": "2c83c3b8",
   "metadata": {},
   "outputs": [],
   "source": []
  },
  {
   "cell_type": "code",
   "execution_count": 7,
   "id": "25aea52f",
   "metadata": {},
   "outputs": [],
   "source": [
    "## create a scatter plot to test for linearity and normality\n",
    "#top500movies_LR = top500movies_df1[['budget (m)', 'worldwide gross (m)']].copy()\n",
    "#sns.pairplot(top500movies_LR)"
   ]
  },
  {
   "cell_type": "code",
   "execution_count": 6,
   "id": "bfbc994a",
   "metadata": {},
   "outputs": [],
   "source": [
    "## does not appear to be normally distributed, look at domestic gross instead of worldwide\n",
    "\n",
    "#top500movies_LR1 = top500movies_df1[['budget (m)', 'domestic gross (m)']].copy()\n",
    "#sns.pairplot(top500movies_LR1)"
   ]
  },
  {
   "cell_type": "code",
   "execution_count": 79,
   "id": "7d6da60e",
   "metadata": {},
   "outputs": [],
   "source": [
    "## budget still seems a little skewed but the scatter plot does appear to become slighlty more linear"
   ]
  },
  {
   "cell_type": "code",
   "execution_count": 8,
   "id": "eba62d41",
   "metadata": {},
   "outputs": [],
   "source": [
    "#sns.distplot(top500movies_LR1['budget (m)'])"
   ]
  },
  {
   "cell_type": "code",
   "execution_count": 9,
   "id": "2865abb4",
   "metadata": {},
   "outputs": [],
   "source": [
    "#sns.distplot(top500movies_LR1['domestic gross (m)'])"
   ]
  },
  {
   "cell_type": "code",
   "execution_count": 82,
   "id": "b18e5e96",
   "metadata": {},
   "outputs": [],
   "source": [
    "## both distribution plots look rougly more even, is skewed slightly positive"
   ]
  },
  {
   "cell_type": "code",
   "execution_count": 83,
   "id": "3adf6824",
   "metadata": {},
   "outputs": [],
   "source": [
    "## next test for Homoscedasticity\n",
    "\n",
    "#x = top500movies_LR1['budget (m)']\n",
    "#y = top500movies_LR1['domestic gross (m)']\n",
    "\n",
    "#LR_model = sm.OLS(y,x).fit()"
   ]
  },
  {
   "cell_type": "code",
   "execution_count": 16,
   "id": "2e136d0a",
   "metadata": {},
   "outputs": [],
   "source": [
    "## next plot the residuals from the model\n",
    "\n",
    "#pred_val = LR_model.fittedvalues.copy()\n",
    "#true_val = top500movies_LR1['domestic gross (m)'].values.copy()\n",
    "#residual = true_val - pred_val\n",
    "\n",
    "#fig, ax = plt.subplots(figsize=(6, 2.5))\n",
    "#_ = ax.scatter(residual, pred_val)"
   ]
  },
  {
   "cell_type": "code",
   "execution_count": 10,
   "id": "c1f0df3c",
   "metadata": {},
   "outputs": [],
   "source": [
    "# Breusch Pagan test \n",
    "#sms.diagnostic.het_breuschpagan(residual, top500movies_LR1[['budget (m)']])"
   ]
  },
  {
   "cell_type": "code",
   "execution_count": 11,
   "id": "3500f2c6",
   "metadata": {},
   "outputs": [],
   "source": [
    "## F-value of 172.92\n",
    "## p-value is less than 0.5 (stastically significant)\n",
    "## violated the assumption of homoscedasticity"
   ]
  },
  {
   "cell_type": "code",
   "execution_count": 12,
   "id": "b45d84b6",
   "metadata": {},
   "outputs": [],
   "source": [
    "# Harvey Collier test\n",
    "#sms.linear_harvey_collier(LR_model)"
   ]
  },
  {
   "cell_type": "code",
   "execution_count": 88,
   "id": "b889b90a",
   "metadata": {},
   "outputs": [],
   "source": [
    "## p-value is less than 0.5 (stastically significant)\n",
    "## violated the assumption of homoscedasticity"
   ]
  },
  {
   "cell_type": "code",
   "execution_count": 15,
   "id": "69e55932",
   "metadata": {},
   "outputs": [],
   "source": [
    "# try Box-Cox transformation\n",
    "#transformed, _ = boxcox(top500movies_LR1['budget (m)'])\n",
    "#plt.hist(transformed)"
   ]
  },
  {
   "cell_type": "code",
   "execution_count": 14,
   "id": "e55d0aab",
   "metadata": {},
   "outputs": [],
   "source": [
    "#x = transformed\n",
    "#LRmodel1 = sm.OLS(y,x).fit()\n",
    "#LRmodel1.summary()"
   ]
  },
  {
   "cell_type": "code",
   "execution_count": 13,
   "id": "622e0bed",
   "metadata": {},
   "outputs": [],
   "source": [
    "#pred_val = LRmodel1.fittedvalues.copy()\n",
    "#true_val = top500movies_LR1['domestic gross (m)'].values.copy()\n",
    "#residual = true_val - pred_val\n",
    "\n",
    "#fig, ax = plt.subplots(figsize=(6, 2.5))\n",
    "#_ = ax.scatter(residual, pred_val)"
   ]
  },
  {
   "cell_type": "code",
   "execution_count": 92,
   "id": "c20e518c",
   "metadata": {},
   "outputs": [],
   "source": [
    "## still violated the assumption of homoscedasticity"
   ]
  },
  {
   "cell_type": "code",
   "execution_count": 17,
   "id": "bf076b95",
   "metadata": {},
   "outputs": [],
   "source": [
    "## test for multicollinearity\n",
    "\n",
    "# correlation matrix for domestic gross x budget\n",
    "\n",
    "#top500movies_LR1.corr()"
   ]
  },
  {
   "cell_type": "code",
   "execution_count": 18,
   "id": "0a2217eb",
   "metadata": {
    "scrolled": true
   },
   "outputs": [],
   "source": [
    "# heatmap for domestic gross x budget\n",
    "#sns.heatmap(top500movies_LR1.corr(), cmap=\"YlGnBu\", annot=True)"
   ]
  },
  {
   "cell_type": "code",
   "execution_count": null,
   "id": "61085d99",
   "metadata": {},
   "outputs": [],
   "source": []
  },
  {
   "cell_type": "code",
   "execution_count": null,
   "id": "f7e4ce1c",
   "metadata": {},
   "outputs": [],
   "source": []
  },
  {
   "cell_type": "code",
   "execution_count": 19,
   "id": "d323a8f5",
   "metadata": {},
   "outputs": [],
   "source": [
    "# correlation matrix for entire budget/sales dataframe\n",
    "#top500movies_df1.corr()"
   ]
  },
  {
   "cell_type": "code",
   "execution_count": 20,
   "id": "a13aff2e",
   "metadata": {},
   "outputs": [],
   "source": [
    "#sns.heatmap(top500movies_df1.corr(), cmap=\"YlGnBu\", annot=True)"
   ]
  },
  {
   "cell_type": "code",
   "execution_count": 97,
   "id": "32f66a37",
   "metadata": {
    "scrolled": true
   },
   "outputs": [
    {
     "data": {
      "image/png": "[encoded data removed]",
      "text/plain": [
       "<Figure size 1200x800 with 1 Axes>"
      ]
     },
     "metadata": {},
     "output_type": "display_data"
    }
   ],
   "source": [
    "# plot that will test for influential data points\n",
    "fig, ax = plt.subplots(figsize=(12,8))\n",
    "fig = sm.graphics.influence_plot(LRmodel1, alpha = .05, ax = ax, criterion=\"cooks\")"
   ]
  },
  {
   "cell_type": "code",
   "execution_count": 98,
   "id": "de00e9cc",
   "metadata": {},
   "outputs": [],
   "source": [
    "# DROP OUTLIERS ABOVE X= 0.006 , Y=4!!!!1\n",
    "## 512, 378, 33, 430, 36, 37, 456, & 312\n",
    "\n"
   ]
  },
  {
   "cell_type": "code",
   "execution_count": 99,
   "id": "bddf94b7",
   "metadata": {},
   "outputs": [
    {
     "name": "stdout",
     "output_type": "stream",
     "text": [
      "       dfb_x1   cooks_d  standard_resid  hat_diag  dffits_internal  \\\n",
      "0    0.015293  0.000234        0.500111  0.000936         0.015304   \n",
      "1   -0.008407  0.000071       -0.226217  0.001382        -0.008414   \n",
      "2   -0.065813  0.004330       -1.109188  0.003507        -0.065800   \n",
      "3   -0.005171  0.000027       -0.166049  0.000970        -0.005175   \n",
      "4    0.013824  0.000191        0.530608  0.000679         0.013833   \n",
      "..        ...       ...             ...       ...              ...   \n",
      "553 -0.050810  0.002582       -0.974540  0.002711        -0.050812   \n",
      "554 -0.036484  0.001333       -0.598308  0.003709        -0.036505   \n",
      "555  0.002237  0.000005        0.053464  0.001751         0.002239   \n",
      "556 -0.041327  0.001707       -1.149201  0.001291        -0.041315   \n",
      "557  0.039049  0.001526        0.777821  0.002516         0.039063   \n",
      "\n",
      "     student_resid    dffits  \n",
      "0         0.499774  0.015293  \n",
      "1        -0.226024 -0.008407  \n",
      "2        -1.109418 -0.065813  \n",
      "3        -0.165904 -0.005171  \n",
      "4         0.530266  0.013824  \n",
      "..             ...       ...  \n",
      "553      -0.974496 -0.050810  \n",
      "554      -0.597963 -0.036484  \n",
      "555       0.053416  0.002237  \n",
      "556      -1.149533 -0.041327  \n",
      "557       0.777545  0.039049  \n",
      "\n",
      "[558 rows x 7 columns]\n"
     ]
    }
   ],
   "source": [
    "infl = LRmodel1.get_influence()\n",
    "print(infl.summary_frame())"
   ]
  },
  {
   "cell_type": "code",
   "execution_count": 100,
   "id": "199b8a5c",
   "metadata": {},
   "outputs": [
    {
     "data": {
      "text/html": [
       "<table class=\"simpletable\">\n",
       "<caption>OLS Regression Results</caption>\n",
       "<tr>\n",
       "  <th>Dep. Variable:</th>    <td>domestic gross (m)</td> <th>  R-squared (uncentered):</th>      <td>   0.766</td> \n",
       "</tr>\n",
       "<tr>\n",
       "  <th>Model:</th>                    <td>OLS</td>        <th>  Adj. R-squared (uncentered):</th> <td>   0.765</td> \n",
       "</tr>\n",
       "<tr>\n",
       "  <th>Method:</th>              <td>Least Squares</td>   <th>  F-statistic:       </th>          <td>   1822.</td> \n",
       "</tr>\n",
       "<tr>\n",
       "  <th>Date:</th>              <td>Thu, 11 May 2023</td>  <th>  Prob (F-statistic):</th>          <td>9.82e-178</td>\n",
       "</tr>\n",
       "<tr>\n",
       "  <th>Time:</th>                  <td>20:48:21</td>      <th>  Log-Likelihood:    </th>          <td> -3448.0</td> \n",
       "</tr>\n",
       "<tr>\n",
       "  <th>No. Observations:</th>       <td>   558</td>       <th>  AIC:               </th>          <td>   6898.</td> \n",
       "</tr>\n",
       "<tr>\n",
       "  <th>Df Residuals:</th>           <td>   557</td>       <th>  BIC:               </th>          <td>   6902.</td> \n",
       "</tr>\n",
       "<tr>\n",
       "  <th>Df Model:</th>               <td>     1</td>       <th>                     </th>              <td> </td>    \n",
       "</tr>\n",
       "<tr>\n",
       "  <th>Covariance Type:</th>       <td>nonrobust</td>     <th>                     </th>              <td> </td>    \n",
       "</tr>\n",
       "</table>\n",
       "<table class=\"simpletable\">\n",
       "<tr>\n",
       "   <td></td>     <th>coef</th>     <th>std err</th>      <th>t</th>      <th>P>|t|</th>  <th>[0.025</th>    <th>0.975]</th>  \n",
       "</tr>\n",
       "<tr>\n",
       "  <th>x1</th> <td>    9.6116</td> <td>    0.225</td> <td>   42.682</td> <td> 0.000</td> <td>    9.169</td> <td>   10.054</td>\n",
       "</tr>\n",
       "</table>\n",
       "<table class=\"simpletable\">\n",
       "<tr>\n",
       "  <th>Omnibus:</th>       <td>103.446</td> <th>  Durbin-Watson:     </th> <td>   1.619</td>\n",
       "</tr>\n",
       "<tr>\n",
       "  <th>Prob(Omnibus):</th> <td> 0.000</td>  <th>  Jarque-Bera (JB):  </th> <td> 220.602</td>\n",
       "</tr>\n",
       "<tr>\n",
       "  <th>Skew:</th>          <td> 1.004</td>  <th>  Prob(JB):          </th> <td>1.25e-48</td>\n",
       "</tr>\n",
       "<tr>\n",
       "  <th>Kurtosis:</th>      <td> 5.336</td>  <th>  Cond. No.          </th> <td>    1.00</td>\n",
       "</tr>\n",
       "</table><br/><br/>Notes:<br/>[1] R² is computed without centering (uncentered) since the model does not contain a constant.<br/>[2] Standard Errors assume that the covariance matrix of the errors is correctly specified."
      ],
      "text/plain": [
       "<class 'statsmodels.iolib.summary.Summary'>\n",
       "\"\"\"\n",
       "                                 OLS Regression Results                                \n",
       "=======================================================================================\n",
       "Dep. Variable:     domestic gross (m)   R-squared (uncentered):                   0.766\n",
       "Model:                            OLS   Adj. R-squared (uncentered):              0.765\n",
       "Method:                 Least Squares   F-statistic:                              1822.\n",
       "Date:                Thu, 11 May 2023   Prob (F-statistic):                   9.82e-178\n",
       "Time:                        20:48:21   Log-Likelihood:                         -3448.0\n",
       "No. Observations:                 558   AIC:                                      6898.\n",
       "Df Residuals:                     557   BIC:                                      6902.\n",
       "Df Model:                           1                                                  \n",
       "Covariance Type:            nonrobust                                                  \n",
       "==============================================================================\n",
       "                 coef    std err          t      P>|t|      [0.025      0.975]\n",
       "------------------------------------------------------------------------------\n",
       "x1             9.6116      0.225     42.682      0.000       9.169      10.054\n",
       "==============================================================================\n",
       "Omnibus:                      103.446   Durbin-Watson:                   1.619\n",
       "Prob(Omnibus):                  0.000   Jarque-Bera (JB):              220.602\n",
       "Skew:                           1.004   Prob(JB):                     1.25e-48\n",
       "Kurtosis:                       5.336   Cond. No.                         1.00\n",
       "==============================================================================\n",
       "\n",
       "Notes:\n",
       "[1] R² is computed without centering (uncentered) since the model does not contain a constant.\n",
       "[2] Standard Errors assume that the covariance matrix of the errors is correctly specified.\n",
       "\"\"\""
      ]
     },
     "execution_count": 100,
     "metadata": {},
     "output_type": "execute_result"
    }
   ],
   "source": [
    "## interpreting the regression model\n",
    "LRmodel1.summary()"
   ]
  },
  {
   "cell_type": "code",
   "execution_count": 101,
   "id": "83f358de",
   "metadata": {},
   "outputs": [],
   "source": [
    "# The overall model is statistically significant, because the p value < .05\n",
    "# The r-squared value indicates that budget accounts for 76% of the variance in domestic gross.\n",
    "\n",
    "## Failed Omnibus, Kurtosis, & Jarque-Bera model fit indices!!\n",
    "\n",
    "# Summary - We can assume that budget"
   ]
  },
  {
   "cell_type": "code",
   "execution_count": 102,
   "id": "b24e5686",
   "metadata": {},
   "outputs": [],
   "source": [
    "# send two dataframes to csv to use in R to confirm analysis and to prepare for question#2's ANOVA testing. If needed."
   ]
  },
  {
   "cell_type": "code",
   "execution_count": 103,
   "id": "1beff339",
   "metadata": {},
   "outputs": [],
   "source": [
    "top500movies_df1.to_csv('../Data/moviebudget.csv', encoding='utf-8')"
   ]
  },
  {
   "cell_type": "code",
   "execution_count": 104,
   "id": "1676cc27",
   "metadata": {},
   "outputs": [],
   "source": [
    "ratingsBudget_df.to_csv('../Data/ratingsBudget.csv', encoding='utf-8')"
   ]
  },
  {
   "cell_type": "markdown",
   "id": "f14861bd",
   "metadata": {},
   "source": [
    "---"
   ]
  },
  {
   "cell_type": "code",
   "execution_count": 166,
   "id": "fd69c7f8",
   "metadata": {
    "scrolled": true
   },
   "outputs": [
    {
     "data": {
      "text/html": [
       "<div>\n",
       "<style scoped>\n",
       "    .dataframe tbody tr th:only-of-type {\n",
       "        vertical-align: middle;\n",
       "    }\n",
       "\n",
       "    .dataframe tbody tr th {\n",
       "        vertical-align: top;\n",
       "    }\n",
       "\n",
       "    .dataframe thead th {\n",
       "        text-align: right;\n",
       "    }\n",
       "</style>\n",
       "<table border=\"1\" class=\"dataframe\">\n",
       "  <thead>\n",
       "    <tr style=\"text-align: right;\">\n",
       "      <th></th>\n",
       "      <th>Film</th>\n",
       "      <th>Rotten Tomatoes % critics</th>\n",
       "      <th>Metacritic % critics</th>\n",
       "      <th>Average critics %</th>\n",
       "      <th>Rotten Tomatoes Audience %</th>\n",
       "      <th>Metacritic Audience %</th>\n",
       "      <th>Rotten Tomatoes vs Metacritic % deviance</th>\n",
       "      <th>Average audience %</th>\n",
       "      <th>Audience vs Critics deviance %</th>\n",
       "      <th>Primary Genre</th>\n",
       "      <th>...</th>\n",
       "      <th>Worldwide Gross</th>\n",
       "      <th>Worldwide Gross ($million)</th>\n",
       "      <th>% of Gross earned abroad</th>\n",
       "      <th>Budget ($million)</th>\n",
       "      <th>% Budget recovered</th>\n",
       "      <th>% Budget recovered opening weekend</th>\n",
       "      <th>Year</th>\n",
       "      <th>Oscar Winners</th>\n",
       "      <th>Oscar Detail</th>\n",
       "      <th>Link</th>\n",
       "    </tr>\n",
       "  </thead>\n",
       "  <tbody>\n",
       "    <tr>\n",
       "      <th>0</th>\n",
       "      <td>7 Days in Entebbe</td>\n",
       "      <td>26.0</td>\n",
       "      <td>49</td>\n",
       "      <td>38</td>\n",
       "      <td>39.0</td>\n",
       "      <td>59</td>\n",
       "      <td>-20</td>\n",
       "      <td>49</td>\n",
       "      <td>-12</td>\n",
       "      <td>Thriller</td>\n",
       "      <td>...</td>\n",
       "      <td>8,654,768</td>\n",
       "      <td>87</td>\n",
       "      <td>63.15%</td>\n",
       "      <td>-</td>\n",
       "      <td>NaN</td>\n",
       "      <td>-</td>\n",
       "      <td>2018</td>\n",
       "      <td>NaN</td>\n",
       "      <td>NaN</td>\n",
       "      <td>https://www.amazon.com/7-Days-Entebbe-Daniel-B...</td>\n",
       "    </tr>\n",
       "    <tr>\n",
       "      <th>1</th>\n",
       "      <td>A Simple Favor</td>\n",
       "      <td>85.0</td>\n",
       "      <td>67</td>\n",
       "      <td>76</td>\n",
       "      <td>77.0</td>\n",
       "      <td>70</td>\n",
       "      <td>7</td>\n",
       "      <td>73.5</td>\n",
       "      <td>3</td>\n",
       "      <td>Thriller</td>\n",
       "      <td>...</td>\n",
       "      <td>94,833,600</td>\n",
       "      <td>948</td>\n",
       "      <td>43.53%</td>\n",
       "      <td>20</td>\n",
       "      <td>NaN</td>\n",
       "      <td>-</td>\n",
       "      <td>2018</td>\n",
       "      <td>NaN</td>\n",
       "      <td>NaN</td>\n",
       "      <td>https://www.amazon.com/Simple-Favor-Anna-Kendr...</td>\n",
       "    </tr>\n",
       "    <tr>\n",
       "      <th>2</th>\n",
       "      <td>Aquaman</td>\n",
       "      <td>65.0</td>\n",
       "      <td>55</td>\n",
       "      <td>60</td>\n",
       "      <td>80.0</td>\n",
       "      <td>73</td>\n",
       "      <td>7</td>\n",
       "      <td>76.5</td>\n",
       "      <td>-17</td>\n",
       "      <td>Action</td>\n",
       "      <td>...</td>\n",
       "      <td>940,720,880</td>\n",
       "      <td>941</td>\n",
       "      <td>72.39%</td>\n",
       "      <td>160</td>\n",
       "      <td>NaN</td>\n",
       "      <td>-</td>\n",
       "      <td>2018</td>\n",
       "      <td>NaN</td>\n",
       "      <td>NaN</td>\n",
       "      <td>-</td>\n",
       "    </tr>\n",
       "    <tr>\n",
       "      <th>3</th>\n",
       "      <td>Bad Samaritan</td>\n",
       "      <td>54.0</td>\n",
       "      <td>42</td>\n",
       "      <td>48</td>\n",
       "      <td>73.0</td>\n",
       "      <td>65</td>\n",
       "      <td>8</td>\n",
       "      <td>69</td>\n",
       "      <td>-21</td>\n",
       "      <td>Thriller</td>\n",
       "      <td>...</td>\n",
       "      <td>3,424,744</td>\n",
       "      <td>34</td>\n",
       "      <td>0</td>\n",
       "      <td>-</td>\n",
       "      <td>NaN</td>\n",
       "      <td>-</td>\n",
       "      <td>2018</td>\n",
       "      <td>NaN</td>\n",
       "      <td>NaN</td>\n",
       "      <td>https://www.amazon.com/Bad-Samaritan-David-Ten...</td>\n",
       "    </tr>\n",
       "    <tr>\n",
       "      <th>4</th>\n",
       "      <td>Beatriz At Dinner</td>\n",
       "      <td>75.0</td>\n",
       "      <td>68</td>\n",
       "      <td>72</td>\n",
       "      <td>56.0</td>\n",
       "      <td>52</td>\n",
       "      <td>4</td>\n",
       "      <td>54</td>\n",
       "      <td>18</td>\n",
       "      <td>comedy</td>\n",
       "      <td>...</td>\n",
       "      <td>7,115,854</td>\n",
       "      <td>7</td>\n",
       "      <td>0.00%</td>\n",
       "      <td>-</td>\n",
       "      <td>NaN</td>\n",
       "      <td>-</td>\n",
       "      <td>2017</td>\n",
       "      <td>NaN</td>\n",
       "      <td>NaN</td>\n",
       "      <td>https://www.amazon.co.uk/Dinner-Steve-Coogan/d...</td>\n",
       "    </tr>\n",
       "  </tbody>\n",
       "</table>\n",
       "<p>5 rows × 34 columns</p>\n",
       "</div>"
      ],
      "text/plain": [
       "                Film  Rotten Tomatoes % critics Metacritic % critics  \\\n",
       "0  7 Days in Entebbe                       26.0                   49   \n",
       "1     A Simple Favor                       85.0                   67   \n",
       "2           Aquaman                        65.0                   55   \n",
       "3      Bad Samaritan                       54.0                   42   \n",
       "4  Beatriz At Dinner                       75.0                   68   \n",
       "\n",
       "  Average critics %  Rotten Tomatoes Audience % Metacritic Audience %  \\\n",
       "0                38                        39.0                    59   \n",
       "1                76                        77.0                    70   \n",
       "2                60                        80.0                    73   \n",
       "3                48                        73.0                    65   \n",
       "4                72                        56.0                    52   \n",
       "\n",
       "  Rotten Tomatoes vs Metacritic % deviance Average audience %  \\\n",
       "0                                      -20                 49   \n",
       "1                                        7               73.5   \n",
       "2                                        7               76.5   \n",
       "3                                        8                 69   \n",
       "4                                        4                 54   \n",
       "\n",
       "  Audience vs Critics deviance % Primary Genre  ... Worldwide Gross  \\\n",
       "0                            -12      Thriller  ...       8,654,768   \n",
       "1                              3      Thriller  ...      94,833,600   \n",
       "2                            -17        Action  ...     940,720,880   \n",
       "3                            -21      Thriller  ...       3,424,744   \n",
       "4                             18        comedy  ...       7,115,854   \n",
       "\n",
       "  Worldwide Gross ($million) % of Gross earned abroad Budget ($million)  \\\n",
       "0                         87                   63.15%                 -   \n",
       "1                        948                   43.53%                20   \n",
       "2                        941                   72.39%               160   \n",
       "3                         34                        0                 -   \n",
       "4                          7                    0.00%                 -   \n",
       "\n",
       "  % Budget recovered % Budget recovered opening weekend  Year Oscar Winners  \\\n",
       "0                NaN                                  -  2018           NaN   \n",
       "1                NaN                                  -  2018           NaN   \n",
       "2                NaN                                  -  2018           NaN   \n",
       "3                NaN                                  -  2018           NaN   \n",
       "4                NaN                                  -  2017           NaN   \n",
       "\n",
       "   Oscar Detail                                               Link  \n",
       "0           NaN  https://www.amazon.com/7-Days-Entebbe-Daniel-B...  \n",
       "1           NaN  https://www.amazon.com/Simple-Favor-Anna-Kendr...  \n",
       "2           NaN                                                  -  \n",
       "3           NaN  https://www.amazon.com/Bad-Samaritan-David-Ten...  \n",
       "4           NaN  https://www.amazon.co.uk/Dinner-Steve-Coogan/d...  \n",
       "\n",
       "[5 rows x 34 columns]"
      ]
     },
     "execution_count": 166,
     "metadata": {},
     "output_type": "execute_result"
    }
   ],
   "source": [
    "hollywood_df.head(5)"
   ]
  },
  {
   "cell_type": "code",
   "execution_count": 167,
   "id": "db3971dc",
   "metadata": {
    "scrolled": true
   },
   "outputs": [
    {
     "name": "stdout",
     "output_type": "stream",
     "text": [
      "<class 'pandas.core.frame.DataFrame'>\n",
      "RangeIndex: 1694 entries, 0 to 1693\n",
      "Data columns (total 34 columns):\n",
      " #   Column                                    Non-Null Count  Dtype  \n",
      "---  ------                                    --------------  -----  \n",
      " 0   Film                                      1694 non-null   object \n",
      " 1   Rotten Tomatoes % critics                 1693 non-null   float64\n",
      " 2   Metacritic % critics                      1694 non-null   object \n",
      " 3   Average critics %                         1694 non-null   object \n",
      " 4   Rotten Tomatoes Audience %                1693 non-null   float64\n",
      " 5   Metacritic Audience %                     1694 non-null   object \n",
      " 6   Rotten Tomatoes vs Metacritic % deviance  1694 non-null   object \n",
      " 7   Average audience %                        1694 non-null   object \n",
      " 8   Audience vs Critics deviance %            1694 non-null   object \n",
      " 9   Primary Genre                             1694 non-null   object \n",
      " 10  Genres                                    948 non-null    object \n",
      " 11  Genres.1                                  453 non-null    object \n",
      " 12  Genres.2                                  104 non-null    object \n",
      " 13  Genres.3                                  44 non-null     object \n",
      " 14  Genres.4                                  16 non-null     object \n",
      " 15  Genres.5                                  2 non-null      object \n",
      " 16  Genres.6                                  2 non-null      object \n",
      " 17  Script Type                               1694 non-null   object \n",
      " 18  Opening weekend ($million)                1694 non-null   float64\n",
      " 19  Opening Weekend                           1694 non-null   object \n",
      " 20  Domestic gross ($million)                 1693 non-null   float64\n",
      " 21  Domestic Gross                            1694 non-null   object \n",
      " 22  Foreign Gross ($million)                  1694 non-null   float64\n",
      " 23  Foreign Gross                             1694 non-null   object \n",
      " 24  Worldwide Gross                           1694 non-null   object \n",
      " 25  Worldwide Gross ($million)                1694 non-null   object \n",
      " 26  % of Gross earned abroad                  1694 non-null   object \n",
      " 27  Budget ($million)                         1694 non-null   object \n",
      " 28  % Budget recovered                        1667 non-null   object \n",
      " 29  % Budget recovered opening weekend        1694 non-null   object \n",
      " 30  Year                                      1694 non-null   int64  \n",
      " 31  Oscar Winners                             56 non-null     object \n",
      " 32  Oscar Detail                              55 non-null     object \n",
      " 33  Link                                      1687 non-null   object \n",
      "dtypes: float64(5), int64(1), object(28)\n",
      "memory usage: 450.1+ KB\n"
     ]
    }
   ],
   "source": [
    "hollywood_df.info()"
   ]
  },
  {
   "cell_type": "code",
   "execution_count": 168,
   "id": "035e508d",
   "metadata": {},
   "outputs": [
    {
     "name": "stdout",
     "output_type": "stream",
     "text": [
      "<class 'pandas.core.frame.DataFrame'>\n",
      "RangeIndex: 1694 entries, 0 to 1693\n",
      "Data columns (total 17 columns):\n",
      " #   Column                      Non-Null Count  Dtype  \n",
      "---  ------                      --------------  -----  \n",
      " 0   Rotten Tomatoes Audience %  1693 non-null   float64\n",
      " 1   Metacritic Audience %       1694 non-null   object \n",
      " 2   Average audience %          1694 non-null   object \n",
      " 3   Primary Genre               1694 non-null   object \n",
      " 4   Genres                      948 non-null    object \n",
      " 5   Genres.1                    453 non-null    object \n",
      " 6   Genres.2                    104 non-null    object \n",
      " 7   Genres.3                    44 non-null     object \n",
      " 8   Genres.4                    16 non-null     object \n",
      " 9   Genres.5                    2 non-null      object \n",
      " 10  Genres.6                    2 non-null      object \n",
      " 11  Domestic gross ($million)   1693 non-null   float64\n",
      " 12  Foreign Gross ($million)    1694 non-null   float64\n",
      " 13  Worldwide Gross ($million)  1694 non-null   object \n",
      " 14  Budget ($million)           1694 non-null   object \n",
      " 15  % Budget recovered          1667 non-null   object \n",
      " 16  Year                        1694 non-null   int64  \n",
      "dtypes: float64(3), int64(1), object(13)\n",
      "memory usage: 225.1+ KB\n"
     ]
    }
   ],
   "source": [
    "# drop extra columns \n",
    "hollywood_df1 = hollywood_df.drop(hollywood_df.columns[[0,1,2,3,6,8,17,18,19,21,23,24,26,29,31,32,33]],axis = 1)\n",
    "hollywood_df1.info()"
   ]
  },
  {
   "cell_type": "code",
   "execution_count": 169,
   "id": "09305173",
   "metadata": {
    "scrolled": true
   },
   "outputs": [
    {
     "name": "stdout",
     "output_type": "stream",
     "text": [
      "Rotten Tomatoes Audience %    float64\n",
      "Metacritic Audience %         float64\n",
      "Average audience %            float64\n",
      "Primary Genre                  object\n",
      "Genres                         object\n",
      "Genres.1                       object\n",
      "Genres.2                       object\n",
      "Genres.3                       object\n",
      "Genres.4                       object\n",
      "Genres.5                       object\n",
      "Genres.6                       object\n",
      "Domestic gross ($million)     float64\n",
      "Foreign Gross ($million)      float64\n",
      "Worldwide Gross ($million)    float64\n",
      "Budget ($million)             float64\n",
      "% Budget recovered             object\n",
      "Year                            int64\n",
      "dtype: object\n"
     ]
    }
   ],
   "source": [
    "# convert object columns to floats for analysis\n",
    "\n",
    "hollywood_df1[\"Metacritic Audience %\"] = hollywood_df1[\"Metacritic Audience %\"].str.replace('–','-').str.replace(r'^-$', '0', regex=True).astype(float)\n",
    "hollywood_df1[\"Worldwide Gross ($million)\"] = hollywood_df1[\"Worldwide Gross ($million)\"].str.replace(',', '.').str.replace(r'^-$', '0', regex=True).astype(float)\n",
    "hollywood_df1[\"Budget ($million)\"] = hollywood_df1[\"Budget ($million)\"].str.replace('–','-').str.replace(r'^-$', '0', regex=True).astype(float)\n",
    "print(hollywood_df1.dtypes)"
   ]
  },
  {
   "cell_type": "code",
   "execution_count": null,
   "id": "7907ad63",
   "metadata": {},
   "outputs": [],
   "source": []
  },
  {
   "cell_type": "code",
   "execution_count": null,
   "id": "2e17c3e4",
   "metadata": {},
   "outputs": [],
   "source": []
  },
  {
   "cell_type": "code",
   "execution_count": null,
   "id": "130397c4",
   "metadata": {},
   "outputs": [],
   "source": []
  },
  {
   "cell_type": "code",
   "execution_count": null,
   "id": "8b15d20f",
   "metadata": {},
   "outputs": [],
   "source": []
  },
  {
   "cell_type": "code",
   "execution_count": null,
   "id": "34d74abd",
   "metadata": {},
   "outputs": [],
   "source": []
  },
  {
   "cell_type": "code",
   "execution_count": 4,
   "id": "a8647c37",
   "metadata": {
    "scrolled": true
   },
   "outputs": [],
   "source": [
    "#top500movies_df1.head(5)"
   ]
  },
  {
   "cell_type": "code",
   "execution_count": null,
   "id": "0befe143",
   "metadata": {},
   "outputs": [],
   "source": []
  },
  {
   "cell_type": "code",
   "execution_count": 173,
   "id": "9d8ca01c",
   "metadata": {},
   "outputs": [],
   "source": [
    "# explore data sets"
   ]
  },
  {
   "cell_type": "code",
   "execution_count": 174,
   "id": "2b051f28",
   "metadata": {
    "scrolled": true
   },
   "outputs": [
    {
     "data": {
      "text/plain": [
       " adventure      134\n",
       " comedy         104\n",
       " romance        101\n",
       " thriller        84\n",
       " crime           55\n",
       " drama           47\n",
       " Drama           40\n",
       " Adventure       34\n",
       " fantasy         33\n",
       " sci-fi          32\n",
       " mystery         31\n",
       " family          31\n",
       " Comedy          28\n",
       " horror          25\n",
       " action          21\n",
       " Suspense        19\n",
       " Thriller        17\n",
       " history         13\n",
       " music            9\n",
       " Sci-Fi           9\n",
       " sport            9\n",
       " Fantasy          8\n",
       " Horror           7\n",
       " war              7\n",
       " biography        5\n",
       " Romance          5\n",
       " western          4\n",
       " musical          3\n",
       " Mystery          3\n",
       " Action           3\n",
       " History          3\n",
       " Music            2\n",
       " music            2\n",
       " Crime            2\n",
       " Biography        2\n",
       " Sport            2\n",
       " War              1\n",
       " adventure        1\n",
       " Animation        1\n",
       " crime            1\n",
       " mystery          1\n",
       " comedy           1\n",
       " thriller         1\n",
       " animation        1\n",
       " sci-fi           1\n",
       " Family           1\n",
       " comedy           1\n",
       " family           1\n",
       " sci-fi           1\n",
       " fantasy          1\n",
       "Name: Genres, dtype: int64"
      ]
     },
     "execution_count": 174,
     "metadata": {},
     "output_type": "execute_result"
    }
   ],
   "source": [
    "# frequencies of genres, years and ratings\n",
    "\n",
    "hollywood_df1.Genres.value_counts()"
   ]
  },
  {
   "cell_type": "code",
   "execution_count": 175,
   "id": "b8cf7372",
   "metadata": {},
   "outputs": [
    {
     "data": {
      "text/plain": [
       "2018    158\n",
       "2016    155\n",
       "2008    146\n",
       "2019    145\n",
       "2017    144\n",
       "2011    139\n",
       "2009    136\n",
       "2010    136\n",
       "2015    124\n",
       "2013    112\n",
       "2014    109\n",
       "2012    101\n",
       "2007     89\n",
       "Name: Year, dtype: int64"
      ]
     },
     "execution_count": 175,
     "metadata": {},
     "output_type": "execute_result"
    }
   ],
   "source": [
    "hollywood_df1.Year.value_counts()\n",
    "# only have movies from 2007 to 2018, ONLY 11 YEARS"
   ]
  },
  {
   "cell_type": "code",
   "execution_count": 1,
   "id": "bd4d17e2",
   "metadata": {},
   "outputs": [],
   "source": [
    "#top500movies_df1.year.value_counts()\n",
    "# has less movies that the hollywood df but a wider range of realease years"
   ]
  },
  {
   "cell_type": "code",
   "execution_count": 2,
   "id": "671ee43e",
   "metadata": {},
   "outputs": [],
   "source": [
    "#top500movies_df1.decade.value_counts()"
   ]
  },
  {
   "cell_type": "code",
   "execution_count": 178,
   "id": "7c9042f5",
   "metadata": {},
   "outputs": [
    {
     "data": {
      "text/plain": [
       "count    1694.000000\n",
       "mean       54.829407\n",
       "std        56.451925\n",
       "min         0.000000\n",
       "25%        17.000000\n",
       "50%        35.000000\n",
       "75%        73.750000\n",
       "max       356.000000\n",
       "Name: Budget ($million), dtype: float64"
      ]
     },
     "execution_count": 178,
     "metadata": {},
     "output_type": "execute_result"
    }
   ],
   "source": [
    "hollywood_df1['Budget ($million)'].describe()"
   ]
  },
  {
   "cell_type": "code",
   "execution_count": 3,
   "id": "056f3a1a",
   "metadata": {},
   "outputs": [],
   "source": [
    "#top500movies_df1['budget (m)'].describe()"
   ]
  },
  {
   "cell_type": "code",
   "execution_count": 180,
   "id": "af033522",
   "metadata": {},
   "outputs": [
    {
     "name": "stderr",
     "output_type": "stream",
     "text": [
      "C:\\Users\\ifranklin\\AppData\\Local\\Temp\\ipykernel_10208\\819572696.py:1: FutureWarning: The default value of numeric_only in DataFrame.mean is deprecated. In a future version, it will default to False. In addition, specifying 'numeric_only=None' is deprecated. Select only valid columns or specify the value of numeric_only to silence this warning.\n",
      "  hollywood_df1.mean()\n"
     ]
    },
    {
     "data": {
      "text/plain": [
       "Rotten Tomatoes Audience %      63.368576\n",
       "Metacritic Audience %           62.446871\n",
       "Average audience %              62.767414\n",
       "Domestic gross ($million)       73.022741\n",
       "Foreign Gross ($million)       105.324026\n",
       "Worldwide Gross ($million)     163.880769\n",
       "Budget ($million)               54.829407\n",
       "% Budget recovered              12.392675\n",
       "Year                          2013.273318\n",
       "dtype: float64"
      ]
     },
     "execution_count": 180,
     "metadata": {},
     "output_type": "execute_result"
    }
   ],
   "source": [
    "hollywood_df1.mean()"
   ]
  },
  {
   "cell_type": "code",
   "execution_count": 181,
   "id": "ad413679",
   "metadata": {},
   "outputs": [
    {
     "name": "stderr",
     "output_type": "stream",
     "text": [
      "C:\\Users\\ifranklin\\AppData\\Local\\Temp\\ipykernel_10208\\468046735.py:1: FutureWarning: The default value of numeric_only in DataFrame.mean is deprecated. In a future version, it will default to False. In addition, specifying 'numeric_only=None' is deprecated. Select only valid columns or specify the value of numeric_only to silence this warning.\n",
      "  top500movies_df1.mean()\n"
     ]
    },
    {
     "data": {
      "text/plain": [
       "budget (m)                   108.073235\n",
       "domestic gross (m)           202.967742\n",
       "international gross (m)      413.763441\n",
       "worldwide gross (m)          531.648387\n",
       "x times budget recovered      36.069713\n",
       "year                        2009.568100\n",
       "dtype: float64"
      ]
     },
     "execution_count": 181,
     "metadata": {},
     "output_type": "execute_result"
    }
   ],
   "source": [
    "top500movies_df1.mean()"
   ]
  },
  {
   "cell_type": "markdown",
   "id": "755bbdac",
   "metadata": {},
   "source": [
    "---"
   ]
  },
  {
   "cell_type": "code",
   "execution_count": 182,
   "id": "11f2e2f0",
   "metadata": {},
   "outputs": [],
   "source": [
    "# Question 2 set up\n",
    "\n",
    "# Does a movies Rating or Genre influence a movies profitability?\n",
    "\n",
    "##     data=hollywood_df\n",
    "##     IV - Average audience %, continuous, object '73.5'\n",
    "##     IV - Genres, categorical, objects 'Animation'\n",
    "##     IV - Years,  continuous, int '2018'\n",
    "##     DV - % Budget recovered, continuous, object '20.32%'\n",
    "\n",
    "## This looks like its fits for a Factorial ANOVA, lets wrangle the data and then test the assumptions to find out."
   ]
  },
  {
   "cell_type": "code",
   "execution_count": 183,
   "id": "ea1fa8e8",
   "metadata": {},
   "outputs": [],
   "source": [
    "# data wrangling \n",
    "\n",
    "# create copy with just ratings, genres, budget recovered and year columns\n"
   ]
  },
  {
   "cell_type": "code",
   "execution_count": null,
   "id": "b8bab08c",
   "metadata": {},
   "outputs": [],
   "source": []
  },
  {
   "cell_type": "markdown",
   "id": "273e2cf4",
   "metadata": {},
   "source": [
    "---"
   ]
  },
  {
   "cell_type": "code",
   "execution_count": null,
   "id": "5db2136c",
   "metadata": {},
   "outputs": [],
   "source": []
  },
  {
   "cell_type": "code",
   "execution_count": null,
   "id": "e6628426",
   "metadata": {},
   "outputs": [],
   "source": []
  },
  {
   "cell_type": "code",
   "execution_count": 187,
   "id": "3894e6f2",
   "metadata": {},
   "outputs": [],
   "source": [
    "# Test for Homogeneity of Variance"
   ]
  },
  {
   "cell_type": "code",
   "execution_count": 188,
   "id": "f1ee8482",
   "metadata": {},
   "outputs": [],
   "source": [
    "# Sample Size"
   ]
  },
  {
   "cell_type": "code",
   "execution_count": 189,
   "id": "9c1129e2",
   "metadata": {},
   "outputs": [],
   "source": [
    "# Test for Independence"
   ]
  },
  {
   "cell_type": "code",
   "execution_count": 190,
   "id": "ad2087ad",
   "metadata": {},
   "outputs": [],
   "source": [
    "# "
   ]
  },
  {
   "cell_type": "code",
   "execution_count": null,
   "id": "b078a218",
   "metadata": {},
   "outputs": [],
   "source": []
  }
 ],
 "metadata": {
  "kernelspec": {
   "display_name": "Python 3 (ipykernel)",
   "language": "python",
   "name": "python3"
  },
  "language_info": {
   "codemirror_mode": {
    "name": "ipython",
    "version": 3
   },
   "file_extension": ".py",
   "mimetype": "text/x-python",
   "name": "python",
   "nbconvert_exporter": "python",
   "pygments_lexer": "ipython3",
   "version": "3.10.8"
  }
 },
 "nbformat": 4,
 "nbformat_minor": 5
}
