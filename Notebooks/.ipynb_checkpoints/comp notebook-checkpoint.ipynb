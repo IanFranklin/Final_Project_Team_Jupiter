{
 "cells": [
  {
   "cell_type": "code",
   "execution_count": 3,
   "id": "27c63ae9",
   "metadata": {},
   "outputs": [],
   "source": [
    "# What is the Purpose of your Analyses?\n",
    "\n",
    "## I want to see what affects a movies success the most, \n",
    "\n",
    "# I grew up staying up late night to watch re-runs of old black and white movies in the dark in my room, placements and dinner \n",
    "# on the living room floor 5ft from the screen watching movies with the entire family. So close in case we need to \n",
    "# pause on the VCR player for emergency bathroom breaks.\n",
    "\n",
    "## movie stats\n",
    "\n",
    "\n",
    "# I love fantasy and comedy movies, & those can range from super low budget cult classics (Clerks) to big budget disasters (Waterworld).\n",
    "# I want to see how a movies budget or genre can affect how well it preformed at the box office. \n"
   ]
  },
  {
   "cell_type": "code",
   "execution_count": null,
   "id": "d3b958e7",
   "metadata": {},
   "outputs": [],
   "source": [
    "# Questions to ask the data\n",
    "\n",
    "##     Main Data Analysis Questions\n",
    "\n",
    "### 1. Does a movies budget influence box office success?   \n",
    "###     (budget - IV, continuous) (worldwide gross adjusted for inflation - DV, continuous)\n",
    "###     Linear Regression analysis\n",
    "\n",
    "### 2. Does a movies rating or genre influence % of budget recovered (how profitable a movie is)?\n",
    "###     (rating & genres - IV, category) (% of budget recovered - DV, continuous) ANOVA analysis\n",
    "###     (rating & genres - IV, category) (% of budget recovered - DV, continuous) MANOVA analysis\n",
    "\n",
    "##     Supplemental Questions\n",
    "### How well does comedy and fantasy genres fair against action, horror or other most common genres?\n",
    "### Does the top rated genre change by over time? Does the most profitable genre change over time?\n",
    "### Are movies more profitable now (2010-2020's) compared to when I was a child (1980-1990's)?  or by decades\n",
    "### What are the most common genre tags for the top 100?"
   ]
  },
  {
   "cell_type": "markdown",
   "id": "4559bc9e",
   "metadata": {},
   "source": [
    "---"
   ]
  },
  {
   "cell_type": "code",
   "execution_count": 4,
   "id": "9cb7a5bd",
   "metadata": {},
   "outputs": [],
   "source": [
    "# Describing Data\n",
    "\n",
    "# I have 2 dataframes: , & top500movies_df1\n",
    "\n",
    "## hollywood Insider \n",
    "## contains \n",
    "## \n",
    "## \n",
    "## \n",
    "\n",
    "\n",
    "\n",
    "## top500movies_df1\n",
    "## contains budget, worldwide gross (domestic and international), title, year/decade of release, % of budget recovered\n",
    "## 558 movies from 1973 to 2022\n",
    "## min budget of 0.015 mil ($15,000) to max of 379 million\n"
   ]
  },
  {
   "cell_type": "markdown",
   "id": "095417fe",
   "metadata": {},
   "source": [
    "---"
   ]
  },
  {
   "cell_type": "code",
   "execution_count": 6,
   "id": "d61dffbd",
   "metadata": {},
   "outputs": [],
   "source": [
    "# Question 1 \n",
    "\n",
    "### 1. Does a movies budget influence box office success?   \n",
    "###     (budget - IV, continuous) (worldwide gross adjusted for inflation - DV, continuous)\n",
    "###     Linear Regression analysis\n",
    "\n",
    "\n",
    "## Assumptions\n",
    "\n",
    "## does not appear to be normally distributed, look at domestic gross as well\n",
    "## the scatter plot does appear to become slighlty more linear\n",
    "\n",
    "## the budget distribution plot look rougly even, Worldwide & Domestic are skewed slightly positive\n",
    "## When Domestic is transformed using the square root function to correct of the positive skew it becomes normal.\n",
    "\n",
    "## Both test come back still show that the data violates the assumption of homoscedasticity.\n",
    "## Still violated the assumption of homoscedasticity after trying a Box-Cox transformation\n",
    "\n",
    "## Worldwide & Domestic gross are strongly correlated, \n",
    "## but it appears that year and 'X times budget recovered' amount is not correlated with budget.\n",
    "\n",
    "## We won't drop outliers as we belive the data to be accurate and is representative of the real world situation\n",
    "\n"
   ]
  },
  {
   "cell_type": "code",
   "execution_count": 1,
   "id": "552c9461",
   "metadata": {},
   "outputs": [],
   "source": [
    "# Question 2"
   ]
  },
  {
   "cell_type": "markdown",
   "id": "ae4bfe09",
   "metadata": {},
   "source": [
    "---"
   ]
  },
  {
   "cell_type": "code",
   "execution_count": 9,
   "id": "d9ed2527",
   "metadata": {},
   "outputs": [],
   "source": [
    "# Making Associations with Data\n",
    "\n",
    "##"
   ]
  },
  {
   "cell_type": "code",
   "execution_count": null,
   "id": "f293946e",
   "metadata": {},
   "outputs": [],
   "source": []
  }
 ],
 "metadata": {
  "kernelspec": {
   "display_name": "Python 3 (ipykernel)",
   "language": "python",
   "name": "python3"
  },
  "language_info": {
   "codemirror_mode": {
    "name": "ipython",
    "version": 3
   },
   "file_extension": ".py",
   "mimetype": "text/x-python",
   "name": "python",
   "nbconvert_exporter": "python",
   "pygments_lexer": "ipython3",
   "version": "3.10.8"
  }
 },
 "nbformat": 4,
 "nbformat_minor": 5
}
