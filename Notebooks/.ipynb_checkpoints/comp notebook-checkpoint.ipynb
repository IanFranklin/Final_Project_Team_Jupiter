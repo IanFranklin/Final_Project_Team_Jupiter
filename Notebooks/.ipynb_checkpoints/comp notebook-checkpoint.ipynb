{
 "cells": [
  {
   "cell_type": "code",
   "execution_count": 3,
   "id": "27c63ae9",
   "metadata": {},
   "outputs": [],
   "source": [
    "# What is the Purpose of your Analyses?\n",
    "\n",
    "## I want to see what affects a movies success the most, \n",
    "## I will define success in 3 ways: \n",
    "##                            1 Most profitable movie (% of budget recovered), \n",
    "##                            2 Most tickets/sales (worldwide gross adjusted for inflation)\n",
    "##                            3 Highest Rated movies (user reviews)\n",
    "\n",
    "# I love fantasy and comedy movies,\n",
    "# those can range from super low budget cult classics (Clerks) to big budget disasters (Waterworld).\n",
    "# How does these genres fair against action, horror or other most common genres."
   ]
  },
  {
   "cell_type": "markdown",
   "id": "4559bc9e",
   "metadata": {},
   "source": [
    "---"
   ]
  },
  {
   "cell_type": "code",
   "execution_count": 4,
   "id": "9cb7a5bd",
   "metadata": {},
   "outputs": [],
   "source": [
    "# Describing Data\n",
    "\n",
    "##"
   ]
  },
  {
   "cell_type": "code",
   "execution_count": 5,
   "id": "f57debfa",
   "metadata": {},
   "outputs": [
    {
     "ename": "SyntaxError",
     "evalue": "invalid syntax (1947214667.py, line 1)",
     "output_type": "error",
     "traceback": [
      "\u001b[1;36m  Cell \u001b[1;32mIn [5], line 1\u001b[1;36m\u001b[0m\n\u001b[1;33m    ---\u001b[0m\n\u001b[1;37m       ^\u001b[0m\n\u001b[1;31mSyntaxError\u001b[0m\u001b[1;31m:\u001b[0m invalid syntax\n"
     ]
    }
   ],
   "source": [
    "---"
   ]
  },
  {
   "cell_type": "code",
   "execution_count": 6,
   "id": "d61dffbd",
   "metadata": {},
   "outputs": [],
   "source": [
    "# Drawing Conclusions from Data\n",
    "\n",
    "##"
   ]
  },
  {
   "cell_type": "code",
   "execution_count": 7,
   "id": "ac75c56f",
   "metadata": {},
   "outputs": [
    {
     "ename": "SyntaxError",
     "evalue": "invalid syntax (1947214667.py, line 1)",
     "output_type": "error",
     "traceback": [
      "\u001b[1;36m  Cell \u001b[1;32mIn [7], line 1\u001b[1;36m\u001b[0m\n\u001b[1;33m    ---\u001b[0m\n\u001b[1;37m       ^\u001b[0m\n\u001b[1;31mSyntaxError\u001b[0m\u001b[1;31m:\u001b[0m invalid syntax\n"
     ]
    }
   ],
   "source": [
    "---"
   ]
  },
  {
   "cell_type": "code",
   "execution_count": 9,
   "id": "d9ed2527",
   "metadata": {},
   "outputs": [],
   "source": [
    "# Making Associations with Data\n",
    "\n",
    "##"
   ]
  },
  {
   "cell_type": "code",
   "execution_count": null,
   "id": "f293946e",
   "metadata": {},
   "outputs": [],
   "source": []
  }
 ],
 "metadata": {
  "kernelspec": {
   "display_name": "Python 3 (ipykernel)",
   "language": "python",
   "name": "python3"
  },
  "language_info": {
   "codemirror_mode": {
    "name": "ipython",
    "version": 3
   },
   "file_extension": ".py",
   "mimetype": "text/x-python",
   "name": "python",
   "nbconvert_exporter": "python",
   "pygments_lexer": "ipython3",
   "version": "3.10.8"
  }
 },
 "nbformat": 4,
 "nbformat_minor": 5
}
