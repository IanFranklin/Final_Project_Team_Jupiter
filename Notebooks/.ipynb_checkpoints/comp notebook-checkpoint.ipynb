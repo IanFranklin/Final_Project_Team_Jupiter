{
 "cells": [
  {
   "cell_type": "code",
   "execution_count": 3,
   "id": "27c63ae9",
   "metadata": {},
   "outputs": [],
   "source": [
    "# What is the Purpose of your Analyses?\n",
    "\n",
    "## I want to see what affects a movies success the most, \n",
    "## I will define success in 3 ways: \n",
    "##                            1 Most profitable movie (% of budget recovered), \n",
    "##                            2 Most tickets/sales (worldwide gross adjusted for inflation)\n",
    "##                            3 Highest Rated movies (user reviews)\n",
    "\n",
    "# I grew up staying up late night to watch re-runs of old black and white movies in the dark in my room, placements and dinner \n",
    "# on the living room floor 5ft from the screen watching movies with the entire family. So close in case we need to \n",
    "# pause on the VCR player for emergency bathroom breaks.\n",
    "# I love fantasy and comedy movies, & those can range from super low budget cult classics (Clerks) to big budget disasters (Waterworld).\n",
    "# I want to see how a movies budget or genre can affect how well it preformed at the box office. \n"
   ]
  },
  {
   "cell_type": "code",
   "execution_count": null,
   "id": "d3b958e7",
   "metadata": {},
   "outputs": [],
   "source": [
    "# Questions to ask the data\n",
    "\n",
    "##     Main Data Analysis Questions\n",
    "\n",
    "### 1. Does a movies budget influence box office success?   \n",
    "###     (budget - IV, continuous) (worldwide gross adjusted for inflation - DV, continuous)\n",
    "###     Linear Regression analysis\n",
    "\n",
    "### 2. Does a movies rating or genre influence % of budget recovered (how profitable a movie is)?\n",
    "###     (rating & genres - IV, category) (% of budget recovered - DV, continuous)\n",
    "###     ANCOVA analysis\n",
    "\n",
    "##     Supplemental Questions\n",
    "### How well does comedy and fantasy genres fair against action, horror or other most common genres?\n",
    "### Does the top rated genre change by over time? Does the most profitable genre change over time?\n",
    "### Are movies more profitable now (2010-2020's) compared to when I was a child (1980-1990's)?  or by decades\n",
    "### What are the most common genre tags for the top 100?"
   ]
  },
  {
   "cell_type": "markdown",
   "id": "4559bc9e",
   "metadata": {},
   "source": [
    "---"
   ]
  },
  {
   "cell_type": "code",
   "execution_count": 4,
   "id": "9cb7a5bd",
   "metadata": {},
   "outputs": [],
   "source": [
    "# Describing Data\n",
    "\n",
    "# I have 3 dataframes: movie_ratings_df, yearbestmovie_df1, & top500movies_df1\n",
    "\n",
    "## movie_ratings_df is a merge of movies.csv and ratings.csv \n",
    "## contains userId, movieId, rating, title, 10 genre columns\n",
    "## list of ratings for 9719 unique movies by users (610)\n",
    "## ratings ie 4.0, scale of 0-5, lowest 0.5 highest 5.0, float64\n",
    "## each user has multiple movies rated, each movie can have up to 10 genre tags\n",
    "\n",
    "## yearbestmovie_df1\n",
    "## contains top rated movie of the year from 1950 to 2019\n",
    "## Title, IMDb Rating, Runtime (mins), Year, Genres, Num Votes, Release Date, Directors\n",
    "## IMDb Rating ie 7.8, scale of 0-10, lowest 6.5 highest 9.2, float64\n",
    "## Genres multiple tags per movie ie 'Biography, Crime, Drama', object\n",
    "## Release Date ie 2019-09-27, object \n",
    "\n",
    "## top500movies_df1\n",
    "## contains budget, worldwide gross (domestic and international), title, year/decade of release, % of budget recovered\n",
    "## 558 movies from 1973 to 2022\n",
    "## min budget of 0.015 mil ($15,000) to max of 379 million"
   ]
  },
  {
   "cell_type": "code",
   "execution_count": 5,
   "id": "f57debfa",
   "metadata": {},
   "outputs": [
    {
     "ename": "SyntaxError",
     "evalue": "invalid syntax (1947214667.py, line 1)",
     "output_type": "error",
     "traceback": [
      "\u001b[1;36m  Cell \u001b[1;32mIn [5], line 1\u001b[1;36m\u001b[0m\n\u001b[1;33m    ---\u001b[0m\n\u001b[1;37m       ^\u001b[0m\n\u001b[1;31mSyntaxError\u001b[0m\u001b[1;31m:\u001b[0m invalid syntax\n"
     ]
    }
   ],
   "source": [
    "---"
   ]
  },
  {
   "cell_type": "code",
   "execution_count": 6,
   "id": "d61dffbd",
   "metadata": {},
   "outputs": [],
   "source": [
    "# Drawing Conclusions from Data\n",
    "\n",
    "##"
   ]
  },
  {
   "cell_type": "code",
   "execution_count": 7,
   "id": "ac75c56f",
   "metadata": {},
   "outputs": [
    {
     "ename": "SyntaxError",
     "evalue": "invalid syntax (1947214667.py, line 1)",
     "output_type": "error",
     "traceback": [
      "\u001b[1;36m  Cell \u001b[1;32mIn [7], line 1\u001b[1;36m\u001b[0m\n\u001b[1;33m    ---\u001b[0m\n\u001b[1;37m       ^\u001b[0m\n\u001b[1;31mSyntaxError\u001b[0m\u001b[1;31m:\u001b[0m invalid syntax\n"
     ]
    }
   ],
   "source": [
    "---"
   ]
  },
  {
   "cell_type": "code",
   "execution_count": 9,
   "id": "d9ed2527",
   "metadata": {},
   "outputs": [],
   "source": [
    "# Making Associations with Data\n",
    "\n",
    "##"
   ]
  },
  {
   "cell_type": "code",
   "execution_count": null,
   "id": "f293946e",
   "metadata": {},
   "outputs": [],
   "source": []
  }
 ],
 "metadata": {
  "kernelspec": {
   "display_name": "Python 3 (ipykernel)",
   "language": "python",
   "name": "python3"
  },
  "language_info": {
   "codemirror_mode": {
    "name": "ipython",
    "version": 3
   },
   "file_extension": ".py",
   "mimetype": "text/x-python",
   "name": "python",
   "nbconvert_exporter": "python",
   "pygments_lexer": "ipython3",
   "version": "3.10.8"
  }
 },
 "nbformat": 4,
 "nbformat_minor": 5
}
