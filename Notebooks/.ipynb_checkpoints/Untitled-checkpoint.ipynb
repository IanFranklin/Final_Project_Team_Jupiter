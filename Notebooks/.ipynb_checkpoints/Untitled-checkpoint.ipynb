{
 "cells": [
  {
   "cell_type": "code",
   "execution_count": 1,
   "id": "32efdd5b",
   "metadata": {},
   "outputs": [],
   "source": [
    "# import in packages needed for the project\n",
    "\n",
    "import pandas as pd                 # to load in data\n",
    "import numpy as np                  # to transform data\n",
    "import matplotlib.pyplot as plt\n",
    "from pylab import *\n",
    "import seaborn as sns\n",
    "%matplotlib inline\n",
    "import  statsmodels.api as sm       # statsmodel packages to test for assumptions\n",
    "import statsmodels.stats.api as sms\n",
    "from statsmodels.formula.api import ols\n",
    "from statsmodels.stats.multicomp import pairwise_tukeyhsd\n",
    "from statsmodels.stats.multicomp import MultiComparison\n",
    "import scipy                        # scipy to run ANOVAs\n",
    "from scipy import stats \n",
    "from scipy.stats import boxcox\n",
    "import glob                         # to import,read and combine multiple csv files at once if needed\n",
    "import os"
   ]
  },
  {
   "cell_type": "code",
   "execution_count": 2,
   "id": "a2519c24",
   "metadata": {},
   "outputs": [],
   "source": [
    "hollywood_df = pd.read_csv(\"../Data/The Hollywood Insider - all data.csv\")"
   ]
  },
  {
   "cell_type": "code",
   "execution_count": 3,
   "id": "c7143aa8",
   "metadata": {},
   "outputs": [],
   "source": [
    "hollywoodVizdata = hollywood_df"
   ]
  },
  {
   "cell_type": "code",
   "execution_count": 4,
   "id": "5be242e5",
   "metadata": {
    "scrolled": true
   },
   "outputs": [
    {
     "data": {
      "text/html": [
       "<div>\n",
       "<style scoped>\n",
       "    .dataframe tbody tr th:only-of-type {\n",
       "        vertical-align: middle;\n",
       "    }\n",
       "\n",
       "    .dataframe tbody tr th {\n",
       "        vertical-align: top;\n",
       "    }\n",
       "\n",
       "    .dataframe thead th {\n",
       "        text-align: right;\n",
       "    }\n",
       "</style>\n",
       "<table border=\"1\" class=\"dataframe\">\n",
       "  <thead>\n",
       "    <tr style=\"text-align: right;\">\n",
       "      <th></th>\n",
       "      <th>Film</th>\n",
       "      <th>Rotten Tomatoes % critics</th>\n",
       "      <th>Metacritic % critics</th>\n",
       "      <th>Average critics %</th>\n",
       "      <th>Rotten Tomatoes Audience %</th>\n",
       "      <th>Metacritic Audience %</th>\n",
       "      <th>Rotten Tomatoes vs Metacritic % deviance</th>\n",
       "      <th>Average audience %</th>\n",
       "      <th>Audience vs Critics deviance %</th>\n",
       "      <th>Primary Genre</th>\n",
       "      <th>...</th>\n",
       "      <th>Worldwide Gross</th>\n",
       "      <th>Worldwide Gross ($million)</th>\n",
       "      <th>% of Gross earned abroad</th>\n",
       "      <th>Budget ($million)</th>\n",
       "      <th>% Budget recovered</th>\n",
       "      <th>% Budget recovered opening weekend</th>\n",
       "      <th>Year</th>\n",
       "      <th>Oscar Winners</th>\n",
       "      <th>Oscar Detail</th>\n",
       "      <th>Link</th>\n",
       "    </tr>\n",
       "  </thead>\n",
       "  <tbody>\n",
       "    <tr>\n",
       "      <th>0</th>\n",
       "      <td>9</td>\n",
       "      <td>57.0</td>\n",
       "      <td>60</td>\n",
       "      <td>58.5</td>\n",
       "      <td>58.0</td>\n",
       "      <td>67</td>\n",
       "      <td>-9</td>\n",
       "      <td>62.5</td>\n",
       "      <td>-4</td>\n",
       "      <td>animation</td>\n",
       "      <td>...</td>\n",
       "      <td>48,410,000</td>\n",
       "      <td>48</td>\n",
       "      <td>34.44%</td>\n",
       "      <td>30</td>\n",
       "      <td>161%</td>\n",
       "      <td>35.67%</td>\n",
       "      <td>2009</td>\n",
       "      <td>NaN</td>\n",
       "      <td>NaN</td>\n",
       "      <td>http://www.amazon.com/gp/product/B00JNK2T7A/?t...</td>\n",
       "    </tr>\n",
       "    <tr>\n",
       "      <th>1</th>\n",
       "      <td>21</td>\n",
       "      <td>35.0</td>\n",
       "      <td>48</td>\n",
       "      <td>41.5</td>\n",
       "      <td>73.0</td>\n",
       "      <td>62</td>\n",
       "      <td>11</td>\n",
       "      <td>67.5</td>\n",
       "      <td>-26</td>\n",
       "      <td>crime</td>\n",
       "      <td>...</td>\n",
       "      <td>157,930,000</td>\n",
       "      <td>158</td>\n",
       "      <td>48.61%</td>\n",
       "      <td>35</td>\n",
       "      <td>451%</td>\n",
       "      <td>68.86%</td>\n",
       "      <td>2008</td>\n",
       "      <td>NaN</td>\n",
       "      <td>NaN</td>\n",
       "      <td>http://www.amazon.com/gp/product/B001EMXS1Q/?t...</td>\n",
       "    </tr>\n",
       "    <tr>\n",
       "      <th>2</th>\n",
       "      <td>42</td>\n",
       "      <td>79.0</td>\n",
       "      <td>62</td>\n",
       "      <td>70.5</td>\n",
       "      <td>86.0</td>\n",
       "      <td>74</td>\n",
       "      <td>12</td>\n",
       "      <td>80</td>\n",
       "      <td>-9.5</td>\n",
       "      <td>Biography</td>\n",
       "      <td>...</td>\n",
       "      <td>95,021,108</td>\n",
       "      <td>95</td>\n",
       "      <td>942.37%</td>\n",
       "      <td>40</td>\n",
       "      <td>238%</td>\n",
       "      <td>68.72%</td>\n",
       "      <td>2013</td>\n",
       "      <td>NaN</td>\n",
       "      <td>NaN</td>\n",
       "      <td>http://www.amazon.com/gp/product/B00DYQW6EU/?t...</td>\n",
       "    </tr>\n",
       "    <tr>\n",
       "      <th>3</th>\n",
       "      <td>300</td>\n",
       "      <td>60.0</td>\n",
       "      <td>51</td>\n",
       "      <td>55.5</td>\n",
       "      <td>89.0</td>\n",
       "      <td>71</td>\n",
       "      <td>18</td>\n",
       "      <td>80</td>\n",
       "      <td>-24.5</td>\n",
       "      <td>period</td>\n",
       "      <td>...</td>\n",
       "      <td>456,068,181</td>\n",
       "      <td>456</td>\n",
       "      <td>53.82%</td>\n",
       "      <td>65</td>\n",
       "      <td>702%</td>\n",
       "      <td>109.05%</td>\n",
       "      <td>2007</td>\n",
       "      <td>NaN</td>\n",
       "      <td>NaN</td>\n",
       "      <td>http://www.amazon.co.uk/dp/B00EU7O4D8?ref_=imd...</td>\n",
       "    </tr>\n",
       "    <tr>\n",
       "      <th>4</th>\n",
       "      <td>2012</td>\n",
       "      <td>39.0</td>\n",
       "      <td>49</td>\n",
       "      <td>44</td>\n",
       "      <td>63.0</td>\n",
       "      <td>54</td>\n",
       "      <td>9</td>\n",
       "      <td>58.5</td>\n",
       "      <td>-14.5</td>\n",
       "      <td>action</td>\n",
       "      <td>...</td>\n",
       "      <td>769,690,000</td>\n",
       "      <td>770</td>\n",
       "      <td>78.42%</td>\n",
       "      <td>200</td>\n",
       "      <td>385%</td>\n",
       "      <td>32.65%</td>\n",
       "      <td>2009</td>\n",
       "      <td>NaN</td>\n",
       "      <td>NaN</td>\n",
       "      <td>http://www.amazon.com/gp/product/B00S4P24GQ/?t...</td>\n",
       "    </tr>\n",
       "  </tbody>\n",
       "</table>\n",
       "<p>5 rows × 34 columns</p>\n",
       "</div>"
      ],
      "text/plain": [
       "   Film  Rotten Tomatoes % critics Metacritic % critics Average critics %  \\\n",
       "0     9                       57.0                   60              58.5   \n",
       "1    21                       35.0                   48              41.5   \n",
       "2    42                       79.0                   62              70.5   \n",
       "3   300                       60.0                   51              55.5   \n",
       "4  2012                       39.0                   49                44   \n",
       "\n",
       "   Rotten Tomatoes Audience % Metacritic Audience %  \\\n",
       "0                        58.0                    67   \n",
       "1                        73.0                    62   \n",
       "2                        86.0                    74   \n",
       "3                        89.0                    71   \n",
       "4                        63.0                    54   \n",
       "\n",
       "  Rotten Tomatoes vs Metacritic % deviance Average audience %  \\\n",
       "0                                       -9               62.5   \n",
       "1                                       11               67.5   \n",
       "2                                       12                 80   \n",
       "3                                       18                 80   \n",
       "4                                        9               58.5   \n",
       "\n",
       "  Audience vs Critics deviance % Primary Genre  ... Worldwide Gross  \\\n",
       "0                             -4     animation  ...      48,410,000   \n",
       "1                            -26         crime  ...     157,930,000   \n",
       "2                           -9.5     Biography  ...      95,021,108   \n",
       "3                          -24.5        period  ...     456,068,181   \n",
       "4                          -14.5        action  ...     769,690,000   \n",
       "\n",
       "  Worldwide Gross ($million) % of Gross earned abroad Budget ($million)  \\\n",
       "0                         48                   34.44%                30   \n",
       "1                        158                   48.61%                35   \n",
       "2                         95                  942.37%                40   \n",
       "3                        456                   53.82%                65   \n",
       "4                        770                   78.42%               200   \n",
       "\n",
       "  % Budget recovered % Budget recovered opening weekend  Year Oscar Winners  \\\n",
       "0               161%                             35.67%  2009           NaN   \n",
       "1               451%                             68.86%  2008           NaN   \n",
       "2               238%                             68.72%  2013           NaN   \n",
       "3               702%                            109.05%  2007           NaN   \n",
       "4               385%                             32.65%  2009           NaN   \n",
       "\n",
       "   Oscar Detail                                               Link  \n",
       "0           NaN  http://www.amazon.com/gp/product/B00JNK2T7A/?t...  \n",
       "1           NaN  http://www.amazon.com/gp/product/B001EMXS1Q/?t...  \n",
       "2           NaN  http://www.amazon.com/gp/product/B00DYQW6EU/?t...  \n",
       "3           NaN  http://www.amazon.co.uk/dp/B00EU7O4D8?ref_=imd...  \n",
       "4           NaN  http://www.amazon.com/gp/product/B00S4P24GQ/?t...  \n",
       "\n",
       "[5 rows x 34 columns]"
      ]
     },
     "execution_count": 4,
     "metadata": {},
     "output_type": "execute_result"
    }
   ],
   "source": [
    "hollywoodVizdata.head()"
   ]
  },
  {
   "cell_type": "code",
   "execution_count": 5,
   "id": "78804bf6",
   "metadata": {},
   "outputs": [
    {
     "name": "stdout",
     "output_type": "stream",
     "text": [
      "<class 'pandas.core.frame.DataFrame'>\n",
      "RangeIndex: 1694 entries, 0 to 1693\n",
      "Data columns (total 34 columns):\n",
      " #   Column                                    Non-Null Count  Dtype  \n",
      "---  ------                                    --------------  -----  \n",
      " 0   Film                                      1694 non-null   object \n",
      " 1   Rotten Tomatoes % critics                 1693 non-null   float64\n",
      " 2   Metacritic % critics                      1694 non-null   object \n",
      " 3   Average critics %                         1694 non-null   object \n",
      " 4   Rotten Tomatoes Audience %                1693 non-null   float64\n",
      " 5   Metacritic Audience %                     1694 non-null   object \n",
      " 6   Rotten Tomatoes vs Metacritic % deviance  1694 non-null   object \n",
      " 7   Average audience %                        1694 non-null   object \n",
      " 8   Audience vs Critics deviance %            1694 non-null   object \n",
      " 9   Primary Genre                             1694 non-null   object \n",
      " 10  Genres                                    948 non-null    object \n",
      " 11  Genres.1                                  453 non-null    object \n",
      " 12  Genres.2                                  104 non-null    object \n",
      " 13  Genres.3                                  44 non-null     object \n",
      " 14  Genres.4                                  16 non-null     object \n",
      " 15  Genres.5                                  2 non-null      object \n",
      " 16  Genres.6                                  2 non-null      object \n",
      " 17  Script Type                               1694 non-null   object \n",
      " 18  Opening weekend ($million)                1694 non-null   float64\n",
      " 19  Opening Weekend                           1694 non-null   object \n",
      " 20  Domestic gross ($million)                 1693 non-null   float64\n",
      " 21  Domestic Gross                            1694 non-null   object \n",
      " 22  Foreign Gross ($million)                  1694 non-null   float64\n",
      " 23  Foreign Gross                             1694 non-null   object \n",
      " 24  Worldwide Gross                           1694 non-null   object \n",
      " 25  Worldwide Gross ($million)                1694 non-null   object \n",
      " 26  % of Gross earned abroad                  1694 non-null   object \n",
      " 27  Budget ($million)                         1694 non-null   object \n",
      " 28  % Budget recovered                        1670 non-null   object \n",
      " 29  % Budget recovered opening weekend        1694 non-null   object \n",
      " 30  Year                                      1694 non-null   int64  \n",
      " 31  Oscar Winners                             56 non-null     object \n",
      " 32  Oscar Detail                              55 non-null     object \n",
      " 33  Link                                      1687 non-null   object \n",
      "dtypes: float64(5), int64(1), object(28)\n",
      "memory usage: 450.1+ KB\n"
     ]
    }
   ],
   "source": [
    "hollywoodVizdata.info()"
   ]
  },
  {
   "cell_type": "code",
   "execution_count": 6,
   "id": "429c761e",
   "metadata": {},
   "outputs": [
    {
     "data": {
      "text/plain": [
       "The Bad     928\n",
       "The Good    716\n",
       "The Ugly     50\n",
       "Name: ratings, dtype: int64"
      ]
     },
     "execution_count": 6,
     "metadata": {},
     "output_type": "execute_result"
    }
   ],
   "source": [
    "hollywoodVizdata[\"Average audience %\"] = hollywoodVizdata[\"Average audience %\"].str.replace('–','-').str.replace(r'^-$', '0', regex=True).astype(float)\n",
    "hollywoodVizdata['ratings'] = hollywoodVizdata['Average audience %'].map(lambda x: 'The Good' if x>=67 else 'The Bad' if x<67 and x>=33 else 'The Ugly')\n",
    "hollywoodVizdata['ratings'].value_counts()"
   ]
  },
  {
   "cell_type": "code",
   "execution_count": 7,
   "id": "36415542",
   "metadata": {},
   "outputs": [
    {
     "name": "stdout",
     "output_type": "stream",
     "text": [
      "['Action', 'Adventure', 'Animation', 'Biography', 'Black Comedy', 'Comedy', 'Crime', 'Drama', 'Fantasy', 'Horror', 'Musical', 'Mystery', 'Romance', 'Sci-Fi', 'Sport', 'Thriller', 'action', 'adventure', 'adventure ', 'animation', 'biography', 'biography ', 'biography  ', 'comedy', 'crime', 'crime ', 'drama', 'drama ', 'family', 'fantasy', 'fantasy ', 'history', 'horror', 'music', 'music  ', 'musical', 'mystery', 'mystery ', 'period', 'romance', 'romantic comedy', 'sci-fi', 'sci-fi ', 'sport', 'sports', 'thriller', 'war', 'western']\n"
     ]
    }
   ],
   "source": [
    "a= hollywoodVizdata['Primary Genre'].unique()\n",
    "print(sorted(a))"
   ]
  },
  {
   "cell_type": "code",
   "execution_count": 8,
   "id": "ca0f5e44",
   "metadata": {},
   "outputs": [],
   "source": [
    "hollywoodVizdata['Primary Genre'] = hollywoodVizdata['Primary Genre'].str.lower()"
   ]
  },
  {
   "cell_type": "code",
   "execution_count": 9,
   "id": "8d563df0",
   "metadata": {},
   "outputs": [],
   "source": [
    "hollywoodVizdata['Primary Genre'] = hollywoodVizdata['Primary Genre'].str.strip()"
   ]
  },
  {
   "cell_type": "code",
   "execution_count": 10,
   "id": "ffbfe880",
   "metadata": {},
   "outputs": [],
   "source": [
    "hollywoodVizdata['Primary Genre'] = hollywoodVizdata['Primary Genre'].apply(lambda x: x.replace('black comedy', 'comedy'))\n",
    "hollywoodVizdata['Primary Genre'] = hollywoodVizdata['Primary Genre'].apply(lambda x: x.replace('romantic comedy', 'comedy'))\n",
    "hollywoodVizdata['Primary Genre'] = hollywoodVizdata['Primary Genre'].apply(lambda x: x.replace('music', 'musical'))\n",
    "hollywoodVizdata['Primary Genre'] = hollywoodVizdata['Primary Genre'].apply(lambda x: x.replace('sport', 'sports'))"
   ]
  },
  {
   "cell_type": "code",
   "execution_count": 14,
   "id": "85f473c7",
   "metadata": {},
   "outputs": [
    {
     "name": "stdout",
     "output_type": "stream",
     "text": [
      "['action', 'adventure', 'animation', 'biography', 'comedy', 'crime', 'drama', 'family', 'fantasy', 'history', 'horror', 'musical', 'musicalal', 'mystery', 'period', 'romance', 'sci-fi', 'sports', 'sportss', 'thriller', 'war', 'western']\n"
     ]
    }
   ],
   "source": [
    "a= hollywoodVizdata['Primary Genre'].unique()\n",
    "print(sorted(a))"
   ]
  },
  {
   "cell_type": "code",
   "execution_count": 15,
   "id": "20afb3d9",
   "metadata": {},
   "outputs": [
    {
     "name": "stdout",
     "output_type": "stream",
     "text": [
      "['action', 'adventure', 'animation', 'biography', 'comedy', 'crime', 'drama', 'family', 'fantasy', 'history', 'horror', 'musical', 'mystery', 'period', 'romance', 'sci-fi', 'sports', 'thriller', 'war', 'western']\n"
     ]
    }
   ],
   "source": [
    "hollywoodVizdata['Primary Genre'] = hollywoodVizdata['Primary Genre'].apply(lambda x: x.replace('musicalal', 'musical'))\n",
    "hollywoodVizdata['Primary Genre'] = hollywoodVizdata['Primary Genre'].apply(lambda x: x.replace('sportss', 'sports'))\n",
    "a= hollywoodVizdata['Primary Genre'].unique()\n",
    "print(sorted(a))"
   ]
  },
  {
   "cell_type": "code",
   "execution_count": 16,
   "id": "f00d616b",
   "metadata": {},
   "outputs": [],
   "source": [
    "hollywoodVizdata.to_csv('../Data/hollywoodVizdata.csv', encoding='utf-8')"
   ]
  },
  {
   "cell_type": "code",
   "execution_count": null,
   "id": "002d272b",
   "metadata": {},
   "outputs": [],
   "source": []
  }
 ],
 "metadata": {
  "kernelspec": {
   "display_name": "Python 3 (ipykernel)",
   "language": "python",
   "name": "python3"
  },
  "language_info": {
   "codemirror_mode": {
    "name": "ipython",
    "version": 3
   },
   "file_extension": ".py",
   "mimetype": "text/x-python",
   "name": "python",
   "nbconvert_exporter": "python",
   "pygments_lexer": "ipython3",
   "version": "3.10.8"
  }
 },
 "nbformat": 4,
 "nbformat_minor": 5
}
