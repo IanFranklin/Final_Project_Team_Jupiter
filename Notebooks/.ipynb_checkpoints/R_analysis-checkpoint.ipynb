{
 "cells": [
  {
   "cell_type": "code",
   "execution_count": 1,
   "id": "7dcb55c9",
   "metadata": {},
   "outputs": [],
   "source": [
    "#### R analysis testing"
   ]
  },
  {
   "cell_type": "code",
   "execution_count": 6,
   "id": "96f49cd5",
   "metadata": {},
   "outputs": [
    {
     "name": "stderr",
     "output_type": "stream",
     "text": [
      "── \u001b[1mAttaching packages\u001b[22m ─────────────────────────────────────────────────────────────────────────────── tidyverse 1.3.2 ──\n",
      "\u001b[32m✔\u001b[39m \u001b[34mtibble \u001b[39m 3.1.8      \u001b[32m✔\u001b[39m \u001b[34mdplyr  \u001b[39m 1.0.10\n",
      "\u001b[32m✔\u001b[39m \u001b[34mtidyr  \u001b[39m 1.2.1      \u001b[32m✔\u001b[39m \u001b[34mstringr\u001b[39m 1.5.0 \n",
      "\u001b[32m✔\u001b[39m \u001b[34mreadr  \u001b[39m 2.1.3      \u001b[32m✔\u001b[39m \u001b[34mforcats\u001b[39m 0.5.2 \n",
      "\u001b[32m✔\u001b[39m \u001b[34mpurrr  \u001b[39m 1.0.0      \n",
      "Warning message:\n",
      "\"package 'tibble' was built under R version 4.2.2\"\n",
      "Warning message:\n",
      "\"package 'purrr' was built under R version 4.2.2\"\n",
      "Warning message:\n",
      "\"package 'dplyr' was built under R version 4.2.2\"\n",
      "Warning message:\n",
      "\"package 'stringr' was built under R version 4.2.2\"\n",
      "── \u001b[1mConflicts\u001b[22m ────────────────────────────────────────────────────────────────────────────────── tidyverse_conflicts() ──\n",
      "\u001b[31m✖\u001b[39m \u001b[34mdplyr\u001b[39m::\u001b[32mcollapse()\u001b[39m masks \u001b[34mnlme\u001b[39m::collapse()\n",
      "\u001b[31m✖\u001b[39m \u001b[34mtidyr\u001b[39m::\u001b[32mexpand()\u001b[39m   masks \u001b[34mMatrix\u001b[39m::expand()\n",
      "\u001b[31m✖\u001b[39m \u001b[34mdplyr\u001b[39m::\u001b[32mfilter()\u001b[39m   masks \u001b[34mstats\u001b[39m::filter()\n",
      "\u001b[31m✖\u001b[39m \u001b[34mdplyr\u001b[39m::\u001b[32mlag()\u001b[39m      masks \u001b[34mstats\u001b[39m::lag()\n",
      "\u001b[31m✖\u001b[39m \u001b[34mpurrr\u001b[39m::\u001b[32mlift()\u001b[39m     masks \u001b[34mcaret\u001b[39m::lift()\n",
      "\u001b[31m✖\u001b[39m \u001b[34mtidyr\u001b[39m::\u001b[32mpack()\u001b[39m     masks \u001b[34mMatrix\u001b[39m::pack()\n",
      "\u001b[31m✖\u001b[39m \u001b[34mdplyr\u001b[39m::\u001b[32mrecode()\u001b[39m   masks \u001b[34mcar\u001b[39m::recode()\n",
      "\u001b[31m✖\u001b[39m \u001b[34mpurrr\u001b[39m::\u001b[32msome()\u001b[39m     masks \u001b[34mcar\u001b[39m::some()\n",
      "\u001b[31m✖\u001b[39m \u001b[34mtidyr\u001b[39m::\u001b[32munpack()\u001b[39m   masks \u001b[34mMatrix\u001b[39m::unpack()\n"
     ]
    }
   ],
   "source": [
    "# Load Packages\n",
    "\n",
    "library(\"tidyverse\")\n",
    "library(\"ggplot2\")\n",
    "library(\"car\")\n",
    "library(\"caret\")\n",
    "library(\"gvlma\")\n",
    "library(\"predictmeans\")\n",
    "library(\"e1071\")\n",
    "library(\"lmtest\")"
   ]
  },
  {
   "cell_type": "code",
   "execution_count": 3,
   "id": "fcd3f766",
   "metadata": {},
   "outputs": [],
   "source": [
    "# Load in Data\n",
    "\n",
    "HollywoodData <- read.csv(\"../Data/The Hollywood Insider - all data.csv\")\n",
    "MovieBudget.csv <- read.csv(\"../Data/moviebudget.csv\")\n",
    "RatingsBudget <- read.csv(\"../Data/ratingsBudget.csv\")\n",
    "MostProfitableMovies <- read.csv(\"../Data/Most Profitable Movies of All Time - Most Profitable Movie of All Time.csv\")"
   ]
  },
  {
   "cell_type": "code",
   "execution_count": 10,
   "id": "31e8abb8",
   "metadata": {},
   "outputs": [],
   "source": [
    "# Question Setup\n",
    "\n",
    "## Does a movies budget influence a movies gross sales(box office success)?\n",
    "### IV - budget\n",
    "### DV - Worldwide.Gross"
   ]
  },
  {
   "cell_type": "code",
   "execution_count": 7,
   "id": "2475e565",
   "metadata": {},
   "outputs": [
    {
     "name": "stdout",
     "output_type": "stream",
     "text": [
      "Rows: 476\n",
      "Columns: 16\n",
      "$ title                          \u001b[3m\u001b[90m<chr>\u001b[39m\u001b[23m \"300\", \"1917\", \"2012\", \"101 Dalmatians\"…\n",
      "$ worldwide.gross...m.           \u001b[3m\u001b[90m<int>\u001b[39m\u001b[23m 456, 385, 791, 321, 331, 338, 317, 363,…\n",
      "$ X..budget.recovered            \u001b[3m\u001b[90m<chr>\u001b[39m\u001b[23m \"702%\", \"427%\", \"396%\", \"479%\", \"663%\",…\n",
      "$ X.times.budget.recovered       \u001b[3m\u001b[90m<dbl>\u001b[39m\u001b[23m 7.0, 4.3, 4.0, 4.8, 6.6, 3.1, 5.5, 3.0,…\n",
      "$ budget....millions.            \u001b[3m\u001b[90m<dbl>\u001b[39m\u001b[23m 65, 90, 200, 67, 50, 110, 58, 120, 200,…\n",
      "$ domestic.gross...m.            \u001b[3m\u001b[90m<int>\u001b[39m\u001b[23m 211, 159, 166, 136, 192, 107, 171, 163,…\n",
      "$ domestic..                     \u001b[3m\u001b[90m<chr>\u001b[39m\u001b[23m \"46.2%\", \"41.4%\", \"21.0%\", \"42.5%\", \"57…\n",
      "$ international.gross...m.       \u001b[3m\u001b[90m<chr>\u001b[39m\u001b[23m \"245\", \"225\", \"625\", \"185\", \"140\", \"231…\n",
      "$ X..of.gross.from.international \u001b[3m\u001b[90m<chr>\u001b[39m\u001b[23m \"53.8%\", \"58.6%\", \"79.0%\", \"57.5%\", \"42…\n",
      "$ worldwide.gross                \u001b[3m\u001b[90m<chr>\u001b[39m\u001b[23m \"456,082,343\", \"384,576,334\", \"791,217,…\n",
      "$ year                           \u001b[3m\u001b[90m<int>\u001b[39m\u001b[23m 2007, 2019, 2009, 1996, 2014, 2014, 200…\n",
      "$ decade                         \u001b[3m\u001b[90m<chr>\u001b[39m\u001b[23m \"2000's\", \"2010's\", \"2000's\", \"1990's\",…\n",
      "$ source                         \u001b[3m\u001b[90m<chr>\u001b[39m\u001b[23m \"https://www.boxofficemojo.com/chart/ww…\n",
      "$ budget.source                  \u001b[3m\u001b[90m<chr>\u001b[39m\u001b[23m \"\", \"https://www.nytimes.com/2020/01/12…\n",
      "$ force.label                    \u001b[3m\u001b[90m<chr>\u001b[39m\u001b[23m \"\", \"\", \"\", \"\", \"\", \"\", \"\", \"\", \"\", \"\",…\n",
      "$ inflation.adjusted.gross...m.  \u001b[3m\u001b[90m<chr>\u001b[39m\u001b[23m \"671\", \"455\", \"1,116\", \"618\", \"422\", \"4…\n"
     ]
    }
   ],
   "source": [
    "# Data Wrangling\n",
    "\n",
    "glimpse(MostProfitableMovies)"
   ]
  },
  {
   "cell_type": "code",
   "execution_count": 15,
   "id": "5eb37e98",
   "metadata": {},
   "outputs": [],
   "source": [
    "# make new df to just hold DV and IV columns for linear regression\n",
    "keep <- c(\"worldwide.gross...m.\", \"budget....millions.\", \"domestic.gross...m.\")\n",
    "test1 <- MostProfitableMovies[keep]"
   ]
  },
  {
   "cell_type": "markdown",
   "id": "cd63119e",
   "metadata": {},
   "source": [
    "---"
   ]
  },
  {
   "cell_type": "code",
   "execution_count": 16,
   "id": "c11a4b05",
   "metadata": {},
   "outputs": [
    {
     "name": "stdout",
     "output_type": "stream",
     "text": [
      "Rows: 476\n",
      "Columns: 3\n",
      "$ worldwide.gross...m. \u001b[3m\u001b[90m<int>\u001b[39m\u001b[23m 456, 385, 791, 321, 331, 338, 317, 363, 325, 341,…\n",
      "$ budget....millions.  \u001b[3m\u001b[90m<dbl>\u001b[39m\u001b[23m 65, 90, 200, 67, 50, 110, 58, 120, 200, 17, 36, 8…\n",
      "$ domestic.gross...m.  \u001b[3m\u001b[90m<int>\u001b[39m\u001b[23m 211, 159, 166, 136, 192, 107, 171, 163, 138, 188,…\n"
     ]
    }
   ],
   "source": [
    "glimpse(test1)"
   ]
  },
  {
   "cell_type": "code",
   "execution_count": 14,
   "id": "9b032e12",
   "metadata": {},
   "outputs": [
    {
     "data": {
      "image/png": "[encoded data removed]",
      "text/plain": [
       "Plot with title \"Gross Worldwide by Movie Budget\""
      ]
     },
     "metadata": {
      "image/png": {
       "height": 420,
       "width": 420
      }
     },
     "output_type": "display_data"
    }
   ],
   "source": [
    "scatter.smooth(x=test1$budget....millions., y=test1$worldwide.gross...m., main=\"Gross Worldwide by Movie Budget\")"
   ]
  },
  {
   "cell_type": "code",
   "execution_count": 17,
   "id": "a559bc91",
   "metadata": {
    "scrolled": true
   },
   "outputs": [
    {
     "data": {
      "image/png": "[encoded data removed]",
      "text/plain": [
       "Plot with title \"Domestic Gross by Movie Budget\""
      ]
     },
     "metadata": {
      "image/png": {
       "height": 420,
       "width": 420
      }
     },
     "output_type": "display_data"
    }
   ],
   "source": [
    "scatter.smooth(x=test1$budget....millions., y=test1$domestic.gross...m., main=\"Domestic Gross by Movie Budget\")"
   ]
  },
  {
   "cell_type": "code",
   "execution_count": null,
   "id": "d62099a2",
   "metadata": {},
   "outputs": [],
   "source": [
    "# Test for Assumptions to ensure accuracy"
   ]
  },
  {
   "cell_type": "code",
   "execution_count": 19,
   "id": "71b4028a",
   "metadata": {},
   "outputs": [],
   "source": [
    "# Testing for Homoscedasticity"
   ]
  },
  {
   "cell_type": "code",
   "execution_count": 20,
   "id": "69934e71",
   "metadata": {},
   "outputs": [],
   "source": [
    "# create a linear model\n",
    "lmMod <- lm(worldwide.gross...m.~budget....millions., data=test1)"
   ]
  },
  {
   "cell_type": "code",
   "execution_count": 21,
   "id": "08873431",
   "metadata": {},
   "outputs": [
    {
     "data": {
      "image/png": "[encoded data removed]",
      "text/plain": [
       "Plot with title \"\""
      ]
     },
     "metadata": {
      "image/png": {
       "height": 420,
       "width": 420
      }
     },
     "output_type": "display_data"
    }
   ],
   "source": [
    "# plot residuals\n",
    "par(mfrow=c(2,2))\n",
    "plot(lmMod)"
   ]
  },
  {
   "cell_type": "code",
   "execution_count": 22,
   "id": "dbd0ad0e",
   "metadata": {},
   "outputs": [],
   "source": [
    "# the plot showing fitted values against standardized residuals starts off with an upward trend before flattening out\n",
    "# may indicate heteroscedasticity."
   ]
  },
  {
   "cell_type": "code",
   "execution_count": 23,
   "id": "9cb7c67c",
   "metadata": {},
   "outputs": [
    {
     "data": {
      "text/plain": [
       "\n",
       "\tstudentized Breusch-Pagan test\n",
       "\n",
       "data:  lmMod\n",
       "BP = 37.708, df = 1, p-value = 8.216e-10\n"
      ]
     },
     "metadata": {},
     "output_type": "display_data"
    }
   ],
   "source": [
    "# run a Breush-Pagan test\n",
    "lmtest::bptest(lmMod)"
   ]
  },
  {
   "cell_type": "code",
   "execution_count": 24,
   "id": "fbbbbc5e",
   "metadata": {},
   "outputs": [],
   "source": [
    "# p-vale is <0.05, data does not pass Homoscedasticity"
   ]
  },
  {
   "cell_type": "code",
   "execution_count": 25,
   "id": "75d497ff",
   "metadata": {},
   "outputs": [
    {
     "name": "stdout",
     "output_type": "stream",
     "text": [
      "Box-Cox Transformation\n",
      "\n",
      "476 data points used to estimate Lambda\n",
      "\n",
      "Input data summary:\n",
      "   Min. 1st Qu.  Median    Mean 3rd Qu.    Max. \n",
      "  309.0   371.0   475.0   601.7   744.2  2923.0 \n",
      "\n",
      "Largest/Smallest: 9.46 \n",
      "Sample Skewness: 2.63 \n",
      "\n",
      "Estimated Lambda: -1 \n",
      "\n"
     ]
    }
   ],
   "source": [
    "# try to correct for violations\n",
    "distBCMod1 <- caret::BoxCoxTrans(test1$worldwide.gross...m.)\n",
    "print(distBCMod1)"
   ]
  },
  {
   "cell_type": "code",
   "execution_count": 40,
   "id": "a1f8a428",
   "metadata": {},
   "outputs": [
    {
     "data": {
      "text/plain": [
       "\n",
       "\tstudentized Breusch-Pagan test\n",
       "\n",
       "data:  lmMod2\n",
       "BP = 0.086283, df = 1, p-value = 0.769\n"
      ]
     },
     "metadata": {},
     "output_type": "display_data"
    }
   ],
   "source": [
    "test2 <- cbind(test1, dist_newM=predict(distBCMod1, test1$worldwide.gross...m.))\n",
    "lmMod2 <- lm(dist_newM~budget....millions., data=test2)\n",
    "lmtest::bptest(lmMod2)"
   ]
  },
  {
   "cell_type": "code",
   "execution_count": 41,
   "id": "1ab4a450",
   "metadata": {},
   "outputs": [],
   "source": [
    "# p-value is no longer < 0.05!! can proceed"
   ]
  },
  {
   "cell_type": "code",
   "execution_count": 42,
   "id": "95af15b2",
   "metadata": {},
   "outputs": [],
   "source": [
    "# Testing for Homogeneity of Variance"
   ]
  },
  {
   "cell_type": "code",
   "execution_count": 43,
   "id": "ffb9b2da",
   "metadata": {},
   "outputs": [
    {
     "data": {
      "text/plain": [
       "\n",
       "Call:\n",
       "lm(formula = dist_newM ~ budget....millions., data = test2)\n",
       "\n",
       "Coefficients:\n",
       "        (Intercept)  budget....millions.  \n",
       "          0.9972818            0.0000055  \n",
       "\n",
       "\n",
       "ASSESSMENT OF THE LINEAR MODEL ASSUMPTIONS\n",
       "USING THE GLOBAL TEST ON 4 DEGREES-OF-FREEDOM:\n",
       "Level of Significance =  0.05 \n",
       "\n",
       "Call:\n",
       " gvlma(x = lmMod2) \n",
       "\n",
       "                     Value  p-value                   Decision\n",
       "Global Stat        11.5638 0.020907 Assumptions NOT satisfied!\n",
       "Skewness            0.9924 0.319150    Assumptions acceptable.\n",
       "Kurtosis            9.3002 0.002291 Assumptions NOT satisfied!\n",
       "Link Function       0.5958 0.440184    Assumptions acceptable.\n",
       "Heteroscedasticity  0.6754 0.411173    Assumptions acceptable."
      ]
     },
     "metadata": {},
     "output_type": "display_data"
    }
   ],
   "source": [
    "gvlma(lmMod2)"
   ]
  },
  {
   "cell_type": "code",
   "execution_count": 30,
   "id": "bdbfc2b1",
   "metadata": {},
   "outputs": [],
   "source": [
    "# does not pass Global Stat(linearity) or Kurtosis"
   ]
  },
  {
   "cell_type": "code",
   "execution_count": 31,
   "id": "f15b41c4",
   "metadata": {},
   "outputs": [],
   "source": [
    "# Screening for Outliers"
   ]
  },
  {
   "cell_type": "code",
   "execution_count": 44,
   "id": "17d72389",
   "metadata": {},
   "outputs": [
    {
     "data": {
      "image/png": "[encoded data removed]",
      "text/plain": [
       "Plot with title \"Cook's Distance\""
      ]
     },
     "metadata": {
      "image/png": {
       "height": 420,
       "width": 420
      }
     },
     "output_type": "display_data"
    }
   ],
   "source": [
    "# looking for outliers x-space\n",
    "CookD(lmMod2, group=NULL, plot=TRUE, idn=3, newwd=FALSE)"
   ]
  },
  {
   "cell_type": "code",
   "execution_count": 45,
   "id": "dd7ac6bc",
   "metadata": {},
   "outputs": [
    {
     "data": {
      "image/png": "[encoded data removed]",
      "text/plain": [
       "plot without title"
      ]
     },
     "metadata": {
      "image/png": {
       "height": 420,
       "width": 420
      }
     },
     "output_type": "display_data"
    }
   ],
   "source": [
    "lev = hat(model.matrix(lmMod2))\n",
    "plot(lev)"
   ]
  },
  {
   "cell_type": "code",
   "execution_count": 46,
   "id": "6217b8ed",
   "metadata": {},
   "outputs": [
    {
     "data": {
      "text/html": [
       "<table class=\"dataframe\">\n",
       "<caption>A data.frame: 0 × 4</caption>\n",
       "<thead>\n",
       "\t<tr><th scope=col>worldwide.gross...m.</th><th scope=col>budget....millions.</th><th scope=col>domestic.gross...m.</th><th scope=col>dist_newM</th></tr>\n",
       "\t<tr><th scope=col>&lt;int&gt;</th><th scope=col>&lt;dbl&gt;</th><th scope=col>&lt;int&gt;</th><th scope=col>&lt;dbl&gt;</th></tr>\n",
       "</thead>\n",
       "<tbody>\n",
       "</tbody>\n",
       "</table>\n"
      ],
      "text/latex": [
       "A data.frame: 0 × 4\n",
       "\\begin{tabular}{llll}\n",
       " worldwide.gross...m. & budget....millions. & domestic.gross...m. & dist\\_newM\\\\\n",
       " <int> & <dbl> & <int> & <dbl>\\\\\n",
       "\\hline\n",
       "\\end{tabular}\n"
      ],
      "text/markdown": [
       "\n",
       "A data.frame: 0 × 4\n",
       "\n",
       "| worldwide.gross...m. &lt;int&gt; | budget....millions. &lt;dbl&gt; | domestic.gross...m. &lt;int&gt; | dist_newM &lt;dbl&gt; |\n",
       "|---|---|---|---|\n",
       "\n"
      ],
      "text/plain": [
       "     worldwide.gross...m. budget....millions. domestic.gross...m. dist_newM"
      ]
     },
     "metadata": {},
     "output_type": "display_data"
    }
   ],
   "source": [
    "test2[lev>.2,]"
   ]
  },
  {
   "cell_type": "code",
   "execution_count": 35,
   "id": "c62d2168",
   "metadata": {},
   "outputs": [],
   "source": [
    "# no output for x-space outliers with a leverage over .2"
   ]
  },
  {
   "cell_type": "code",
   "execution_count": 47,
   "id": "bbec1bce",
   "metadata": {},
   "outputs": [
    {
     "data": {
      "text/plain": [
       "No Studentized residuals with Bonferroni p < 0.05\n",
       "Largest |rstudent|:\n",
       "    rstudent unadjusted p-value Bonferroni p\n",
       "391 2.386658           0.017394           NA"
      ]
     },
     "metadata": {},
     "output_type": "display_data"
    }
   ],
   "source": [
    "# looking for outliers in y-space\n",
    "car::outlierTest(lmMod2)"
   ]
  },
  {
   "cell_type": "code",
   "execution_count": 48,
   "id": "1a073ded",
   "metadata": {},
   "outputs": [],
   "source": [
    "# dropoutliers\n",
    "test2 <- test2[-c(391), ]"
   ]
  },
  {
   "cell_type": "code",
   "execution_count": 49,
   "id": "4d3daf4b",
   "metadata": {},
   "outputs": [
    {
     "name": "stdout",
     "output_type": "stream",
     "text": [
      "Potentially influential observations of\n",
      "\t lm(formula = dist_newM ~ budget....millions., data = test2) :\n",
      "\n",
      "    dfb.1_ dfb.b... dffit   cov.r   cook.d hat    \n",
      "9    0.05  -0.11    -0.15    0.99_*  0.01   0.00  \n",
      "32  -0.02   0.02     0.02    1.04_*  0.00   0.03_*\n",
      "34  -0.07   0.10     0.10    1.03_*  0.01   0.03_*\n",
      "35  -0.07   0.09     0.10    1.02_*  0.01   0.02_*\n",
      "43  -0.02   0.03     0.03    1.01_*  0.00   0.01  \n",
      "50   0.01  -0.02    -0.02    1.01_*  0.00   0.01  \n",
      "175  0.12  -0.08     0.13    0.99_*  0.01   0.00  \n",
      "179  0.13  -0.09     0.14    0.99_*  0.01   0.00  \n",
      "184  0.06  -0.08    -0.09    1.02_*  0.00   0.02_*\n",
      "224  0.12  -0.08     0.13    0.99_*  0.01   0.00  \n",
      "239  0.00   0.00     0.00    1.01_*  0.00   0.01  \n",
      "245  0.00   0.01     0.01    1.01_*  0.00   0.01  \n",
      "261  0.00   0.01     0.01    1.02_*  0.00   0.02_*\n",
      "264  0.06  -0.09    -0.09    1.03_*  0.00   0.03_*\n",
      "286  0.04  -0.11    -0.15    0.99_*  0.01   0.00  \n",
      "288 -0.03   0.04     0.04    1.02_*  0.00   0.01  \n",
      "310  0.18  -0.27    -0.29_*  1.00    0.04   0.02_*\n",
      "313  0.01  -0.01    -0.01    1.02_*  0.00   0.02_*\n",
      "342  0.04  -0.05    -0.06    1.02_*  0.00   0.01_*\n",
      "357 -0.02   0.03     0.03    1.02_*  0.00   0.02_*\n",
      "362 -0.04   0.06     0.07    1.01_*  0.00   0.01  \n",
      "364 -0.07   0.10     0.11    1.02_*  0.01   0.02_*\n",
      "375  0.00   0.01     0.01    1.02_*  0.00   0.02_*\n",
      "385 -0.03   0.04     0.05    1.02_*  0.00   0.02_*\n",
      "391  0.16  -0.13     0.17    0.99_*  0.01   0.00  \n",
      "413 -0.03   0.04     0.05    1.02_*  0.00   0.01  \n",
      "429  0.00   0.00     0.00    1.01_*  0.00   0.01  \n"
     ]
    }
   ],
   "source": [
    "# look for influential outliers\n",
    "summary(influence.measures(lmMod2))"
   ]
  },
  {
   "cell_type": "code",
   "execution_count": 50,
   "id": "1faa4f2b",
   "metadata": {},
   "outputs": [],
   "source": [
    "# dfb.1 or dffit values over 1"
   ]
  },
  {
   "cell_type": "code",
   "execution_count": 51,
   "id": "cc657564",
   "metadata": {},
   "outputs": [],
   "source": [
    "# assumptions summary\n",
    "\n",
    "## I have corrected for violations Homoscedasticity\n",
    "## data does not pass Global Stat(linearity) or Kurtosis\n",
    "## I have dropped outlier rows"
   ]
  },
  {
   "cell_type": "markdown",
   "id": "d92b47bc",
   "metadata": {},
   "source": [
    "---"
   ]
  },
  {
   "cell_type": "code",
   "execution_count": null,
   "id": "0e8c8d05",
   "metadata": {},
   "outputs": [],
   "source": []
  }
 ],
 "metadata": {
  "kernelspec": {
   "display_name": "R",
   "language": "R",
   "name": "ir"
  },
  "language_info": {
   "codemirror_mode": "r",
   "file_extension": ".r",
   "mimetype": "text/x-r-source",
   "name": "R",
   "pygments_lexer": "r",
   "version": "4.2.1"
  }
 },
 "nbformat": 4,
 "nbformat_minor": 5
}
