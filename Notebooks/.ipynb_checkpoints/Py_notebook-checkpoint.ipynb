{
 "cells": [
  {
   "cell_type": "code",
   "execution_count": 1,
   "id": "c58f0864",
   "metadata": {},
   "outputs": [],
   "source": [
    "# Team Jupiter\n",
    "\n",
    "## A look at what affects a movies success?\n",
    "    ### Success to be defined as both highest rated or most profitable."
   ]
  },
  {
   "cell_type": "code",
   "execution_count": 21,
   "id": "e2cdd452",
   "metadata": {},
   "outputs": [],
   "source": [
    "# import packages\n",
    "\n",
    "import pandas as pd\n",
    "import numpy as np\n",
    "import matplotlib\n",
    "import glob\n",
    "import os"
   ]
  },
  {
   "cell_type": "code",
   "execution_count": 43,
   "id": "e7e34b92",
   "metadata": {},
   "outputs": [],
   "source": [
    "# read in movie list and ratings files\n",
    "\n",
    "ratings_df = pd.read_csv(\"../Data/ratings.csv\")\n",
    "movies_df = pd.read_csv(\"../Data/movies.csv\")"
   ]
  },
  {
   "cell_type": "code",
   "execution_count": 23,
   "id": "e829e979",
   "metadata": {},
   "outputs": [],
   "source": [
    "# read in movie budgets, top 500 movies and best films since 1950 csv files\n",
    "\n",
    "budgets_df = pd.read_csv(\"../Data/Most Profitable Movies of All Time - Inflation Adjusted.csv\")\n",
    "top500movies_df = pd.read_csv(\"../Data/Most Profitable Movies of All Time - Top 500 Movies (pink = added by us).csv\")\n",
    "yearbestmovie_df = pd.read_csv(\"../Data/Best_Films_Every_Year_Since_1950.csv\")"
   ]
  },
  {
   "cell_type": "code",
   "execution_count": 24,
   "id": "bee035a3",
   "metadata": {},
   "outputs": [],
   "source": [
    "# drop columns that wont be used for wrangling\n",
    "# start with rating_df"
   ]
  },
  {
   "cell_type": "code",
   "execution_count": 30,
   "id": "5becf904",
   "metadata": {},
   "outputs": [
    {
     "name": "stdout",
     "output_type": "stream",
     "text": [
      "<class 'pandas.core.frame.DataFrame'>\n",
      "RangeIndex: 100836 entries, 0 to 100835\n",
      "Data columns (total 4 columns):\n",
      " #   Column     Non-Null Count   Dtype  \n",
      "---  ------     --------------   -----  \n",
      " 0   userId     100836 non-null  int64  \n",
      " 1   movieId    100836 non-null  int64  \n",
      " 2   rating     100836 non-null  float64\n",
      " 3   timestamp  100836 non-null  int64  \n",
      "dtypes: float64(1), int64(3)\n",
      "memory usage: 3.1 MB\n"
     ]
    }
   ],
   "source": [
    "ratings_df.info()"
   ]
  },
  {
   "cell_type": "code",
   "execution_count": 31,
   "id": "7371dde4",
   "metadata": {},
   "outputs": [],
   "source": [
    "ratings_df1 = ratings_df.drop(['timestamp'], axis=1)"
   ]
  },
  {
   "cell_type": "code",
   "execution_count": 33,
   "id": "58c441e0",
   "metadata": {},
   "outputs": [],
   "source": [
    "ratings_df1 = ratings_df1.dropna()"
   ]
  },
  {
   "cell_type": "code",
   "execution_count": 34,
   "id": "cd3ab7a7",
   "metadata": {},
   "outputs": [
    {
     "name": "stdout",
     "output_type": "stream",
     "text": [
      "<class 'pandas.core.frame.DataFrame'>\n",
      "RangeIndex: 100836 entries, 0 to 100835\n",
      "Data columns (total 3 columns):\n",
      " #   Column   Non-Null Count   Dtype  \n",
      "---  ------   --------------   -----  \n",
      " 0   userId   100836 non-null  int64  \n",
      " 1   movieId  100836 non-null  int64  \n",
      " 2   rating   100836 non-null  float64\n",
      "dtypes: float64(1), int64(2)\n",
      "memory usage: 2.3 MB\n"
     ]
    }
   ],
   "source": [
    "ratings_df1.info() \n",
    "# no values were dropped, no nulls!!"
   ]
  },
  {
   "cell_type": "code",
   "execution_count": 48,
   "id": "23f54298",
   "metadata": {},
   "outputs": [
    {
     "name": "stdout",
     "output_type": "stream",
     "text": [
      "<class 'pandas.core.frame.DataFrame'>\n",
      "RangeIndex: 9742 entries, 0 to 9741\n",
      "Data columns (total 12 columns):\n",
      " #   Column    Non-Null Count  Dtype \n",
      "---  ------    --------------  ----- \n",
      " 0   movieId   9742 non-null   int64 \n",
      " 1   title     9742 non-null   object\n",
      " 2   genres    9742 non-null   object\n",
      " 3   genres.1  6891 non-null   object\n",
      " 4   genres.2  3673 non-null   object\n",
      " 5   genres.3  1335 non-null   object\n",
      " 6   genres.4  348 non-null    object\n",
      " 7   genres.5  77 non-null     object\n",
      " 8   genres.6  14 non-null     object\n",
      " 9   genres.7  2 non-null      object\n",
      " 10  genres.8  1 non-null      object\n",
      " 11  genres.9  1 non-null      object\n",
      "dtypes: int64(1), object(11)\n",
      "memory usage: 913.4+ KB\n"
     ]
    }
   ],
   "source": [
    "movies_df.info()"
   ]
  },
  {
   "cell_type": "code",
   "execution_count": 50,
   "id": "432962f7",
   "metadata": {},
   "outputs": [
    {
     "name": "stdout",
     "output_type": "stream",
     "text": [
      "<class 'pandas.core.frame.DataFrame'>\n",
      "RangeIndex: 70 entries, 0 to 69\n",
      "Data columns (total 15 columns):\n",
      " #   Column          Non-Null Count  Dtype  \n",
      "---  ------          --------------  -----  \n",
      " 0   Position        70 non-null     int64  \n",
      " 1   Const           70 non-null     object \n",
      " 2   Created         70 non-null     object \n",
      " 3   Modified        70 non-null     object \n",
      " 4   Description     0 non-null      float64\n",
      " 5   Title           70 non-null     object \n",
      " 6   URL             70 non-null     object \n",
      " 7   Title Type      70 non-null     object \n",
      " 8   IMDb Rating     70 non-null     float64\n",
      " 9   Runtime (mins)  70 non-null     int64  \n",
      " 10  Year            70 non-null     int64  \n",
      " 11  Genres          70 non-null     object \n",
      " 12  Num Votes       70 non-null     int64  \n",
      " 13  Release Date    70 non-null     object \n",
      " 14  Directors       70 non-null     object \n",
      "dtypes: float64(2), int64(4), object(9)\n",
      "memory usage: 8.3+ KB\n"
     ]
    }
   ],
   "source": [
    "yearbestmovie_df.info()"
   ]
  },
  {
   "cell_type": "code",
   "execution_count": 53,
   "id": "cd7534ef",
   "metadata": {},
   "outputs": [
    {
     "name": "stdout",
     "output_type": "stream",
     "text": [
      "<class 'pandas.core.frame.DataFrame'>\n",
      "RangeIndex: 70 entries, 0 to 69\n",
      "Data columns (total 8 columns):\n",
      " #   Column          Non-Null Count  Dtype  \n",
      "---  ------          --------------  -----  \n",
      " 0   Title           70 non-null     object \n",
      " 1   IMDb Rating     70 non-null     float64\n",
      " 2   Runtime (mins)  70 non-null     int64  \n",
      " 3   Year            70 non-null     int64  \n",
      " 4   Genres          70 non-null     object \n",
      " 5   Num Votes       70 non-null     int64  \n",
      " 6   Release Date    70 non-null     object \n",
      " 7   Directors       70 non-null     object \n",
      "dtypes: float64(1), int64(3), object(4)\n",
      "memory usage: 4.5+ KB\n"
     ]
    }
   ],
   "source": [
    "# drop columns [0,1,2,3,4,6,7] from Best_Films_Every_Year_Since_1950.csv\n",
    "\n",
    "yearbestmovie_df1 = yearbestmovie_df.drop(yearbestmovie_df.columns[[0,1,2,3,4,6,7]],axis = 1)\n",
    "yearbestmovie_df1.info()"
   ]
  },
  {
   "cell_type": "code",
   "execution_count": 54,
   "id": "55cd683b",
   "metadata": {},
   "outputs": [
    {
     "name": "stdout",
     "output_type": "stream",
     "text": [
      "<class 'pandas.core.frame.DataFrame'>\n",
      "RangeIndex: 476 entries, 0 to 475\n",
      "Data columns (total 16 columns):\n",
      " #   Column                         Non-Null Count  Dtype  \n",
      "---  ------                         --------------  -----  \n",
      " 0   title                          476 non-null    object \n",
      " 1   unadjusted gross ($m)          476 non-null    int64  \n",
      " 2   inflation adjusted gross ($m)  476 non-null    object \n",
      " 3   % budget recovered             476 non-null    object \n",
      " 4   x times budget recovered       476 non-null    float64\n",
      " 5   budget  (m)                    476 non-null    float64\n",
      " 6   domestic gross (m)             476 non-null    int64  \n",
      " 7   domestic %                     476 non-null    object \n",
      " 8   international gross (m)        476 non-null    object \n",
      " 9   % of gross from international  476 non-null    object \n",
      " 10  worldwide gross                476 non-null    object \n",
      " 11  year                           476 non-null    int64  \n",
      " 12  decade                         476 non-null    object \n",
      " 13  source                         476 non-null    object \n",
      " 14  budget source                  397 non-null    object \n",
      " 15  force label                    5 non-null      object \n",
      "dtypes: float64(2), int64(3), object(11)\n",
      "memory usage: 59.6+ KB\n"
     ]
    }
   ],
   "source": [
    "budgets_df.info()"
   ]
  },
  {
   "cell_type": "code",
   "execution_count": 55,
   "id": "6d635552",
   "metadata": {},
   "outputs": [
    {
     "name": "stdout",
     "output_type": "stream",
     "text": [
      "<class 'pandas.core.frame.DataFrame'>\n",
      "RangeIndex: 476 entries, 0 to 475\n",
      "Data columns (total 13 columns):\n",
      " #   Column                         Non-Null Count  Dtype  \n",
      "---  ------                         --------------  -----  \n",
      " 0   title                          476 non-null    object \n",
      " 1   unadjusted gross ($m)          476 non-null    int64  \n",
      " 2   inflation adjusted gross ($m)  476 non-null    object \n",
      " 3   % budget recovered             476 non-null    object \n",
      " 4   x times budget recovered       476 non-null    float64\n",
      " 5   budget  (m)                    476 non-null    float64\n",
      " 6   domestic gross (m)             476 non-null    int64  \n",
      " 7   domestic %                     476 non-null    object \n",
      " 8   international gross (m)        476 non-null    object \n",
      " 9   % of gross from international  476 non-null    object \n",
      " 10  worldwide gross                476 non-null    object \n",
      " 11  year                           476 non-null    int64  \n",
      " 12  decade                         476 non-null    object \n",
      "dtypes: float64(2), int64(3), object(8)\n",
      "memory usage: 48.5+ KB\n"
     ]
    }
   ],
   "source": [
    "# drop columns [13, 14, 15] from Most Profitable Movies of All Time - Inflation Adjusted.csv\n",
    "\n",
    "budgets_df1 = budgets_df.drop(budgets_df.columns[[13, 14, 15]],axis = 1)\n",
    "budgets_df1.info()"
   ]
  },
  {
   "cell_type": "code",
   "execution_count": 56,
   "id": "df806401",
   "metadata": {},
   "outputs": [
    {
     "name": "stdout",
     "output_type": "stream",
     "text": [
      "<class 'pandas.core.frame.DataFrame'>\n",
      "RangeIndex: 558 entries, 0 to 557\n",
      "Data columns (total 16 columns):\n",
      " #   Column                         Non-Null Count  Dtype  \n",
      "---  ------                         --------------  -----  \n",
      " 0   title                          558 non-null    object \n",
      " 1   worldwide gross (m)            558 non-null    float64\n",
      " 2   % budget recovered             558 non-null    object \n",
      " 3   X times budget recovered       558 non-null    float64\n",
      " 4   budget  (millions)             558 non-null    float64\n",
      " 5   domestic gross (m)             558 non-null    float64\n",
      " 6   domestic %                     558 non-null    object \n",
      " 7   international gross (m)        558 non-null    object \n",
      " 8   % of gross from international  558 non-null    object \n",
      " 9   worldwide gross                558 non-null    object \n",
      " 10  year                           558 non-null    int64  \n",
      " 11  decade                         558 non-null    object \n",
      " 12  source                         477 non-null    object \n",
      " 13  budget source                  398 non-null    object \n",
      " 14  force label                    5 non-null      object \n",
      " 15  horror                         558 non-null    object \n",
      "dtypes: float64(4), int64(1), object(11)\n",
      "memory usage: 69.9+ KB\n"
     ]
    }
   ],
   "source": [
    "top500movies_df.info()"
   ]
  },
  {
   "cell_type": "code",
   "execution_count": 57,
   "id": "217c18cd",
   "metadata": {},
   "outputs": [
    {
     "name": "stdout",
     "output_type": "stream",
     "text": [
      "<class 'pandas.core.frame.DataFrame'>\n",
      "RangeIndex: 558 entries, 0 to 557\n",
      "Data columns (total 12 columns):\n",
      " #   Column                         Non-Null Count  Dtype  \n",
      "---  ------                         --------------  -----  \n",
      " 0   title                          558 non-null    object \n",
      " 1   worldwide gross (m)            558 non-null    float64\n",
      " 2   % budget recovered             558 non-null    object \n",
      " 3   X times budget recovered       558 non-null    float64\n",
      " 4   budget  (millions)             558 non-null    float64\n",
      " 5   domestic gross (m)             558 non-null    float64\n",
      " 6   domestic %                     558 non-null    object \n",
      " 7   international gross (m)        558 non-null    object \n",
      " 8   % of gross from international  558 non-null    object \n",
      " 9   worldwide gross                558 non-null    object \n",
      " 10  year                           558 non-null    int64  \n",
      " 11  decade                         558 non-null    object \n",
      "dtypes: float64(4), int64(1), object(7)\n",
      "memory usage: 52.4+ KB\n"
     ]
    }
   ],
   "source": [
    "# drop columns [12, 13, 14, 15] from Most Profitable Movies of All Time - Top 500 Movies (pink = added by us).csv\n",
    "\n",
    "top500movies_df1 = top500movies_df.drop(top500movies_df.columns[[12, 13, 14, 15]],axis = 1)\n",
    "top500movies_df1.info()"
   ]
  },
  {
   "cell_type": "code",
   "execution_count": null,
   "id": "f769e93e",
   "metadata": {},
   "outputs": [],
   "source": [
    " "
   ]
  }
 ],
 "metadata": {
  "kernelspec": {
   "display_name": "Python 3 (ipykernel)",
   "language": "python",
   "name": "python3"
  },
  "language_info": {
   "codemirror_mode": {
    "name": "ipython",
    "version": 3
   },
   "file_extension": ".py",
   "mimetype": "text/x-python",
   "name": "python",
   "nbconvert_exporter": "python",
   "pygments_lexer": "ipython3",
   "version": "3.10.8"
  }
 },
 "nbformat": 4,
 "nbformat_minor": 5
}
