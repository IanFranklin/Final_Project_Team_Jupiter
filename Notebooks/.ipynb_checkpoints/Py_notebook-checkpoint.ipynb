{
 "cells": [
  {
   "cell_type": "code",
   "execution_count": 1,
   "id": "c58f0864",
   "metadata": {},
   "outputs": [],
   "source": [
    "# Team Jupiter\n",
    "\n",
    "## A look at what affects a movies success?\n",
    "    ### Success to be defined as both highest rated or most profitable."
   ]
  },
  {
   "cell_type": "markdown",
   "id": "cb53034d",
   "metadata": {},
   "source": [
    "---"
   ]
  },
  {
   "cell_type": "code",
   "execution_count": 2,
   "id": "e2cdd452",
   "metadata": {},
   "outputs": [],
   "source": [
    "# import packages\n",
    "\n",
    "import pandas as pd\n",
    "import numpy as np\n",
    "import matplotlib.pyplot as plt\n",
    "from pylab import *\n",
    "import seaborn as sns\n",
    "%matplotlib inline\n",
    "import  statsmodels.api as sm\n",
    "import statsmodels.stats.api as sms\n",
    "from scipy.stats import boxcox\n",
    "import glob\n",
    "import os"
   ]
  },
  {
   "cell_type": "markdown",
   "id": "10856e8e",
   "metadata": {},
   "source": [
    "---"
   ]
  },
  {
   "cell_type": "code",
   "execution_count": 3,
   "id": "e7e34b92",
   "metadata": {},
   "outputs": [],
   "source": [
    "# read in movie list and ratings files\n",
    "\n",
    "ratings_df = pd.read_csv(\"../Data/ratings.csv\")\n",
    "movies_df = pd.read_csv(\"../Data/movies.csv\")"
   ]
  },
  {
   "cell_type": "code",
   "execution_count": 4,
   "id": "e829e979",
   "metadata": {},
   "outputs": [],
   "source": [
    "# read in movie budgets, top 500 movies and best films since 1950 csv files\n",
    "\n",
    "budgets_df = pd.read_csv(\"../Data/Most Profitable Movies of All Time - Inflation Adjusted.csv\")\n",
    "top500movies_df = pd.read_csv(\"../Data/Most Profitable Movies of All Time - Top 500 Movies (pink = added by us).csv\")\n",
    "yearbestmovie_df = pd.read_csv(\"../Data/Best_Films_Every_Year_Since_1950.csv\")"
   ]
  },
  {
   "cell_type": "markdown",
   "id": "b25a6851",
   "metadata": {},
   "source": [
    "---"
   ]
  },
  {
   "cell_type": "code",
   "execution_count": 5,
   "id": "5a5a79de",
   "metadata": {},
   "outputs": [],
   "source": [
    "# Start DataWrangling"
   ]
  },
  {
   "cell_type": "code",
   "execution_count": 6,
   "id": "bee035a3",
   "metadata": {},
   "outputs": [],
   "source": [
    "## drop columns that wont be used for wrangling\n",
    "## start with rating_df"
   ]
  },
  {
   "cell_type": "code",
   "execution_count": 7,
   "id": "5becf904",
   "metadata": {},
   "outputs": [
    {
     "name": "stdout",
     "output_type": "stream",
     "text": [
      "<class 'pandas.core.frame.DataFrame'>\n",
      "RangeIndex: 100836 entries, 0 to 100835\n",
      "Data columns (total 4 columns):\n",
      " #   Column     Non-Null Count   Dtype  \n",
      "---  ------     --------------   -----  \n",
      " 0   userId     100836 non-null  int64  \n",
      " 1   movieId    100836 non-null  int64  \n",
      " 2   rating     100836 non-null  float64\n",
      " 3   timestamp  100836 non-null  int64  \n",
      "dtypes: float64(1), int64(3)\n",
      "memory usage: 3.1 MB\n"
     ]
    }
   ],
   "source": [
    "ratings_df.info()"
   ]
  },
  {
   "cell_type": "code",
   "execution_count": 8,
   "id": "7371dde4",
   "metadata": {},
   "outputs": [],
   "source": [
    "ratings_df1 = ratings_df.drop(['timestamp'], axis=1)"
   ]
  },
  {
   "cell_type": "code",
   "execution_count": 9,
   "id": "58c441e0",
   "metadata": {},
   "outputs": [],
   "source": [
    "## drop rows with null values if any\n",
    "ratings_df1 = ratings_df1.dropna()"
   ]
  },
  {
   "cell_type": "code",
   "execution_count": 10,
   "id": "cd3ab7a7",
   "metadata": {},
   "outputs": [
    {
     "name": "stdout",
     "output_type": "stream",
     "text": [
      "<class 'pandas.core.frame.DataFrame'>\n",
      "RangeIndex: 100836 entries, 0 to 100835\n",
      "Data columns (total 3 columns):\n",
      " #   Column   Non-Null Count   Dtype  \n",
      "---  ------   --------------   -----  \n",
      " 0   userId   100836 non-null  int64  \n",
      " 1   movieId  100836 non-null  int64  \n",
      " 2   rating   100836 non-null  float64\n",
      "dtypes: float64(1), int64(2)\n",
      "memory usage: 2.3 MB\n"
     ]
    }
   ],
   "source": [
    "ratings_df1.info() \n",
    "## no values were dropped, no nulls!!"
   ]
  },
  {
   "cell_type": "code",
   "execution_count": 11,
   "id": "23f54298",
   "metadata": {},
   "outputs": [
    {
     "name": "stdout",
     "output_type": "stream",
     "text": [
      "<class 'pandas.core.frame.DataFrame'>\n",
      "RangeIndex: 9742 entries, 0 to 9741\n",
      "Data columns (total 12 columns):\n",
      " #   Column    Non-Null Count  Dtype \n",
      "---  ------    --------------  ----- \n",
      " 0   movieId   9742 non-null   int64 \n",
      " 1   title     9742 non-null   object\n",
      " 2   genres    9742 non-null   object\n",
      " 3   genres.1  6891 non-null   object\n",
      " 4   genres.2  3673 non-null   object\n",
      " 5   genres.3  1335 non-null   object\n",
      " 6   genres.4  348 non-null    object\n",
      " 7   genres.5  77 non-null     object\n",
      " 8   genres.6  14 non-null     object\n",
      " 9   genres.7  2 non-null      object\n",
      " 10  genres.8  1 non-null      object\n",
      " 11  genres.9  1 non-null      object\n",
      "dtypes: int64(1), object(11)\n",
      "memory usage: 913.4+ KB\n"
     ]
    }
   ],
   "source": [
    "## all the columns in movies_df seem usefull\n",
    "movies_df.info()"
   ]
  },
  {
   "cell_type": "code",
   "execution_count": 12,
   "id": "432962f7",
   "metadata": {},
   "outputs": [
    {
     "name": "stdout",
     "output_type": "stream",
     "text": [
      "<class 'pandas.core.frame.DataFrame'>\n",
      "RangeIndex: 70 entries, 0 to 69\n",
      "Data columns (total 15 columns):\n",
      " #   Column          Non-Null Count  Dtype  \n",
      "---  ------          --------------  -----  \n",
      " 0   Position        70 non-null     int64  \n",
      " 1   Const           70 non-null     object \n",
      " 2   Created         70 non-null     object \n",
      " 3   Modified        70 non-null     object \n",
      " 4   Description     0 non-null      float64\n",
      " 5   Title           70 non-null     object \n",
      " 6   URL             70 non-null     object \n",
      " 7   Title Type      70 non-null     object \n",
      " 8   IMDb Rating     70 non-null     float64\n",
      " 9   Runtime (mins)  70 non-null     int64  \n",
      " 10  Year            70 non-null     int64  \n",
      " 11  Genres          70 non-null     object \n",
      " 12  Num Votes       70 non-null     int64  \n",
      " 13  Release Date    70 non-null     object \n",
      " 14  Directors       70 non-null     object \n",
      "dtypes: float64(2), int64(4), object(9)\n",
      "memory usage: 8.3+ KB\n"
     ]
    }
   ],
   "source": [
    "## pull up column info for yearbestmovie_df\n",
    "yearbestmovie_df.info()"
   ]
  },
  {
   "cell_type": "code",
   "execution_count": 13,
   "id": "cd7534ef",
   "metadata": {},
   "outputs": [
    {
     "name": "stdout",
     "output_type": "stream",
     "text": [
      "<class 'pandas.core.frame.DataFrame'>\n",
      "RangeIndex: 70 entries, 0 to 69\n",
      "Data columns (total 8 columns):\n",
      " #   Column          Non-Null Count  Dtype  \n",
      "---  ------          --------------  -----  \n",
      " 0   Title           70 non-null     object \n",
      " 1   IMDb Rating     70 non-null     float64\n",
      " 2   Runtime (mins)  70 non-null     int64  \n",
      " 3   Year            70 non-null     int64  \n",
      " 4   Genres          70 non-null     object \n",
      " 5   Num Votes       70 non-null     int64  \n",
      " 6   Release Date    70 non-null     object \n",
      " 7   Directors       70 non-null     object \n",
      "dtypes: float64(1), int64(3), object(4)\n",
      "memory usage: 4.5+ KB\n"
     ]
    }
   ],
   "source": [
    "## drop columns [0,1,2,3,4,6,7] from Best_Films_Every_Year_Since_1950.csv\n",
    "\n",
    "yearbestmovie_df1 = yearbestmovie_df.drop(yearbestmovie_df.columns[[0,1,2,3,4,6,7]],axis = 1)\n",
    "yearbestmovie_df1.info()"
   ]
  },
  {
   "cell_type": "code",
   "execution_count": 14,
   "id": "55cd683b",
   "metadata": {},
   "outputs": [
    {
     "name": "stdout",
     "output_type": "stream",
     "text": [
      "<class 'pandas.core.frame.DataFrame'>\n",
      "RangeIndex: 476 entries, 0 to 475\n",
      "Data columns (total 16 columns):\n",
      " #   Column                         Non-Null Count  Dtype  \n",
      "---  ------                         --------------  -----  \n",
      " 0   title                          476 non-null    object \n",
      " 1   unadjusted gross ($m)          476 non-null    int64  \n",
      " 2   inflation adjusted gross ($m)  476 non-null    object \n",
      " 3   % budget recovered             476 non-null    object \n",
      " 4   x times budget recovered       476 non-null    float64\n",
      " 5   budget  (m)                    476 non-null    float64\n",
      " 6   domestic gross (m)             476 non-null    int64  \n",
      " 7   domestic %                     476 non-null    object \n",
      " 8   international gross (m)        476 non-null    object \n",
      " 9   % of gross from international  476 non-null    object \n",
      " 10  worldwide gross                476 non-null    object \n",
      " 11  year                           476 non-null    int64  \n",
      " 12  decade                         476 non-null    object \n",
      " 13  source                         476 non-null    object \n",
      " 14  budget source                  397 non-null    object \n",
      " 15  force label                    5 non-null      object \n",
      "dtypes: float64(2), int64(3), object(11)\n",
      "memory usage: 59.6+ KB\n"
     ]
    }
   ],
   "source": [
    "## pull up column info for budgets_df\n",
    "budgets_df.info()"
   ]
  },
  {
   "cell_type": "code",
   "execution_count": 15,
   "id": "6d635552",
   "metadata": {},
   "outputs": [
    {
     "name": "stdout",
     "output_type": "stream",
     "text": [
      "<class 'pandas.core.frame.DataFrame'>\n",
      "RangeIndex: 476 entries, 0 to 475\n",
      "Data columns (total 13 columns):\n",
      " #   Column                         Non-Null Count  Dtype  \n",
      "---  ------                         --------------  -----  \n",
      " 0   title                          476 non-null    object \n",
      " 1   unadjusted gross ($m)          476 non-null    int64  \n",
      " 2   inflation adjusted gross ($m)  476 non-null    object \n",
      " 3   % budget recovered             476 non-null    object \n",
      " 4   x times budget recovered       476 non-null    float64\n",
      " 5   budget  (m)                    476 non-null    float64\n",
      " 6   domestic gross (m)             476 non-null    int64  \n",
      " 7   domestic %                     476 non-null    object \n",
      " 8   international gross (m)        476 non-null    object \n",
      " 9   % of gross from international  476 non-null    object \n",
      " 10  worldwide gross                476 non-null    object \n",
      " 11  year                           476 non-null    int64  \n",
      " 12  decade                         476 non-null    object \n",
      "dtypes: float64(2), int64(3), object(8)\n",
      "memory usage: 48.5+ KB\n"
     ]
    }
   ],
   "source": [
    "## drop columns [13, 14, 15] from Most Profitable Movies of All Time - Inflation Adjusted.csv\n",
    "\n",
    "budgets_df1 = budgets_df.drop(budgets_df.columns[[13, 14, 15]],axis = 1)\n",
    "budgets_df1.info()"
   ]
  },
  {
   "cell_type": "code",
   "execution_count": 16,
   "id": "df806401",
   "metadata": {},
   "outputs": [
    {
     "name": "stdout",
     "output_type": "stream",
     "text": [
      "<class 'pandas.core.frame.DataFrame'>\n",
      "RangeIndex: 558 entries, 0 to 557\n",
      "Data columns (total 16 columns):\n",
      " #   Column                         Non-Null Count  Dtype  \n",
      "---  ------                         --------------  -----  \n",
      " 0   title                          558 non-null    object \n",
      " 1   worldwide gross (m)            558 non-null    float64\n",
      " 2   % budget recovered             558 non-null    object \n",
      " 3   X times budget recovered       558 non-null    float64\n",
      " 4   budget  (millions)             558 non-null    float64\n",
      " 5   domestic gross (m)             558 non-null    float64\n",
      " 6   domestic %                     558 non-null    object \n",
      " 7   international gross (m)        558 non-null    object \n",
      " 8   % of gross from international  558 non-null    object \n",
      " 9   worldwide gross                558 non-null    object \n",
      " 10  year                           558 non-null    int64  \n",
      " 11  decade                         558 non-null    object \n",
      " 12  source                         477 non-null    object \n",
      " 13  budget source                  398 non-null    object \n",
      " 14  force label                    5 non-null      object \n",
      " 15  horror                         558 non-null    object \n",
      "dtypes: float64(4), int64(1), object(11)\n",
      "memory usage: 69.9+ KB\n"
     ]
    }
   ],
   "source": [
    "## pull up column info for top500movies_df\n",
    "top500movies_df.info()"
   ]
  },
  {
   "cell_type": "code",
   "execution_count": 17,
   "id": "217c18cd",
   "metadata": {},
   "outputs": [
    {
     "name": "stdout",
     "output_type": "stream",
     "text": [
      "<class 'pandas.core.frame.DataFrame'>\n",
      "RangeIndex: 558 entries, 0 to 557\n",
      "Data columns (total 12 columns):\n",
      " #   Column                         Non-Null Count  Dtype  \n",
      "---  ------                         --------------  -----  \n",
      " 0   title                          558 non-null    object \n",
      " 1   worldwide gross (m)            558 non-null    float64\n",
      " 2   % budget recovered             558 non-null    object \n",
      " 3   X times budget recovered       558 non-null    float64\n",
      " 4   budget  (millions)             558 non-null    float64\n",
      " 5   domestic gross (m)             558 non-null    float64\n",
      " 6   domestic %                     558 non-null    object \n",
      " 7   international gross (m)        558 non-null    object \n",
      " 8   % of gross from international  558 non-null    object \n",
      " 9   worldwide gross                558 non-null    object \n",
      " 10  year                           558 non-null    int64  \n",
      " 11  decade                         558 non-null    object \n",
      "dtypes: float64(4), int64(1), object(7)\n",
      "memory usage: 52.4+ KB\n"
     ]
    }
   ],
   "source": [
    "## drop columns [12, 13, 14, 15] from Most Profitable Movies of All Time - Top 500 Movies (pink = added by us).csv\n",
    "\n",
    "top500movies_df1 = top500movies_df.drop(top500movies_df.columns[[12, 13, 14, 15]],axis = 1)\n",
    "top500movies_df1.info()"
   ]
  },
  {
   "cell_type": "markdown",
   "id": "0f0cf46f",
   "metadata": {},
   "source": [
    "---"
   ]
  },
  {
   "cell_type": "code",
   "execution_count": 18,
   "id": "d454cbe2",
   "metadata": {},
   "outputs": [],
   "source": [
    "## after dropping columns that aren't needed and nulls its time to merge and transform data types if needed"
   ]
  },
  {
   "cell_type": "code",
   "execution_count": 19,
   "id": "f769e93e",
   "metadata": {},
   "outputs": [
    {
     "data": {
      "text/html": [
       "<div>\n",
       "<style scoped>\n",
       "    .dataframe tbody tr th:only-of-type {\n",
       "        vertical-align: middle;\n",
       "    }\n",
       "\n",
       "    .dataframe tbody tr th {\n",
       "        vertical-align: top;\n",
       "    }\n",
       "\n",
       "    .dataframe thead th {\n",
       "        text-align: right;\n",
       "    }\n",
       "</style>\n",
       "<table border=\"1\" class=\"dataframe\">\n",
       "  <thead>\n",
       "    <tr style=\"text-align: right;\">\n",
       "      <th></th>\n",
       "      <th>userId</th>\n",
       "      <th>movieId</th>\n",
       "      <th>rating</th>\n",
       "      <th>title</th>\n",
       "      <th>genres</th>\n",
       "      <th>genres.1</th>\n",
       "      <th>genres.2</th>\n",
       "      <th>genres.3</th>\n",
       "      <th>genres.4</th>\n",
       "      <th>genres.5</th>\n",
       "      <th>genres.6</th>\n",
       "      <th>genres.7</th>\n",
       "      <th>genres.8</th>\n",
       "      <th>genres.9</th>\n",
       "    </tr>\n",
       "  </thead>\n",
       "  <tbody>\n",
       "    <tr>\n",
       "      <th>0</th>\n",
       "      <td>1</td>\n",
       "      <td>1</td>\n",
       "      <td>4.0</td>\n",
       "      <td>Toy Story (1995)</td>\n",
       "      <td>Adventure</td>\n",
       "      <td>Animation</td>\n",
       "      <td>Children</td>\n",
       "      <td>Comedy</td>\n",
       "      <td>Fantasy</td>\n",
       "      <td>NaN</td>\n",
       "      <td>NaN</td>\n",
       "      <td>NaN</td>\n",
       "      <td>NaN</td>\n",
       "      <td>NaN</td>\n",
       "    </tr>\n",
       "    <tr>\n",
       "      <th>1</th>\n",
       "      <td>5</td>\n",
       "      <td>1</td>\n",
       "      <td>4.0</td>\n",
       "      <td>Toy Story (1995)</td>\n",
       "      <td>Adventure</td>\n",
       "      <td>Animation</td>\n",
       "      <td>Children</td>\n",
       "      <td>Comedy</td>\n",
       "      <td>Fantasy</td>\n",
       "      <td>NaN</td>\n",
       "      <td>NaN</td>\n",
       "      <td>NaN</td>\n",
       "      <td>NaN</td>\n",
       "      <td>NaN</td>\n",
       "    </tr>\n",
       "    <tr>\n",
       "      <th>2</th>\n",
       "      <td>7</td>\n",
       "      <td>1</td>\n",
       "      <td>4.5</td>\n",
       "      <td>Toy Story (1995)</td>\n",
       "      <td>Adventure</td>\n",
       "      <td>Animation</td>\n",
       "      <td>Children</td>\n",
       "      <td>Comedy</td>\n",
       "      <td>Fantasy</td>\n",
       "      <td>NaN</td>\n",
       "      <td>NaN</td>\n",
       "      <td>NaN</td>\n",
       "      <td>NaN</td>\n",
       "      <td>NaN</td>\n",
       "    </tr>\n",
       "    <tr>\n",
       "      <th>3</th>\n",
       "      <td>15</td>\n",
       "      <td>1</td>\n",
       "      <td>2.5</td>\n",
       "      <td>Toy Story (1995)</td>\n",
       "      <td>Adventure</td>\n",
       "      <td>Animation</td>\n",
       "      <td>Children</td>\n",
       "      <td>Comedy</td>\n",
       "      <td>Fantasy</td>\n",
       "      <td>NaN</td>\n",
       "      <td>NaN</td>\n",
       "      <td>NaN</td>\n",
       "      <td>NaN</td>\n",
       "      <td>NaN</td>\n",
       "    </tr>\n",
       "    <tr>\n",
       "      <th>4</th>\n",
       "      <td>17</td>\n",
       "      <td>1</td>\n",
       "      <td>4.5</td>\n",
       "      <td>Toy Story (1995)</td>\n",
       "      <td>Adventure</td>\n",
       "      <td>Animation</td>\n",
       "      <td>Children</td>\n",
       "      <td>Comedy</td>\n",
       "      <td>Fantasy</td>\n",
       "      <td>NaN</td>\n",
       "      <td>NaN</td>\n",
       "      <td>NaN</td>\n",
       "      <td>NaN</td>\n",
       "      <td>NaN</td>\n",
       "    </tr>\n",
       "    <tr>\n",
       "      <th>...</th>\n",
       "      <td>...</td>\n",
       "      <td>...</td>\n",
       "      <td>...</td>\n",
       "      <td>...</td>\n",
       "      <td>...</td>\n",
       "      <td>...</td>\n",
       "      <td>...</td>\n",
       "      <td>...</td>\n",
       "      <td>...</td>\n",
       "      <td>...</td>\n",
       "      <td>...</td>\n",
       "      <td>...</td>\n",
       "      <td>...</td>\n",
       "      <td>...</td>\n",
       "    </tr>\n",
       "    <tr>\n",
       "      <th>100831</th>\n",
       "      <td>610</td>\n",
       "      <td>160341</td>\n",
       "      <td>2.5</td>\n",
       "      <td>Bloodmoon (1997)</td>\n",
       "      <td>Action</td>\n",
       "      <td>Thriller</td>\n",
       "      <td>NaN</td>\n",
       "      <td>NaN</td>\n",
       "      <td>NaN</td>\n",
       "      <td>NaN</td>\n",
       "      <td>NaN</td>\n",
       "      <td>NaN</td>\n",
       "      <td>NaN</td>\n",
       "      <td>NaN</td>\n",
       "    </tr>\n",
       "    <tr>\n",
       "      <th>100832</th>\n",
       "      <td>610</td>\n",
       "      <td>160527</td>\n",
       "      <td>4.5</td>\n",
       "      <td>Sympathy for the Underdog (1971)</td>\n",
       "      <td>Action</td>\n",
       "      <td>Crime</td>\n",
       "      <td>Drama</td>\n",
       "      <td>NaN</td>\n",
       "      <td>NaN</td>\n",
       "      <td>NaN</td>\n",
       "      <td>NaN</td>\n",
       "      <td>NaN</td>\n",
       "      <td>NaN</td>\n",
       "      <td>NaN</td>\n",
       "    </tr>\n",
       "    <tr>\n",
       "      <th>100833</th>\n",
       "      <td>610</td>\n",
       "      <td>160836</td>\n",
       "      <td>3.0</td>\n",
       "      <td>Hazard (2005)</td>\n",
       "      <td>Action</td>\n",
       "      <td>Drama</td>\n",
       "      <td>Thriller</td>\n",
       "      <td>NaN</td>\n",
       "      <td>NaN</td>\n",
       "      <td>NaN</td>\n",
       "      <td>NaN</td>\n",
       "      <td>NaN</td>\n",
       "      <td>NaN</td>\n",
       "      <td>NaN</td>\n",
       "    </tr>\n",
       "    <tr>\n",
       "      <th>100834</th>\n",
       "      <td>610</td>\n",
       "      <td>163937</td>\n",
       "      <td>3.5</td>\n",
       "      <td>Blair Witch (2016)</td>\n",
       "      <td>Horror</td>\n",
       "      <td>Thriller</td>\n",
       "      <td>NaN</td>\n",
       "      <td>NaN</td>\n",
       "      <td>NaN</td>\n",
       "      <td>NaN</td>\n",
       "      <td>NaN</td>\n",
       "      <td>NaN</td>\n",
       "      <td>NaN</td>\n",
       "      <td>NaN</td>\n",
       "    </tr>\n",
       "    <tr>\n",
       "      <th>100835</th>\n",
       "      <td>610</td>\n",
       "      <td>163981</td>\n",
       "      <td>3.5</td>\n",
       "      <td>31 (2016)</td>\n",
       "      <td>Horror</td>\n",
       "      <td>NaN</td>\n",
       "      <td>NaN</td>\n",
       "      <td>NaN</td>\n",
       "      <td>NaN</td>\n",
       "      <td>NaN</td>\n",
       "      <td>NaN</td>\n",
       "      <td>NaN</td>\n",
       "      <td>NaN</td>\n",
       "      <td>NaN</td>\n",
       "    </tr>\n",
       "  </tbody>\n",
       "</table>\n",
       "<p>100836 rows × 14 columns</p>\n",
       "</div>"
      ],
      "text/plain": [
       "        userId  movieId  rating                             title     genres  \\\n",
       "0            1        1     4.0                  Toy Story (1995)  Adventure   \n",
       "1            5        1     4.0                  Toy Story (1995)  Adventure   \n",
       "2            7        1     4.5                  Toy Story (1995)  Adventure   \n",
       "3           15        1     2.5                  Toy Story (1995)  Adventure   \n",
       "4           17        1     4.5                  Toy Story (1995)  Adventure   \n",
       "...        ...      ...     ...                               ...        ...   \n",
       "100831     610   160341     2.5                  Bloodmoon (1997)     Action   \n",
       "100832     610   160527     4.5  Sympathy for the Underdog (1971)     Action   \n",
       "100833     610   160836     3.0                     Hazard (2005)     Action   \n",
       "100834     610   163937     3.5                Blair Witch (2016)     Horror   \n",
       "100835     610   163981     3.5                         31 (2016)     Horror   \n",
       "\n",
       "         genres.1  genres.2 genres.3 genres.4 genres.5 genres.6 genres.7  \\\n",
       "0       Animation  Children   Comedy  Fantasy      NaN      NaN      NaN   \n",
       "1       Animation  Children   Comedy  Fantasy      NaN      NaN      NaN   \n",
       "2       Animation  Children   Comedy  Fantasy      NaN      NaN      NaN   \n",
       "3       Animation  Children   Comedy  Fantasy      NaN      NaN      NaN   \n",
       "4       Animation  Children   Comedy  Fantasy      NaN      NaN      NaN   \n",
       "...           ...       ...      ...      ...      ...      ...      ...   \n",
       "100831   Thriller       NaN      NaN      NaN      NaN      NaN      NaN   \n",
       "100832      Crime     Drama      NaN      NaN      NaN      NaN      NaN   \n",
       "100833      Drama  Thriller      NaN      NaN      NaN      NaN      NaN   \n",
       "100834   Thriller       NaN      NaN      NaN      NaN      NaN      NaN   \n",
       "100835        NaN       NaN      NaN      NaN      NaN      NaN      NaN   \n",
       "\n",
       "       genres.8 genres.9  \n",
       "0           NaN      NaN  \n",
       "1           NaN      NaN  \n",
       "2           NaN      NaN  \n",
       "3           NaN      NaN  \n",
       "4           NaN      NaN  \n",
       "...         ...      ...  \n",
       "100831      NaN      NaN  \n",
       "100832      NaN      NaN  \n",
       "100833      NaN      NaN  \n",
       "100834      NaN      NaN  \n",
       "100835      NaN      NaN  \n",
       "\n",
       "[100836 rows x 14 columns]"
      ]
     },
     "execution_count": 19,
     "metadata": {},
     "output_type": "execute_result"
    }
   ],
   "source": [
    "## merge movies and ratings df's to list the movie name and genres for each user rating in the ratings df\n",
    "## rating range from 0-5\n",
    "\n",
    "movie_ratings_df = pd.merge(ratings_df1, movies_df)\n",
    "movie_ratings_df"
   ]
  },
  {
   "cell_type": "code",
   "execution_count": 20,
   "id": "83b86155",
   "metadata": {
    "scrolled": false
   },
   "outputs": [
    {
     "name": "stdout",
     "output_type": "stream",
     "text": [
      "        userId  movieId  rating                             title     genres  \\\n",
      "0            1        1     4.0                  Toy Story (1995)  Adventure   \n",
      "1            5        1     4.0                  Toy Story (1995)  Adventure   \n",
      "2            7        1     4.5                  Toy Story (1995)  Adventure   \n",
      "3           15        1     2.5                  Toy Story (1995)  Adventure   \n",
      "4           17        1     4.5                  Toy Story (1995)  Adventure   \n",
      "...        ...      ...     ...                               ...        ...   \n",
      "100831     610   160341     2.5                  Bloodmoon (1997)     Action   \n",
      "100832     610   160527     4.5  Sympathy for the Underdog (1971)     Action   \n",
      "100833     610   160836     3.0                     Hazard (2005)     Action   \n",
      "100834     610   163937     3.5                Blair Witch (2016)     Horror   \n",
      "100835     610   163981     3.5                         31 (2016)     Horror   \n",
      "\n",
      "         genres.1  genres.2 genres.3 genres.4 genres.5 genres.6 genres.7  \\\n",
      "0       Animation  Children   Comedy  Fantasy      NaN      NaN      NaN   \n",
      "1       Animation  Children   Comedy  Fantasy      NaN      NaN      NaN   \n",
      "2       Animation  Children   Comedy  Fantasy      NaN      NaN      NaN   \n",
      "3       Animation  Children   Comedy  Fantasy      NaN      NaN      NaN   \n",
      "4       Animation  Children   Comedy  Fantasy      NaN      NaN      NaN   \n",
      "...           ...       ...      ...      ...      ...      ...      ...   \n",
      "100831   Thriller       NaN      NaN      NaN      NaN      NaN      NaN   \n",
      "100832      Crime     Drama      NaN      NaN      NaN      NaN      NaN   \n",
      "100833      Drama  Thriller      NaN      NaN      NaN      NaN      NaN   \n",
      "100834   Thriller       NaN      NaN      NaN      NaN      NaN      NaN   \n",
      "100835        NaN       NaN      NaN      NaN      NaN      NaN      NaN   \n",
      "\n",
      "       genres.8 genres.9  \n",
      "0           NaN      NaN  \n",
      "1           NaN      NaN  \n",
      "2           NaN      NaN  \n",
      "3           NaN      NaN  \n",
      "4           NaN      NaN  \n",
      "...         ...      ...  \n",
      "100831      NaN      NaN  \n",
      "100832      NaN      NaN  \n",
      "100833      NaN      NaN  \n",
      "100834      NaN      NaN  \n",
      "100835      NaN      NaN  \n",
      "\n",
      "[100836 rows x 14 columns]\n"
     ]
    }
   ],
   "source": [
    "print(movie_ratings_df)"
   ]
  },
  {
   "cell_type": "code",
   "execution_count": 21,
   "id": "82eed808",
   "metadata": {},
   "outputs": [
    {
     "data": {
      "text/plain": [
       "['userId',\n",
       " 'movieId',\n",
       " 'rating',\n",
       " 'title',\n",
       " 'genres',\n",
       " 'genres.1',\n",
       " 'genres.2',\n",
       " 'genres.3',\n",
       " 'genres.4',\n",
       " 'genres.5',\n",
       " 'genres.6',\n",
       " 'genres.7',\n",
       " 'genres.8',\n",
       " 'genres.9']"
      ]
     },
     "execution_count": 21,
     "metadata": {},
     "output_type": "execute_result"
    }
   ],
   "source": [
    "list(movie_ratings_df)"
   ]
  },
  {
   "cell_type": "markdown",
   "id": "59c557f8",
   "metadata": {},
   "source": [
    "---"
   ]
  },
  {
   "cell_type": "code",
   "execution_count": 22,
   "id": "4930f7b5",
   "metadata": {},
   "outputs": [],
   "source": [
    "## merge together the top500movies_df1 & budgets_df2 to combine all the movie budget and sales data into one df"
   ]
  },
  {
   "cell_type": "code",
   "execution_count": 23,
   "id": "27080bac",
   "metadata": {},
   "outputs": [
    {
     "name": "stdout",
     "output_type": "stream",
     "text": [
      "<class 'pandas.core.frame.DataFrame'>\n",
      "RangeIndex: 476 entries, 0 to 475\n",
      "Data columns (total 13 columns):\n",
      " #   Column                         Non-Null Count  Dtype  \n",
      "---  ------                         --------------  -----  \n",
      " 0   % budget recovered             476 non-null    object \n",
      " 1   % of gross from international  476 non-null    object \n",
      " 2   budget  (m)                    476 non-null    float64\n",
      " 3   decade                         476 non-null    object \n",
      " 4   domestic %                     476 non-null    object \n",
      " 5   domestic gross (m)             476 non-null    int64  \n",
      " 6   inflation adjusted gross ($m)  476 non-null    object \n",
      " 7   international gross (m)        476 non-null    object \n",
      " 8   title                          476 non-null    object \n",
      " 9   unadjusted gross ($m)          476 non-null    int64  \n",
      " 10  worldwide gross                476 non-null    object \n",
      " 11  x times budget recovered       476 non-null    float64\n",
      " 12  year                           476 non-null    int64  \n",
      "dtypes: float64(2), int64(3), object(8)\n",
      "memory usage: 48.5+ KB\n"
     ]
    }
   ],
   "source": [
    "budgets_df2 = budgets_df1.reindex(sorted(budgets_df1.columns), axis=1)\n",
    "budgets_df2.info()"
   ]
  },
  {
   "cell_type": "code",
   "execution_count": 24,
   "id": "a9d0ef86",
   "metadata": {},
   "outputs": [],
   "source": [
    "## rename columns to similar formats\n",
    "budgets_df2.rename(columns={'domestic %': '% of gross from domestic', \n",
    "                            'inflation adjusted gross ($m)': 'inflation adjusted gross (m)', \n",
    "                            'unadjusted gross ($m)': 'unadjusted gross (m)'}, inplace=True)"
   ]
  },
  {
   "cell_type": "code",
   "execution_count": 25,
   "id": "575cfe75",
   "metadata": {},
   "outputs": [
    {
     "name": "stdout",
     "output_type": "stream",
     "text": [
      "<class 'pandas.core.frame.DataFrame'>\n",
      "RangeIndex: 476 entries, 0 to 475\n",
      "Data columns (total 13 columns):\n",
      " #   Column                         Non-Null Count  Dtype  \n",
      "---  ------                         --------------  -----  \n",
      " 0   % budget recovered             476 non-null    object \n",
      " 1   % of gross from domestic       476 non-null    object \n",
      " 2   % of gross from international  476 non-null    object \n",
      " 3   budget  (m)                    476 non-null    float64\n",
      " 4   decade                         476 non-null    object \n",
      " 5   domestic gross (m)             476 non-null    int64  \n",
      " 6   inflation adjusted gross (m)   476 non-null    object \n",
      " 7   international gross (m)        476 non-null    object \n",
      " 8   title                          476 non-null    object \n",
      " 9   unadjusted gross (m)           476 non-null    int64  \n",
      " 10  worldwide gross                476 non-null    object \n",
      " 11  x times budget recovered       476 non-null    float64\n",
      " 12  year                           476 non-null    int64  \n",
      "dtypes: float64(2), int64(3), object(8)\n",
      "memory usage: 48.5+ KB\n"
     ]
    }
   ],
   "source": [
    "## sort columns for readability \n",
    "inflation_df = budgets_df2.reindex(sorted(budgets_df2.columns), axis=1)\n",
    "inflation_df.info()"
   ]
  },
  {
   "cell_type": "code",
   "execution_count": 26,
   "id": "ef754279",
   "metadata": {},
   "outputs": [
    {
     "name": "stdout",
     "output_type": "stream",
     "text": [
      "<class 'pandas.core.frame.DataFrame'>\n",
      "RangeIndex: 558 entries, 0 to 557\n",
      "Data columns (total 12 columns):\n",
      " #   Column                         Non-Null Count  Dtype  \n",
      "---  ------                         --------------  -----  \n",
      " 0   % budget recovered             558 non-null    object \n",
      " 1   % of gross from international  558 non-null    object \n",
      " 2   X times budget recovered       558 non-null    float64\n",
      " 3   budget  (millions)             558 non-null    float64\n",
      " 4   decade                         558 non-null    object \n",
      " 5   domestic %                     558 non-null    object \n",
      " 6   domestic gross (m)             558 non-null    float64\n",
      " 7   international gross (m)        558 non-null    object \n",
      " 8   title                          558 non-null    object \n",
      " 9   worldwide gross                558 non-null    object \n",
      " 10  worldwide gross (m)            558 non-null    float64\n",
      " 11  year                           558 non-null    int64  \n",
      "dtypes: float64(4), int64(1), object(7)\n",
      "memory usage: 52.4+ KB\n"
     ]
    }
   ],
   "source": [
    "## sort columns for readability \n",
    "top500movies_df1 = top500movies_df1.reindex(sorted(top500movies_df1.columns), axis=1)\n",
    "top500movies_df1.info()"
   ]
  },
  {
   "cell_type": "code",
   "execution_count": 27,
   "id": "480661d6",
   "metadata": {},
   "outputs": [],
   "source": [
    "# rename related columns to similar formats\n",
    "top500movies_df1.rename(columns={'X times budget recovered': 'x times budget recovered', \n",
    "                                 'budget  (millions)': 'budget (m)',\n",
    "                                 'domestic %': '% of gross from domestic',\n",
    "                                 'title ': 'title'}, inplace=True)"
   ]
  },
  {
   "cell_type": "code",
   "execution_count": 28,
   "id": "4fe306dc",
   "metadata": {
    "scrolled": true
   },
   "outputs": [
    {
     "name": "stdout",
     "output_type": "stream",
     "text": [
      "<class 'pandas.core.frame.DataFrame'>\n",
      "RangeIndex: 558 entries, 0 to 557\n",
      "Data columns (total 12 columns):\n",
      " #   Column                         Non-Null Count  Dtype  \n",
      "---  ------                         --------------  -----  \n",
      " 0   % budget recovered             558 non-null    object \n",
      " 1   % of gross from domestic       558 non-null    object \n",
      " 2   % of gross from international  558 non-null    object \n",
      " 3   budget (m)                     558 non-null    float64\n",
      " 4   decade                         558 non-null    object \n",
      " 5   domestic gross (m)             558 non-null    float64\n",
      " 6   international gross (m)        558 non-null    object \n",
      " 7   title                          558 non-null    object \n",
      " 8   worldwide gross                558 non-null    object \n",
      " 9   worldwide gross (m)            558 non-null    float64\n",
      " 10  x times budget recovered       558 non-null    float64\n",
      " 11  year                           558 non-null    int64  \n",
      "dtypes: float64(4), int64(1), object(7)\n",
      "memory usage: 52.4+ KB\n"
     ]
    }
   ],
   "source": [
    "## sort columns for readability \n",
    "top500movies_df1 = top500movies_df1.reindex(sorted(top500movies_df1.columns), axis=1)\n",
    "top500movies_df1.info()"
   ]
  },
  {
   "cell_type": "code",
   "execution_count": 29,
   "id": "f290fd75",
   "metadata": {},
   "outputs": [
    {
     "data": {
      "text/html": [
       "<div>\n",
       "<style scoped>\n",
       "    .dataframe tbody tr th:only-of-type {\n",
       "        vertical-align: middle;\n",
       "    }\n",
       "\n",
       "    .dataframe tbody tr th {\n",
       "        vertical-align: top;\n",
       "    }\n",
       "\n",
       "    .dataframe thead th {\n",
       "        text-align: right;\n",
       "    }\n",
       "</style>\n",
       "<table border=\"1\" class=\"dataframe\">\n",
       "  <thead>\n",
       "    <tr style=\"text-align: right;\">\n",
       "      <th></th>\n",
       "      <th>% budget recovered</th>\n",
       "      <th>% of gross from domestic</th>\n",
       "      <th>% of gross from international</th>\n",
       "      <th>budget  (m)</th>\n",
       "      <th>decade</th>\n",
       "      <th>domestic gross (m)</th>\n",
       "      <th>inflation adjusted gross (m)</th>\n",
       "      <th>international gross (m)</th>\n",
       "      <th>title</th>\n",
       "      <th>unadjusted gross (m)</th>\n",
       "      <th>worldwide gross</th>\n",
       "      <th>x times budget recovered</th>\n",
       "      <th>year</th>\n",
       "    </tr>\n",
       "  </thead>\n",
       "  <tbody>\n",
       "    <tr>\n",
       "      <th>0</th>\n",
       "      <td>702%</td>\n",
       "      <td>46.20%</td>\n",
       "      <td>53.80%</td>\n",
       "      <td>65.0</td>\n",
       "      <td>2000's</td>\n",
       "      <td>211</td>\n",
       "      <td>671</td>\n",
       "      <td>245</td>\n",
       "      <td>300</td>\n",
       "      <td>456</td>\n",
       "      <td>456,082,343</td>\n",
       "      <td>7.0</td>\n",
       "      <td>2007</td>\n",
       "    </tr>\n",
       "    <tr>\n",
       "      <th>1</th>\n",
       "      <td>427%</td>\n",
       "      <td>41.40%</td>\n",
       "      <td>58.60%</td>\n",
       "      <td>90.0</td>\n",
       "      <td>2010's</td>\n",
       "      <td>159</td>\n",
       "      <td>455</td>\n",
       "      <td>225</td>\n",
       "      <td>1917</td>\n",
       "      <td>385</td>\n",
       "      <td>384,576,334</td>\n",
       "      <td>4.3</td>\n",
       "      <td>2019</td>\n",
       "    </tr>\n",
       "    <tr>\n",
       "      <th>2</th>\n",
       "      <td>396%</td>\n",
       "      <td>21.00%</td>\n",
       "      <td>79.00%</td>\n",
       "      <td>200.0</td>\n",
       "      <td>2000's</td>\n",
       "      <td>166</td>\n",
       "      <td>1,116</td>\n",
       "      <td>625</td>\n",
       "      <td>2012</td>\n",
       "      <td>791</td>\n",
       "      <td>791,217,826</td>\n",
       "      <td>4.0</td>\n",
       "      <td>2009</td>\n",
       "    </tr>\n",
       "    <tr>\n",
       "      <th>3</th>\n",
       "      <td>479%</td>\n",
       "      <td>42.50%</td>\n",
       "      <td>57.50%</td>\n",
       "      <td>67.0</td>\n",
       "      <td>1990's</td>\n",
       "      <td>136</td>\n",
       "      <td>618</td>\n",
       "      <td>185</td>\n",
       "      <td>101 Dalmatians</td>\n",
       "      <td>321</td>\n",
       "      <td>320,689,294</td>\n",
       "      <td>4.8</td>\n",
       "      <td>1996</td>\n",
       "    </tr>\n",
       "    <tr>\n",
       "      <th>4</th>\n",
       "      <td>663%</td>\n",
       "      <td>57.90%</td>\n",
       "      <td>42.10%</td>\n",
       "      <td>50.0</td>\n",
       "      <td>2010's</td>\n",
       "      <td>192</td>\n",
       "      <td>422</td>\n",
       "      <td>140</td>\n",
       "      <td>22 Jump Street</td>\n",
       "      <td>331</td>\n",
       "      <td>331,333,876</td>\n",
       "      <td>6.6</td>\n",
       "      <td>2014</td>\n",
       "    </tr>\n",
       "  </tbody>\n",
       "</table>\n",
       "</div>"
      ],
      "text/plain": [
       "  % budget recovered % of gross from domestic % of gross from international  \\\n",
       "0               702%                   46.20%                        53.80%   \n",
       "1               427%                   41.40%                        58.60%   \n",
       "2               396%                   21.00%                        79.00%   \n",
       "3               479%                   42.50%                        57.50%   \n",
       "4               663%                   57.90%                        42.10%   \n",
       "\n",
       "   budget  (m)  decade  domestic gross (m) inflation adjusted gross (m)  \\\n",
       "0         65.0  2000's                 211                          671   \n",
       "1         90.0  2010's                 159                          455   \n",
       "2        200.0  2000's                 166                        1,116   \n",
       "3         67.0  1990's                 136                          618   \n",
       "4         50.0  2010's                 192                          422   \n",
       "\n",
       "  international gross (m)           title  unadjusted gross (m)  \\\n",
       "0                     245             300                   456   \n",
       "1                     225            1917                   385   \n",
       "2                     625            2012                   791   \n",
       "3                     185  101 Dalmatians                   321   \n",
       "4                     140  22 Jump Street                   331   \n",
       "\n",
       "  worldwide gross  x times budget recovered  year  \n",
       "0     456,082,343                       7.0  2007  \n",
       "1     384,576,334                       4.3  2019  \n",
       "2     791,217,826                       4.0  2009  \n",
       "3     320,689,294                       4.8  1996  \n",
       "4     331,333,876                       6.6  2014  "
      ]
     },
     "execution_count": 29,
     "metadata": {},
     "output_type": "execute_result"
    }
   ],
   "source": [
    "inflation_df.head()"
   ]
  },
  {
   "cell_type": "code",
   "execution_count": 30,
   "id": "34b21648",
   "metadata": {},
   "outputs": [
    {
     "data": {
      "text/html": [
       "<div>\n",
       "<style scoped>\n",
       "    .dataframe tbody tr th:only-of-type {\n",
       "        vertical-align: middle;\n",
       "    }\n",
       "\n",
       "    .dataframe tbody tr th {\n",
       "        vertical-align: top;\n",
       "    }\n",
       "\n",
       "    .dataframe thead th {\n",
       "        text-align: right;\n",
       "    }\n",
       "</style>\n",
       "<table border=\"1\" class=\"dataframe\">\n",
       "  <thead>\n",
       "    <tr style=\"text-align: right;\">\n",
       "      <th></th>\n",
       "      <th>% budget recovered</th>\n",
       "      <th>% of gross from domestic</th>\n",
       "      <th>% of gross from international</th>\n",
       "      <th>budget (m)</th>\n",
       "      <th>decade</th>\n",
       "      <th>domestic gross (m)</th>\n",
       "      <th>international gross (m)</th>\n",
       "      <th>title</th>\n",
       "      <th>worldwide gross</th>\n",
       "      <th>worldwide gross (m)</th>\n",
       "      <th>x times budget recovered</th>\n",
       "      <th>year</th>\n",
       "    </tr>\n",
       "  </thead>\n",
       "  <tbody>\n",
       "    <tr>\n",
       "      <th>0</th>\n",
       "      <td>702%</td>\n",
       "      <td>46.2%</td>\n",
       "      <td>53.8%</td>\n",
       "      <td>65.0</td>\n",
       "      <td>2000's</td>\n",
       "      <td>211.0</td>\n",
       "      <td>245</td>\n",
       "      <td>300</td>\n",
       "      <td>456,082,343</td>\n",
       "      <td>456.0</td>\n",
       "      <td>7.0</td>\n",
       "      <td>2007</td>\n",
       "    </tr>\n",
       "    <tr>\n",
       "      <th>1</th>\n",
       "      <td>427%</td>\n",
       "      <td>41.4%</td>\n",
       "      <td>58.6%</td>\n",
       "      <td>90.0</td>\n",
       "      <td>2010's</td>\n",
       "      <td>159.0</td>\n",
       "      <td>225</td>\n",
       "      <td>1917</td>\n",
       "      <td>384,576,334</td>\n",
       "      <td>385.0</td>\n",
       "      <td>4.3</td>\n",
       "      <td>2019</td>\n",
       "    </tr>\n",
       "    <tr>\n",
       "      <th>2</th>\n",
       "      <td>396%</td>\n",
       "      <td>21.0%</td>\n",
       "      <td>79.0%</td>\n",
       "      <td>200.0</td>\n",
       "      <td>2000's</td>\n",
       "      <td>166.0</td>\n",
       "      <td>625</td>\n",
       "      <td>2012</td>\n",
       "      <td>791,217,826</td>\n",
       "      <td>791.0</td>\n",
       "      <td>4.0</td>\n",
       "      <td>2009</td>\n",
       "    </tr>\n",
       "    <tr>\n",
       "      <th>3</th>\n",
       "      <td>479%</td>\n",
       "      <td>42.5%</td>\n",
       "      <td>57.5%</td>\n",
       "      <td>67.0</td>\n",
       "      <td>1990's</td>\n",
       "      <td>136.0</td>\n",
       "      <td>185</td>\n",
       "      <td>101 Dalmatians</td>\n",
       "      <td>320,689,294</td>\n",
       "      <td>321.0</td>\n",
       "      <td>4.8</td>\n",
       "      <td>1996</td>\n",
       "    </tr>\n",
       "    <tr>\n",
       "      <th>4</th>\n",
       "      <td>663%</td>\n",
       "      <td>57.9%</td>\n",
       "      <td>42.1%</td>\n",
       "      <td>50.0</td>\n",
       "      <td>2010's</td>\n",
       "      <td>192.0</td>\n",
       "      <td>140</td>\n",
       "      <td>22 Jump Street</td>\n",
       "      <td>331,333,876</td>\n",
       "      <td>331.0</td>\n",
       "      <td>6.6</td>\n",
       "      <td>2014</td>\n",
       "    </tr>\n",
       "  </tbody>\n",
       "</table>\n",
       "</div>"
      ],
      "text/plain": [
       "  % budget recovered % of gross from domestic % of gross from international  \\\n",
       "0               702%                    46.2%                         53.8%   \n",
       "1               427%                    41.4%                         58.6%   \n",
       "2               396%                    21.0%                         79.0%   \n",
       "3               479%                    42.5%                         57.5%   \n",
       "4               663%                    57.9%                         42.1%   \n",
       "\n",
       "   budget (m)  decade  domestic gross (m) international gross (m)  \\\n",
       "0        65.0  2000's               211.0                     245   \n",
       "1        90.0  2010's               159.0                     225   \n",
       "2       200.0  2000's               166.0                     625   \n",
       "3        67.0  1990's               136.0                     185   \n",
       "4        50.0  2010's               192.0                     140   \n",
       "\n",
       "            title worldwide gross  worldwide gross (m)  \\\n",
       "0             300     456,082,343                456.0   \n",
       "1            1917     384,576,334                385.0   \n",
       "2            2012     791,217,826                791.0   \n",
       "3  101 Dalmatians     320,689,294                321.0   \n",
       "4  22 Jump Street     331,333,876                331.0   \n",
       "\n",
       "   x times budget recovered  year  \n",
       "0                       7.0  2007  \n",
       "1                       4.3  2019  \n",
       "2                       4.0  2009  \n",
       "3                       4.8  1996  \n",
       "4                       6.6  2014  "
      ]
     },
     "execution_count": 30,
     "metadata": {},
     "output_type": "execute_result"
    }
   ],
   "source": [
    "top500movies_df1.head()"
   ]
  },
  {
   "cell_type": "code",
   "execution_count": 31,
   "id": "37c7cdc6",
   "metadata": {},
   "outputs": [
    {
     "name": "stdout",
     "output_type": "stream",
     "text": [
      "<class 'pandas.core.frame.DataFrame'>\n",
      "RangeIndex: 558 entries, 0 to 557\n",
      "Data columns (total 12 columns):\n",
      " #   Column                         Non-Null Count  Dtype  \n",
      "---  ------                         --------------  -----  \n",
      " 0   % budget recovered             558 non-null    object \n",
      " 1   % of gross from domestic       558 non-null    object \n",
      " 2   % of gross from international  558 non-null    object \n",
      " 3   budget (m)                     558 non-null    float64\n",
      " 4   decade                         558 non-null    object \n",
      " 5   domestic gross (m)             558 non-null    int32  \n",
      " 6   international gross (m)        558 non-null    object \n",
      " 7   title                          558 non-null    object \n",
      " 8   worldwide gross                558 non-null    object \n",
      " 9   worldwide gross (m)            558 non-null    float64\n",
      " 10  x times budget recovered       558 non-null    float64\n",
      " 11  year                           558 non-null    int64  \n",
      "dtypes: float64(3), int32(1), int64(1), object(7)\n",
      "memory usage: 50.3+ KB\n"
     ]
    }
   ],
   "source": [
    "# convert top500movies_df1[domestic gross (m)] column into int64\n",
    "top500movies_df1['domestic gross (m)'] = top500movies_df1['domestic gross (m)'].astype(int)\n",
    "top500movies_df1.info()"
   ]
  },
  {
   "cell_type": "code",
   "execution_count": 32,
   "id": "ca7ab644",
   "metadata": {},
   "outputs": [
    {
     "name": "stderr",
     "output_type": "stream",
     "text": [
      "C:\\Users\\ifranklin\\AppData\\Local\\Temp\\ipykernel_8004\\3833004053.py:6: FutureWarning: The default value of regex will change from True to False in a future version.\n",
      "  top500movies_df1['international gross (m)'] = top500movies_df1['international gross (m)'].str.replace(r'\\D', '').astype(int)\n"
     ]
    }
   ],
   "source": [
    "# convert international gross (m) column into int64\n",
    "#top500movies_df1['international gross (m)'] = pd.to_numeric(top500movies_df1['international gross (m)'])\n",
    "#top500movies_df1.info()\n",
    "\n",
    "## there appears to be a comma in one of the numbers(string), will remove before casting to nnumeric\n",
    "top500movies_df1['international gross (m)'] = top500movies_df1['international gross (m)'].str.replace(r'\\D', '').astype(int)"
   ]
  },
  {
   "cell_type": "code",
   "execution_count": 33,
   "id": "8a0ddbba",
   "metadata": {},
   "outputs": [
    {
     "name": "stdout",
     "output_type": "stream",
     "text": [
      "<class 'pandas.core.frame.DataFrame'>\n",
      "RangeIndex: 558 entries, 0 to 557\n",
      "Data columns (total 12 columns):\n",
      " #   Column                         Non-Null Count  Dtype  \n",
      "---  ------                         --------------  -----  \n",
      " 0   % budget recovered             558 non-null    object \n",
      " 1   % of gross from domestic       558 non-null    object \n",
      " 2   % of gross from international  558 non-null    object \n",
      " 3   budget (m)                     558 non-null    float64\n",
      " 4   decade                         558 non-null    object \n",
      " 5   domestic gross (m)             558 non-null    int32  \n",
      " 6   international gross (m)        558 non-null    int32  \n",
      " 7   title                          558 non-null    object \n",
      " 8   worldwide gross                558 non-null    object \n",
      " 9   worldwide gross (m)            558 non-null    float64\n",
      " 10  x times budget recovered       558 non-null    float64\n",
      " 11  year                           558 non-null    int64  \n",
      "dtypes: float64(3), int32(2), int64(1), object(6)\n",
      "memory usage: 48.1+ KB\n"
     ]
    }
   ],
   "source": [
    "top500movies_df1.info()"
   ]
  },
  {
   "cell_type": "code",
   "execution_count": 34,
   "id": "98f18d62",
   "metadata": {},
   "outputs": [],
   "source": [
    "## combine the 2 datasets with budget profit information to keep the ones from the top500 that also have an inflation adj value\n",
    "##  movie_budgets_df = top500df + inflation_df[inflation adjusted gross (m)]\n",
    "\n",
    "\n",
    "### didnt work\n",
    "### df = pd.merge(df,df2[['Key_Column','Target_Column']],on='Key_Column', how='left')\n",
    "\n",
    "### movie_budgets_df = pd.merge(top500movies_df1, inflation_df[['title','inflation adjusted gross (m)']], left_on= top500movies_df1['title'], right_on= inflation_df[['title'], how='left')\n",
    "### print (movie_budgets_df)\n",
    "### movie_budgets_df = pd.merge(top500movies_df1,inflation_df[['title', 'inflation adjusted gross (m)']], on='title', how='left')\n",
    "\n",
    "### movie_budgets_df = pd.merge(top500movies_df1, inflation_df, on ='title')"
   ]
  },
  {
   "cell_type": "code",
   "execution_count": 35,
   "id": "860fd962",
   "metadata": {},
   "outputs": [],
   "source": [
    "### i dont think i need to actually merge the two \n",
    "### they are almost exactly the same, Top500 has more moives but not inflation adjusted gross worldwide\n",
    "### sample difference n = 557-475 = 82\n",
    "\n",
    "# 🤦‍♂️"
   ]
  },
  {
   "cell_type": "markdown",
   "id": "976b5ef1",
   "metadata": {},
   "source": [
    "---"
   ]
  },
  {
   "cell_type": "code",
   "execution_count": 36,
   "id": "81266405",
   "metadata": {},
   "outputs": [],
   "source": [
    "# Explore data, format columns if needed for stats testing"
   ]
  },
  {
   "cell_type": "code",
   "execution_count": 37,
   "id": "ae79bc79",
   "metadata": {},
   "outputs": [],
   "source": [
    "# look at the data frame that contains the budget and box office sales data, DOES NOT CONTAIN RATINGS or GENRES"
   ]
  },
  {
   "cell_type": "code",
   "execution_count": 38,
   "id": "245b3be4",
   "metadata": {
    "scrolled": true
   },
   "outputs": [
    {
     "name": "stdout",
     "output_type": "stream",
     "text": [
      "<class 'pandas.core.frame.DataFrame'>\n",
      "RangeIndex: 558 entries, 0 to 557\n",
      "Data columns (total 12 columns):\n",
      " #   Column                         Non-Null Count  Dtype  \n",
      "---  ------                         --------------  -----  \n",
      " 0   % budget recovered             558 non-null    object \n",
      " 1   % of gross from domestic       558 non-null    object \n",
      " 2   % of gross from international  558 non-null    object \n",
      " 3   budget (m)                     558 non-null    float64\n",
      " 4   decade                         558 non-null    object \n",
      " 5   domestic gross (m)             558 non-null    int32  \n",
      " 6   international gross (m)        558 non-null    int32  \n",
      " 7   title                          558 non-null    object \n",
      " 8   worldwide gross                558 non-null    object \n",
      " 9   worldwide gross (m)            558 non-null    float64\n",
      " 10  x times budget recovered       558 non-null    float64\n",
      " 11  year                           558 non-null    int64  \n",
      "dtypes: float64(3), int32(2), int64(1), object(6)\n",
      "memory usage: 48.1+ KB\n"
     ]
    }
   ],
   "source": [
    "top500movies_df1.info()"
   ]
  },
  {
   "cell_type": "code",
   "execution_count": 39,
   "id": "8b47ee94",
   "metadata": {},
   "outputs": [
    {
     "data": {
      "text/plain": [
       "['% budget recovered',\n",
       " '% of gross from domestic',\n",
       " '% of gross from international',\n",
       " 'budget (m)',\n",
       " 'decade',\n",
       " 'domestic gross (m)',\n",
       " 'international gross (m)',\n",
       " 'title',\n",
       " 'worldwide gross',\n",
       " 'worldwide gross (m)',\n",
       " 'x times budget recovered',\n",
       " 'year']"
      ]
     },
     "execution_count": 39,
     "metadata": {},
     "output_type": "execute_result"
    }
   ],
   "source": [
    "list(top500movies_df1)"
   ]
  },
  {
   "cell_type": "code",
   "execution_count": null,
   "id": "7e6144f1",
   "metadata": {},
   "outputs": [],
   "source": []
  },
  {
   "cell_type": "code",
   "execution_count": 40,
   "id": "02c0e821",
   "metadata": {},
   "outputs": [
    {
     "data": {
      "text/html": [
       "<div>\n",
       "<style scoped>\n",
       "    .dataframe tbody tr th:only-of-type {\n",
       "        vertical-align: middle;\n",
       "    }\n",
       "\n",
       "    .dataframe tbody tr th {\n",
       "        vertical-align: top;\n",
       "    }\n",
       "\n",
       "    .dataframe thead th {\n",
       "        text-align: right;\n",
       "    }\n",
       "</style>\n",
       "<table border=\"1\" class=\"dataframe\">\n",
       "  <thead>\n",
       "    <tr style=\"text-align: right;\">\n",
       "      <th></th>\n",
       "      <th>% budget recovered</th>\n",
       "      <th>% of gross from domestic</th>\n",
       "      <th>% of gross from international</th>\n",
       "      <th>budget (m)</th>\n",
       "      <th>decade</th>\n",
       "      <th>domestic gross (m)</th>\n",
       "      <th>international gross (m)</th>\n",
       "      <th>title</th>\n",
       "      <th>worldwide gross</th>\n",
       "      <th>worldwide gross (m)</th>\n",
       "      <th>x times budget recovered</th>\n",
       "      <th>year</th>\n",
       "    </tr>\n",
       "  </thead>\n",
       "  <tbody>\n",
       "    <tr>\n",
       "      <th>0</th>\n",
       "      <td>702%</td>\n",
       "      <td>46.2%</td>\n",
       "      <td>53.8%</td>\n",
       "      <td>65.0</td>\n",
       "      <td>2000's</td>\n",
       "      <td>211</td>\n",
       "      <td>245</td>\n",
       "      <td>300</td>\n",
       "      <td>456,082,343</td>\n",
       "      <td>456.0</td>\n",
       "      <td>7.0</td>\n",
       "      <td>2007</td>\n",
       "    </tr>\n",
       "    <tr>\n",
       "      <th>1</th>\n",
       "      <td>427%</td>\n",
       "      <td>41.4%</td>\n",
       "      <td>58.6%</td>\n",
       "      <td>90.0</td>\n",
       "      <td>2010's</td>\n",
       "      <td>159</td>\n",
       "      <td>225</td>\n",
       "      <td>1917</td>\n",
       "      <td>384,576,334</td>\n",
       "      <td>385.0</td>\n",
       "      <td>4.3</td>\n",
       "      <td>2019</td>\n",
       "    </tr>\n",
       "    <tr>\n",
       "      <th>2</th>\n",
       "      <td>396%</td>\n",
       "      <td>21.0%</td>\n",
       "      <td>79.0%</td>\n",
       "      <td>200.0</td>\n",
       "      <td>2000's</td>\n",
       "      <td>166</td>\n",
       "      <td>625</td>\n",
       "      <td>2012</td>\n",
       "      <td>791,217,826</td>\n",
       "      <td>791.0</td>\n",
       "      <td>4.0</td>\n",
       "      <td>2009</td>\n",
       "    </tr>\n",
       "    <tr>\n",
       "      <th>3</th>\n",
       "      <td>479%</td>\n",
       "      <td>42.5%</td>\n",
       "      <td>57.5%</td>\n",
       "      <td>67.0</td>\n",
       "      <td>1990's</td>\n",
       "      <td>136</td>\n",
       "      <td>185</td>\n",
       "      <td>101 Dalmatians</td>\n",
       "      <td>320,689,294</td>\n",
       "      <td>321.0</td>\n",
       "      <td>4.8</td>\n",
       "      <td>1996</td>\n",
       "    </tr>\n",
       "    <tr>\n",
       "      <th>4</th>\n",
       "      <td>663%</td>\n",
       "      <td>57.9%</td>\n",
       "      <td>42.1%</td>\n",
       "      <td>50.0</td>\n",
       "      <td>2010's</td>\n",
       "      <td>192</td>\n",
       "      <td>140</td>\n",
       "      <td>22 Jump Street</td>\n",
       "      <td>331,333,876</td>\n",
       "      <td>331.0</td>\n",
       "      <td>6.6</td>\n",
       "      <td>2014</td>\n",
       "    </tr>\n",
       "  </tbody>\n",
       "</table>\n",
       "</div>"
      ],
      "text/plain": [
       "  % budget recovered % of gross from domestic % of gross from international  \\\n",
       "0               702%                    46.2%                         53.8%   \n",
       "1               427%                    41.4%                         58.6%   \n",
       "2               396%                    21.0%                         79.0%   \n",
       "3               479%                    42.5%                         57.5%   \n",
       "4               663%                    57.9%                         42.1%   \n",
       "\n",
       "   budget (m)  decade  domestic gross (m)  international gross (m)  \\\n",
       "0        65.0  2000's                 211                      245   \n",
       "1        90.0  2010's                 159                      225   \n",
       "2       200.0  2000's                 166                      625   \n",
       "3        67.0  1990's                 136                      185   \n",
       "4        50.0  2010's                 192                      140   \n",
       "\n",
       "            title worldwide gross  worldwide gross (m)  \\\n",
       "0             300     456,082,343                456.0   \n",
       "1            1917     384,576,334                385.0   \n",
       "2            2012     791,217,826                791.0   \n",
       "3  101 Dalmatians     320,689,294                321.0   \n",
       "4  22 Jump Street     331,333,876                331.0   \n",
       "\n",
       "   x times budget recovered  year  \n",
       "0                       7.0  2007  \n",
       "1                       4.3  2019  \n",
       "2                       4.0  2009  \n",
       "3                       4.8  1996  \n",
       "4                       6.6  2014  "
      ]
     },
     "execution_count": 40,
     "metadata": {},
     "output_type": "execute_result"
    }
   ],
   "source": [
    "top500movies_df1.head()"
   ]
  },
  {
   "cell_type": "code",
   "execution_count": 41,
   "id": "1bacf2e2",
   "metadata": {},
   "outputs": [],
   "source": [
    "# look at min/max values for movies release year and budgets"
   ]
  },
  {
   "cell_type": "code",
   "execution_count": 42,
   "id": "ea444c7e",
   "metadata": {},
   "outputs": [
    {
     "data": {
      "text/plain": [
       "1973"
      ]
     },
     "execution_count": 42,
     "metadata": {},
     "output_type": "execute_result"
    }
   ],
   "source": [
    "top500movies_df1['year'].min()"
   ]
  },
  {
   "cell_type": "code",
   "execution_count": 43,
   "id": "9f94b383",
   "metadata": {},
   "outputs": [
    {
     "data": {
      "text/plain": [
       "2022"
      ]
     },
     "execution_count": 43,
     "metadata": {},
     "output_type": "execute_result"
    }
   ],
   "source": [
    "top500movies_df1['year'].max()"
   ]
  },
  {
   "cell_type": "code",
   "execution_count": 44,
   "id": "4240aff4",
   "metadata": {},
   "outputs": [
    {
     "data": {
      "text/plain": [
       "0.015"
      ]
     },
     "execution_count": 44,
     "metadata": {},
     "output_type": "execute_result"
    }
   ],
   "source": [
    "top500movies_df1['budget (m)'].min()"
   ]
  },
  {
   "cell_type": "code",
   "execution_count": 45,
   "id": "8820cfb4",
   "metadata": {
    "scrolled": true
   },
   "outputs": [
    {
     "data": {
      "text/plain": [
       "379.0"
      ]
     },
     "execution_count": 45,
     "metadata": {},
     "output_type": "execute_result"
    }
   ],
   "source": [
    "top500movies_df1['budget (m)'].max()"
   ]
  },
  {
   "cell_type": "code",
   "execution_count": 46,
   "id": "2e01bfc6",
   "metadata": {},
   "outputs": [
    {
     "data": {
      "text/plain": [
       "558"
      ]
     },
     "execution_count": 46,
     "metadata": {},
     "output_type": "execute_result"
    }
   ],
   "source": [
    "# count of how many movies titles there are\n",
    "top500movies_df1['title'].count()"
   ]
  },
  {
   "cell_type": "code",
   "execution_count": null,
   "id": "2b14e5d9",
   "metadata": {},
   "outputs": [],
   "source": []
  },
  {
   "cell_type": "code",
   "execution_count": null,
   "id": "687261ba",
   "metadata": {},
   "outputs": [],
   "source": []
  },
  {
   "cell_type": "code",
   "execution_count": 47,
   "id": "823dca08",
   "metadata": {},
   "outputs": [],
   "source": [
    "# Look at the data frame that only contains movie ratings and genres, DOES NOT CONTAIN BUDGET INFO"
   ]
  },
  {
   "cell_type": "code",
   "execution_count": 48,
   "id": "0e4f8835",
   "metadata": {},
   "outputs": [
    {
     "data": {
      "text/plain": [
       "['userId',\n",
       " 'movieId',\n",
       " 'rating',\n",
       " 'title',\n",
       " 'genres',\n",
       " 'genres.1',\n",
       " 'genres.2',\n",
       " 'genres.3',\n",
       " 'genres.4',\n",
       " 'genres.5',\n",
       " 'genres.6',\n",
       " 'genres.7',\n",
       " 'genres.8',\n",
       " 'genres.9']"
      ]
     },
     "execution_count": 48,
     "metadata": {},
     "output_type": "execute_result"
    }
   ],
   "source": [
    "list(movie_ratings_df)"
   ]
  },
  {
   "cell_type": "code",
   "execution_count": 49,
   "id": "deec7bcc",
   "metadata": {
    "scrolled": true
   },
   "outputs": [
    {
     "name": "stdout",
     "output_type": "stream",
     "text": [
      "<class 'pandas.core.frame.DataFrame'>\n",
      "Int64Index: 100836 entries, 0 to 100835\n",
      "Data columns (total 14 columns):\n",
      " #   Column    Non-Null Count   Dtype  \n",
      "---  ------    --------------   -----  \n",
      " 0   userId    100836 non-null  int64  \n",
      " 1   movieId   100836 non-null  int64  \n",
      " 2   rating    100836 non-null  float64\n",
      " 3   title     100836 non-null  object \n",
      " 4   genres    100836 non-null  object \n",
      " 5   genres.1  84422 non-null   object \n",
      " 6   genres.2  55860 non-null   object \n",
      " 7   genres.3  23971 non-null   object \n",
      " 8   genres.4  7270 non-null    object \n",
      " 9   genres.5  1751 non-null    object \n",
      " 10  genres.6  363 non-null     object \n",
      " 11  genres.7  3 non-null       object \n",
      " 12  genres.8  2 non-null       object \n",
      " 13  genres.9  2 non-null       object \n",
      "dtypes: float64(1), int64(2), object(11)\n",
      "memory usage: 11.5+ MB\n"
     ]
    }
   ],
   "source": [
    "movie_ratings_df.info()"
   ]
  },
  {
   "cell_type": "code",
   "execution_count": 50,
   "id": "95d75672",
   "metadata": {},
   "outputs": [
    {
     "data": {
      "text/plain": [
       "9719"
      ]
     },
     "execution_count": 50,
     "metadata": {},
     "output_type": "execute_result"
    }
   ],
   "source": [
    "# look a how many unique movie titles there are\n",
    "movie_ratings_df['title'].nunique()"
   ]
  },
  {
   "cell_type": "code",
   "execution_count": 51,
   "id": "61d8ad43",
   "metadata": {},
   "outputs": [
    {
     "data": {
      "text/plain": [
       "610"
      ]
     },
     "execution_count": 51,
     "metadata": {},
     "output_type": "execute_result"
    }
   ],
   "source": [
    "# # look a how many unique movie reviewers there are\n",
    "movie_ratings_df['userId'].nunique()"
   ]
  },
  {
   "cell_type": "code",
   "execution_count": 52,
   "id": "002a96f1",
   "metadata": {},
   "outputs": [
    {
     "data": {
      "text/plain": [
       "0.5"
      ]
     },
     "execution_count": 52,
     "metadata": {},
     "output_type": "execute_result"
    }
   ],
   "source": [
    "# look at min/max values for movies ratings to determine the scale range\n",
    "movie_ratings_df['rating'].min()"
   ]
  },
  {
   "cell_type": "code",
   "execution_count": 53,
   "id": "68d65702",
   "metadata": {
    "scrolled": true
   },
   "outputs": [
    {
     "data": {
      "text/plain": [
       "5.0"
      ]
     },
     "execution_count": 53,
     "metadata": {},
     "output_type": "execute_result"
    }
   ],
   "source": [
    "movie_ratings_df['rating'].max()"
   ]
  },
  {
   "cell_type": "code",
   "execution_count": null,
   "id": "ad4d72b3",
   "metadata": {},
   "outputs": [],
   "source": []
  },
  {
   "cell_type": "code",
   "execution_count": null,
   "id": "95100656",
   "metadata": {},
   "outputs": [],
   "source": []
  },
  {
   "cell_type": "markdown",
   "id": "42388d01",
   "metadata": {},
   "source": [
    "---"
   ]
  },
  {
   "cell_type": "code",
   "execution_count": 54,
   "id": "d3495a38",
   "metadata": {},
   "outputs": [],
   "source": [
    "# look at the data that contains movies ratings (0-10), genres, runtime and release year, DOES NOT CONTAIN BUDGET INFO"
   ]
  },
  {
   "cell_type": "code",
   "execution_count": 55,
   "id": "9424a44b",
   "metadata": {},
   "outputs": [
    {
     "name": "stdout",
     "output_type": "stream",
     "text": [
      "<class 'pandas.core.frame.DataFrame'>\n",
      "RangeIndex: 70 entries, 0 to 69\n",
      "Data columns (total 8 columns):\n",
      " #   Column          Non-Null Count  Dtype  \n",
      "---  ------          --------------  -----  \n",
      " 0   Title           70 non-null     object \n",
      " 1   IMDb Rating     70 non-null     float64\n",
      " 2   Runtime (mins)  70 non-null     int64  \n",
      " 3   Year            70 non-null     int64  \n",
      " 4   Genres          70 non-null     object \n",
      " 5   Num Votes       70 non-null     int64  \n",
      " 6   Release Date    70 non-null     object \n",
      " 7   Directors       70 non-null     object \n",
      "dtypes: float64(1), int64(3), object(4)\n",
      "memory usage: 4.5+ KB\n"
     ]
    }
   ],
   "source": [
    "yearbestmovie_df1.info()"
   ]
  },
  {
   "cell_type": "code",
   "execution_count": 56,
   "id": "709df560",
   "metadata": {},
   "outputs": [
    {
     "data": {
      "text/plain": [
       "['Title',\n",
       " 'IMDb Rating',\n",
       " 'Runtime (mins)',\n",
       " 'Year',\n",
       " 'Genres',\n",
       " 'Num Votes',\n",
       " 'Release Date',\n",
       " 'Directors']"
      ]
     },
     "execution_count": 56,
     "metadata": {},
     "output_type": "execute_result"
    }
   ],
   "source": [
    "list(yearbestmovie_df1)"
   ]
  },
  {
   "cell_type": "code",
   "execution_count": 57,
   "id": "dc582c8e",
   "metadata": {},
   "outputs": [
    {
     "data": {
      "text/html": [
       "<div>\n",
       "<style scoped>\n",
       "    .dataframe tbody tr th:only-of-type {\n",
       "        vertical-align: middle;\n",
       "    }\n",
       "\n",
       "    .dataframe tbody tr th {\n",
       "        vertical-align: top;\n",
       "    }\n",
       "\n",
       "    .dataframe thead th {\n",
       "        text-align: right;\n",
       "    }\n",
       "</style>\n",
       "<table border=\"1\" class=\"dataframe\">\n",
       "  <thead>\n",
       "    <tr style=\"text-align: right;\">\n",
       "      <th></th>\n",
       "      <th>Title</th>\n",
       "      <th>IMDb Rating</th>\n",
       "      <th>Runtime (mins)</th>\n",
       "      <th>Year</th>\n",
       "      <th>Genres</th>\n",
       "      <th>Num Votes</th>\n",
       "      <th>Release Date</th>\n",
       "      <th>Directors</th>\n",
       "    </tr>\n",
       "  </thead>\n",
       "  <tbody>\n",
       "    <tr>\n",
       "      <th>0</th>\n",
       "      <td>The Irishman</td>\n",
       "      <td>7.8</td>\n",
       "      <td>209</td>\n",
       "      <td>2019</td>\n",
       "      <td>Biography, Crime, Drama</td>\n",
       "      <td>401227</td>\n",
       "      <td>2019-09-27</td>\n",
       "      <td>Martin Scorsese</td>\n",
       "    </tr>\n",
       "    <tr>\n",
       "      <th>1</th>\n",
       "      <td>Incredibles 2</td>\n",
       "      <td>7.6</td>\n",
       "      <td>118</td>\n",
       "      <td>2018</td>\n",
       "      <td>Animation, Action, Adventure, Comedy, Family, ...</td>\n",
       "      <td>307380</td>\n",
       "      <td>2018-06-05</td>\n",
       "      <td>Brad Bird</td>\n",
       "    </tr>\n",
       "    <tr>\n",
       "      <th>2</th>\n",
       "      <td>Dunkirk</td>\n",
       "      <td>7.8</td>\n",
       "      <td>106</td>\n",
       "      <td>2017</td>\n",
       "      <td>Action, Drama, History, Thriller, War</td>\n",
       "      <td>678522</td>\n",
       "      <td>2017-07-13</td>\n",
       "      <td>Christopher Nolan</td>\n",
       "    </tr>\n",
       "    <tr>\n",
       "      <th>3</th>\n",
       "      <td>La La Land</td>\n",
       "      <td>8.0</td>\n",
       "      <td>128</td>\n",
       "      <td>2016</td>\n",
       "      <td>Comedy, Drama, Music, Musical, Romance</td>\n",
       "      <td>611601</td>\n",
       "      <td>2016-08-31</td>\n",
       "      <td>Damien Chazelle</td>\n",
       "    </tr>\n",
       "    <tr>\n",
       "      <th>4</th>\n",
       "      <td>Me and Earl and the Dying Girl</td>\n",
       "      <td>7.7</td>\n",
       "      <td>105</td>\n",
       "      <td>2015</td>\n",
       "      <td>Comedy, Drama, Romance</td>\n",
       "      <td>134350</td>\n",
       "      <td>2015-01-25</td>\n",
       "      <td>Alfonso Gomez-Rejon</td>\n",
       "    </tr>\n",
       "  </tbody>\n",
       "</table>\n",
       "</div>"
      ],
      "text/plain": [
       "                            Title  IMDb Rating  Runtime (mins)  Year  \\\n",
       "0                    The Irishman          7.8             209  2019   \n",
       "1                   Incredibles 2          7.6             118  2018   \n",
       "2                         Dunkirk          7.8             106  2017   \n",
       "3                      La La Land          8.0             128  2016   \n",
       "4  Me and Earl and the Dying Girl          7.7             105  2015   \n",
       "\n",
       "                                              Genres  Num Votes Release Date  \\\n",
       "0                            Biography, Crime, Drama     401227   2019-09-27   \n",
       "1  Animation, Action, Adventure, Comedy, Family, ...     307380   2018-06-05   \n",
       "2              Action, Drama, History, Thriller, War     678522   2017-07-13   \n",
       "3             Comedy, Drama, Music, Musical, Romance     611601   2016-08-31   \n",
       "4                             Comedy, Drama, Romance     134350   2015-01-25   \n",
       "\n",
       "             Directors  \n",
       "0      Martin Scorsese  \n",
       "1            Brad Bird  \n",
       "2    Christopher Nolan  \n",
       "3      Damien Chazelle  \n",
       "4  Alfonso Gomez-Rejon  "
      ]
     },
     "execution_count": 57,
     "metadata": {},
     "output_type": "execute_result"
    }
   ],
   "source": [
    "yearbestmovie_df1.head()"
   ]
  },
  {
   "cell_type": "code",
   "execution_count": 58,
   "id": "c4e962a3",
   "metadata": {},
   "outputs": [
    {
     "data": {
      "text/plain": [
       "6.5"
      ]
     },
     "execution_count": 58,
     "metadata": {},
     "output_type": "execute_result"
    }
   ],
   "source": [
    "# look at min/max values for movies ratings to determine the scale range\n",
    "yearbestmovie_df1['IMDb Rating'].min()"
   ]
  },
  {
   "cell_type": "code",
   "execution_count": 59,
   "id": "fa20c688",
   "metadata": {},
   "outputs": [
    {
     "data": {
      "text/plain": [
       "9.2"
      ]
     },
     "execution_count": 59,
     "metadata": {},
     "output_type": "execute_result"
    }
   ],
   "source": [
    "yearbestmovie_df1['IMDb Rating'].max()"
   ]
  },
  {
   "cell_type": "code",
   "execution_count": 60,
   "id": "a2b63a3e",
   "metadata": {},
   "outputs": [
    {
     "data": {
      "text/plain": [
       "'1950-08-04'"
      ]
     },
     "execution_count": 60,
     "metadata": {},
     "output_type": "execute_result"
    }
   ],
   "source": [
    "# look at min/max values for movies release year\n",
    "yearbestmovie_df1['Release Date'].min()"
   ]
  },
  {
   "cell_type": "code",
   "execution_count": 61,
   "id": "dab104f2",
   "metadata": {},
   "outputs": [
    {
     "data": {
      "text/plain": [
       "'2019-09-27'"
      ]
     },
     "execution_count": 61,
     "metadata": {},
     "output_type": "execute_result"
    }
   ],
   "source": [
    "yearbestmovie_df1['Release Date'].max()"
   ]
  },
  {
   "cell_type": "markdown",
   "id": "d2deb4ee",
   "metadata": {},
   "source": [
    "---"
   ]
  },
  {
   "cell_type": "code",
   "execution_count": 78,
   "id": "dc66f7da",
   "metadata": {},
   "outputs": [
    {
     "data": {
      "text/html": [
       "<div>\n",
       "<style scoped>\n",
       "    .dataframe tbody tr th:only-of-type {\n",
       "        vertical-align: middle;\n",
       "    }\n",
       "\n",
       "    .dataframe tbody tr th {\n",
       "        vertical-align: top;\n",
       "    }\n",
       "\n",
       "    .dataframe thead th {\n",
       "        text-align: right;\n",
       "    }\n",
       "</style>\n",
       "<table border=\"1\" class=\"dataframe\">\n",
       "  <thead>\n",
       "    <tr style=\"text-align: right;\">\n",
       "      <th></th>\n",
       "      <th>userId</th>\n",
       "      <th>movieId</th>\n",
       "      <th>rating</th>\n",
       "      <th>title</th>\n",
       "      <th>genres</th>\n",
       "      <th>genres.1</th>\n",
       "      <th>genres.2</th>\n",
       "      <th>genres.3</th>\n",
       "      <th>genres.4</th>\n",
       "      <th>genres.5</th>\n",
       "      <th>...</th>\n",
       "      <th>% of gross from domestic</th>\n",
       "      <th>% of gross from international</th>\n",
       "      <th>budget (m)</th>\n",
       "      <th>decade</th>\n",
       "      <th>domestic gross (m)</th>\n",
       "      <th>international gross (m)</th>\n",
       "      <th>worldwide gross</th>\n",
       "      <th>worldwide gross (m)</th>\n",
       "      <th>x times budget recovered</th>\n",
       "      <th>year</th>\n",
       "    </tr>\n",
       "  </thead>\n",
       "  <tbody>\n",
       "    <tr>\n",
       "      <th>0</th>\n",
       "      <td>1.0</td>\n",
       "      <td>1.0</td>\n",
       "      <td>4.0</td>\n",
       "      <td>Toy Story (1995)</td>\n",
       "      <td>Adventure</td>\n",
       "      <td>Animation</td>\n",
       "      <td>Children</td>\n",
       "      <td>Comedy</td>\n",
       "      <td>Fantasy</td>\n",
       "      <td>NaN</td>\n",
       "      <td>...</td>\n",
       "      <td>NaN</td>\n",
       "      <td>NaN</td>\n",
       "      <td>NaN</td>\n",
       "      <td>NaN</td>\n",
       "      <td>NaN</td>\n",
       "      <td>NaN</td>\n",
       "      <td>NaN</td>\n",
       "      <td>NaN</td>\n",
       "      <td>NaN</td>\n",
       "      <td>NaN</td>\n",
       "    </tr>\n",
       "    <tr>\n",
       "      <th>1</th>\n",
       "      <td>5.0</td>\n",
       "      <td>1.0</td>\n",
       "      <td>4.0</td>\n",
       "      <td>Toy Story (1995)</td>\n",
       "      <td>Adventure</td>\n",
       "      <td>Animation</td>\n",
       "      <td>Children</td>\n",
       "      <td>Comedy</td>\n",
       "      <td>Fantasy</td>\n",
       "      <td>NaN</td>\n",
       "      <td>...</td>\n",
       "      <td>NaN</td>\n",
       "      <td>NaN</td>\n",
       "      <td>NaN</td>\n",
       "      <td>NaN</td>\n",
       "      <td>NaN</td>\n",
       "      <td>NaN</td>\n",
       "      <td>NaN</td>\n",
       "      <td>NaN</td>\n",
       "      <td>NaN</td>\n",
       "      <td>NaN</td>\n",
       "    </tr>\n",
       "    <tr>\n",
       "      <th>2</th>\n",
       "      <td>7.0</td>\n",
       "      <td>1.0</td>\n",
       "      <td>4.5</td>\n",
       "      <td>Toy Story (1995)</td>\n",
       "      <td>Adventure</td>\n",
       "      <td>Animation</td>\n",
       "      <td>Children</td>\n",
       "      <td>Comedy</td>\n",
       "      <td>Fantasy</td>\n",
       "      <td>NaN</td>\n",
       "      <td>...</td>\n",
       "      <td>NaN</td>\n",
       "      <td>NaN</td>\n",
       "      <td>NaN</td>\n",
       "      <td>NaN</td>\n",
       "      <td>NaN</td>\n",
       "      <td>NaN</td>\n",
       "      <td>NaN</td>\n",
       "      <td>NaN</td>\n",
       "      <td>NaN</td>\n",
       "      <td>NaN</td>\n",
       "    </tr>\n",
       "    <tr>\n",
       "      <th>3</th>\n",
       "      <td>15.0</td>\n",
       "      <td>1.0</td>\n",
       "      <td>2.5</td>\n",
       "      <td>Toy Story (1995)</td>\n",
       "      <td>Adventure</td>\n",
       "      <td>Animation</td>\n",
       "      <td>Children</td>\n",
       "      <td>Comedy</td>\n",
       "      <td>Fantasy</td>\n",
       "      <td>NaN</td>\n",
       "      <td>...</td>\n",
       "      <td>NaN</td>\n",
       "      <td>NaN</td>\n",
       "      <td>NaN</td>\n",
       "      <td>NaN</td>\n",
       "      <td>NaN</td>\n",
       "      <td>NaN</td>\n",
       "      <td>NaN</td>\n",
       "      <td>NaN</td>\n",
       "      <td>NaN</td>\n",
       "      <td>NaN</td>\n",
       "    </tr>\n",
       "    <tr>\n",
       "      <th>4</th>\n",
       "      <td>17.0</td>\n",
       "      <td>1.0</td>\n",
       "      <td>4.5</td>\n",
       "      <td>Toy Story (1995)</td>\n",
       "      <td>Adventure</td>\n",
       "      <td>Animation</td>\n",
       "      <td>Children</td>\n",
       "      <td>Comedy</td>\n",
       "      <td>Fantasy</td>\n",
       "      <td>NaN</td>\n",
       "      <td>...</td>\n",
       "      <td>NaN</td>\n",
       "      <td>NaN</td>\n",
       "      <td>NaN</td>\n",
       "      <td>NaN</td>\n",
       "      <td>NaN</td>\n",
       "      <td>NaN</td>\n",
       "      <td>NaN</td>\n",
       "      <td>NaN</td>\n",
       "      <td>NaN</td>\n",
       "      <td>NaN</td>\n",
       "    </tr>\n",
       "  </tbody>\n",
       "</table>\n",
       "<p>5 rows × 25 columns</p>\n",
       "</div>"
      ],
      "text/plain": [
       "   userId  movieId  rating             title     genres   genres.1  genres.2  \\\n",
       "0     1.0      1.0     4.0  Toy Story (1995)  Adventure  Animation  Children   \n",
       "1     5.0      1.0     4.0  Toy Story (1995)  Adventure  Animation  Children   \n",
       "2     7.0      1.0     4.5  Toy Story (1995)  Adventure  Animation  Children   \n",
       "3    15.0      1.0     2.5  Toy Story (1995)  Adventure  Animation  Children   \n",
       "4    17.0      1.0     4.5  Toy Story (1995)  Adventure  Animation  Children   \n",
       "\n",
       "  genres.3 genres.4 genres.5  ... % of gross from domestic  \\\n",
       "0   Comedy  Fantasy      NaN  ...                      NaN   \n",
       "1   Comedy  Fantasy      NaN  ...                      NaN   \n",
       "2   Comedy  Fantasy      NaN  ...                      NaN   \n",
       "3   Comedy  Fantasy      NaN  ...                      NaN   \n",
       "4   Comedy  Fantasy      NaN  ...                      NaN   \n",
       "\n",
       "  % of gross from international budget (m) decade domestic gross (m)  \\\n",
       "0                           NaN        NaN    NaN                NaN   \n",
       "1                           NaN        NaN    NaN                NaN   \n",
       "2                           NaN        NaN    NaN                NaN   \n",
       "3                           NaN        NaN    NaN                NaN   \n",
       "4                           NaN        NaN    NaN                NaN   \n",
       "\n",
       "  international gross (m) worldwide gross  worldwide gross (m)  \\\n",
       "0                     NaN             NaN                  NaN   \n",
       "1                     NaN             NaN                  NaN   \n",
       "2                     NaN             NaN                  NaN   \n",
       "3                     NaN             NaN                  NaN   \n",
       "4                     NaN             NaN                  NaN   \n",
       "\n",
       "  x times budget recovered  year  \n",
       "0                      NaN   NaN  \n",
       "1                      NaN   NaN  \n",
       "2                      NaN   NaN  \n",
       "3                      NaN   NaN  \n",
       "4                      NaN   NaN  \n",
       "\n",
       "[5 rows x 25 columns]"
      ]
     },
     "execution_count": 78,
     "metadata": {},
     "output_type": "execute_result"
    }
   ],
   "source": [
    "# merge the top500 df into the movie_ratings_df, so that all the movies that got rated also have the budget/sales info\n",
    "\n",
    "ratingsBudget_df = pd.merge(movie_ratings_df, top500movies_df1, on='title', how='outer')\n",
    "ratingsBudget_df.head()"
   ]
  },
  {
   "cell_type": "code",
   "execution_count": 79,
   "id": "7fb9f226",
   "metadata": {},
   "outputs": [
    {
     "data": {
      "text/plain": [
       "['userId',\n",
       " 'movieId',\n",
       " 'rating',\n",
       " 'title',\n",
       " 'genres',\n",
       " 'genres.1',\n",
       " 'genres.2',\n",
       " 'genres.3',\n",
       " 'genres.4',\n",
       " 'genres.5',\n",
       " 'genres.6',\n",
       " 'genres.7',\n",
       " 'genres.8',\n",
       " 'genres.9',\n",
       " '% budget recovered',\n",
       " '% of gross from domestic',\n",
       " '% of gross from international',\n",
       " 'budget (m)',\n",
       " 'decade',\n",
       " 'domestic gross (m)',\n",
       " 'international gross (m)',\n",
       " 'worldwide gross',\n",
       " 'worldwide gross (m)',\n",
       " 'x times budget recovered',\n",
       " 'year']"
      ]
     },
     "execution_count": 79,
     "metadata": {},
     "output_type": "execute_result"
    }
   ],
   "source": [
    "# list of column names to see if they all merged over and to get names of columns to drop\n",
    "list(ratingsBudget_df)"
   ]
  },
  {
   "cell_type": "code",
   "execution_count": 80,
   "id": "73a752eb",
   "metadata": {},
   "outputs": [
    {
     "name": "stdout",
     "output_type": "stream",
     "text": [
      "<class 'pandas.core.frame.DataFrame'>\n",
      "Int64Index: 101392 entries, 0 to 101391\n",
      "Data columns (total 23 columns):\n",
      " #   Column                         Non-Null Count   Dtype  \n",
      "---  ------                         --------------   -----  \n",
      " 0   rating                         100836 non-null  float64\n",
      " 1   title                          101392 non-null  object \n",
      " 2   genres                         100836 non-null  object \n",
      " 3   genres.1                       84422 non-null   object \n",
      " 4   genres.2                       55860 non-null   object \n",
      " 5   genres.3                       23971 non-null   object \n",
      " 6   genres.4                       7270 non-null    object \n",
      " 7   genres.5                       1751 non-null    object \n",
      " 8   genres.6                       363 non-null     object \n",
      " 9   genres.7                       3 non-null       object \n",
      " 10  genres.8                       2 non-null       object \n",
      " 11  genres.9                       2 non-null       object \n",
      " 12  % budget recovered             571 non-null     object \n",
      " 13  % of gross from domestic       571 non-null     object \n",
      " 14  % of gross from international  571 non-null     object \n",
      " 15  budget (m)                     571 non-null     float64\n",
      " 16  decade                         571 non-null     object \n",
      " 17  domestic gross (m)             571 non-null     float64\n",
      " 18  international gross (m)        571 non-null     float64\n",
      " 19  worldwide gross                571 non-null     object \n",
      " 20  worldwide gross (m)            571 non-null     float64\n",
      " 21  x times budget recovered       571 non-null     float64\n",
      " 22  year                           571 non-null     float64\n",
      "dtypes: float64(7), object(16)\n",
      "memory usage: 18.6+ MB\n"
     ]
    }
   ],
   "source": [
    "# drop extra columns, again...\n",
    "ratingsBudget_df.drop(['userId', 'movieId'], axis=1, inplace=True)\n",
    "ratingsBudget_df.info()"
   ]
  },
  {
   "cell_type": "code",
   "execution_count": 81,
   "id": "d157dc37",
   "metadata": {},
   "outputs": [
    {
     "name": "stdout",
     "output_type": "stream",
     "text": [
      "<class 'pandas.core.frame.DataFrame'>\n",
      "Int64Index: 571 entries, 78928 to 101391\n",
      "Data columns (total 23 columns):\n",
      " #   Column                         Non-Null Count  Dtype  \n",
      "---  ------                         --------------  -----  \n",
      " 0   rating                         15 non-null     float64\n",
      " 1   title                          571 non-null    object \n",
      " 2   genres                         15 non-null     object \n",
      " 3   genres.1                       15 non-null     object \n",
      " 4   genres.2                       15 non-null     object \n",
      " 5   genres.3                       0 non-null      object \n",
      " 6   genres.4                       0 non-null      object \n",
      " 7   genres.5                       0 non-null      object \n",
      " 8   genres.6                       0 non-null      object \n",
      " 9   genres.7                       0 non-null      object \n",
      " 10  genres.8                       0 non-null      object \n",
      " 11  genres.9                       0 non-null      object \n",
      " 12  % budget recovered             571 non-null    object \n",
      " 13  % of gross from domestic       571 non-null    object \n",
      " 14  % of gross from international  571 non-null    object \n",
      " 15  budget (m)                     571 non-null    float64\n",
      " 16  decade                         571 non-null    object \n",
      " 17  domestic gross (m)             571 non-null    float64\n",
      " 18  international gross (m)        571 non-null    float64\n",
      " 19  worldwide gross                571 non-null    object \n",
      " 20  worldwide gross (m)            571 non-null    float64\n",
      " 21  x times budget recovered       571 non-null    float64\n",
      " 22  year                           571 non-null    float64\n",
      "dtypes: float64(7), object(16)\n",
      "memory usage: 107.1+ KB\n"
     ]
    }
   ],
   "source": [
    "# drop ratings for movies without matching budget info, df.drop(rows if df([column=12])=null)\n",
    "\n",
    "ratingsBudget_df = ratingsBudget_df[ratingsBudget_df['budget (m)'].notnull()]\n",
    "ratingsBudget_df.info()"
   ]
  },
  {
   "cell_type": "code",
   "execution_count": 82,
   "id": "699c61b0",
   "metadata": {},
   "outputs": [
    {
     "data": {
      "text/html": [
       "<div>\n",
       "<style scoped>\n",
       "    .dataframe tbody tr th:only-of-type {\n",
       "        vertical-align: middle;\n",
       "    }\n",
       "\n",
       "    .dataframe tbody tr th {\n",
       "        vertical-align: top;\n",
       "    }\n",
       "\n",
       "    .dataframe thead th {\n",
       "        text-align: right;\n",
       "    }\n",
       "</style>\n",
       "<table border=\"1\" class=\"dataframe\">\n",
       "  <thead>\n",
       "    <tr style=\"text-align: right;\">\n",
       "      <th></th>\n",
       "      <th>rating</th>\n",
       "      <th>title</th>\n",
       "      <th>genres</th>\n",
       "      <th>genres.1</th>\n",
       "      <th>genres.2</th>\n",
       "      <th>genres.3</th>\n",
       "      <th>genres.4</th>\n",
       "      <th>genres.5</th>\n",
       "      <th>genres.6</th>\n",
       "      <th>genres.7</th>\n",
       "      <th>...</th>\n",
       "      <th>% of gross from domestic</th>\n",
       "      <th>% of gross from international</th>\n",
       "      <th>budget (m)</th>\n",
       "      <th>decade</th>\n",
       "      <th>domestic gross (m)</th>\n",
       "      <th>international gross (m)</th>\n",
       "      <th>worldwide gross</th>\n",
       "      <th>worldwide gross (m)</th>\n",
       "      <th>x times budget recovered</th>\n",
       "      <th>year</th>\n",
       "    </tr>\n",
       "  </thead>\n",
       "  <tbody>\n",
       "    <tr>\n",
       "      <th>78928</th>\n",
       "      <td>2.0</td>\n",
       "      <td>The Jungle Book (2016)</td>\n",
       "      <td>Adventure</td>\n",
       "      <td>Drama</td>\n",
       "      <td>Fantasy</td>\n",
       "      <td>NaN</td>\n",
       "      <td>NaN</td>\n",
       "      <td>NaN</td>\n",
       "      <td>NaN</td>\n",
       "      <td>NaN</td>\n",
       "      <td>...</td>\n",
       "      <td>37.7%</td>\n",
       "      <td>62.3%</td>\n",
       "      <td>177.0</td>\n",
       "      <td>2010's</td>\n",
       "      <td>364.0</td>\n",
       "      <td>603.0</td>\n",
       "      <td>966,554,929</td>\n",
       "      <td>967.0</td>\n",
       "      <td>5.5</td>\n",
       "      <td>2016.0</td>\n",
       "    </tr>\n",
       "    <tr>\n",
       "      <th>78929</th>\n",
       "      <td>3.0</td>\n",
       "      <td>The Jungle Book (2016)</td>\n",
       "      <td>Adventure</td>\n",
       "      <td>Drama</td>\n",
       "      <td>Fantasy</td>\n",
       "      <td>NaN</td>\n",
       "      <td>NaN</td>\n",
       "      <td>NaN</td>\n",
       "      <td>NaN</td>\n",
       "      <td>NaN</td>\n",
       "      <td>...</td>\n",
       "      <td>37.7%</td>\n",
       "      <td>62.3%</td>\n",
       "      <td>177.0</td>\n",
       "      <td>2010's</td>\n",
       "      <td>364.0</td>\n",
       "      <td>603.0</td>\n",
       "      <td>966,554,929</td>\n",
       "      <td>967.0</td>\n",
       "      <td>5.5</td>\n",
       "      <td>2016.0</td>\n",
       "    </tr>\n",
       "    <tr>\n",
       "      <th>78930</th>\n",
       "      <td>3.5</td>\n",
       "      <td>The Jungle Book (2016)</td>\n",
       "      <td>Adventure</td>\n",
       "      <td>Drama</td>\n",
       "      <td>Fantasy</td>\n",
       "      <td>NaN</td>\n",
       "      <td>NaN</td>\n",
       "      <td>NaN</td>\n",
       "      <td>NaN</td>\n",
       "      <td>NaN</td>\n",
       "      <td>...</td>\n",
       "      <td>37.7%</td>\n",
       "      <td>62.3%</td>\n",
       "      <td>177.0</td>\n",
       "      <td>2010's</td>\n",
       "      <td>364.0</td>\n",
       "      <td>603.0</td>\n",
       "      <td>966,554,929</td>\n",
       "      <td>967.0</td>\n",
       "      <td>5.5</td>\n",
       "      <td>2016.0</td>\n",
       "    </tr>\n",
       "    <tr>\n",
       "      <th>78931</th>\n",
       "      <td>4.5</td>\n",
       "      <td>The Jungle Book (2016)</td>\n",
       "      <td>Adventure</td>\n",
       "      <td>Drama</td>\n",
       "      <td>Fantasy</td>\n",
       "      <td>NaN</td>\n",
       "      <td>NaN</td>\n",
       "      <td>NaN</td>\n",
       "      <td>NaN</td>\n",
       "      <td>NaN</td>\n",
       "      <td>...</td>\n",
       "      <td>37.7%</td>\n",
       "      <td>62.3%</td>\n",
       "      <td>177.0</td>\n",
       "      <td>2010's</td>\n",
       "      <td>364.0</td>\n",
       "      <td>603.0</td>\n",
       "      <td>966,554,929</td>\n",
       "      <td>967.0</td>\n",
       "      <td>5.5</td>\n",
       "      <td>2016.0</td>\n",
       "    </tr>\n",
       "    <tr>\n",
       "      <th>78932</th>\n",
       "      <td>3.5</td>\n",
       "      <td>The Jungle Book (2016)</td>\n",
       "      <td>Adventure</td>\n",
       "      <td>Drama</td>\n",
       "      <td>Fantasy</td>\n",
       "      <td>NaN</td>\n",
       "      <td>NaN</td>\n",
       "      <td>NaN</td>\n",
       "      <td>NaN</td>\n",
       "      <td>NaN</td>\n",
       "      <td>...</td>\n",
       "      <td>37.7%</td>\n",
       "      <td>62.3%</td>\n",
       "      <td>177.0</td>\n",
       "      <td>2010's</td>\n",
       "      <td>364.0</td>\n",
       "      <td>603.0</td>\n",
       "      <td>966,554,929</td>\n",
       "      <td>967.0</td>\n",
       "      <td>5.5</td>\n",
       "      <td>2016.0</td>\n",
       "    </tr>\n",
       "  </tbody>\n",
       "</table>\n",
       "<p>5 rows × 23 columns</p>\n",
       "</div>"
      ],
      "text/plain": [
       "       rating                   title     genres genres.1 genres.2 genres.3  \\\n",
       "78928     2.0  The Jungle Book (2016)  Adventure    Drama  Fantasy      NaN   \n",
       "78929     3.0  The Jungle Book (2016)  Adventure    Drama  Fantasy      NaN   \n",
       "78930     3.5  The Jungle Book (2016)  Adventure    Drama  Fantasy      NaN   \n",
       "78931     4.5  The Jungle Book (2016)  Adventure    Drama  Fantasy      NaN   \n",
       "78932     3.5  The Jungle Book (2016)  Adventure    Drama  Fantasy      NaN   \n",
       "\n",
       "      genres.4 genres.5 genres.6 genres.7  ... % of gross from domestic  \\\n",
       "78928      NaN      NaN      NaN      NaN  ...                    37.7%   \n",
       "78929      NaN      NaN      NaN      NaN  ...                    37.7%   \n",
       "78930      NaN      NaN      NaN      NaN  ...                    37.7%   \n",
       "78931      NaN      NaN      NaN      NaN  ...                    37.7%   \n",
       "78932      NaN      NaN      NaN      NaN  ...                    37.7%   \n",
       "\n",
       "      % of gross from international budget (m)  decade domestic gross (m)  \\\n",
       "78928                         62.3%      177.0  2010's              364.0   \n",
       "78929                         62.3%      177.0  2010's              364.0   \n",
       "78930                         62.3%      177.0  2010's              364.0   \n",
       "78931                         62.3%      177.0  2010's              364.0   \n",
       "78932                         62.3%      177.0  2010's              364.0   \n",
       "\n",
       "       international gross (m) worldwide gross  worldwide gross (m)  \\\n",
       "78928                    603.0     966,554,929                967.0   \n",
       "78929                    603.0     966,554,929                967.0   \n",
       "78930                    603.0     966,554,929                967.0   \n",
       "78931                    603.0     966,554,929                967.0   \n",
       "78932                    603.0     966,554,929                967.0   \n",
       "\n",
       "       x times budget recovered    year  \n",
       "78928                       5.5  2016.0  \n",
       "78929                       5.5  2016.0  \n",
       "78930                       5.5  2016.0  \n",
       "78931                       5.5  2016.0  \n",
       "78932                       5.5  2016.0  \n",
       "\n",
       "[5 rows x 23 columns]"
      ]
     },
     "execution_count": 82,
     "metadata": {},
     "output_type": "execute_result"
    }
   ],
   "source": [
    "ratingsBudget_df.head(5)"
   ]
  },
  {
   "cell_type": "code",
   "execution_count": 83,
   "id": "c38ca69a",
   "metadata": {},
   "outputs": [
    {
     "data": {
      "text/plain": [
       "array([nan], dtype=object)"
      ]
     },
     "execution_count": 83,
     "metadata": {},
     "output_type": "execute_result"
    }
   ],
   "source": [
    "# list of unique values from genres.3-9 columns to see if they are all nulls\n",
    "ratingsBudget_df['genres.3'].unique()"
   ]
  },
  {
   "cell_type": "code",
   "execution_count": 84,
   "id": "ba494206",
   "metadata": {},
   "outputs": [
    {
     "data": {
      "text/plain": [
       "0"
      ]
     },
     "execution_count": 84,
     "metadata": {},
     "output_type": "execute_result"
    }
   ],
   "source": [
    "ratingsBudget_df['genres.4'].nunique()"
   ]
  },
  {
   "cell_type": "code",
   "execution_count": 85,
   "id": "415369ad",
   "metadata": {},
   "outputs": [
    {
     "data": {
      "text/plain": [
       "0"
      ]
     },
     "execution_count": 85,
     "metadata": {},
     "output_type": "execute_result"
    }
   ],
   "source": [
    "ratingsBudget_df['genres.5'].nunique()"
   ]
  },
  {
   "cell_type": "code",
   "execution_count": 86,
   "id": "9f8b2b59",
   "metadata": {},
   "outputs": [
    {
     "data": {
      "text/plain": [
       "0"
      ]
     },
     "execution_count": 86,
     "metadata": {},
     "output_type": "execute_result"
    }
   ],
   "source": [
    "ratingsBudget_df['genres.6'].nunique()"
   ]
  },
  {
   "cell_type": "code",
   "execution_count": 87,
   "id": "c4032c7d",
   "metadata": {},
   "outputs": [
    {
     "data": {
      "text/plain": [
       "0"
      ]
     },
     "execution_count": 87,
     "metadata": {},
     "output_type": "execute_result"
    }
   ],
   "source": [
    "ratingsBudget_df['genres.7'].nunique()"
   ]
  },
  {
   "cell_type": "code",
   "execution_count": 88,
   "id": "b2972b6f",
   "metadata": {},
   "outputs": [
    {
     "data": {
      "text/plain": [
       "0"
      ]
     },
     "execution_count": 88,
     "metadata": {},
     "output_type": "execute_result"
    }
   ],
   "source": [
    "ratingsBudget_df['genres.8'].nunique()"
   ]
  },
  {
   "cell_type": "code",
   "execution_count": 89,
   "id": "12166ab2",
   "metadata": {},
   "outputs": [
    {
     "data": {
      "text/plain": [
       "0"
      ]
     },
     "execution_count": 89,
     "metadata": {},
     "output_type": "execute_result"
    }
   ],
   "source": [
    "ratingsBudget_df['genres.9'].nunique()"
   ]
  },
  {
   "cell_type": "code",
   "execution_count": 90,
   "id": "45e2463c",
   "metadata": {},
   "outputs": [
    {
     "name": "stdout",
     "output_type": "stream",
     "text": [
      "<class 'pandas.core.frame.DataFrame'>\n",
      "Int64Index: 571 entries, 78928 to 101391\n",
      "Data columns (total 16 columns):\n",
      " #   Column                         Non-Null Count  Dtype  \n",
      "---  ------                         --------------  -----  \n",
      " 0   rating                         15 non-null     float64\n",
      " 1   title                          571 non-null    object \n",
      " 2   genres                         15 non-null     object \n",
      " 3   genres.1                       15 non-null     object \n",
      " 4   genres.2                       15 non-null     object \n",
      " 5   % budget recovered             571 non-null    object \n",
      " 6   % of gross from domestic       571 non-null    object \n",
      " 7   % of gross from international  571 non-null    object \n",
      " 8   budget (m)                     571 non-null    float64\n",
      " 9   decade                         571 non-null    object \n",
      " 10  domestic gross (m)             571 non-null    float64\n",
      " 11  international gross (m)        571 non-null    float64\n",
      " 12  worldwide gross                571 non-null    object \n",
      " 13  worldwide gross (m)            571 non-null    float64\n",
      " 14  x times budget recovered       571 non-null    float64\n",
      " 15  year                           571 non-null    float64\n",
      "dtypes: float64(7), object(9)\n",
      "memory usage: 75.8+ KB\n"
     ]
    }
   ],
   "source": [
    "# drop extra columns, again...\n",
    "ratingsBudget_df = ratingsBudget_df.drop(ratingsBudget_df.columns[[5,6,7,8,9,10,11]], axis=1)\n",
    "ratingsBudget_df.info()"
   ]
  },
  {
   "cell_type": "code",
   "execution_count": 91,
   "id": "3e517787",
   "metadata": {},
   "outputs": [
    {
     "name": "stdout",
     "output_type": "stream",
     "text": [
      "<class 'pandas.core.frame.DataFrame'>\n",
      "Int64Index: 571 entries, 78928 to 101391\n",
      "Data columns (total 16 columns):\n",
      " #   Column                         Non-Null Count  Dtype  \n",
      "---  ------                         --------------  -----  \n",
      " 0   rating                         15 non-null     float64\n",
      " 1   title                          571 non-null    object \n",
      " 2   genres                         15 non-null     object \n",
      " 3   genres.1                       15 non-null     object \n",
      " 4   genres.2                       15 non-null     object \n",
      " 5   % budget recovered             571 non-null    object \n",
      " 6   % of gross from domestic       571 non-null    object \n",
      " 7   % of gross from international  571 non-null    object \n",
      " 8   budget (m)                     571 non-null    float64\n",
      " 9   decade                         571 non-null    object \n",
      " 10  domestic gross (m)             571 non-null    float64\n",
      " 11  international gross (m)        571 non-null    float64\n",
      " 12  worldwide gross                571 non-null    object \n",
      " 13  worldwide gross (m)            571 non-null    float64\n",
      " 14  x times budget recovered       571 non-null    float64\n",
      " 15  year                           571 non-null    float64\n",
      "dtypes: float64(7), object(9)\n",
      "memory usage: 75.8+ KB\n"
     ]
    }
   ],
   "source": [
    "ratingsBudget_df.info()"
   ]
  },
  {
   "cell_type": "code",
   "execution_count": 92,
   "id": "76d891be",
   "metadata": {},
   "outputs": [],
   "source": [
    "# all data has been merged together for analysis question #2 and if needed for #1"
   ]
  },
  {
   "cell_type": "markdown",
   "id": "17d00715",
   "metadata": {},
   "source": [
    "---"
   ]
  },
  {
   "cell_type": "code",
   "execution_count": 93,
   "id": "b9d8990e",
   "metadata": {},
   "outputs": [],
   "source": [
    "# Looking at my first question \n",
    "##    Does a movies budget influnce box office success (gross)?\n",
    "##     IV - budget (m) is continuous, float64 '177.0'\n",
    "##     DV -  worldwide gross (m) is continuous, float64 '967.0'\n",
    "\n",
    "## This looks like its fits for a linear regression, lets test the assumptions to find out."
   ]
  },
  {
   "cell_type": "code",
   "execution_count": 94,
   "id": "45ed94ec",
   "metadata": {},
   "outputs": [
    {
     "data": {
      "text/html": [
       "<div>\n",
       "<style scoped>\n",
       "    .dataframe tbody tr th:only-of-type {\n",
       "        vertical-align: middle;\n",
       "    }\n",
       "\n",
       "    .dataframe tbody tr th {\n",
       "        vertical-align: top;\n",
       "    }\n",
       "\n",
       "    .dataframe thead th {\n",
       "        text-align: right;\n",
       "    }\n",
       "</style>\n",
       "<table border=\"1\" class=\"dataframe\">\n",
       "  <thead>\n",
       "    <tr style=\"text-align: right;\">\n",
       "      <th></th>\n",
       "      <th>% budget recovered</th>\n",
       "      <th>% of gross from domestic</th>\n",
       "      <th>% of gross from international</th>\n",
       "      <th>budget (m)</th>\n",
       "      <th>decade</th>\n",
       "      <th>domestic gross (m)</th>\n",
       "      <th>international gross (m)</th>\n",
       "      <th>title</th>\n",
       "      <th>worldwide gross</th>\n",
       "      <th>worldwide gross (m)</th>\n",
       "      <th>x times budget recovered</th>\n",
       "      <th>year</th>\n",
       "    </tr>\n",
       "  </thead>\n",
       "  <tbody>\n",
       "    <tr>\n",
       "      <th>0</th>\n",
       "      <td>702%</td>\n",
       "      <td>46.2%</td>\n",
       "      <td>53.8%</td>\n",
       "      <td>65.0</td>\n",
       "      <td>2000's</td>\n",
       "      <td>211</td>\n",
       "      <td>245</td>\n",
       "      <td>300</td>\n",
       "      <td>456,082,343</td>\n",
       "      <td>456.0</td>\n",
       "      <td>7.0</td>\n",
       "      <td>2007</td>\n",
       "    </tr>\n",
       "    <tr>\n",
       "      <th>1</th>\n",
       "      <td>427%</td>\n",
       "      <td>41.4%</td>\n",
       "      <td>58.6%</td>\n",
       "      <td>90.0</td>\n",
       "      <td>2010's</td>\n",
       "      <td>159</td>\n",
       "      <td>225</td>\n",
       "      <td>1917</td>\n",
       "      <td>384,576,334</td>\n",
       "      <td>385.0</td>\n",
       "      <td>4.3</td>\n",
       "      <td>2019</td>\n",
       "    </tr>\n",
       "    <tr>\n",
       "      <th>2</th>\n",
       "      <td>396%</td>\n",
       "      <td>21.0%</td>\n",
       "      <td>79.0%</td>\n",
       "      <td>200.0</td>\n",
       "      <td>2000's</td>\n",
       "      <td>166</td>\n",
       "      <td>625</td>\n",
       "      <td>2012</td>\n",
       "      <td>791,217,826</td>\n",
       "      <td>791.0</td>\n",
       "      <td>4.0</td>\n",
       "      <td>2009</td>\n",
       "    </tr>\n",
       "    <tr>\n",
       "      <th>3</th>\n",
       "      <td>479%</td>\n",
       "      <td>42.5%</td>\n",
       "      <td>57.5%</td>\n",
       "      <td>67.0</td>\n",
       "      <td>1990's</td>\n",
       "      <td>136</td>\n",
       "      <td>185</td>\n",
       "      <td>101 Dalmatians</td>\n",
       "      <td>320,689,294</td>\n",
       "      <td>321.0</td>\n",
       "      <td>4.8</td>\n",
       "      <td>1996</td>\n",
       "    </tr>\n",
       "    <tr>\n",
       "      <th>4</th>\n",
       "      <td>663%</td>\n",
       "      <td>57.9%</td>\n",
       "      <td>42.1%</td>\n",
       "      <td>50.0</td>\n",
       "      <td>2010's</td>\n",
       "      <td>192</td>\n",
       "      <td>140</td>\n",
       "      <td>22 Jump Street</td>\n",
       "      <td>331,333,876</td>\n",
       "      <td>331.0</td>\n",
       "      <td>6.6</td>\n",
       "      <td>2014</td>\n",
       "    </tr>\n",
       "    <tr>\n",
       "      <th>5</th>\n",
       "      <td>307%</td>\n",
       "      <td>31.6%</td>\n",
       "      <td>68.4%</td>\n",
       "      <td>110.0</td>\n",
       "      <td>2010's</td>\n",
       "      <td>107</td>\n",
       "      <td>231</td>\n",
       "      <td>300: Rise of an Empire</td>\n",
       "      <td>337,580,051</td>\n",
       "      <td>338.0</td>\n",
       "      <td>3.1</td>\n",
       "      <td>2014</td>\n",
       "    </tr>\n",
       "    <tr>\n",
       "      <th>6</th>\n",
       "      <td>546%</td>\n",
       "      <td>53.9%</td>\n",
       "      <td>46.1%</td>\n",
       "      <td>58.0</td>\n",
       "      <td>2000's</td>\n",
       "      <td>171</td>\n",
       "      <td>146</td>\n",
       "      <td>A Beautiful Mind</td>\n",
       "      <td>316,791,257</td>\n",
       "      <td>317.0</td>\n",
       "      <td>5.5</td>\n",
       "      <td>2001</td>\n",
       "    </tr>\n",
       "    <tr>\n",
       "      <th>7</th>\n",
       "      <td>303%</td>\n",
       "      <td>44.8%</td>\n",
       "      <td>55.2%</td>\n",
       "      <td>120.0</td>\n",
       "      <td>1990's</td>\n",
       "      <td>163</td>\n",
       "      <td>200</td>\n",
       "      <td>A Bug's Life</td>\n",
       "      <td>363,258,859</td>\n",
       "      <td>363.0</td>\n",
       "      <td>3.0</td>\n",
       "      <td>1998</td>\n",
       "    </tr>\n",
       "    <tr>\n",
       "      <th>8</th>\n",
       "      <td>163%</td>\n",
       "      <td>42.4%</td>\n",
       "      <td>57.6%</td>\n",
       "      <td>200.0</td>\n",
       "      <td>2000's</td>\n",
       "      <td>138</td>\n",
       "      <td>187</td>\n",
       "      <td>A Christmas Carol</td>\n",
       "      <td>325,286,646</td>\n",
       "      <td>325.0</td>\n",
       "      <td>1.6</td>\n",
       "      <td>2009</td>\n",
       "    </tr>\n",
       "    <tr>\n",
       "      <th>9</th>\n",
       "      <td>2406%</td>\n",
       "      <td>66.6%</td>\n",
       "      <td>33.4%</td>\n",
       "      <td>2.5</td>\n",
       "      <td>2010's</td>\n",
       "      <td>40</td>\n",
       "      <td>201</td>\n",
       "      <td>A Haunted House</td>\n",
       "      <td>60,141,683</td>\n",
       "      <td>60.0</td>\n",
       "      <td>24.1</td>\n",
       "      <td>2013</td>\n",
       "    </tr>\n",
       "  </tbody>\n",
       "</table>\n",
       "</div>"
      ],
      "text/plain": [
       "  % budget recovered % of gross from domestic % of gross from international  \\\n",
       "0               702%                    46.2%                         53.8%   \n",
       "1               427%                    41.4%                         58.6%   \n",
       "2               396%                    21.0%                         79.0%   \n",
       "3               479%                    42.5%                         57.5%   \n",
       "4               663%                    57.9%                         42.1%   \n",
       "5               307%                    31.6%                         68.4%   \n",
       "6               546%                    53.9%                         46.1%   \n",
       "7               303%                    44.8%                         55.2%   \n",
       "8               163%                    42.4%                         57.6%   \n",
       "9              2406%                    66.6%                         33.4%   \n",
       "\n",
       "   budget (m)  decade  domestic gross (m)  international gross (m)  \\\n",
       "0        65.0  2000's                 211                      245   \n",
       "1        90.0  2010's                 159                      225   \n",
       "2       200.0  2000's                 166                      625   \n",
       "3        67.0  1990's                 136                      185   \n",
       "4        50.0  2010's                 192                      140   \n",
       "5       110.0  2010's                 107                      231   \n",
       "6        58.0  2000's                 171                      146   \n",
       "7       120.0  1990's                 163                      200   \n",
       "8       200.0  2000's                 138                      187   \n",
       "9         2.5  2010's                  40                      201   \n",
       "\n",
       "                    title worldwide gross  worldwide gross (m)  \\\n",
       "0                     300     456,082,343                456.0   \n",
       "1                    1917     384,576,334                385.0   \n",
       "2                    2012     791,217,826                791.0   \n",
       "3          101 Dalmatians     320,689,294                321.0   \n",
       "4          22 Jump Street     331,333,876                331.0   \n",
       "5  300: Rise of an Empire     337,580,051                338.0   \n",
       "6        A Beautiful Mind     316,791,257                317.0   \n",
       "7            A Bug's Life     363,258,859                363.0   \n",
       "8       A Christmas Carol     325,286,646                325.0   \n",
       "9         A Haunted House      60,141,683                 60.0   \n",
       "\n",
       "   x times budget recovered  year  \n",
       "0                       7.0  2007  \n",
       "1                       4.3  2019  \n",
       "2                       4.0  2009  \n",
       "3                       4.8  1996  \n",
       "4                       6.6  2014  \n",
       "5                       3.1  2014  \n",
       "6                       5.5  2001  \n",
       "7                       3.0  1998  \n",
       "8                       1.6  2009  \n",
       "9                      24.1  2013  "
      ]
     },
     "execution_count": 94,
     "metadata": {},
     "output_type": "execute_result"
    }
   ],
   "source": [
    "top500movies_df1.head(10)"
   ]
  },
  {
   "cell_type": "code",
   "execution_count": 95,
   "id": "2c83c3b8",
   "metadata": {},
   "outputs": [
    {
     "name": "stdout",
     "output_type": "stream",
     "text": [
      "<class 'pandas.core.frame.DataFrame'>\n",
      "RangeIndex: 558 entries, 0 to 557\n",
      "Data columns (total 12 columns):\n",
      " #   Column                         Non-Null Count  Dtype  \n",
      "---  ------                         --------------  -----  \n",
      " 0   % budget recovered             558 non-null    object \n",
      " 1   % of gross from domestic       558 non-null    object \n",
      " 2   % of gross from international  558 non-null    object \n",
      " 3   budget (m)                     558 non-null    float64\n",
      " 4   decade                         558 non-null    object \n",
      " 5   domestic gross (m)             558 non-null    int32  \n",
      " 6   international gross (m)        558 non-null    int32  \n",
      " 7   title                          558 non-null    object \n",
      " 8   worldwide gross                558 non-null    object \n",
      " 9   worldwide gross (m)            558 non-null    float64\n",
      " 10  x times budget recovered       558 non-null    float64\n",
      " 11  year                           558 non-null    int64  \n",
      "dtypes: float64(3), int32(2), int64(1), object(6)\n",
      "memory usage: 48.1+ KB\n"
     ]
    }
   ],
   "source": [
    "top500movies_df1.info()"
   ]
  },
  {
   "cell_type": "code",
   "execution_count": 96,
   "id": "25aea52f",
   "metadata": {},
   "outputs": [
    {
     "data": {
      "text/plain": [
       "<seaborn.axisgrid.PairGrid at 0x1cdc4547340>"
      ]
     },
     "execution_count": 96,
     "metadata": {},
     "output_type": "execute_result"
    },
    {
     "data": {
      "image/png": "[encoded data removed]",
      "text/plain": [
       "<Figure size 500x500 with 6 Axes>"
      ]
     },
     "metadata": {},
     "output_type": "display_data"
    }
   ],
   "source": [
    "## create a scatter plot to test for linearity and normality\n",
    "top500movies_LR = top500movies_df1[['budget (m)', 'worldwide gross (m)']].copy()\n",
    "sns.pairplot(top500movies_LR)"
   ]
  },
  {
   "cell_type": "code",
   "execution_count": 97,
   "id": "bfbc994a",
   "metadata": {},
   "outputs": [
    {
     "data": {
      "text/plain": [
       "<seaborn.axisgrid.PairGrid at 0x1cdc4544fd0>"
      ]
     },
     "execution_count": 97,
     "metadata": {},
     "output_type": "execute_result"
    },
    {
     "data": {
      "image/png": "[encoded data removed]",
      "text/plain": [
       "<Figure size 500x500 with 6 Axes>"
      ]
     },
     "metadata": {},
     "output_type": "display_data"
    }
   ],
   "source": [
    "## does not appear to be normally distributed, look at domestic gross instead of worldwide\n",
    "\n",
    "top500movies_LR1 = top500movies_df1[['budget (m)', 'domestic gross (m)']].copy()\n",
    "sns.pairplot(top500movies_LR1)"
   ]
  },
  {
   "cell_type": "code",
   "execution_count": 98,
   "id": "7d6da60e",
   "metadata": {},
   "outputs": [],
   "source": [
    "## budget still seems a little skewed but the scatter plot does appear to become slighlty more linear"
   ]
  },
  {
   "cell_type": "code",
   "execution_count": 99,
   "id": "eba62d41",
   "metadata": {},
   "outputs": [
    {
     "name": "stderr",
     "output_type": "stream",
     "text": [
      "C:\\Users\\ifranklin\\AppData\\Local\\Temp\\ipykernel_8004\\2692129405.py:1: UserWarning: \n",
      "\n",
      "`distplot` is a deprecated function and will be removed in seaborn v0.14.0.\n",
      "\n",
      "Please adapt your code to use either `displot` (a figure-level function with\n",
      "similar flexibility) or `histplot` (an axes-level function for histograms).\n",
      "\n",
      "For a guide to updating your code to use the new functions, please see\n",
      "https://gist.github.com/mwaskom/de44147ed2974457ad6372750bbe5751\n",
      "\n",
      "  sns.distplot(top500movies_LR1['budget (m)'])\n"
     ]
    },
    {
     "data": {
      "text/plain": [
       "<AxesSubplot: xlabel='budget (m)', ylabel='Density'>"
      ]
     },
     "execution_count": 99,
     "metadata": {},
     "output_type": "execute_result"
    },
    {
     "data": {
      "image/png": "[encoded data removed]",
      "text/plain": [
       "<Figure size 640x480 with 1 Axes>"
      ]
     },
     "metadata": {},
     "output_type": "display_data"
    }
   ],
   "source": [
    "sns.distplot(top500movies_LR1['budget (m)'])"
   ]
  },
  {
   "cell_type": "code",
   "execution_count": 100,
   "id": "2865abb4",
   "metadata": {},
   "outputs": [
    {
     "name": "stderr",
     "output_type": "stream",
     "text": [
      "C:\\Users\\ifranklin\\AppData\\Local\\Temp\\ipykernel_8004\\2314184021.py:1: UserWarning: \n",
      "\n",
      "`distplot` is a deprecated function and will be removed in seaborn v0.14.0.\n",
      "\n",
      "Please adapt your code to use either `displot` (a figure-level function with\n",
      "similar flexibility) or `histplot` (an axes-level function for histograms).\n",
      "\n",
      "For a guide to updating your code to use the new functions, please see\n",
      "https://gist.github.com/mwaskom/de44147ed2974457ad6372750bbe5751\n",
      "\n",
      "  sns.distplot(top500movies_LR1['domestic gross (m)'])\n"
     ]
    },
    {
     "data": {
      "text/plain": [
       "<AxesSubplot: xlabel='domestic gross (m)', ylabel='Density'>"
      ]
     },
     "execution_count": 100,
     "metadata": {},
     "output_type": "execute_result"
    },
    {
     "data": {
      "image/png": "[encoded data removed]",
      "text/plain": [
       "<Figure size 640x480 with 1 Axes>"
      ]
     },
     "metadata": {},
     "output_type": "display_data"
    }
   ],
   "source": [
    "sns.distplot(top500movies_LR1['domestic gross (m)'])"
   ]
  },
  {
   "cell_type": "code",
   "execution_count": 101,
   "id": "b18e5e96",
   "metadata": {},
   "outputs": [],
   "source": [
    "## both distribution plots look rougly more even, is skewed slightly positive"
   ]
  },
  {
   "cell_type": "code",
   "execution_count": 102,
   "id": "3adf6824",
   "metadata": {},
   "outputs": [],
   "source": [
    "## next test for Homoscedasticity\n",
    "\n",
    "x = top500movies_LR1['budget (m)']\n",
    "y = top500movies_LR1['domestic gross (m)']\n",
    "\n",
    "LR_model = sm.OLS(y,x).fit()"
   ]
  },
  {
   "cell_type": "code",
   "execution_count": 103,
   "id": "2e136d0a",
   "metadata": {},
   "outputs": [
    {
     "data": {
      "image/png": "[encoded data removed]",
      "text/plain": [
       "<Figure size 600x250 with 1 Axes>"
      ]
     },
     "metadata": {},
     "output_type": "display_data"
    }
   ],
   "source": [
    "## next plot the residuals from the model\n",
    "\n",
    "pred_val = LR_model.fittedvalues.copy()\n",
    "true_val = top500movies_LR1['domestic gross (m)'].values.copy()\n",
    "residual = true_val - pred_val\n",
    "\n",
    "fig, ax = plt.subplots(figsize=(6, 2.5))\n",
    "_ = ax.scatter(residual, pred_val)"
   ]
  },
  {
   "cell_type": "code",
   "execution_count": 104,
   "id": "c1f0df3c",
   "metadata": {},
   "outputs": [
    {
     "data": {
      "text/plain": [
       "(132.1939028587149, nan, 172.92378945873256, 1.3707061766598103e-34)"
      ]
     },
     "execution_count": 104,
     "metadata": {},
     "output_type": "execute_result"
    }
   ],
   "source": [
    "# Breusch Pagan test \n",
    "sms.diagnostic.het_breuschpagan(residual, top500movies_LR1[['budget (m)']])"
   ]
  },
  {
   "cell_type": "code",
   "execution_count": 105,
   "id": "3500f2c6",
   "metadata": {},
   "outputs": [],
   "source": [
    "## F-value of 172.92\n",
    "## p-value is less than 0.5 (stastically significant)\n",
    "## violated the assumption of homoscedasticity"
   ]
  },
  {
   "cell_type": "code",
   "execution_count": 106,
   "id": "b45d84b6",
   "metadata": {},
   "outputs": [
    {
     "data": {
      "text/plain": [
       "TtestResult(statistic=5.1835341460443685, pvalue=3.0556644619586396e-07, df=554)"
      ]
     },
     "execution_count": 106,
     "metadata": {},
     "output_type": "execute_result"
    }
   ],
   "source": [
    "# Harvey Collier test\n",
    "sms.linear_harvey_collier(LR_model)"
   ]
  },
  {
   "cell_type": "code",
   "execution_count": 107,
   "id": "b889b90a",
   "metadata": {},
   "outputs": [],
   "source": [
    "## p-value is less than 0.5 (stastically significant)\n",
    "## violated the assumption of homoscedasticity"
   ]
  },
  {
   "cell_type": "code",
   "execution_count": 108,
   "id": "69e55932",
   "metadata": {},
   "outputs": [
    {
     "data": {
      "text/plain": [
       "(array([ 45.,  56.,  38.,  54.,  93.,  86., 106.,  63.,  13.,   4.]),\n",
       " array([-1.65590212,  2.93172015,  7.51934243, 12.1069647 , 16.69458698,\n",
       "        21.28220925, 25.86983153, 30.4574538 , 35.04507608, 39.63269835,\n",
       "        44.22032063]),\n",
       " <BarContainer object of 10 artists>)"
      ]
     },
     "execution_count": 108,
     "metadata": {},
     "output_type": "execute_result"
    },
    {
     "data": {
      "image/png": "[encoded data removed]",
      "text/plain": [
       "<Figure size 640x480 with 1 Axes>"
      ]
     },
     "metadata": {},
     "output_type": "display_data"
    }
   ],
   "source": [
    "# try Box-Cox transformation\n",
    "transformed, _ = boxcox(top500movies_LR1['budget (m)'])\n",
    "plt.hist(transformed)"
   ]
  },
  {
   "cell_type": "code",
   "execution_count": 109,
   "id": "e55d0aab",
   "metadata": {},
   "outputs": [
    {
     "data": {
      "text/html": [
       "<table class=\"simpletable\">\n",
       "<caption>OLS Regression Results</caption>\n",
       "<tr>\n",
       "  <th>Dep. Variable:</th>    <td>domestic gross (m)</td> <th>  R-squared (uncentered):</th>      <td>   0.766</td> \n",
       "</tr>\n",
       "<tr>\n",
       "  <th>Model:</th>                    <td>OLS</td>        <th>  Adj. R-squared (uncentered):</th> <td>   0.765</td> \n",
       "</tr>\n",
       "<tr>\n",
       "  <th>Method:</th>              <td>Least Squares</td>   <th>  F-statistic:       </th>          <td>   1822.</td> \n",
       "</tr>\n",
       "<tr>\n",
       "  <th>Date:</th>              <td>Mon, 08 May 2023</td>  <th>  Prob (F-statistic):</th>          <td>9.82e-178</td>\n",
       "</tr>\n",
       "<tr>\n",
       "  <th>Time:</th>                  <td>15:50:22</td>      <th>  Log-Likelihood:    </th>          <td> -3448.0</td> \n",
       "</tr>\n",
       "<tr>\n",
       "  <th>No. Observations:</th>       <td>   558</td>       <th>  AIC:               </th>          <td>   6898.</td> \n",
       "</tr>\n",
       "<tr>\n",
       "  <th>Df Residuals:</th>           <td>   557</td>       <th>  BIC:               </th>          <td>   6902.</td> \n",
       "</tr>\n",
       "<tr>\n",
       "  <th>Df Model:</th>               <td>     1</td>       <th>                     </th>              <td> </td>    \n",
       "</tr>\n",
       "<tr>\n",
       "  <th>Covariance Type:</th>       <td>nonrobust</td>     <th>                     </th>              <td> </td>    \n",
       "</tr>\n",
       "</table>\n",
       "<table class=\"simpletable\">\n",
       "<tr>\n",
       "   <td></td>     <th>coef</th>     <th>std err</th>      <th>t</th>      <th>P>|t|</th>  <th>[0.025</th>    <th>0.975]</th>  \n",
       "</tr>\n",
       "<tr>\n",
       "  <th>x1</th> <td>    9.6116</td> <td>    0.225</td> <td>   42.682</td> <td> 0.000</td> <td>    9.169</td> <td>   10.054</td>\n",
       "</tr>\n",
       "</table>\n",
       "<table class=\"simpletable\">\n",
       "<tr>\n",
       "  <th>Omnibus:</th>       <td>103.446</td> <th>  Durbin-Watson:     </th> <td>   1.619</td>\n",
       "</tr>\n",
       "<tr>\n",
       "  <th>Prob(Omnibus):</th> <td> 0.000</td>  <th>  Jarque-Bera (JB):  </th> <td> 220.602</td>\n",
       "</tr>\n",
       "<tr>\n",
       "  <th>Skew:</th>          <td> 1.004</td>  <th>  Prob(JB):          </th> <td>1.25e-48</td>\n",
       "</tr>\n",
       "<tr>\n",
       "  <th>Kurtosis:</th>      <td> 5.336</td>  <th>  Cond. No.          </th> <td>    1.00</td>\n",
       "</tr>\n",
       "</table><br/><br/>Notes:<br/>[1] R² is computed without centering (uncentered) since the model does not contain a constant.<br/>[2] Standard Errors assume that the covariance matrix of the errors is correctly specified."
      ],
      "text/plain": [
       "<class 'statsmodels.iolib.summary.Summary'>\n",
       "\"\"\"\n",
       "                                 OLS Regression Results                                \n",
       "=======================================================================================\n",
       "Dep. Variable:     domestic gross (m)   R-squared (uncentered):                   0.766\n",
       "Model:                            OLS   Adj. R-squared (uncentered):              0.765\n",
       "Method:                 Least Squares   F-statistic:                              1822.\n",
       "Date:                Mon, 08 May 2023   Prob (F-statistic):                   9.82e-178\n",
       "Time:                        15:50:22   Log-Likelihood:                         -3448.0\n",
       "No. Observations:                 558   AIC:                                      6898.\n",
       "Df Residuals:                     557   BIC:                                      6902.\n",
       "Df Model:                           1                                                  \n",
       "Covariance Type:            nonrobust                                                  \n",
       "==============================================================================\n",
       "                 coef    std err          t      P>|t|      [0.025      0.975]\n",
       "------------------------------------------------------------------------------\n",
       "x1             9.6116      0.225     42.682      0.000       9.169      10.054\n",
       "==============================================================================\n",
       "Omnibus:                      103.446   Durbin-Watson:                   1.619\n",
       "Prob(Omnibus):                  0.000   Jarque-Bera (JB):              220.602\n",
       "Skew:                           1.004   Prob(JB):                     1.25e-48\n",
       "Kurtosis:                       5.336   Cond. No.                         1.00\n",
       "==============================================================================\n",
       "\n",
       "Notes:\n",
       "[1] R² is computed without centering (uncentered) since the model does not contain a constant.\n",
       "[2] Standard Errors assume that the covariance matrix of the errors is correctly specified.\n",
       "\"\"\""
      ]
     },
     "execution_count": 109,
     "metadata": {},
     "output_type": "execute_result"
    }
   ],
   "source": [
    "x = transformed\n",
    "LRmodel1 = sm.OLS(y,x).fit()\n",
    "LRmodel1.summary()"
   ]
  },
  {
   "cell_type": "code",
   "execution_count": 110,
   "id": "622e0bed",
   "metadata": {},
   "outputs": [
    {
     "data": {
      "image/png": "[encoded data removed]",
      "text/plain": [
       "<Figure size 600x250 with 1 Axes>"
      ]
     },
     "metadata": {},
     "output_type": "display_data"
    }
   ],
   "source": [
    "pred_val = LRmodel1.fittedvalues.copy()\n",
    "true_val = top500movies_LR1['domestic gross (m)'].values.copy()\n",
    "residual = true_val - pred_val\n",
    "\n",
    "fig, ax = plt.subplots(figsize=(6, 2.5))\n",
    "_ = ax.scatter(residual, pred_val)"
   ]
  },
  {
   "cell_type": "code",
   "execution_count": 111,
   "id": "c20e518c",
   "metadata": {},
   "outputs": [],
   "source": [
    "## still violated the assumption of homoscedasticity"
   ]
  },
  {
   "cell_type": "code",
   "execution_count": 112,
   "id": "bf076b95",
   "metadata": {},
   "outputs": [
    {
     "data": {
      "text/html": [
       "<div>\n",
       "<style scoped>\n",
       "    .dataframe tbody tr th:only-of-type {\n",
       "        vertical-align: middle;\n",
       "    }\n",
       "\n",
       "    .dataframe tbody tr th {\n",
       "        vertical-align: top;\n",
       "    }\n",
       "\n",
       "    .dataframe thead th {\n",
       "        text-align: right;\n",
       "    }\n",
       "</style>\n",
       "<table border=\"1\" class=\"dataframe\">\n",
       "  <thead>\n",
       "    <tr style=\"text-align: right;\">\n",
       "      <th></th>\n",
       "      <th>budget (m)</th>\n",
       "      <th>domestic gross (m)</th>\n",
       "    </tr>\n",
       "  </thead>\n",
       "  <tbody>\n",
       "    <tr>\n",
       "      <th>budget (m)</th>\n",
       "      <td>1.000000</td>\n",
       "      <td>0.514866</td>\n",
       "    </tr>\n",
       "    <tr>\n",
       "      <th>domestic gross (m)</th>\n",
       "      <td>0.514866</td>\n",
       "      <td>1.000000</td>\n",
       "    </tr>\n",
       "  </tbody>\n",
       "</table>\n",
       "</div>"
      ],
      "text/plain": [
       "                    budget (m)  domestic gross (m)\n",
       "budget (m)            1.000000            0.514866\n",
       "domestic gross (m)    0.514866            1.000000"
      ]
     },
     "execution_count": 112,
     "metadata": {},
     "output_type": "execute_result"
    }
   ],
   "source": [
    "## test for multicollinearity\n",
    "\n",
    "# correlation matrix for domestic gross x budget\n",
    "\n",
    "top500movies_LR1.corr()"
   ]
  },
  {
   "cell_type": "code",
   "execution_count": 113,
   "id": "0a2217eb",
   "metadata": {
    "scrolled": true
   },
   "outputs": [
    {
     "data": {
      "text/plain": [
       "<AxesSubplot: >"
      ]
     },
     "execution_count": 113,
     "metadata": {},
     "output_type": "execute_result"
    },
    {
     "data": {
      "image/png": "[encoded data removed]",
      "text/plain": [
       "<Figure size 640x480 with 2 Axes>"
      ]
     },
     "metadata": {},
     "output_type": "display_data"
    }
   ],
   "source": [
    "# heatmap for domestic gross x budget\n",
    "sns.heatmap(top500movies_LR1.corr(), cmap=\"YlGnBu\", annot=True)"
   ]
  },
  {
   "cell_type": "code",
   "execution_count": null,
   "id": "61085d99",
   "metadata": {},
   "outputs": [],
   "source": []
  },
  {
   "cell_type": "code",
   "execution_count": null,
   "id": "f7e4ce1c",
   "metadata": {},
   "outputs": [],
   "source": []
  },
  {
   "cell_type": "code",
   "execution_count": 114,
   "id": "d323a8f5",
   "metadata": {},
   "outputs": [
    {
     "name": "stderr",
     "output_type": "stream",
     "text": [
      "C:\\Users\\ifranklin\\AppData\\Local\\Temp\\ipykernel_8004\\2976238360.py:2: FutureWarning: The default value of numeric_only in DataFrame.corr is deprecated. In a future version, it will default to False. Select only valid columns or specify the value of numeric_only to silence this warning.\n",
      "  top500movies_df1.corr()\n"
     ]
    },
    {
     "data": {
      "text/html": [
       "<div>\n",
       "<style scoped>\n",
       "    .dataframe tbody tr th:only-of-type {\n",
       "        vertical-align: middle;\n",
       "    }\n",
       "\n",
       "    .dataframe tbody tr th {\n",
       "        vertical-align: top;\n",
       "    }\n",
       "\n",
       "    .dataframe thead th {\n",
       "        text-align: right;\n",
       "    }\n",
       "</style>\n",
       "<table border=\"1\" class=\"dataframe\">\n",
       "  <thead>\n",
       "    <tr style=\"text-align: right;\">\n",
       "      <th></th>\n",
       "      <th>budget (m)</th>\n",
       "      <th>domestic gross (m)</th>\n",
       "      <th>international gross (m)</th>\n",
       "      <th>worldwide gross (m)</th>\n",
       "      <th>x times budget recovered</th>\n",
       "      <th>year</th>\n",
       "    </tr>\n",
       "  </thead>\n",
       "  <tbody>\n",
       "    <tr>\n",
       "      <th>budget (m)</th>\n",
       "      <td>1.000000</td>\n",
       "      <td>0.514866</td>\n",
       "      <td>0.155185</td>\n",
       "      <td>0.629408</td>\n",
       "      <td>-0.080470</td>\n",
       "      <td>0.289348</td>\n",
       "    </tr>\n",
       "    <tr>\n",
       "      <th>domestic gross (m)</th>\n",
       "      <td>0.514866</td>\n",
       "      <td>1.000000</td>\n",
       "      <td>0.363294</td>\n",
       "      <td>0.896879</td>\n",
       "      <td>-0.037752</td>\n",
       "      <td>-0.011435</td>\n",
       "    </tr>\n",
       "    <tr>\n",
       "      <th>international gross (m)</th>\n",
       "      <td>0.155185</td>\n",
       "      <td>0.363294</td>\n",
       "      <td>1.000000</td>\n",
       "      <td>0.459850</td>\n",
       "      <td>0.049644</td>\n",
       "      <td>0.237822</td>\n",
       "    </tr>\n",
       "    <tr>\n",
       "      <th>worldwide gross (m)</th>\n",
       "      <td>0.629408</td>\n",
       "      <td>0.896879</td>\n",
       "      <td>0.459850</td>\n",
       "      <td>1.000000</td>\n",
       "      <td>-0.049817</td>\n",
       "      <td>0.110348</td>\n",
       "    </tr>\n",
       "    <tr>\n",
       "      <th>x times budget recovered</th>\n",
       "      <td>-0.080470</td>\n",
       "      <td>-0.037752</td>\n",
       "      <td>0.049644</td>\n",
       "      <td>-0.049817</td>\n",
       "      <td>1.000000</td>\n",
       "      <td>-0.012636</td>\n",
       "    </tr>\n",
       "    <tr>\n",
       "      <th>year</th>\n",
       "      <td>0.289348</td>\n",
       "      <td>-0.011435</td>\n",
       "      <td>0.237822</td>\n",
       "      <td>0.110348</td>\n",
       "      <td>-0.012636</td>\n",
       "      <td>1.000000</td>\n",
       "    </tr>\n",
       "  </tbody>\n",
       "</table>\n",
       "</div>"
      ],
      "text/plain": [
       "                          budget (m)  domestic gross (m)  \\\n",
       "budget (m)                  1.000000            0.514866   \n",
       "domestic gross (m)          0.514866            1.000000   \n",
       "international gross (m)     0.155185            0.363294   \n",
       "worldwide gross (m)         0.629408            0.896879   \n",
       "x times budget recovered   -0.080470           -0.037752   \n",
       "year                        0.289348           -0.011435   \n",
       "\n",
       "                          international gross (m)  worldwide gross (m)  \\\n",
       "budget (m)                               0.155185             0.629408   \n",
       "domestic gross (m)                       0.363294             0.896879   \n",
       "international gross (m)                  1.000000             0.459850   \n",
       "worldwide gross (m)                      0.459850             1.000000   \n",
       "x times budget recovered                 0.049644            -0.049817   \n",
       "year                                     0.237822             0.110348   \n",
       "\n",
       "                          x times budget recovered      year  \n",
       "budget (m)                               -0.080470  0.289348  \n",
       "domestic gross (m)                       -0.037752 -0.011435  \n",
       "international gross (m)                   0.049644  0.237822  \n",
       "worldwide gross (m)                      -0.049817  0.110348  \n",
       "x times budget recovered                  1.000000 -0.012636  \n",
       "year                                     -0.012636  1.000000  "
      ]
     },
     "execution_count": 114,
     "metadata": {},
     "output_type": "execute_result"
    }
   ],
   "source": [
    "# correlation matrix for entire budget/sales dataframe\n",
    "top500movies_df1.corr()"
   ]
  },
  {
   "cell_type": "code",
   "execution_count": 115,
   "id": "a13aff2e",
   "metadata": {},
   "outputs": [
    {
     "name": "stderr",
     "output_type": "stream",
     "text": [
      "C:\\Users\\ifranklin\\AppData\\Local\\Temp\\ipykernel_8004\\20758680.py:1: FutureWarning: The default value of numeric_only in DataFrame.corr is deprecated. In a future version, it will default to False. Select only valid columns or specify the value of numeric_only to silence this warning.\n",
      "  sns.heatmap(top500movies_df1.corr(), cmap=\"YlGnBu\", annot=True)\n"
     ]
    },
    {
     "data": {
      "text/plain": [
       "<AxesSubplot: >"
      ]
     },
     "execution_count": 115,
     "metadata": {},
     "output_type": "execute_result"
    },
    {
     "data": {
      "image/png": "[encoded data removed]",
      "text/plain": [
       "<Figure size 640x480 with 2 Axes>"
      ]
     },
     "metadata": {},
     "output_type": "display_data"
    }
   ],
   "source": [
    "sns.heatmap(top500movies_df1.corr(), cmap=\"YlGnBu\", annot=True)"
   ]
  },
  {
   "cell_type": "code",
   "execution_count": 116,
   "id": "32f66a37",
   "metadata": {
    "scrolled": true
   },
   "outputs": [
    {
     "data": {
      "image/png": "[encoded data removed]",
      "text/plain": [
       "<Figure size 1200x800 with 1 Axes>"
      ]
     },
     "metadata": {},
     "output_type": "display_data"
    }
   ],
   "source": [
    "# plot that will test for influential data points\n",
    "fig, ax = plt.subplots(figsize=(12,8))\n",
    "fig = sm.graphics.influence_plot(LRmodel1, alpha = .05, ax = ax, criterion=\"cooks\")"
   ]
  },
  {
   "cell_type": "code",
   "execution_count": 117,
   "id": "de00e9cc",
   "metadata": {},
   "outputs": [],
   "source": [
    "# DROP OUTLIERS ABOVE X= 0.006 , Y=4!!!!1\n",
    "## 512, 378, 33, 430, 36, 37, 456, & 312\n",
    "\n"
   ]
  },
  {
   "cell_type": "code",
   "execution_count": 118,
   "id": "bddf94b7",
   "metadata": {},
   "outputs": [
    {
     "name": "stdout",
     "output_type": "stream",
     "text": [
      "       dfb_x1   cooks_d  standard_resid  hat_diag  dffits_internal  \\\n",
      "0    0.015293  0.000234        0.500111  0.000936         0.015304   \n",
      "1   -0.008407  0.000071       -0.226217  0.001382        -0.008414   \n",
      "2   -0.065813  0.004330       -1.109188  0.003507        -0.065800   \n",
      "3   -0.005171  0.000027       -0.166049  0.000970        -0.005175   \n",
      "4    0.013824  0.000191        0.530608  0.000679         0.013833   \n",
      "..        ...       ...             ...       ...              ...   \n",
      "553 -0.050810  0.002582       -0.974540  0.002711        -0.050812   \n",
      "554 -0.036484  0.001333       -0.598308  0.003709        -0.036505   \n",
      "555  0.002237  0.000005        0.053464  0.001751         0.002239   \n",
      "556 -0.041327  0.001707       -1.149201  0.001291        -0.041315   \n",
      "557  0.039049  0.001526        0.777821  0.002516         0.039063   \n",
      "\n",
      "     student_resid    dffits  \n",
      "0         0.499774  0.015293  \n",
      "1        -0.226024 -0.008407  \n",
      "2        -1.109418 -0.065813  \n",
      "3        -0.165904 -0.005171  \n",
      "4         0.530266  0.013824  \n",
      "..             ...       ...  \n",
      "553      -0.974496 -0.050810  \n",
      "554      -0.597963 -0.036484  \n",
      "555       0.053416  0.002237  \n",
      "556      -1.149533 -0.041327  \n",
      "557       0.777545  0.039049  \n",
      "\n",
      "[558 rows x 7 columns]\n"
     ]
    }
   ],
   "source": [
    "infl = LRmodel1.get_influence()\n",
    "print(infl.summary_frame())"
   ]
  },
  {
   "cell_type": "code",
   "execution_count": 119,
   "id": "199b8a5c",
   "metadata": {},
   "outputs": [
    {
     "data": {
      "text/html": [
       "<table class=\"simpletable\">\n",
       "<caption>OLS Regression Results</caption>\n",
       "<tr>\n",
       "  <th>Dep. Variable:</th>    <td>domestic gross (m)</td> <th>  R-squared (uncentered):</th>      <td>   0.766</td> \n",
       "</tr>\n",
       "<tr>\n",
       "  <th>Model:</th>                    <td>OLS</td>        <th>  Adj. R-squared (uncentered):</th> <td>   0.765</td> \n",
       "</tr>\n",
       "<tr>\n",
       "  <th>Method:</th>              <td>Least Squares</td>   <th>  F-statistic:       </th>          <td>   1822.</td> \n",
       "</tr>\n",
       "<tr>\n",
       "  <th>Date:</th>              <td>Mon, 08 May 2023</td>  <th>  Prob (F-statistic):</th>          <td>9.82e-178</td>\n",
       "</tr>\n",
       "<tr>\n",
       "  <th>Time:</th>                  <td>15:50:24</td>      <th>  Log-Likelihood:    </th>          <td> -3448.0</td> \n",
       "</tr>\n",
       "<tr>\n",
       "  <th>No. Observations:</th>       <td>   558</td>       <th>  AIC:               </th>          <td>   6898.</td> \n",
       "</tr>\n",
       "<tr>\n",
       "  <th>Df Residuals:</th>           <td>   557</td>       <th>  BIC:               </th>          <td>   6902.</td> \n",
       "</tr>\n",
       "<tr>\n",
       "  <th>Df Model:</th>               <td>     1</td>       <th>                     </th>              <td> </td>    \n",
       "</tr>\n",
       "<tr>\n",
       "  <th>Covariance Type:</th>       <td>nonrobust</td>     <th>                     </th>              <td> </td>    \n",
       "</tr>\n",
       "</table>\n",
       "<table class=\"simpletable\">\n",
       "<tr>\n",
       "   <td></td>     <th>coef</th>     <th>std err</th>      <th>t</th>      <th>P>|t|</th>  <th>[0.025</th>    <th>0.975]</th>  \n",
       "</tr>\n",
       "<tr>\n",
       "  <th>x1</th> <td>    9.6116</td> <td>    0.225</td> <td>   42.682</td> <td> 0.000</td> <td>    9.169</td> <td>   10.054</td>\n",
       "</tr>\n",
       "</table>\n",
       "<table class=\"simpletable\">\n",
       "<tr>\n",
       "  <th>Omnibus:</th>       <td>103.446</td> <th>  Durbin-Watson:     </th> <td>   1.619</td>\n",
       "</tr>\n",
       "<tr>\n",
       "  <th>Prob(Omnibus):</th> <td> 0.000</td>  <th>  Jarque-Bera (JB):  </th> <td> 220.602</td>\n",
       "</tr>\n",
       "<tr>\n",
       "  <th>Skew:</th>          <td> 1.004</td>  <th>  Prob(JB):          </th> <td>1.25e-48</td>\n",
       "</tr>\n",
       "<tr>\n",
       "  <th>Kurtosis:</th>      <td> 5.336</td>  <th>  Cond. No.          </th> <td>    1.00</td>\n",
       "</tr>\n",
       "</table><br/><br/>Notes:<br/>[1] R² is computed without centering (uncentered) since the model does not contain a constant.<br/>[2] Standard Errors assume that the covariance matrix of the errors is correctly specified."
      ],
      "text/plain": [
       "<class 'statsmodels.iolib.summary.Summary'>\n",
       "\"\"\"\n",
       "                                 OLS Regression Results                                \n",
       "=======================================================================================\n",
       "Dep. Variable:     domestic gross (m)   R-squared (uncentered):                   0.766\n",
       "Model:                            OLS   Adj. R-squared (uncentered):              0.765\n",
       "Method:                 Least Squares   F-statistic:                              1822.\n",
       "Date:                Mon, 08 May 2023   Prob (F-statistic):                   9.82e-178\n",
       "Time:                        15:50:24   Log-Likelihood:                         -3448.0\n",
       "No. Observations:                 558   AIC:                                      6898.\n",
       "Df Residuals:                     557   BIC:                                      6902.\n",
       "Df Model:                           1                                                  \n",
       "Covariance Type:            nonrobust                                                  \n",
       "==============================================================================\n",
       "                 coef    std err          t      P>|t|      [0.025      0.975]\n",
       "------------------------------------------------------------------------------\n",
       "x1             9.6116      0.225     42.682      0.000       9.169      10.054\n",
       "==============================================================================\n",
       "Omnibus:                      103.446   Durbin-Watson:                   1.619\n",
       "Prob(Omnibus):                  0.000   Jarque-Bera (JB):              220.602\n",
       "Skew:                           1.004   Prob(JB):                     1.25e-48\n",
       "Kurtosis:                       5.336   Cond. No.                         1.00\n",
       "==============================================================================\n",
       "\n",
       "Notes:\n",
       "[1] R² is computed without centering (uncentered) since the model does not contain a constant.\n",
       "[2] Standard Errors assume that the covariance matrix of the errors is correctly specified.\n",
       "\"\"\""
      ]
     },
     "execution_count": 119,
     "metadata": {},
     "output_type": "execute_result"
    }
   ],
   "source": [
    "## interpreting the regression model\n",
    "LRmodel1.summary()"
   ]
  },
  {
   "cell_type": "code",
   "execution_count": 120,
   "id": "83f358de",
   "metadata": {},
   "outputs": [],
   "source": [
    "# The overall model is statistically significant, because the p value < .05\n",
    "# The r-squared value indicates that this model (budget,IV*domestic gross,DV) accounts for 76% of the variance in domestic gross\n",
    "\n",
    "## Failed Omnibus, Kurtosis, & Jarque-Bera model fit indices!!"
   ]
  },
  {
   "cell_type": "code",
   "execution_count": null,
   "id": "b24e5686",
   "metadata": {},
   "outputs": [],
   "source": []
  }
 ],
 "metadata": {
  "kernelspec": {
   "display_name": "Python 3 (ipykernel)",
   "language": "python",
   "name": "python3"
  },
  "language_info": {
   "codemirror_mode": {
    "name": "ipython",
    "version": 3
   },
   "file_extension": ".py",
   "mimetype": "text/x-python",
   "name": "python",
   "nbconvert_exporter": "python",
   "pygments_lexer": "ipython3",
   "version": "3.10.8"
  }
 },
 "nbformat": 4,
 "nbformat_minor": 5
}
